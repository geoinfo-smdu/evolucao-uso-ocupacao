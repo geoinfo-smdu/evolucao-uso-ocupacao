{
 "cells": [
  {
   "cell_type": "markdown",
   "metadata": {},
   "source": [
    "# Variáveis\n",
    "\n",
    "* Agregação por SQ e USO\n",
    "\n",
    "* Quantidade de contribuintes\n",
    "* Área = Fração Ideal * Área do terreno (Não deve variar, mas é necessária para TO e CA)\n",
    "* Área Ocupada = Fração Ideal * Área Ocupada\n",
    "* Somar Area Construida\n",
    "* Quantidade de lotes (soma das frações ideiais)\n",
    "* 'VALOR DO M2 DO TERRENO', 'VALOR DO M2 DE CONSTRUCAO', 'ANO DA CONSTRUCAO CORRIGIDO', 'QUANTIDADE DE PAVIMENTOS', 'TESTADA PARA CALCULO' e 'FATOR DE OBSOLESCENCIA' com média, mediana, max, min e desvio padrão, pode ser describe()"
   ]
  },
  {
   "cell_type": "markdown",
   "metadata": {},
   "source": [
    "## Carregando e processando dados de cada um dos anos de IPTU\n",
    "\n",
    "Para cada conjunto de dados de IPTU:\n",
    "\n",
    "* Carregar os dados\n",
    "* Obter SQ (Setor/Quadra)\n",
    "* Adequar os usos aos padroes estabelecidos\n",
    "* Calcular a área e área ocupada pela fração ideal\n",
    "* Agregar por SQ e uso e calcular as variáveis\n",
    "* Anotar o Ano de Exercício\n",
    "* Adicionar À lista\n",
    "\n",
    "E por último salvar o resultado da lista com todos os anos"
   ]
  },
  {
   "cell_type": "code",
   "execution_count": 1,
   "metadata": {},
   "outputs": [
    {
     "data": {
      "text/html": [
       "<pre>✔️ 843 µs (2021-03-05T14:44:10/2021-03-05T14:44:10)</pre>"
      ],
      "text/plain": [
       "<IPython.core.display.HTML object>"
      ]
     },
     "metadata": {},
     "output_type": "display_data"
    }
   ],
   "source": [
    "# Carrengando um complemento para visualizar quanto tempo demoram as tarefas\n",
    "\n",
    "%load_ext autotime"
   ]
  },
  {
   "cell_type": "code",
   "execution_count": 2,
   "metadata": {},
   "outputs": [
    {
     "data": {
      "text/html": [
       "<pre>✔️ 186 ms (2021-03-05T14:44:11/2021-03-05T14:44:11)</pre>"
      ],
      "text/plain": [
       "<IPython.core.display.HTML object>"
      ]
     },
     "metadata": {},
     "output_type": "display_data"
    }
   ],
   "source": [
    "from pathlib import Path\n",
    "import os\n",
    "import pandas as pd"
   ]
  },
  {
   "cell_type": "code",
   "execution_count": 3,
   "metadata": {},
   "outputs": [
    {
     "data": {
      "text/html": [
       "<pre>✔️ 3.43 ms (2021-03-05T14:44:11/2021-03-05T14:44:11)</pre>"
      ],
      "text/plain": [
       "<IPython.core.display.HTML object>"
      ]
     },
     "metadata": {},
     "output_type": "display_data"
    }
   ],
   "source": [
    "# Padrões de nomenclatura de usos\n",
    "\n",
    "usos = {\n",
    "    \"apartamento em condomínio\":\"apartamento\",\n",
    "    \"cortiço (habitação coletiva subnormal)\":\"cortiço\",\n",
    "    \"escritório/consultório em condomínio (unidade autônoma)\":\"escritório ou consultório\",\n",
    "    \"loja em edifício em condomínio (unidade autônoma)\":\"loja em edifício em condomínio\",\n",
    "    \"residência coletiva, exclusive cortiço (mais de uma residência no lote)\":\"residência coletiva (mais de uma residência no lote), exclusive cortiço\",\n",
    "    \"posto de serviço (combustíveis)\":\"posto de serviço\",\n",
    "    \"estacionamento e garagem, não em condomínio\":\"garagem (exclusive em prédio em condomínio)\",\n",
    "    \"garagem (unidade autônoma) de prédio de garagens\":\"garagem, em prédio de garagens\",\n",
    "    \"garagem (unidade autônoma) em edifício em condomínio de escritórios, consultórios ou misto\":\"garagem em edifício de escritórios, consultórios ou misto\",\n",
    "    \"garagem (unidade autônoma) em edifício em condomínio de uso exclusivamente residencial\":\"garagem em edifício de uso exclusivamente residencial\",\n",
    "    \"outras edificações de uso coletivo, com utilização múltipla\":\"outras edificações do tipo (uso coletivo), com utilização múltipla\",\n",
    "    \"outras edificações de uso comercial, com utilização múltipla\":\"outras edificações do tipo (uso comércio), com utilização múltipla\",\n",
    "    \"outras edificações de uso de serviço, com utilização múltipla\":\"outras edificações do tipo (uso serviço), com utilização múltipla\",\n",
    "    \"outras edificações de uso especial, com utilização múltipla\":\"outras edificações do tipo (uso especial), com utilização múltipla\",\n",
    "    \"prédio com uso exclusivamente residencial, não em condomínio\":\"prédio de apartamento, não em condomínio, de uso exclusivamente residencial\",\n",
    "    \"prédio com uso misto, predominância de uso não residencial, não em condomínio\":\"prédio de escritório, não em condomínio, de uso misto (apartamentos e escritórios e/ou consultórios) com ou sem loja (predominância comercial)\",\n",
    "    \"prédio com uso misto, predominância de uso residencial, não em condomínio\":\"prédio de apartamento, não em condomínio, de uso misto (apartamentos e escritórios e/ou consultórios), com ou sem loja (predominância residencial)\",\n",
    "    \"prédio de escritório ou consultório, com ou sem lojas, não em condomínio\":\"prédio de escritório ou consultório, não em condomínio, com ou sem lojas\",\n",
    "    \"flat de uso comercial (semelhante a hotel)\":\"flat, não residencial\",\n",
    "    \"flat residencial em condomínio\":\"flat, residencial\"\n",
    "}"
   ]
  },
  {
   "cell_type": "code",
   "execution_count": 4,
   "metadata": {},
   "outputs": [
    {
     "data": {
      "text/html": [
       "<pre>✔️ 10 min 24 s (2021-03-05T14:44:12/2021-03-05T14:54:37)</pre>"
      ],
      "text/plain": [
       "<IPython.core.display.HTML object>"
      ]
     },
     "metadata": {},
     "output_type": "display_data"
    },
    {
     "name": "stdout",
     "output_type": "stream",
     "text": [
      "IPTU_2010.zip\n"
     ]
    },
    {
     "name": "stderr",
     "output_type": "stream",
     "text": [
      "b'Skipping line 2445507: expected 35 fields, saw 43\\n'\n",
      "/home/fernando/miniconda3/envs/geo/lib/python3.8/site-packages/IPython/core/interactiveshell.py:3146: DtypeWarning: Columns (18,19,20,21,22) have mixed types.Specify dtype option on import or set low_memory=False.\n",
      "  has_raised = await self.run_ast_nodes(code_ast.body, cell_name,\n"
     ]
    },
    {
     "name": "stdout",
     "output_type": "stream",
     "text": [
      "IPTU_1996.zip\n"
     ]
    },
    {
     "name": "stderr",
     "output_type": "stream",
     "text": [
      "/home/fernando/miniconda3/envs/geo/lib/python3.8/site-packages/IPython/core/interactiveshell.py:3146: DtypeWarning: Columns (27) have mixed types.Specify dtype option on import or set low_memory=False.\n",
      "  has_raised = await self.run_ast_nodes(code_ast.body, cell_name,\n"
     ]
    },
    {
     "name": "stdout",
     "output_type": "stream",
     "text": [
      "IPTU_2007.zip\n"
     ]
    },
    {
     "name": "stderr",
     "output_type": "stream",
     "text": [
      "b'Skipping line 2417712: expected 35 fields, saw 43\\n'\n"
     ]
    },
    {
     "name": "stdout",
     "output_type": "stream",
     "text": [
      "IPTU_2013.zip\n"
     ]
    },
    {
     "name": "stderr",
     "output_type": "stream",
     "text": [
      "b'Skipping line 2560170: expected 35 fields, saw 43\\n'\n",
      "/home/fernando/miniconda3/envs/geo/lib/python3.8/site-packages/IPython/core/interactiveshell.py:3146: DtypeWarning: Columns (18,19,20,21,22,27) have mixed types.Specify dtype option on import or set low_memory=False.\n",
      "  has_raised = await self.run_ast_nodes(code_ast.body, cell_name,\n"
     ]
    },
    {
     "name": "stdout",
     "output_type": "stream",
     "text": [
      "IPTU_2004.zip\n"
     ]
    },
    {
     "name": "stderr",
     "output_type": "stream",
     "text": [
      "b'Skipping line 2325266: expected 35 fields, saw 43\\n'\n"
     ]
    },
    {
     "name": "stdout",
     "output_type": "stream",
     "text": [
      "IPTU_2005.zip\n"
     ]
    },
    {
     "name": "stderr",
     "output_type": "stream",
     "text": [
      "b'Skipping line 2355090: expected 35 fields, saw 43\\n'\n"
     ]
    },
    {
     "name": "stdout",
     "output_type": "stream",
     "text": [
      "IPTU_1995.zip\n",
      "IPTU_1998.zip\n"
     ]
    },
    {
     "name": "stderr",
     "output_type": "stream",
     "text": [
      "b'Skipping line 2096075: expected 35 fields, saw 43\\n'\n"
     ]
    },
    {
     "name": "stdout",
     "output_type": "stream",
     "text": [
      "IPTU_2018.zip\n",
      "IPTU_2001.zip\n"
     ]
    },
    {
     "name": "stderr",
     "output_type": "stream",
     "text": [
      "b'Skipping line 2211865: expected 35 fields, saw 43\\n'\n"
     ]
    },
    {
     "name": "stdout",
     "output_type": "stream",
     "text": [
      "IPTU_2017.zip\n",
      "IPTU_2015.zip\n"
     ]
    },
    {
     "name": "stderr",
     "output_type": "stream",
     "text": [
      "b'Skipping line 2651001: expected 35 fields, saw 43\\n'\n"
     ]
    },
    {
     "name": "stdout",
     "output_type": "stream",
     "text": [
      "IPTU_2006.zip\n"
     ]
    },
    {
     "name": "stderr",
     "output_type": "stream",
     "text": [
      "b'Skipping line 2381472: expected 35 fields, saw 43\\n'\n"
     ]
    },
    {
     "name": "stdout",
     "output_type": "stream",
     "text": [
      "IPTU_2009.zip\n"
     ]
    },
    {
     "name": "stderr",
     "output_type": "stream",
     "text": [
      "b'Skipping line 2471701: expected 35 fields, saw 43\\n'\n"
     ]
    },
    {
     "name": "stdout",
     "output_type": "stream",
     "text": [
      "IPTU_2014.zip\n"
     ]
    },
    {
     "name": "stderr",
     "output_type": "stream",
     "text": [
      "b'Skipping line 2606431: expected 35 fields, saw 43\\n'\n"
     ]
    },
    {
     "name": "stdout",
     "output_type": "stream",
     "text": [
      "IPTU_2011.zip\n"
     ]
    },
    {
     "name": "stderr",
     "output_type": "stream",
     "text": [
      "b'Skipping line 2484471: expected 35 fields, saw 43\\n'\n"
     ]
    },
    {
     "name": "stdout",
     "output_type": "stream",
     "text": [
      "IPTU_2000.zip\n"
     ]
    },
    {
     "name": "stderr",
     "output_type": "stream",
     "text": [
      "b'Skipping line 2156584: expected 35 fields, saw 43\\n'\n"
     ]
    },
    {
     "name": "stdout",
     "output_type": "stream",
     "text": [
      "IPTU_2019.zip\n",
      "IPTU_1997.zip\n",
      "IPTU_2016.zip\n",
      "IPTU_2002.zip\n"
     ]
    },
    {
     "name": "stderr",
     "output_type": "stream",
     "text": [
      "b'Skipping line 2247445: expected 35 fields, saw 43\\n'\n"
     ]
    },
    {
     "name": "stdout",
     "output_type": "stream",
     "text": [
      "IPTU_1999.zip\n"
     ]
    },
    {
     "name": "stderr",
     "output_type": "stream",
     "text": [
      "b'Skipping line 2121196: expected 35 fields, saw 43\\n'\n"
     ]
    },
    {
     "name": "stdout",
     "output_type": "stream",
     "text": [
      "IPTU_2020.zip\n",
      "IPTU_2008.zip\n"
     ]
    },
    {
     "name": "stderr",
     "output_type": "stream",
     "text": [
      "b'Skipping line 2440049: expected 35 fields, saw 43\\n'\n"
     ]
    },
    {
     "name": "stdout",
     "output_type": "stream",
     "text": [
      "IPTU_2003.zip\n"
     ]
    },
    {
     "name": "stderr",
     "output_type": "stream",
     "text": [
      "b'Skipping line 2288886: expected 35 fields, saw 43\\n'\n"
     ]
    },
    {
     "name": "stdout",
     "output_type": "stream",
     "text": [
      "IPTU_2012.zip\n"
     ]
    },
    {
     "name": "stderr",
     "output_type": "stream",
     "text": [
      "b'Skipping line 2526350: expected 35 fields, saw 43\\n'\n"
     ]
    }
   ],
   "source": [
    "iptus_agg = []\n",
    "\n",
    "for path in Path('IPTU').rglob('*.zip'):\n",
    "    print(path.name)\n",
    "    \n",
    "    # Carregar dados do arquivo\n",
    "    # OBS.: O IPTU de 2016 está separado por ',' e não por ';'\n",
    "    if path.name == \"IPTU_2016.zip\":\n",
    "        df_iptu = pd.read_csv(f'{path}',\\\n",
    "                     compression='zip',\\\n",
    "                     encoding='iso-8859-9',\\\n",
    "                     sep=',',\\\n",
    "                     decimal=',',\\\n",
    "                     error_bad_lines=False)\n",
    "    else:\n",
    "        df_iptu = pd.read_csv(f'{path}',\\\n",
    "                     compression='zip',\\\n",
    "                     encoding='iso-8859-9',\\\n",
    "                     sep=';',\\\n",
    "                     decimal=',',\\\n",
    "                     error_bad_lines=False)\n",
    "            \n",
    "    # Obter o SQ (Setor e Quadra)\n",
    "    df_iptu['setor'] = df_iptu['NUMERO DO CONTRIBUINTE'].str[0:3]\n",
    "    df_iptu['quadra'] = df_iptu['NUMERO DO CONTRIBUINTE'].str[3:6]\n",
    "    \n",
    "    # Normalizando o lote condominial\n",
    "    df_iptu.loc[df_iptu['NUMERO DO CONDOMINIO'].str[0:2] != '00', 'lote'] = '0000'\n",
    "    \n",
    "    # Individualizando a testada e pavimentos por lote (SQLC)\n",
    "    ## TODO\n",
    "    df_iptu['AREA CONSTRUIDA'] = pd.to_numeric(df_iptu['AREA CONSTRUIDA'], errors ='coerce')\n",
    "    df_iptu['AREA OCUPADA'] = pd.to_numeric(df_iptu['AREA OCUPADA'], errors ='coerce')\n",
    "    df_iptu['AREA DO TERRENO'] = pd.to_numeric(df_iptu['AREA DO TERRENO'], errors ='coerce')\n",
    "    df_iptu['FRACAO IDEAL'] = pd.to_numeric(df_iptu['FRACAO IDEAL'], errors ='coerce')\n",
    "    df_iptu['QUANTIDADE DE PAVIMENTOS'] = pd.to_numeric(df_iptu['QUANTIDADE DE PAVIMENTOS'], errors ='coerce')\n",
    "    df_iptu['TESTADA PARA CALCULO'] = pd.to_numeric(df_iptu['TESTADA PARA CALCULO'], errors ='coerce')\n",
    "\n",
    "    # Adequando variáveis à fração ideal\n",
    "    df_iptu['area_terreno'] = df_iptu['FRACAO IDEAL'] * df_iptu['AREA DO TERRENO']\n",
    "    df_iptu['area_ocupada'] = df_iptu['FRACAO IDEAL'] * df_iptu['AREA OCUPADA']\n",
    "    \n",
    "    # Adequar os usos ao padrão estabelecido\n",
    "    df_iptu.loc[df_iptu['TIPO DE USO DO IMOVEL']\\\n",
    "                .isin(usos),\\\n",
    "                'TIPO DE USO DO IMOVEL'] = \\\n",
    "    df_iptu[df_iptu['TIPO DE USO DO IMOVEL']\\\n",
    "                 .isin(usos)]['TIPO DE USO DO IMOVEL']\\\n",
    "    .apply(lambda x: usos[x])\n",
    "\n",
    "    # 3. Agregar por SQ e ANO DO EXERCICIO\n",
    "    iptu_agg = df_iptu[['setor', \\\n",
    "                        'quadra', \\\n",
    "                        'NUMERO DO CONTRIBUINTE', \\\n",
    "                        'ANO DO EXERCICIO',\\\n",
    "                        'TIPO DE USO DO IMOVEL',\\\n",
    "                        'ANO DA CONSTRUCAO CORRIGIDO', \\\n",
    "                        'AREA CONSTRUIDA', \\\n",
    "                        'FRACAO IDEAL',\n",
    "                        'area_terreno',\n",
    "                        'area_ocupada',\n",
    "                        'QUANTIDADE DE PAVIMENTOS',\n",
    "                        'TESTADA PARA CALCULO']]\\\n",
    "    .groupby(['setor', 'quadra', 'ANO DO EXERCICIO', 'TIPO DE USO DO IMOVEL'])\\\n",
    "    .agg({'NUMERO DO CONTRIBUINTE': 'count',\n",
    "         'AREA CONSTRUIDA': 'sum',\n",
    "         'FRACAO IDEAL': 'sum',\n",
    "         'area_terreno': 'sum',\n",
    "         'area_ocupada': 'sum',\n",
    "         'QUANTIDADE DE PAVIMENTOS': 'max',\n",
    "         'TESTADA PARA CALCULO': 'mean'})\\\n",
    "    .rename(columns = {'NUMERO DO CONTRIBUINTE': 'quantidade_de_contribuintes',\n",
    "                      'FRACAO IDEAL': 'quantidade_de_lotes',\n",
    "                      'AREA CONSTRUIDA': 'area_construida',\n",
    "                      'QUANTIDADE DE PAVIMENTOS': 'maximo_de_pavimentos',\n",
    "                      'TESTADA PARA CALCULO':'media_testada'})\n",
    "    \n",
    "    iptu_agg.to_csv(f'resultados/{path.name[0:-4]}-agregado-sq-uso.csv.gz')\n",
    "\n",
    "    # adicionando à lista\n",
    "    iptus_agg.append(iptu_agg)"
   ]
  },
  {
   "cell_type": "code",
   "execution_count": null,
   "metadata": {},
   "outputs": [],
   "source": [
    "iptus_agg[0]"
   ]
  },
  {
   "cell_type": "code",
   "execution_count": null,
   "metadata": {},
   "outputs": [],
   "source": []
  },
  {
   "cell_type": "code",
   "execution_count": null,
   "metadata": {},
   "outputs": [],
   "source": []
  },
  {
   "cell_type": "code",
   "execution_count": null,
   "metadata": {},
   "outputs": [],
   "source": []
  },
  {
   "cell_type": "code",
   "execution_count": null,
   "metadata": {},
   "outputs": [],
   "source": [
    "df_iptu_modelo = pd.read_csv(f'IPTU/IPTU_2010.zip',\\\n",
    "                     compression='zip',\\\n",
    "                     encoding='iso-8859-9',\\\n",
    "                     sep=';',\\\n",
    "                     decimal=',',\\\n",
    "                     error_bad_lines=False)"
   ]
  },
  {
   "cell_type": "code",
   "execution_count": null,
   "metadata": {},
   "outputs": [],
   "source": [
    "df_iptu_modelo['FRACAO IDEAL'] = pd.to_numeric(df_iptu_modelo['FRACAO IDEAL'], errors ='coerce')"
   ]
  },
  {
   "cell_type": "code",
   "execution_count": null,
   "metadata": {},
   "outputs": [],
   "source": [
    "df_iptu_modelo['FRACAO IDEAL']"
   ]
  },
  {
   "cell_type": "code",
   "execution_count": null,
   "metadata": {},
   "outputs": [],
   "source": [
    "df_iptu_modelo[df_iptu_modelo['FRACAO IDEAL'] < 1.0].iloc[1]"
   ]
  },
  {
   "cell_type": "code",
   "execution_count": null,
   "metadata": {},
   "outputs": [],
   "source": [
    "df_iptu_modelo.dtypes"
   ]
  },
  {
   "cell_type": "code",
   "execution_count": null,
   "metadata": {},
   "outputs": [],
   "source": [
    "df_iptu_modelo['area_terreno'] = df_iptu_modelo['FRACAO IDEAL'] * df_iptu_modelo['AREA DO TERRENO']\n",
    "df_iptu_modelo['area_ocupada'] = df_iptu_modelo['FRACAO IDEAL'] * df_iptu_modelo['AREA OCUPADA']"
   ]
  },
  {
   "cell_type": "code",
   "execution_count": null,
   "metadata": {},
   "outputs": [],
   "source": [
    "df_iptu_modelo['TESTADA PARA CALCULO']"
   ]
  },
  {
   "cell_type": "code",
   "execution_count": null,
   "metadata": {},
   "outputs": [],
   "source": []
  }
 ],
 "metadata": {
  "kernelspec": {
   "display_name": "Python 3",
   "language": "python",
   "name": "python3"
  },
  "language_info": {
   "codemirror_mode": {
    "name": "ipython",
    "version": 3
   },
   "file_extension": ".py",
   "mimetype": "text/x-python",
   "name": "python",
   "nbconvert_exporter": "python",
   "pygments_lexer": "ipython3",
   "version": "3.8.2"
  }
 },
 "nbformat": 4,
 "nbformat_minor": 4
}
