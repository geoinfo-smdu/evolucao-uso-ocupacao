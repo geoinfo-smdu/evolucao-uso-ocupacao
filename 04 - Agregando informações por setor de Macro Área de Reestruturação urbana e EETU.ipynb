{
 "cells": [
  {
   "cell_type": "markdown",
   "metadata": {},
   "source": [
    "# Agregando informações por setor de Macro Área de Reestruturação urbana"
   ]
  },
  {
   "cell_type": "code",
   "execution_count": 8,
   "metadata": {},
   "outputs": [
    {
     "data": {
      "text/html": [
       "<pre>✔️ 3.72 ms (2021-03-16T11:31:28/2021-03-16T11:31:28)</pre>"
      ],
      "text/plain": [
       "<IPython.core.display.HTML object>"
      ]
     },
     "metadata": {},
     "output_type": "display_data"
    },
    {
     "name": "stdout",
     "output_type": "stream",
     "text": [
      "The autotime extension is already loaded. To reload it, use:\n",
      "  %reload_ext autotime\n"
     ]
    }
   ],
   "source": [
    "# Carrengando um complemento para visualizar quanto tempo demoram as tarefas\n",
    "\n",
    "%load_ext autotime"
   ]
  },
  {
   "cell_type": "code",
   "execution_count": 35,
   "metadata": {},
   "outputs": [
    {
     "data": {
      "text/html": [
       "<pre>✔️ 2.65 ms (2021-03-16T11:59:52/2021-03-16T11:59:52)</pre>"
      ],
      "text/plain": [
       "<IPython.core.display.HTML object>"
      ]
     },
     "metadata": {},
     "output_type": "display_data"
    }
   ],
   "source": [
    "from pathlib import Path\n",
    "import os\n",
    "import pandas as pd\n",
    "import geopandas as gpd\n",
    "import numpy as np"
   ]
  },
  {
   "cell_type": "code",
   "execution_count": 10,
   "metadata": {},
   "outputs": [
    {
     "data": {
      "text/html": [
       "<pre>✔️ 227 ms (2021-03-16T11:31:28/2021-03-16T11:31:29)</pre>"
      ],
      "text/plain": [
       "<IPython.core.display.HTML object>"
      ]
     },
     "metadata": {},
     "output_type": "display_data"
    }
   ],
   "source": [
    "df_iptu_agg = pd.read_csv(f'resultados/IPTU_1995-agregado-sq-uso.csv.gz',\\\n",
    "              compression='gzip',\\\n",
    "              encoding='utf-8',\\\n",
    "              sep=',',\\\n",
    "              decimal='.',\\\n",
    "              error_bad_lines=False)"
   ]
  },
  {
   "cell_type": "code",
   "execution_count": 11,
   "metadata": {},
   "outputs": [
    {
     "data": {
      "text/html": [
       "<pre>✔️ 21.5 ms (2021-03-16T11:31:30/2021-03-16T11:31:30)</pre>"
      ],
      "text/plain": [
       "<IPython.core.display.HTML object>"
      ]
     },
     "metadata": {},
     "output_type": "display_data"
    },
    {
     "data": {
      "text/html": [
       "<div>\n",
       "<style scoped>\n",
       "    .dataframe tbody tr th:only-of-type {\n",
       "        vertical-align: middle;\n",
       "    }\n",
       "\n",
       "    .dataframe tbody tr th {\n",
       "        vertical-align: top;\n",
       "    }\n",
       "\n",
       "    .dataframe thead th {\n",
       "        text-align: right;\n",
       "    }\n",
       "</style>\n",
       "<table border=\"1\" class=\"dataframe\">\n",
       "  <thead>\n",
       "    <tr style=\"text-align: right;\">\n",
       "      <th></th>\n",
       "      <th>setor</th>\n",
       "      <th>quadra</th>\n",
       "      <th>ANO DO EXERCICIO</th>\n",
       "      <th>TIPO DE USO DO IMOVEL</th>\n",
       "      <th>quantidade_de_contribuintes</th>\n",
       "      <th>area_construida</th>\n",
       "      <th>quantidade_de_lotes</th>\n",
       "      <th>area_terreno</th>\n",
       "      <th>area_ocupada</th>\n",
       "      <th>maximo_de_pavimentos</th>\n",
       "      <th>media_testada</th>\n",
       "    </tr>\n",
       "  </thead>\n",
       "  <tbody>\n",
       "    <tr>\n",
       "      <th>0</th>\n",
       "      <td>1</td>\n",
       "      <td>3</td>\n",
       "      <td>1995</td>\n",
       "      <td>apartamento</td>\n",
       "      <td>41</td>\n",
       "      <td>2575</td>\n",
       "      <td>2.3544</td>\n",
       "      <td>749.6093</td>\n",
       "      <td>515.5445</td>\n",
       "      <td>8.0</td>\n",
       "      <td>16.615854</td>\n",
       "    </tr>\n",
       "    <tr>\n",
       "      <th>1</th>\n",
       "      <td>1</td>\n",
       "      <td>3</td>\n",
       "      <td>1995</td>\n",
       "      <td>garagem em edifício de uso exclusivamente resi...</td>\n",
       "      <td>1</td>\n",
       "      <td>220</td>\n",
       "      <td>0.1300</td>\n",
       "      <td>42.9000</td>\n",
       "      <td>29.1200</td>\n",
       "      <td>8.0</td>\n",
       "      <td>12.000000</td>\n",
       "    </tr>\n",
       "    <tr>\n",
       "      <th>2</th>\n",
       "      <td>1</td>\n",
       "      <td>3</td>\n",
       "      <td>1995</td>\n",
       "      <td>indústria</td>\n",
       "      <td>1</td>\n",
       "      <td>10109</td>\n",
       "      <td>1.0000</td>\n",
       "      <td>8800.0000</td>\n",
       "      <td>6830.0000</td>\n",
       "      <td>3.0</td>\n",
       "      <td>93.700000</td>\n",
       "    </tr>\n",
       "    <tr>\n",
       "      <th>3</th>\n",
       "      <td>1</td>\n",
       "      <td>3</td>\n",
       "      <td>1995</td>\n",
       "      <td>loja</td>\n",
       "      <td>23</td>\n",
       "      <td>7614</td>\n",
       "      <td>23.0000</td>\n",
       "      <td>3966.0000</td>\n",
       "      <td>2241.0000</td>\n",
       "      <td>5.0</td>\n",
       "      <td>7.995652</td>\n",
       "    </tr>\n",
       "    <tr>\n",
       "      <th>4</th>\n",
       "      <td>1</td>\n",
       "      <td>3</td>\n",
       "      <td>1995</td>\n",
       "      <td>loja e residência (predominância comercial)</td>\n",
       "      <td>15</td>\n",
       "      <td>5164</td>\n",
       "      <td>15.0000</td>\n",
       "      <td>2602.0000</td>\n",
       "      <td>1321.0000</td>\n",
       "      <td>6.0</td>\n",
       "      <td>6.226667</td>\n",
       "    </tr>\n",
       "    <tr>\n",
       "      <th>...</th>\n",
       "      <td>...</td>\n",
       "      <td>...</td>\n",
       "      <td>...</td>\n",
       "      <td>...</td>\n",
       "      <td>...</td>\n",
       "      <td>...</td>\n",
       "      <td>...</td>\n",
       "      <td>...</td>\n",
       "      <td>...</td>\n",
       "      <td>...</td>\n",
       "      <td>...</td>\n",
       "    </tr>\n",
       "    <tr>\n",
       "      <th>204737</th>\n",
       "      <td>310</td>\n",
       "      <td>117</td>\n",
       "      <td>1995</td>\n",
       "      <td>residência coletiva (mais de uma residência no...</td>\n",
       "      <td>2</td>\n",
       "      <td>375</td>\n",
       "      <td>2.0000</td>\n",
       "      <td>595.0000</td>\n",
       "      <td>249.0000</td>\n",
       "      <td>2.0</td>\n",
       "      <td>17.500000</td>\n",
       "    </tr>\n",
       "    <tr>\n",
       "      <th>204738</th>\n",
       "      <td>310</td>\n",
       "      <td>117</td>\n",
       "      <td>1995</td>\n",
       "      <td>terreno</td>\n",
       "      <td>5</td>\n",
       "      <td>0</td>\n",
       "      <td>5.0000</td>\n",
       "      <td>3312.0000</td>\n",
       "      <td>0.0000</td>\n",
       "      <td>0.0</td>\n",
       "      <td>21.800000</td>\n",
       "    </tr>\n",
       "    <tr>\n",
       "      <th>204739</th>\n",
       "      <td>310</td>\n",
       "      <td>118</td>\n",
       "      <td>1995</td>\n",
       "      <td>apartamento</td>\n",
       "      <td>240</td>\n",
       "      <td>25215</td>\n",
       "      <td>0.9941</td>\n",
       "      <td>17934.5581</td>\n",
       "      <td>5280.6592</td>\n",
       "      <td>22.0</td>\n",
       "      <td>0.000000</td>\n",
       "    </tr>\n",
       "    <tr>\n",
       "      <th>204740</th>\n",
       "      <td>310</td>\n",
       "      <td>119</td>\n",
       "      <td>1995</td>\n",
       "      <td>terreno</td>\n",
       "      <td>1</td>\n",
       "      <td>0</td>\n",
       "      <td>1.0000</td>\n",
       "      <td>18500.0000</td>\n",
       "      <td>0.0000</td>\n",
       "      <td>0.0</td>\n",
       "      <td>0.000000</td>\n",
       "    </tr>\n",
       "    <tr>\n",
       "      <th>204741</th>\n",
       "      <td>310</td>\n",
       "      <td>120</td>\n",
       "      <td>1995</td>\n",
       "      <td>terreno</td>\n",
       "      <td>1</td>\n",
       "      <td>0</td>\n",
       "      <td>1.0000</td>\n",
       "      <td>25000.0000</td>\n",
       "      <td>0.0000</td>\n",
       "      <td>0.0</td>\n",
       "      <td>500.000000</td>\n",
       "    </tr>\n",
       "  </tbody>\n",
       "</table>\n",
       "<p>204742 rows × 11 columns</p>\n",
       "</div>"
      ],
      "text/plain": [
       "        setor  quadra  ANO DO EXERCICIO  \\\n",
       "0           1       3              1995   \n",
       "1           1       3              1995   \n",
       "2           1       3              1995   \n",
       "3           1       3              1995   \n",
       "4           1       3              1995   \n",
       "...       ...     ...               ...   \n",
       "204737    310     117              1995   \n",
       "204738    310     117              1995   \n",
       "204739    310     118              1995   \n",
       "204740    310     119              1995   \n",
       "204741    310     120              1995   \n",
       "\n",
       "                                    TIPO DE USO DO IMOVEL  \\\n",
       "0                                             apartamento   \n",
       "1       garagem em edifício de uso exclusivamente resi...   \n",
       "2                                               indústria   \n",
       "3                                                    loja   \n",
       "4             loja e residência (predominância comercial)   \n",
       "...                                                   ...   \n",
       "204737  residência coletiva (mais de uma residência no...   \n",
       "204738                                            terreno   \n",
       "204739                                        apartamento   \n",
       "204740                                            terreno   \n",
       "204741                                            terreno   \n",
       "\n",
       "        quantidade_de_contribuintes  area_construida  quantidade_de_lotes  \\\n",
       "0                                41             2575               2.3544   \n",
       "1                                 1              220               0.1300   \n",
       "2                                 1            10109               1.0000   \n",
       "3                                23             7614              23.0000   \n",
       "4                                15             5164              15.0000   \n",
       "...                             ...              ...                  ...   \n",
       "204737                            2              375               2.0000   \n",
       "204738                            5                0               5.0000   \n",
       "204739                          240            25215               0.9941   \n",
       "204740                            1                0               1.0000   \n",
       "204741                            1                0               1.0000   \n",
       "\n",
       "        area_terreno  area_ocupada  maximo_de_pavimentos  media_testada  \n",
       "0           749.6093      515.5445                   8.0      16.615854  \n",
       "1            42.9000       29.1200                   8.0      12.000000  \n",
       "2          8800.0000     6830.0000                   3.0      93.700000  \n",
       "3          3966.0000     2241.0000                   5.0       7.995652  \n",
       "4          2602.0000     1321.0000                   6.0       6.226667  \n",
       "...              ...           ...                   ...            ...  \n",
       "204737      595.0000      249.0000                   2.0      17.500000  \n",
       "204738     3312.0000        0.0000                   0.0      21.800000  \n",
       "204739    17934.5581     5280.6592                  22.0       0.000000  \n",
       "204740    18500.0000        0.0000                   0.0       0.000000  \n",
       "204741    25000.0000        0.0000                   0.0     500.000000  \n",
       "\n",
       "[204742 rows x 11 columns]"
      ]
     },
     "execution_count": 11,
     "metadata": {},
     "output_type": "execute_result"
    }
   ],
   "source": [
    "df_iptu_agg"
   ]
  },
  {
   "cell_type": "code",
   "execution_count": 12,
   "metadata": {},
   "outputs": [
    {
     "data": {
      "text/html": [
       "<pre>✔️ 4.03 s (2021-03-16T11:31:34/2021-03-16T11:31:38)</pre>"
      ],
      "text/plain": [
       "<IPython.core.display.HTML object>"
      ]
     },
     "metadata": {},
     "output_type": "display_data"
    }
   ],
   "source": [
    "# Carregando quadras fiscais\n",
    "\n",
    "gdf_quadras = gpd.GeoDataFrame.from_file(f'zip://GIS/SIRGAS_SHP_quadraMDSF.zip!SIRGAS_SHP_quadraMDSF')"
   ]
  },
  {
   "cell_type": "code",
   "execution_count": 13,
   "metadata": {},
   "outputs": [
    {
     "data": {
      "text/html": [
       "<pre>✔️ 12.9 ms (2021-03-16T11:31:38/2021-03-16T11:31:38)</pre>"
      ],
      "text/plain": [
       "<IPython.core.display.HTML object>"
      ]
     },
     "metadata": {},
     "output_type": "display_data"
    }
   ],
   "source": [
    "gdf_quadras['sq'] = gdf_quadras.qd_setor + gdf_quadras.qd_fiscal"
   ]
  },
  {
   "cell_type": "code",
   "execution_count": 14,
   "metadata": {},
   "outputs": [
    {
     "data": {
      "text/html": [
       "<pre>✔️ 29.9 s (2021-03-16T11:31:40/2021-03-16T11:32:10)</pre>"
      ],
      "text/plain": [
       "<IPython.core.display.HTML object>"
      ]
     },
     "metadata": {},
     "output_type": "display_data"
    }
   ],
   "source": [
    "gdf_quadras = gdf_quadras.loc[gdf_quadras.qd_tipo == 'F'][['sq', 'geometry']].dissolve(by='sq')"
   ]
  },
  {
   "cell_type": "code",
   "execution_count": 15,
   "metadata": {},
   "outputs": [
    {
     "data": {
      "text/html": [
       "<pre>✔️ 425 ms (2021-03-16T11:32:10/2021-03-16T11:32:11)</pre>"
      ],
      "text/plain": [
       "<IPython.core.display.HTML object>"
      ]
     },
     "metadata": {},
     "output_type": "display_data"
    }
   ],
   "source": [
    "gdf_quadras.geometry = gdf_quadras.representative_point()"
   ]
  },
  {
   "cell_type": "code",
   "execution_count": 27,
   "metadata": {},
   "outputs": [
    {
     "data": {
      "text/html": [
       "<pre>✔️ 20.3 ms (2021-03-16T11:49:33/2021-03-16T11:49:33)</pre>"
      ],
      "text/plain": [
       "<IPython.core.display.HTML object>"
      ]
     },
     "metadata": {},
     "output_type": "display_data"
    },
    {
     "data": {
      "text/html": [
       "<div>\n",
       "<style scoped>\n",
       "    .dataframe tbody tr th:only-of-type {\n",
       "        vertical-align: middle;\n",
       "    }\n",
       "\n",
       "    .dataframe tbody tr th {\n",
       "        vertical-align: top;\n",
       "    }\n",
       "\n",
       "    .dataframe thead th {\n",
       "        text-align: right;\n",
       "    }\n",
       "</style>\n",
       "<table border=\"1\" class=\"dataframe\">\n",
       "  <thead>\n",
       "    <tr style=\"text-align: right;\">\n",
       "      <th></th>\n",
       "      <th>geometry</th>\n",
       "    </tr>\n",
       "    <tr>\n",
       "      <th>sq</th>\n",
       "      <th></th>\n",
       "    </tr>\n",
       "  </thead>\n",
       "  <tbody>\n",
       "    <tr>\n",
       "      <th>001003</th>\n",
       "      <td>POINT (333387.800 7396468.599)</td>\n",
       "    </tr>\n",
       "    <tr>\n",
       "      <th>001004</th>\n",
       "      <td>POINT (333487.097 7396436.735)</td>\n",
       "    </tr>\n",
       "    <tr>\n",
       "      <th>001005</th>\n",
       "      <td>POINT (333561.571 7396423.397)</td>\n",
       "    </tr>\n",
       "    <tr>\n",
       "      <th>001006</th>\n",
       "      <td>POINT (333606.259 7396412.473)</td>\n",
       "    </tr>\n",
       "    <tr>\n",
       "      <th>001007</th>\n",
       "      <td>POINT (333670.058 7396400.965)</td>\n",
       "    </tr>\n",
       "    <tr>\n",
       "      <th>...</th>\n",
       "      <td>...</td>\n",
       "    </tr>\n",
       "    <tr>\n",
       "      <th>310116</th>\n",
       "      <td>POINT (332733.661 7383530.821)</td>\n",
       "    </tr>\n",
       "    <tr>\n",
       "      <th>310117</th>\n",
       "      <td>POINT (333174.165 7383508.667)</td>\n",
       "    </tr>\n",
       "    <tr>\n",
       "      <th>310118</th>\n",
       "      <td>POINT (332646.595 7384341.976)</td>\n",
       "    </tr>\n",
       "    <tr>\n",
       "      <th>310119</th>\n",
       "      <td>POINT (333607.729 7384186.593)</td>\n",
       "    </tr>\n",
       "    <tr>\n",
       "      <th>310120</th>\n",
       "      <td>POINT (333476.988 7383807.149)</td>\n",
       "    </tr>\n",
       "  </tbody>\n",
       "</table>\n",
       "<p>45611 rows × 1 columns</p>\n",
       "</div>"
      ],
      "text/plain": [
       "                              geometry\n",
       "sq                                    \n",
       "001003  POINT (333387.800 7396468.599)\n",
       "001004  POINT (333487.097 7396436.735)\n",
       "001005  POINT (333561.571 7396423.397)\n",
       "001006  POINT (333606.259 7396412.473)\n",
       "001007  POINT (333670.058 7396400.965)\n",
       "...                                ...\n",
       "310116  POINT (332733.661 7383530.821)\n",
       "310117  POINT (333174.165 7383508.667)\n",
       "310118  POINT (332646.595 7384341.976)\n",
       "310119  POINT (333607.729 7384186.593)\n",
       "310120  POINT (333476.988 7383807.149)\n",
       "\n",
       "[45611 rows x 1 columns]"
      ]
     },
     "execution_count": 27,
     "metadata": {},
     "output_type": "execute_result"
    }
   ],
   "source": [
    "gdf_quadras"
   ]
  },
  {
   "cell_type": "code",
   "execution_count": 30,
   "metadata": {},
   "outputs": [
    {
     "data": {
      "text/html": [
       "<pre>✔️ 2.08 s (2021-03-16T11:53:57/2021-03-16T11:53:59)</pre>"
      ],
      "text/plain": [
       "<IPython.core.display.HTML object>"
      ]
     },
     "metadata": {},
     "output_type": "display_data"
    }
   ],
   "source": [
    "gdf_quadras.to_file('resultados/teste.gpkg', layer='quadras', driver='GPKG')"
   ]
  },
  {
   "cell_type": "code",
   "execution_count": 58,
   "metadata": {},
   "outputs": [
    {
     "data": {
      "text/html": [
       "<pre>✔️ 2.24 ms (2021-03-16T12:07:28/2021-03-16T12:07:28)</pre>"
      ],
      "text/plain": [
       "<IPython.core.display.HTML object>"
      ]
     },
     "metadata": {},
     "output_type": "display_data"
    }
   ],
   "source": [
    "df_iptu_agg['geometry'] = 'Point(0,0)'"
   ]
  },
  {
   "cell_type": "code",
   "execution_count": null,
   "metadata": {},
   "outputs": [],
   "source": []
  },
  {
   "cell_type": "code",
   "execution_count": 17,
   "metadata": {},
   "outputs": [
    {
     "data": {
      "text/html": [
       "<pre>✔️ 183 ms (2021-03-16T11:32:14/2021-03-16T11:32:14)</pre>"
      ],
      "text/plain": [
       "<IPython.core.display.HTML object>"
      ]
     },
     "metadata": {},
     "output_type": "display_data"
    }
   ],
   "source": [
    "df_iptu_agg['sq'] = (df_iptu_agg.setor * 1000 + df_iptu_agg.quadra).astype(str).str.zfill(6)"
   ]
  },
  {
   "cell_type": "code",
   "execution_count": 18,
   "metadata": {},
   "outputs": [
    {
     "data": {
      "text/html": [
       "<pre>✔️ 142 ms (2021-03-16T11:32:14/2021-03-16T11:32:14)</pre>"
      ],
      "text/plain": [
       "<IPython.core.display.HTML object>"
      ]
     },
     "metadata": {},
     "output_type": "display_data"
    }
   ],
   "source": [
    "gdf_iptu_agg = gdf_quadras.merge(df_iptu_agg, on='sq', how='right')"
   ]
  },
  {
   "cell_type": "code",
   "execution_count": 29,
   "metadata": {},
   "outputs": [
    {
     "data": {
      "text/html": [
       "<pre>✔️ 24.5 s (2021-03-16T11:51:39/2021-03-16T11:52:04)</pre>"
      ],
      "text/plain": [
       "<IPython.core.display.HTML object>"
      ]
     },
     "metadata": {},
     "output_type": "display_data"
    },
    {
     "data": {
      "text/plain": [
       "sq                               object\n",
       "geometry                       geometry\n",
       "setor                             int64\n",
       "quadra                            int64\n",
       "ANO DO EXERCICIO                  int64\n",
       "TIPO DE USO DO IMOVEL            object\n",
       "quantidade_de_contribuintes       int64\n",
       "area_construida                   int64\n",
       "quantidade_de_lotes             float64\n",
       "area_terreno                    float64\n",
       "area_ocupada                    float64\n",
       "maximo_de_pavimentos            float64\n",
       "media_testada                   float64\n",
       "dtype: object"
      ]
     },
     "execution_count": 29,
     "metadata": {},
     "output_type": "execute_result"
    }
   ],
   "source": [
    "# gdf_iptu_agg.loc[gdf_iptu_agg.is_valid].to_file('resultados/teste.gpkg', layer='iptu_agregado', driver='GPKG')\n",
    "gdf_iptu_agg.dtypes"
   ]
  },
  {
   "cell_type": "code",
   "execution_count": 36,
   "metadata": {},
   "outputs": [
    {
     "data": {
      "text/html": [
       "<pre>✔️ 55.7 ms (2021-03-08T13:27:41/2021-03-08T13:27:41)</pre>"
      ],
      "text/plain": [
       "<IPython.core.display.HTML object>"
      ]
     },
     "metadata": {},
     "output_type": "display_data"
    }
   ],
   "source": [
    "gdf_macroarea = gpd.GeoDataFrame.from_file(f'zip://GIS/PDE_2-Macroarea.zip!sirgas_PDE_2-Macroarea.shp')"
   ]
  },
  {
   "cell_type": "code",
   "execution_count": 37,
   "metadata": {},
   "outputs": [
    {
     "data": {
      "text/html": [
       "<pre>✔️ 158 ms (2021-03-08T13:27:52/2021-03-08T13:27:52)</pre>"
      ],
      "text/plain": [
       "<IPython.core.display.HTML object>"
      ]
     },
     "metadata": {},
     "output_type": "display_data"
    },
    {
     "data": {
      "text/plain": [
       "<AxesSubplot:>"
      ]
     },
     "execution_count": 37,
     "metadata": {},
     "output_type": "execute_result"
    },
    {
     "data": {
      "image/png": "[encoded data removed]",
      "text/plain": [
       "<Figure size 432x288 with 1 Axes>"
      ]
     },
     "metadata": {
      "needs_background": "light"
     },
     "output_type": "display_data"
    }
   ],
   "source": [
    "gdf_macroarea.plot()"
   ]
  },
  {
   "cell_type": "code",
   "execution_count": 4,
   "metadata": {},
   "outputs": [
    {
     "data": {
      "text/html": [
       "<pre>✔️ 58.1 ms (2021-03-16T11:23:23/2021-03-16T11:23:23)</pre>"
      ],
      "text/plain": [
       "<IPython.core.display.HTML object>"
      ]
     },
     "metadata": {},
     "output_type": "display_data"
    }
   ],
   "source": [
    "gdf_setores_estruturacao = gpd.GeoDataFrame.from_file(f'zip://GIS/PDE_2A-Setores-MEM.zip!sirgas_PDE_2A-Setores-MEM.shp')\n",
    "# gdf_macroarea_estruturacao = gpd.GeoDataFrame.from_file(f'zip://GIS/PDE_2-Macroarea.zip!sirgas_PDE_2-Macroarea.shp')"
   ]
  },
  {
   "cell_type": "code",
   "execution_count": 6,
   "metadata": {},
   "outputs": [
    {
     "data": {
      "text/html": [
       "<pre>✔️ 145 ms (2021-03-16T11:27:16/2021-03-16T11:27:16)</pre>"
      ],
      "text/plain": [
       "<IPython.core.display.HTML object>"
      ]
     },
     "metadata": {},
     "output_type": "display_data"
    },
    {
     "data": {
      "text/plain": [
       "<AxesSubplot:>"
      ]
     },
     "execution_count": 6,
     "metadata": {},
     "output_type": "execute_result"
    },
    {
     "data": {
      "image/png": "[encoded data removed]",
      "text/plain": [
       "<Figure size 432x288 with 1 Axes>"
      ]
     },
     "metadata": {
      "needs_background": "light"
     },
     "output_type": "display_data"
    }
   ],
   "source": [
    "gdf_setores_estruturacao.plot()"
   ]
  },
  {
   "cell_type": "code",
   "execution_count": null,
   "metadata": {},
   "outputs": [],
   "source": []
  },
  {
   "cell_type": "code",
   "execution_count": null,
   "metadata": {},
   "outputs": [],
   "source": []
  }
 ],
 "metadata": {
  "kernelspec": {
   "display_name": "Python 3",
   "language": "python",
   "name": "python3"
  },
  "language_info": {
   "codemirror_mode": {
    "name": "ipython",
    "version": 3
   },
   "file_extension": ".py",
   "mimetype": "text/x-python",
   "name": "python",
   "nbconvert_exporter": "python",
   "pygments_lexer": "ipython3",
   "version": "3.8.2"
  }
 },
 "nbformat": 4,
 "nbformat_minor": 4
}
