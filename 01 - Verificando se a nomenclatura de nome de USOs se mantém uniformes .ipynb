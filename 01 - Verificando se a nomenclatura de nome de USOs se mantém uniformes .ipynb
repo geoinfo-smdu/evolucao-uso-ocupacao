{
 "cells": [
  {
   "cell_type": "markdown",
   "metadata": {},
   "source": [
    "# Verificando se a nomenclatura de nome de Usos se mantém uniforme\n",
    "\n",
    "Vamos percorrer cada um dos anos e verificar os valores únicos de uso para validar se é possível utilizar os usos para as análises\n"
   ]
  },
  {
   "cell_type": "code",
   "execution_count": 5,
   "metadata": {},
   "outputs": [
    {
     "data": {
      "text/html": [
       "<pre>✔️ 685 µs (2021-03-04T15:37:26/2021-03-04T15:37:26)</pre>"
      ],
      "text/plain": [
       "<IPython.core.display.HTML object>"
      ]
     },
     "metadata": {},
     "output_type": "display_data"
    },
    {
     "name": "stdout",
     "output_type": "stream",
     "text": [
      "The autotime extension is already loaded. To reload it, use:\n",
      "  %reload_ext autotime\n"
     ]
    }
   ],
   "source": [
    "# Carrengando um complemento para visualizar quanto tempo demoram as tarefas\n",
    "\n",
    "%load_ext autotime"
   ]
  },
  {
   "cell_type": "code",
   "execution_count": 6,
   "metadata": {},
   "outputs": [
    {
     "data": {
      "text/html": [
       "<pre>✔️ 916 ms (2021-03-04T15:37:27/2021-03-04T15:37:28)</pre>"
      ],
      "text/plain": [
       "<IPython.core.display.HTML object>"
      ]
     },
     "metadata": {},
     "output_type": "display_data"
    }
   ],
   "source": [
    "from pathlib import Path\n",
    "import os\n",
    "import pandas as pd"
   ]
  },
  {
   "cell_type": "code",
   "execution_count": 4,
   "metadata": {},
   "outputs": [
    {
     "data": {
      "text/html": [
       "<pre>✔️ 6 min 31 s (2021-03-02T18:00:08/2021-03-02T18:06:39)</pre>"
      ],
      "text/plain": [
       "<IPython.core.display.HTML object>"
      ]
     },
     "metadata": {},
     "output_type": "display_data"
    },
    {
     "name": "stdout",
     "output_type": "stream",
     "text": [
      "IPTU_2010.zip\n"
     ]
    },
    {
     "name": "stderr",
     "output_type": "stream",
     "text": [
      "b'Skipping line 2445507: expected 35 fields, saw 43\\n'\n"
     ]
    },
    {
     "name": "stdout",
     "output_type": "stream",
     "text": [
      "IPTU_1996.zip\n"
     ]
    },
    {
     "name": "stderr",
     "output_type": "stream",
     "text": [
      "/home/fernando/miniconda3/envs/geo/lib/python3.8/site-packages/IPython/core/interactiveshell.py:3146: DtypeWarning: Columns (27) have mixed types.Specify dtype option on import or set low_memory=False.\n",
      "  has_raised = await self.run_ast_nodes(code_ast.body, cell_name,\n"
     ]
    },
    {
     "name": "stdout",
     "output_type": "stream",
     "text": [
      "IPTU_2007.zip\n"
     ]
    },
    {
     "name": "stderr",
     "output_type": "stream",
     "text": [
      "b'Skipping line 2417712: expected 35 fields, saw 43\\n'\n"
     ]
    },
    {
     "name": "stdout",
     "output_type": "stream",
     "text": [
      "IPTU_2013.zip\n"
     ]
    },
    {
     "name": "stderr",
     "output_type": "stream",
     "text": [
      "b'Skipping line 2560170: expected 35 fields, saw 43\\n'\n",
      "/home/fernando/miniconda3/envs/geo/lib/python3.8/site-packages/IPython/core/interactiveshell.py:3146: DtypeWarning: Columns (18,19,20,21,22,27) have mixed types.Specify dtype option on import or set low_memory=False.\n",
      "  has_raised = await self.run_ast_nodes(code_ast.body, cell_name,\n"
     ]
    },
    {
     "name": "stdout",
     "output_type": "stream",
     "text": [
      "IPTU_2004.zip\n"
     ]
    },
    {
     "name": "stderr",
     "output_type": "stream",
     "text": [
      "b'Skipping line 2325266: expected 35 fields, saw 43\\n'\n"
     ]
    },
    {
     "name": "stdout",
     "output_type": "stream",
     "text": [
      "IPTU_2005.zip\n"
     ]
    },
    {
     "name": "stderr",
     "output_type": "stream",
     "text": [
      "b'Skipping line 2355090: expected 35 fields, saw 43\\n'\n"
     ]
    },
    {
     "name": "stdout",
     "output_type": "stream",
     "text": [
      "IPTU_1995.zip\n",
      "IPTU_1998.zip\n"
     ]
    },
    {
     "name": "stderr",
     "output_type": "stream",
     "text": [
      "b'Skipping line 2096075: expected 35 fields, saw 43\\n'\n"
     ]
    },
    {
     "name": "stdout",
     "output_type": "stream",
     "text": [
      "IPTU_2018.zip\n",
      "IPTU_2001.zip\n"
     ]
    },
    {
     "name": "stderr",
     "output_type": "stream",
     "text": [
      "b'Skipping line 2211865: expected 35 fields, saw 43\\n'\n"
     ]
    },
    {
     "name": "stdout",
     "output_type": "stream",
     "text": [
      "IPTU_2017.zip\n",
      "IPTU_2015.zip\n"
     ]
    },
    {
     "name": "stderr",
     "output_type": "stream",
     "text": [
      "b'Skipping line 2651001: expected 35 fields, saw 43\\n'\n"
     ]
    },
    {
     "name": "stdout",
     "output_type": "stream",
     "text": [
      "IPTU_2006.zip\n"
     ]
    },
    {
     "name": "stderr",
     "output_type": "stream",
     "text": [
      "b'Skipping line 2381472: expected 35 fields, saw 43\\n'\n"
     ]
    },
    {
     "name": "stdout",
     "output_type": "stream",
     "text": [
      "IPTU_2009.zip\n"
     ]
    },
    {
     "name": "stderr",
     "output_type": "stream",
     "text": [
      "b'Skipping line 2471701: expected 35 fields, saw 43\\n'\n"
     ]
    },
    {
     "name": "stdout",
     "output_type": "stream",
     "text": [
      "IPTU_2014.zip\n"
     ]
    },
    {
     "name": "stderr",
     "output_type": "stream",
     "text": [
      "b'Skipping line 2606431: expected 35 fields, saw 43\\n'\n"
     ]
    },
    {
     "name": "stdout",
     "output_type": "stream",
     "text": [
      "IPTU_2011.zip\n"
     ]
    },
    {
     "name": "stderr",
     "output_type": "stream",
     "text": [
      "b'Skipping line 2484471: expected 35 fields, saw 43\\n'\n"
     ]
    },
    {
     "name": "stdout",
     "output_type": "stream",
     "text": [
      "IPTU_2000.zip\n"
     ]
    },
    {
     "name": "stderr",
     "output_type": "stream",
     "text": [
      "b'Skipping line 2156584: expected 35 fields, saw 43\\n'\n"
     ]
    },
    {
     "name": "stdout",
     "output_type": "stream",
     "text": [
      "IPTU_2019.zip\n",
      "IPTU_1997.zip\n",
      "IPTU_2016.zip\n",
      "IPTU_2002.zip\n"
     ]
    },
    {
     "name": "stderr",
     "output_type": "stream",
     "text": [
      "b'Skipping line 2247445: expected 35 fields, saw 43\\n'\n"
     ]
    },
    {
     "name": "stdout",
     "output_type": "stream",
     "text": [
      "IPTU_1999.zip\n"
     ]
    },
    {
     "name": "stderr",
     "output_type": "stream",
     "text": [
      "b'Skipping line 2121196: expected 35 fields, saw 43\\n'\n"
     ]
    },
    {
     "name": "stdout",
     "output_type": "stream",
     "text": [
      "IPTU_2020.zip\n",
      "IPTU_2008.zip\n"
     ]
    },
    {
     "name": "stderr",
     "output_type": "stream",
     "text": [
      "b'Skipping line 2440049: expected 35 fields, saw 43\\n'\n"
     ]
    },
    {
     "name": "stdout",
     "output_type": "stream",
     "text": [
      "IPTU_2003.zip\n"
     ]
    },
    {
     "name": "stderr",
     "output_type": "stream",
     "text": [
      "b'Skipping line 2288886: expected 35 fields, saw 43\\n'\n"
     ]
    },
    {
     "name": "stdout",
     "output_type": "stream",
     "text": [
      "IPTU_2012.zip\n"
     ]
    },
    {
     "name": "stderr",
     "output_type": "stream",
     "text": [
      "b'Skipping line 2526350: expected 35 fields, saw 43\\n'\n"
     ]
    }
   ],
   "source": [
    "uso_iptus = []\n",
    "\n",
    "for path in Path('IPTU').rglob('*.zip'):\n",
    "    print(path.name)\n",
    "    \n",
    "    # 1. Carregar dados do arquivo\n",
    "    # OBS.: O IPTU de 2016 está separado por ',' e não por ';'\n",
    "    if path.name == \"IPTU_2016.zip\":\n",
    "        df_iptu = pd.read_csv(f'{path}',\\\n",
    "                     compression='zip',\\\n",
    "                     encoding='iso-8859-9',\\\n",
    "                     sep=',',\\\n",
    "                     decimal=',',\\\n",
    "                     error_bad_lines=False)\n",
    "    else:\n",
    "        df_iptu = pd.read_csv(f'{path}',\\\n",
    "                     compression='zip',\\\n",
    "                     encoding='iso-8859-9',\\\n",
    "                     sep=';',\\\n",
    "                     decimal=',',\\\n",
    "                     error_bad_lines=False)\n",
    "\n",
    "    # 2. Agregar por TIPO DE USO DO IMOVEL e ANO DO EXERCICIO\n",
    "    iptu_agg = df_iptu[['TIPO DE USO DO IMOVEL', 'ANO DO EXERCICIO', 'NUMERO DO CONTRIBUINTE']]\\\n",
    "    .groupby(['TIPO DE USO DO IMOVEL', 'ANO DO EXERCICIO'])\\\n",
    "    .agg({'NUMERO DO CONTRIBUINTE': 'count'})\\\n",
    "    .rename(columns = {'NUMERO DO CONTRIBUINTE': 'quantidade'})\n",
    "\n",
    "    # adicionando à lista\n",
    "    uso_iptus.append(iptu_agg)\n"
   ]
  },
  {
   "cell_type": "code",
   "execution_count": 5,
   "metadata": {},
   "outputs": [
    {
     "data": {
      "text/html": [
       "<pre>✔️ 8.44 ms (2021-03-02T18:06:40/2021-03-02T18:06:40)</pre>"
      ],
      "text/plain": [
       "<IPython.core.display.HTML object>"
      ]
     },
     "metadata": {},
     "output_type": "display_data"
    }
   ],
   "source": [
    "df_uso_iptus = pd.concat(uso_iptus)"
   ]
  },
  {
   "cell_type": "code",
   "execution_count": 6,
   "metadata": {},
   "outputs": [
    {
     "data": {
      "text/html": [
       "<pre>✔️ 13.9 ms (2021-03-02T18:06:40/2021-03-02T18:06:40)</pre>"
      ],
      "text/plain": [
       "<IPython.core.display.HTML object>"
      ]
     },
     "metadata": {},
     "output_type": "display_data"
    }
   ],
   "source": [
    "df_uso_iptus.to_csv('resultados/usos_iptu_por_ano.csv')"
   ]
  },
  {
   "cell_type": "markdown",
   "metadata": {},
   "source": [
    "## Com os dados pré-processados"
   ]
  },
  {
   "cell_type": "code",
   "execution_count": 38,
   "metadata": {},
   "outputs": [
    {
     "data": {
      "text/html": [
       "<pre>✔️ 4.05 ms (2021-03-04T15:52:02/2021-03-04T15:52:02)</pre>"
      ],
      "text/plain": [
       "<IPython.core.display.HTML object>"
      ]
     },
     "metadata": {},
     "output_type": "display_data"
    }
   ],
   "source": [
    "df_uso_iptus = pd.read_csv('resultados/usos_iptu_por_ano.csv')"
   ]
  },
  {
   "cell_type": "code",
   "execution_count": 39,
   "metadata": {},
   "outputs": [
    {
     "data": {
      "text/html": [
       "<pre>✔️ 5.46 ms (2021-03-04T15:52:03/2021-03-04T15:52:03)</pre>"
      ],
      "text/plain": [
       "<IPython.core.display.HTML object>"
      ]
     },
     "metadata": {},
     "output_type": "display_data"
    }
   ],
   "source": [
    "df_uso_iptus['TIPO DE USO DO IMOVEL'] = df_uso_iptus['TIPO DE USO DO IMOVEL'].str.lower()"
   ]
  },
  {
   "cell_type": "code",
   "execution_count": 40,
   "metadata": {},
   "outputs": [
    {
     "data": {
      "text/html": [
       "<pre>✔️ 488 µs (2021-03-04T15:52:03/2021-03-04T15:52:03)</pre>"
      ],
      "text/plain": [
       "<IPython.core.display.HTML object>"
      ]
     },
     "metadata": {},
     "output_type": "display_data"
    }
   ],
   "source": [
    "pd.set_option('display.max_rows', 100)"
   ]
  },
  {
   "cell_type": "code",
   "execution_count": 64,
   "metadata": {},
   "outputs": [
    {
     "data": {
      "text/html": [
       "<pre>✔️ 829 µs (2021-03-04T16:28:01/2021-03-04T16:28:01)</pre>"
      ],
      "text/plain": [
       "<IPython.core.display.HTML object>"
      ]
     },
     "metadata": {},
     "output_type": "display_data"
    }
   ],
   "source": [
    "usos = {\n",
    "    \"apartamento em condomínio\":\"apartamento\",\n",
    "    \"cortiço (habitação coletiva subnormal)\":\"cortiço\",\n",
    "    \"escritório/consultório em condomínio (unidade autônoma)\":\"escritório ou consultório\",\n",
    "    \"loja em edifício em condomínio (unidade autônoma)\":\"loja em edifício em condomínio\",\n",
    "    \"residência coletiva, exclusive cortiço (mais de uma residência no lote)\":\"residência coletiva (mais de uma residência no lote), exclusive cortiço\",\n",
    "    \"posto de serviço (combustíveis)\":\"posto de serviço\",\n",
    "    \"estacionamento e garagem, não em condomínio\":\"garagem (exclusive em prédio em condomínio)\",\n",
    "    \"garagem (unidade autônoma) de prédio de garagens\":\"garagem, em prédio de garagens\",\n",
    "    \"garagem (unidade autônoma) em edifício em condomínio de escritórios, consultórios ou misto\":\"garagem em edifício de escritórios, consultórios ou misto\",\n",
    "    \"garagem (unidade autônoma) em edifício em condomínio de uso exclusivamente residencial\":\"garagem em edifício de uso exclusivamente residencial\",\n",
    "    \"outras edificações de uso coletivo, com utilização múltipla\":\"outras edificações do tipo (uso coletivo), com utilização múltipla\",\n",
    "    \"outras edificações de uso comercial, com utilização múltipla\":\"outras edificações do tipo (uso comércio), com utilização múltipla\",\n",
    "    \"outras edificações de uso de serviço, com utilização múltipla\":\"outras edificações do tipo (uso serviço), com utilização múltipla\",\n",
    "    \"outras edificações de uso especial, com utilização múltipla\":\"outras edificações do tipo (uso especial), com utilização múltipla\",\n",
    "    \"prédio com uso exclusivamente residencial, não em condomínio\":\"prédio de apartamento, não em condomínio, de uso exclusivamente residencial\",\n",
    "    \"prédio com uso misto, predominância de uso não residencial, não em condomínio\":\"prédio de escritório, não em condomínio, de uso misto (apartamentos e escritórios e/ou consultórios) com ou sem loja (predominância comercial)\",\n",
    "    \"prédio com uso misto, predominância de uso residencial, não em condomínio\":\"prédio de apartamento, não em condomínio, de uso misto (apartamentos e escritórios e/ou consultórios), com ou sem loja (predominância residencial)\",\n",
    "    \"prédio de escritório ou consultório, com ou sem lojas, não em condomínio\":\"prédio de escritório ou consultório, não em condomínio, com ou sem lojas\",\n",
    "    \"flat de uso comercial (semelhante a hotel)\":\"flat, não residencial\",\n",
    "    \"flat residencial em condomínio\":\"flat, residencial\"\n",
    "}"
   ]
  },
  {
   "cell_type": "code",
   "execution_count": 65,
   "metadata": {},
   "outputs": [
    {
     "data": {
      "text/html": [
       "<pre>✔️ 2.59 ms (2021-03-04T16:28:02/2021-03-04T16:28:02)</pre>"
      ],
      "text/plain": [
       "<IPython.core.display.HTML object>"
      ]
     },
     "metadata": {},
     "output_type": "display_data"
    }
   ],
   "source": [
    "df_uso_iptus.loc[df_uso_iptus['TIPO DE USO DO IMOVEL']\\\n",
    "                 .isin(usos),\\\n",
    "                'TIPO DE USO DO IMOVEL'] = \\\n",
    "df_uso_iptus[df_uso_iptus['TIPO DE USO DO IMOVEL']\\\n",
    "             .isin(usos)]['TIPO DE USO DO IMOVEL']\\\n",
    ".apply(lambda x: usos[x])"
   ]
  },
  {
   "cell_type": "code",
   "execution_count": 66,
   "metadata": {},
   "outputs": [
    {
     "data": {
      "text/html": [
       "<pre>✔️ 3.01 ms (2021-03-04T16:28:04/2021-03-04T16:28:04)</pre>"
      ],
      "text/plain": [
       "<IPython.core.display.HTML object>"
      ]
     },
     "metadata": {},
     "output_type": "display_data"
    },
    {
     "data": {
      "text/plain": [
       "Series([], Name: TIPO DE USO DO IMOVEL, dtype: object)"
      ]
     },
     "execution_count": 66,
     "metadata": {},
     "output_type": "execute_result"
    }
   ],
   "source": [
    "df_uso_iptus[df_uso_iptus['TIPO DE USO DO IMOVEL']\\\n",
    "             .isin(usos)]['TIPO DE USO DO IMOVEL']"
   ]
  },
  {
   "cell_type": "code",
   "execution_count": 63,
   "metadata": {},
   "outputs": [
    {
     "data": {
      "text/html": [
       "<pre>✔️ 22.6 ms (2021-03-04T16:23:34/2021-03-04T16:23:34)</pre>"
      ],
      "text/plain": [
       "<IPython.core.display.HTML object>"
      ]
     },
     "metadata": {},
     "output_type": "display_data"
    },
    {
     "data": {
      "text/html": [
       "<div>\n",
       "<style scoped>\n",
       "    .dataframe tbody tr th:only-of-type {\n",
       "        vertical-align: middle;\n",
       "    }\n",
       "\n",
       "    .dataframe tbody tr th {\n",
       "        vertical-align: top;\n",
       "    }\n",
       "\n",
       "    .dataframe thead th {\n",
       "        text-align: right;\n",
       "    }\n",
       "</style>\n",
       "<table border=\"1\" class=\"dataframe\">\n",
       "  <thead>\n",
       "    <tr style=\"text-align: right;\">\n",
       "      <th></th>\n",
       "      <th>ANO DO EXERCICIO</th>\n",
       "      <th>quantidade</th>\n",
       "    </tr>\n",
       "    <tr>\n",
       "      <th>TIPO DE USO DO IMOVEL</th>\n",
       "      <th></th>\n",
       "      <th></th>\n",
       "    </tr>\n",
       "  </thead>\n",
       "  <tbody>\n",
       "    <tr>\n",
       "      <th>apartamento</th>\n",
       "      <td>26</td>\n",
       "      <td>24336035</td>\n",
       "    </tr>\n",
       "    <tr>\n",
       "      <th>armazéns gerais e depósitos</th>\n",
       "      <td>26</td>\n",
       "      <td>204678</td>\n",
       "    </tr>\n",
       "    <tr>\n",
       "      <th>asilo, orfanato, creche, seminário ou convento</th>\n",
       "      <td>26</td>\n",
       "      <td>15428</td>\n",
       "    </tr>\n",
       "    <tr>\n",
       "      <th>cinema, teatro, casa de diversão, clube ou congênere</th>\n",
       "      <td>26</td>\n",
       "      <td>14269</td>\n",
       "    </tr>\n",
       "    <tr>\n",
       "      <th>clube esportivo</th>\n",
       "      <td>26</td>\n",
       "      <td>14167</td>\n",
       "    </tr>\n",
       "    <tr>\n",
       "      <th>cortiço</th>\n",
       "      <td>26</td>\n",
       "      <td>46479</td>\n",
       "    </tr>\n",
       "    <tr>\n",
       "      <th>escola</th>\n",
       "      <td>26</td>\n",
       "      <td>166616</td>\n",
       "    </tr>\n",
       "    <tr>\n",
       "      <th>escritório ou consultório</th>\n",
       "      <td>26</td>\n",
       "      <td>2267258</td>\n",
       "    </tr>\n",
       "    <tr>\n",
       "      <th>estação radioemissora, de televisão ou empresa jornalística</th>\n",
       "      <td>26</td>\n",
       "      <td>6625</td>\n",
       "    </tr>\n",
       "    <tr>\n",
       "      <th>flat de uso comercial (semelhante a hotel)</th>\n",
       "      <td>5</td>\n",
       "      <td>118937</td>\n",
       "    </tr>\n",
       "    <tr>\n",
       "      <th>flat residencial em condomínio</th>\n",
       "      <td>5</td>\n",
       "      <td>23922</td>\n",
       "    </tr>\n",
       "    <tr>\n",
       "      <th>flat, não residencial</th>\n",
       "      <td>12</td>\n",
       "      <td>247148</td>\n",
       "    </tr>\n",
       "    <tr>\n",
       "      <th>flat, residencial</th>\n",
       "      <td>12</td>\n",
       "      <td>44369</td>\n",
       "    </tr>\n",
       "    <tr>\n",
       "      <th>garagem (exclusive em prédio em condomínio)</th>\n",
       "      <td>26</td>\n",
       "      <td>64287</td>\n",
       "    </tr>\n",
       "    <tr>\n",
       "      <th>garagem em edifício de escritórios, consultórios ou misto</th>\n",
       "      <td>26</td>\n",
       "      <td>682469</td>\n",
       "    </tr>\n",
       "    <tr>\n",
       "      <th>garagem em edifício de uso exclusivamente residencial</th>\n",
       "      <td>26</td>\n",
       "      <td>3835245</td>\n",
       "    </tr>\n",
       "    <tr>\n",
       "      <th>garagem, em prédio de garagens</th>\n",
       "      <td>26</td>\n",
       "      <td>236590</td>\n",
       "    </tr>\n",
       "    <tr>\n",
       "      <th>hospital, ambulatório, casa de saúde e assemelhados</th>\n",
       "      <td>26</td>\n",
       "      <td>33500</td>\n",
       "    </tr>\n",
       "    <tr>\n",
       "      <th>hotel, pensão ou hospedaria</th>\n",
       "      <td>26</td>\n",
       "      <td>47625</td>\n",
       "    </tr>\n",
       "    <tr>\n",
       "      <th>indústria</th>\n",
       "      <td>26</td>\n",
       "      <td>361242</td>\n",
       "    </tr>\n",
       "    <tr>\n",
       "      <th>loja</th>\n",
       "      <td>26</td>\n",
       "      <td>1238399</td>\n",
       "    </tr>\n",
       "    <tr>\n",
       "      <th>loja e residência (predominância comercial)</th>\n",
       "      <td>26</td>\n",
       "      <td>1241173</td>\n",
       "    </tr>\n",
       "    <tr>\n",
       "      <th>loja em edifício em condomínio</th>\n",
       "      <td>26</td>\n",
       "      <td>545892</td>\n",
       "    </tr>\n",
       "    <tr>\n",
       "      <th>oficina</th>\n",
       "      <td>26</td>\n",
       "      <td>270014</td>\n",
       "    </tr>\n",
       "    <tr>\n",
       "      <th>outras edificações do tipo (uso coletivo), com utilização múltipla</th>\n",
       "      <td>26</td>\n",
       "      <td>67385</td>\n",
       "    </tr>\n",
       "    <tr>\n",
       "      <th>outras edificações do tipo (uso comércio), com utilização múltipla</th>\n",
       "      <td>26</td>\n",
       "      <td>463015</td>\n",
       "    </tr>\n",
       "    <tr>\n",
       "      <th>outras edificações do tipo (uso especial), com utilização múltipla</th>\n",
       "      <td>26</td>\n",
       "      <td>30653</td>\n",
       "    </tr>\n",
       "    <tr>\n",
       "      <th>outras edificações do tipo (uso serviço), com utilização múltipla</th>\n",
       "      <td>26</td>\n",
       "      <td>122874</td>\n",
       "    </tr>\n",
       "    <tr>\n",
       "      <th>posto de serviço</th>\n",
       "      <td>26</td>\n",
       "      <td>56528</td>\n",
       "    </tr>\n",
       "    <tr>\n",
       "      <th>prédio de apartamento, não em condomínio, de uso exclusivamente residencial</th>\n",
       "      <td>26</td>\n",
       "      <td>41333</td>\n",
       "    </tr>\n",
       "    <tr>\n",
       "      <th>prédio de apartamento, não em condomínio, de uso misto (apartamentos e escritórios e/ou consultórios), com ou sem loja (predominância residencial)</th>\n",
       "      <td>26</td>\n",
       "      <td>78519</td>\n",
       "    </tr>\n",
       "    <tr>\n",
       "      <th>prédio de escritório ou consultório, não em condomínio, com ou sem lojas</th>\n",
       "      <td>26</td>\n",
       "      <td>626598</td>\n",
       "    </tr>\n",
       "    <tr>\n",
       "      <th>prédio de escritório, não em condomínio, de uso misto (apartamentos e escritórios e/ou consultórios) com ou sem loja (predominância comercial)</th>\n",
       "      <td>26</td>\n",
       "      <td>5297</td>\n",
       "    </tr>\n",
       "    <tr>\n",
       "      <th>residência</th>\n",
       "      <td>26</td>\n",
       "      <td>25607990</td>\n",
       "    </tr>\n",
       "    <tr>\n",
       "      <th>residência coletiva (mais de uma residência no lote), exclusive cortiço</th>\n",
       "      <td>26</td>\n",
       "      <td>5038552</td>\n",
       "    </tr>\n",
       "    <tr>\n",
       "      <th>residência e outro uso (predominância residencial)</th>\n",
       "      <td>26</td>\n",
       "      <td>2061458</td>\n",
       "    </tr>\n",
       "    <tr>\n",
       "      <th>residência horizontal - padrão b</th>\n",
       "      <td>3</td>\n",
       "      <td>15</td>\n",
       "    </tr>\n",
       "    <tr>\n",
       "      <th>residência vertical - padrão c</th>\n",
       "      <td>3</td>\n",
       "      <td>3</td>\n",
       "    </tr>\n",
       "    <tr>\n",
       "      <th>templo</th>\n",
       "      <td>26</td>\n",
       "      <td>130420</td>\n",
       "    </tr>\n",
       "    <tr>\n",
       "      <th>terreno</th>\n",
       "      <td>26</td>\n",
       "      <td>3348846</td>\n",
       "    </tr>\n",
       "  </tbody>\n",
       "</table>\n",
       "</div>"
      ],
      "text/plain": [
       "                                                    ANO DO EXERCICIO  \\\n",
       "TIPO DE USO DO IMOVEL                                                  \n",
       "apartamento                                                       26   \n",
       "armazéns gerais e depósitos                                       26   \n",
       "asilo, orfanato, creche, seminário ou convento                    26   \n",
       "cinema, teatro, casa de diversão, clube ou cong...                26   \n",
       "clube esportivo                                                   26   \n",
       "cortiço                                                           26   \n",
       "escola                                                            26   \n",
       "escritório ou consultório                                         26   \n",
       "estação radioemissora, de televisão ou empresa ...                26   \n",
       "flat de uso comercial (semelhante a hotel)                         5   \n",
       "flat residencial em condomínio                                     5   \n",
       "flat, não residencial                                             12   \n",
       "flat, residencial                                                 12   \n",
       "garagem (exclusive em prédio em condomínio)                       26   \n",
       "garagem em edifício de escritórios, consultório...                26   \n",
       "garagem em edifício de uso exclusivamente resid...                26   \n",
       "garagem, em prédio de garagens                                    26   \n",
       "hospital, ambulatório, casa de saúde e assemelh...                26   \n",
       "hotel, pensão ou hospedaria                                       26   \n",
       "indústria                                                         26   \n",
       "loja                                                              26   \n",
       "loja e residência (predominância comercial)                       26   \n",
       "loja em edifício em condomínio                                    26   \n",
       "oficina                                                           26   \n",
       "outras edificações do tipo (uso coletivo), com ...                26   \n",
       "outras edificações do tipo (uso comércio), com ...                26   \n",
       "outras edificações do tipo (uso especial), com ...                26   \n",
       "outras edificações do tipo (uso serviço), com u...                26   \n",
       "posto de serviço                                                  26   \n",
       "prédio de apartamento, não em condomínio, de us...                26   \n",
       "prédio de apartamento, não em condomínio, de us...                26   \n",
       "prédio de escritório ou consultório, não em con...                26   \n",
       "prédio de escritório, não em condomínio, de uso...                26   \n",
       "residência                                                        26   \n",
       "residência coletiva (mais de uma residência no ...                26   \n",
       "residência e outro uso (predominância residencial)                26   \n",
       "residência horizontal - padrão b                                   3   \n",
       "residência vertical - padrão c                                     3   \n",
       "templo                                                            26   \n",
       "terreno                                                           26   \n",
       "\n",
       "                                                    quantidade  \n",
       "TIPO DE USO DO IMOVEL                                           \n",
       "apartamento                                           24336035  \n",
       "armazéns gerais e depósitos                             204678  \n",
       "asilo, orfanato, creche, seminário ou convento           15428  \n",
       "cinema, teatro, casa de diversão, clube ou cong...       14269  \n",
       "clube esportivo                                          14167  \n",
       "cortiço                                                  46479  \n",
       "escola                                                  166616  \n",
       "escritório ou consultório                              2267258  \n",
       "estação radioemissora, de televisão ou empresa ...        6625  \n",
       "flat de uso comercial (semelhante a hotel)              118937  \n",
       "flat residencial em condomínio                           23922  \n",
       "flat, não residencial                                   247148  \n",
       "flat, residencial                                        44369  \n",
       "garagem (exclusive em prédio em condomínio)              64287  \n",
       "garagem em edifício de escritórios, consultório...      682469  \n",
       "garagem em edifício de uso exclusivamente resid...     3835245  \n",
       "garagem, em prédio de garagens                          236590  \n",
       "hospital, ambulatório, casa de saúde e assemelh...       33500  \n",
       "hotel, pensão ou hospedaria                              47625  \n",
       "indústria                                               361242  \n",
       "loja                                                   1238399  \n",
       "loja e residência (predominância comercial)            1241173  \n",
       "loja em edifício em condomínio                          545892  \n",
       "oficina                                                 270014  \n",
       "outras edificações do tipo (uso coletivo), com ...       67385  \n",
       "outras edificações do tipo (uso comércio), com ...      463015  \n",
       "outras edificações do tipo (uso especial), com ...       30653  \n",
       "outras edificações do tipo (uso serviço), com u...      122874  \n",
       "posto de serviço                                         56528  \n",
       "prédio de apartamento, não em condomínio, de us...       41333  \n",
       "prédio de apartamento, não em condomínio, de us...       78519  \n",
       "prédio de escritório ou consultório, não em con...      626598  \n",
       "prédio de escritório, não em condomínio, de uso...        5297  \n",
       "residência                                            25607990  \n",
       "residência coletiva (mais de uma residência no ...     5038552  \n",
       "residência e outro uso (predominância residencial)     2061458  \n",
       "residência horizontal - padrão b                            15  \n",
       "residência vertical - padrão c                               3  \n",
       "templo                                                  130420  \n",
       "terreno                                                3348846  "
      ]
     },
     "execution_count": 63,
     "metadata": {},
     "output_type": "execute_result"
    }
   ],
   "source": [
    "df_uso_iptus.groupby('TIPO DE USO DO IMOVEL')\\\n",
    ".agg({'ANO DO EXERCICIO':'count',\\\n",
    "     'quantidade': 'sum'}).head(80)"
   ]
  },
  {
   "cell_type": "code",
   "execution_count": 69,
   "metadata": {},
   "outputs": [
    {
     "data": {
      "text/html": [
       "<pre>✔️ 21.7 ms (2021-03-04T17:24:17/2021-03-04T17:24:17)</pre>"
      ],
      "text/plain": [
       "<IPython.core.display.HTML object>"
      ]
     },
     "metadata": {},
     "output_type": "display_data"
    }
   ],
   "source": [
    "df_uso_iptus.groupby('TIPO DE USO DO IMOVEL')\\\n",
    ".agg({'ANO DO EXERCICIO':'count',\\\n",
    "     'quantidade': 'sum'})\\\n",
    ".rename(columns = {'ANO DO EXERCICIO': 'ocorrencia em exercícios'})\\\n",
    ".to_csv('resultados/frequencia-de-uso-por-exercicio.csv')"
   ]
  },
  {
   "cell_type": "code",
   "execution_count": null,
   "metadata": {},
   "outputs": [],
   "source": []
  }
 ],
 "metadata": {
  "kernelspec": {
   "display_name": "Python 3",
   "language": "python",
   "name": "python3"
  },
  "language_info": {
   "codemirror_mode": {
    "name": "ipython",
    "version": 3
   },
   "file_extension": ".py",
   "mimetype": "text/x-python",
   "name": "python",
   "nbconvert_exporter": "python",
   "pygments_lexer": "ipython3",
   "version": "3.9.2"
  }
 },
 "nbformat": 4,
 "nbformat_minor": 4
}
