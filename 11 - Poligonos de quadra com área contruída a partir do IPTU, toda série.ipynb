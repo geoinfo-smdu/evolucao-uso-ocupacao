{
 "cells": [
  {
   "cell_type": "markdown",
   "id": "fewer-utilization",
   "metadata": {},
   "source": [
    "# Determinação de atributos das quadras com densidade construtiva a partir de dados do IPTU, série total"
   ]
  },
  {
   "cell_type": "code",
   "execution_count": 1,
   "id": "front-money",
   "metadata": {},
   "outputs": [],
   "source": [
    "import geopandas as gpd\n",
    "import pandas as pd\n",
    "import rasterio\n",
    "import numpy as np"
   ]
  },
  {
   "cell_type": "markdown",
   "id": "through-maria",
   "metadata": {},
   "source": [
    "## Carregando e pré-processando dados do IPTU"
   ]
  },
  {
   "cell_type": "code",
   "execution_count": 2,
   "id": "gentle-vinyl",
   "metadata": {},
   "outputs": [],
   "source": [
    "# Padrões de nomenclatura de usos\n",
    "\n",
    "usos = {\n",
    "    \"apartamento em condomínio\":\"apartamento\",\n",
    "    \"cortiço (habitação coletiva subnormal)\":\"cortiço\",\n",
    "    \"escritório/consultório em condomínio (unidade autônoma)\":\"escritório ou consultório\",\n",
    "    \"loja em edifício em condomínio (unidade autônoma)\":\"loja em edifício em condomínio\",\n",
    "    \"residência coletiva, exclusive cortiço (mais de uma residência no lote)\":\"residência coletiva (mais de uma residência no lote), exclusive cortiço\",\n",
    "    \"posto de serviço (combustíveis)\":\"posto de serviço\",\n",
    "    \"estacionamento e garagem, não em condomínio\":\"garagem (exclusive em prédio em condomínio)\",\n",
    "    \"garagem (unidade autônoma) de prédio de garagens\":\"garagem, em prédio de garagens\",\n",
    "    \"garagem (unidade autônoma) em edifício em condomínio de escritórios, consultórios ou misto\":\"garagem em edifício de escritórios, consultórios ou misto\",\n",
    "    \"garagem (unidade autônoma) em edifício em condomínio de uso exclusivamente residencial\":\"garagem em edifício de uso exclusivamente residencial\",\n",
    "    \"outras edificações de uso coletivo, com utilização múltipla\":\"outras edificações do tipo (uso coletivo), com utilização múltipla\",\n",
    "    \"outras edificações de uso comercial, com utilização múltipla\":\"outras edificações do tipo (uso comércio), com utilização múltipla\",\n",
    "    \"outras edificações de uso de serviço, com utilização múltipla\":\"outras edificações do tipo (uso serviço), com utilização múltipla\",\n",
    "    \"outras edificações de uso especial, com utilização múltipla\":\"outras edificações do tipo (uso especial), com utilização múltipla\",\n",
    "    \"prédio com uso exclusivamente residencial, não em condomínio\":\"prédio de apartamento, não em condomínio, de uso exclusivamente residencial\",\n",
    "    \"prédio com uso misto, predominância de uso não residencial, não em condomínio\":\"prédio de escritório, não em condomínio, de uso misto (apartamentos e escritórios e/ou consultórios) com ou sem loja (predominância comercial)\",\n",
    "    \"prédio com uso misto, predominância de uso residencial, não em condomínio\":\"prédio de apartamento, não em condomínio, de uso misto (apartamentos e escritórios e/ou consultórios), com ou sem loja (predominância residencial)\",\n",
    "    \"prédio de escritório ou consultório, com ou sem lojas, não em condomínio\":\"prédio de escritório ou consultório, não em condomínio, com ou sem lojas\",\n",
    "    \"flat de uso comercial (semelhante a hotel)\":\"flat, não residencial\",\n",
    "    \"flat residencial em condomínio\":\"flat, residencial\"\n",
    "}"
   ]
  },
  {
   "cell_type": "code",
   "execution_count": 3,
   "id": "identical-timer",
   "metadata": {},
   "outputs": [],
   "source": [
    "df_iptu = pd.read_csv('IPTU/IPTU_2020.zip',\\\n",
    "             compression='zip',\\\n",
    "             encoding='iso-8859-9',\\\n",
    "             sep=';',\\\n",
    "             decimal=',',\\\n",
    "             error_bad_lines=False)"
   ]
  },
  {
   "cell_type": "code",
   "execution_count": 4,
   "id": "pleasant-toronto",
   "metadata": {},
   "outputs": [],
   "source": [
    "# Obter o SQ (Setor e Quadra)\n",
    "df_iptu['setor'] = df_iptu['NUMERO DO CONTRIBUINTE'].str[0:3]\n",
    "df_iptu['quadra'] = df_iptu['NUMERO DO CONTRIBUINTE'].str[3:6]\n",
    "\n",
    "# Calculando chave 'SQ'\n",
    "df_iptu['sq'] = \\\n",
    "df_iptu['setor'] + df_iptu['quadra']\n",
    "\n",
    "# Normalizando o lote condominial\n",
    "df_iptu.loc[df_iptu['NUMERO DO CONDOMINIO'].str[0:2] != '00', 'lote'] = '0000'\n",
    "df_iptu.loc[df_iptu['NUMERO DO CONDOMINIO'].str[0:2] == '00', 'lote'] = \\\n",
    "df_iptu.loc[df_iptu['NUMERO DO CONDOMINIO'].str[0:2] == '00', 'NUMERO DO CONTRIBUINTE'].str[6:10]\n",
    "\n",
    "# Individualizando a testada e pavimentos por lote (SQLC)\n",
    "df_iptu['sqlc'] = df_iptu['setor'] + \\\n",
    "df_iptu['quadra'] + df_iptu['lote'] + \\\n",
    "df_iptu['NUMERO DO CONDOMINIO'].str[0:2]\n",
    "\n",
    "df_iptu['AREA CONSTRUIDA'] = pd.to_numeric(df_iptu['AREA CONSTRUIDA'], errors ='coerce')\n",
    "df_iptu['AREA OCUPADA'] = pd.to_numeric(df_iptu['AREA OCUPADA'], errors ='coerce')\n",
    "df_iptu['AREA DO TERRENO'] = pd.to_numeric(df_iptu['AREA DO TERRENO'], errors ='coerce')\n",
    "df_iptu['FRACAO IDEAL'] = pd.to_numeric(df_iptu['FRACAO IDEAL'], errors ='coerce')\n",
    "df_iptu['QUANTIDADE DE PAVIMENTOS'] = pd.to_numeric(df_iptu['QUANTIDADE DE PAVIMENTOS'], errors ='coerce')\n",
    "df_iptu['TESTADA PARA CALCULO'] = pd.to_numeric(df_iptu['TESTADA PARA CALCULO'], errors ='coerce')\n",
    "\n",
    "# Adequando variáveis à fração ideal\n",
    "df_iptu['area_terreno'] = df_iptu['FRACAO IDEAL'] * df_iptu['AREA DO TERRENO']\n",
    "df_iptu['area_ocupada'] = df_iptu['FRACAO IDEAL'] * df_iptu['AREA OCUPADA']\n",
    "\n",
    "# Adequar os usos ao padrão estabelecido\n",
    "df_iptu.loc[df_iptu['TIPO DE USO DO IMOVEL']\\\n",
    "            .isin(usos),\\\n",
    "            'TIPO DE USO DO IMOVEL'] = \\\n",
    "df_iptu[df_iptu['TIPO DE USO DO IMOVEL']\\\n",
    "             .isin(usos)]['TIPO DE USO DO IMOVEL']\\\n",
    ".apply(lambda x: usos[x])"
   ]
  },
  {
   "cell_type": "markdown",
   "id": "equivalent-secret",
   "metadata": {},
   "source": [
    "## Carregando e pré-processando quadras"
   ]
  },
  {
   "cell_type": "code",
   "execution_count": 5,
   "id": "coordinate-venture",
   "metadata": {},
   "outputs": [],
   "source": [
    "# Carregando geometria das quadras fiscais\n",
    "gdf_quadras = gpd.GeoDataFrame.from_file(f'zip://GIS/SIRGAS_SHP_quadraMDSF.zip!SIRGAS_SHP_quadraMDSF')"
   ]
  },
  {
   "cell_type": "code",
   "execution_count": 6,
   "id": "rocky-muscle",
   "metadata": {},
   "outputs": [],
   "source": [
    "gdf_quadras['sq'] = gdf_quadras.qd_setor + gdf_quadras.qd_fiscal"
   ]
  },
  {
   "cell_type": "code",
   "execution_count": 7,
   "id": "induced-boulder",
   "metadata": {},
   "outputs": [],
   "source": [
    "gdf_quadras = gdf_quadras.loc[gdf_quadras.qd_tipo == 'F'][['sq', 'geometry']].dissolve(by='sq')"
   ]
  },
  {
   "cell_type": "code",
   "execution_count": 8,
   "id": "precious-coast",
   "metadata": {},
   "outputs": [],
   "source": [
    "# gdf_quadras.geometry = gdf_quadras.representative_point()"
   ]
  },
  {
   "cell_type": "markdown",
   "id": "fresh-pizza",
   "metadata": {},
   "source": [
    "## Agregando e espacializando dado de densidade contruída"
   ]
  },
  {
   "cell_type": "code",
   "execution_count": 9,
   "id": "sophisticated-luxembourg",
   "metadata": {},
   "outputs": [],
   "source": [
    "# Agregar por SQ e ANO DO EXERCICIO\n",
    "iptu_agg = df_iptu[['sq', \\\n",
    "                    'AREA CONSTRUIDA',\n",
    "                    'area_terreno']]\\\n",
    ".groupby('sq')\\\n",
    ".agg({'AREA CONSTRUIDA': 'sum',\n",
    "     'area_terreno': 'sum'})\\\n",
    ".rename(columns = {'AREA CONSTRUIDA': 'area_construida'})"
   ]
  },
  {
   "cell_type": "code",
   "execution_count": 10,
   "id": "awful-nightmare",
   "metadata": {},
   "outputs": [],
   "source": [
    "# iptu_agg['densidade'] = round(iptu_agg['area_construida'] / iptu_agg['area_terreno'], 2)"
   ]
  },
  {
   "cell_type": "code",
   "execution_count": 11,
   "id": "ranking-timing",
   "metadata": {},
   "outputs": [],
   "source": [
    "# iptu_agg['densidade']"
   ]
  },
  {
   "cell_type": "code",
   "execution_count": 12,
   "id": "powerful-spain",
   "metadata": {},
   "outputs": [],
   "source": [
    "# iptu_agg['densidade'] = iptu_agg['densidade'].round(decimals = 2).astype('float16')"
   ]
  },
  {
   "cell_type": "code",
   "execution_count": 16,
   "id": "complete-injection",
   "metadata": {},
   "outputs": [
    {
     "data": {
      "text/html": [
       "<div>\n",
       "<style scoped>\n",
       "    .dataframe tbody tr th:only-of-type {\n",
       "        vertical-align: middle;\n",
       "    }\n",
       "\n",
       "    .dataframe tbody tr th {\n",
       "        vertical-align: top;\n",
       "    }\n",
       "\n",
       "    .dataframe thead th {\n",
       "        text-align: right;\n",
       "    }\n",
       "</style>\n",
       "<table border=\"1\" class=\"dataframe\">\n",
       "  <thead>\n",
       "    <tr style=\"text-align: right;\">\n",
       "      <th></th>\n",
       "      <th>2020_area_construida</th>\n",
       "      <th>2020_area_terreno</th>\n",
       "    </tr>\n",
       "    <tr>\n",
       "      <th>sq</th>\n",
       "      <th></th>\n",
       "      <th></th>\n",
       "    </tr>\n",
       "  </thead>\n",
       "  <tbody>\n",
       "    <tr>\n",
       "      <th>001003</th>\n",
       "      <td>29926</td>\n",
       "      <td>21529.9343</td>\n",
       "    </tr>\n",
       "    <tr>\n",
       "      <th>001004</th>\n",
       "      <td>20715</td>\n",
       "      <td>14196.1760</td>\n",
       "    </tr>\n",
       "    <tr>\n",
       "      <th>001005</th>\n",
       "      <td>17263</td>\n",
       "      <td>9484.0000</td>\n",
       "    </tr>\n",
       "    <tr>\n",
       "      <th>001006</th>\n",
       "      <td>7686</td>\n",
       "      <td>3453.9722</td>\n",
       "    </tr>\n",
       "    <tr>\n",
       "      <th>001007</th>\n",
       "      <td>26067</td>\n",
       "      <td>14844.4308</td>\n",
       "    </tr>\n",
       "    <tr>\n",
       "      <th>...</th>\n",
       "      <td>...</td>\n",
       "      <td>...</td>\n",
       "    </tr>\n",
       "    <tr>\n",
       "      <th>310116</th>\n",
       "      <td>1313</td>\n",
       "      <td>1273.0000</td>\n",
       "    </tr>\n",
       "    <tr>\n",
       "      <th>310117</th>\n",
       "      <td>22601</td>\n",
       "      <td>17716.1264</td>\n",
       "    </tr>\n",
       "    <tr>\n",
       "      <th>310118</th>\n",
       "      <td>25215</td>\n",
       "      <td>17934.5581</td>\n",
       "    </tr>\n",
       "    <tr>\n",
       "      <th>310119</th>\n",
       "      <td>0</td>\n",
       "      <td>18500.0000</td>\n",
       "    </tr>\n",
       "    <tr>\n",
       "      <th>310120</th>\n",
       "      <td>0</td>\n",
       "      <td>18926.0000</td>\n",
       "    </tr>\n",
       "  </tbody>\n",
       "</table>\n",
       "<p>45494 rows × 2 columns</p>\n",
       "</div>"
      ],
      "text/plain": [
       "        2020_area_construida  2020_area_terreno\n",
       "sq                                             \n",
       "001003                 29926         21529.9343\n",
       "001004                 20715         14196.1760\n",
       "001005                 17263          9484.0000\n",
       "001006                  7686          3453.9722\n",
       "001007                 26067         14844.4308\n",
       "...                      ...                ...\n",
       "310116                  1313          1273.0000\n",
       "310117                 22601         17716.1264\n",
       "310118                 25215         17934.5581\n",
       "310119                     0         18500.0000\n",
       "310120                     0         18926.0000\n",
       "\n",
       "[45494 rows x 2 columns]"
      ]
     },
     "execution_count": 16,
     "metadata": {},
     "output_type": "execute_result"
    }
   ],
   "source": [
    "iptu_agg.rename(columns={'area_construida':'2020_area_construida',\\\n",
    "                        'area_terreno':'2020_area_terreno'})"
   ]
  },
  {
   "cell_type": "code",
   "execution_count": 17,
   "id": "diagnostic-enough",
   "metadata": {},
   "outputs": [],
   "source": [
    "# Gerando GeoDataFrame\n",
    "gdf_iptu_agg = gdf_quadras.merge(iptu_agg, on='sq', how='right')"
   ]
  },
  {
   "cell_type": "code",
   "execution_count": 18,
   "id": "sacred-denmark",
   "metadata": {},
   "outputs": [],
   "source": [
    "# gdf_iptu_agg.loc['171198']"
   ]
  },
  {
   "cell_type": "code",
   "execution_count": 19,
   "id": "missing-knock",
   "metadata": {},
   "outputs": [],
   "source": [
    "# df_iptu.loc[df_iptu.sq == '171198']"
   ]
  },
  {
   "cell_type": "code",
   "execution_count": 20,
   "id": "bacterial-treasure",
   "metadata": {},
   "outputs": [],
   "source": [
    "# gdf_iptu_agg.drop(columns=['area_construida', 'area_terreno'])"
   ]
  },
  {
   "cell_type": "code",
   "execution_count": 21,
   "id": "dependent-worship",
   "metadata": {},
   "outputs": [],
   "source": [
    "del df_iptu"
   ]
  },
  {
   "cell_type": "code",
   "execution_count": 22,
   "id": "northern-thriller",
   "metadata": {},
   "outputs": [],
   "source": [
    "del gdf_iptu_agg"
   ]
  },
  {
   "cell_type": "code",
   "execution_count": 23,
   "id": "light-tobacco",
   "metadata": {},
   "outputs": [],
   "source": [
    "# gdf_iptu_agg.to_file('resultados/seila.gpkg', driver='GPKG')"
   ]
  },
  {
   "cell_type": "markdown",
   "id": "unknown-measurement",
   "metadata": {},
   "source": [
    "## Gera raster densidade construtiva para cada ano"
   ]
  },
  {
   "cell_type": "code",
   "execution_count": 25,
   "id": "later-joseph",
   "metadata": {},
   "outputs": [],
   "source": [
    "from pathlib import Path\n",
    "import os\n",
    "import numpy as np"
   ]
  },
  {
   "cell_type": "code",
   "execution_count": 26,
   "id": "liable-death",
   "metadata": {},
   "outputs": [],
   "source": [
    "densidades = []"
   ]
  },
  {
   "cell_type": "code",
   "execution_count": 27,
   "id": "broad-launch",
   "metadata": {},
   "outputs": [
    {
     "name": "stdout",
     "output_type": "stream",
     "text": [
      "IPTU_2010.zip\n"
     ]
    },
    {
     "name": "stderr",
     "output_type": "stream",
     "text": [
      "b'Skipping line 2445507: expected 35 fields, saw 43\\n'\n",
      "/home/fernando/miniconda3/envs/geoplot/lib/python3.9/site-packages/IPython/core/interactiveshell.py:3165: DtypeWarning: Columns (18,19,20,21,22) have mixed types.Specify dtype option on import or set low_memory=False.\n",
      "  has_raised = await self.run_ast_nodes(code_ast.body, cell_name,\n"
     ]
    },
    {
     "name": "stdout",
     "output_type": "stream",
     "text": [
      "IPTU_1996.zip\n"
     ]
    },
    {
     "name": "stderr",
     "output_type": "stream",
     "text": [
      "/home/fernando/miniconda3/envs/geoplot/lib/python3.9/site-packages/IPython/core/interactiveshell.py:3165: DtypeWarning: Columns (27) have mixed types.Specify dtype option on import or set low_memory=False.\n",
      "  has_raised = await self.run_ast_nodes(code_ast.body, cell_name,\n"
     ]
    },
    {
     "name": "stdout",
     "output_type": "stream",
     "text": [
      "IPTU_2007.zip\n"
     ]
    },
    {
     "name": "stderr",
     "output_type": "stream",
     "text": [
      "b'Skipping line 2417712: expected 35 fields, saw 43\\n'\n"
     ]
    },
    {
     "name": "stdout",
     "output_type": "stream",
     "text": [
      "IPTU_2013.zip\n"
     ]
    },
    {
     "name": "stderr",
     "output_type": "stream",
     "text": [
      "b'Skipping line 2560170: expected 35 fields, saw 43\\n'\n",
      "/home/fernando/miniconda3/envs/geoplot/lib/python3.9/site-packages/IPython/core/interactiveshell.py:3165: DtypeWarning: Columns (18,19,20,21,22,27) have mixed types.Specify dtype option on import or set low_memory=False.\n",
      "  has_raised = await self.run_ast_nodes(code_ast.body, cell_name,\n"
     ]
    },
    {
     "name": "stdout",
     "output_type": "stream",
     "text": [
      "IPTU_2004.zip\n"
     ]
    },
    {
     "name": "stderr",
     "output_type": "stream",
     "text": [
      "b'Skipping line 2325266: expected 35 fields, saw 43\\n'\n"
     ]
    },
    {
     "name": "stdout",
     "output_type": "stream",
     "text": [
      "IPTU_2005.zip\n"
     ]
    },
    {
     "name": "stderr",
     "output_type": "stream",
     "text": [
      "b'Skipping line 2355090: expected 35 fields, saw 43\\n'\n"
     ]
    },
    {
     "name": "stdout",
     "output_type": "stream",
     "text": [
      "IPTU_1995.zip\n",
      "IPTU_1998.zip\n"
     ]
    },
    {
     "name": "stderr",
     "output_type": "stream",
     "text": [
      "b'Skipping line 2096075: expected 35 fields, saw 43\\n'\n"
     ]
    },
    {
     "name": "stdout",
     "output_type": "stream",
     "text": [
      "IPTU_2018.zip\n",
      "IPTU_2001.zip\n"
     ]
    },
    {
     "name": "stderr",
     "output_type": "stream",
     "text": [
      "b'Skipping line 2211865: expected 35 fields, saw 43\\n'\n"
     ]
    },
    {
     "name": "stdout",
     "output_type": "stream",
     "text": [
      "IPTU_2017.zip\n",
      "IPTU_2015.zip\n"
     ]
    },
    {
     "name": "stderr",
     "output_type": "stream",
     "text": [
      "b'Skipping line 2651001: expected 35 fields, saw 43\\n'\n"
     ]
    },
    {
     "name": "stdout",
     "output_type": "stream",
     "text": [
      "IPTU_2006.zip\n"
     ]
    },
    {
     "name": "stderr",
     "output_type": "stream",
     "text": [
      "b'Skipping line 2381472: expected 35 fields, saw 43\\n'\n"
     ]
    },
    {
     "name": "stdout",
     "output_type": "stream",
     "text": [
      "IPTU_2009.zip\n"
     ]
    },
    {
     "name": "stderr",
     "output_type": "stream",
     "text": [
      "b'Skipping line 2471701: expected 35 fields, saw 43\\n'\n"
     ]
    },
    {
     "name": "stdout",
     "output_type": "stream",
     "text": [
      "IPTU_2014.zip\n"
     ]
    },
    {
     "name": "stderr",
     "output_type": "stream",
     "text": [
      "b'Skipping line 2606431: expected 35 fields, saw 43\\n'\n"
     ]
    },
    {
     "name": "stdout",
     "output_type": "stream",
     "text": [
      "IPTU_2011.zip\n"
     ]
    },
    {
     "name": "stderr",
     "output_type": "stream",
     "text": [
      "b'Skipping line 2484471: expected 35 fields, saw 43\\n'\n"
     ]
    },
    {
     "name": "stdout",
     "output_type": "stream",
     "text": [
      "IPTU_2000.zip\n"
     ]
    },
    {
     "name": "stderr",
     "output_type": "stream",
     "text": [
      "b'Skipping line 2156584: expected 35 fields, saw 43\\n'\n"
     ]
    },
    {
     "name": "stdout",
     "output_type": "stream",
     "text": [
      "IPTU_2019.zip\n",
      "IPTU_1997.zip\n",
      "IPTU_2016.zip\n",
      "IPTU_2002.zip\n"
     ]
    },
    {
     "name": "stderr",
     "output_type": "stream",
     "text": [
      "b'Skipping line 2247445: expected 35 fields, saw 43\\n'\n"
     ]
    },
    {
     "name": "stdout",
     "output_type": "stream",
     "text": [
      "IPTU_1999.zip\n"
     ]
    },
    {
     "name": "stderr",
     "output_type": "stream",
     "text": [
      "b'Skipping line 2121196: expected 35 fields, saw 43\\n'\n"
     ]
    },
    {
     "name": "stdout",
     "output_type": "stream",
     "text": [
      "IPTU_2020.zip\n",
      "IPTU_2008.zip\n"
     ]
    },
    {
     "name": "stderr",
     "output_type": "stream",
     "text": [
      "b'Skipping line 2440049: expected 35 fields, saw 43\\n'\n"
     ]
    },
    {
     "name": "stdout",
     "output_type": "stream",
     "text": [
      "IPTU_2003.zip\n"
     ]
    },
    {
     "name": "stderr",
     "output_type": "stream",
     "text": [
      "b'Skipping line 2288886: expected 35 fields, saw 43\\n'\n"
     ]
    },
    {
     "name": "stdout",
     "output_type": "stream",
     "text": [
      "IPTU_2012.zip\n"
     ]
    },
    {
     "name": "stderr",
     "output_type": "stream",
     "text": [
      "b'Skipping line 2526350: expected 35 fields, saw 43\\n'\n"
     ]
    }
   ],
   "source": [
    "for path in Path('IPTU').rglob('*.zip'):\n",
    "    print(path.name)\n",
    "    \n",
    "    # 1. Carregar dados do arquivo\n",
    "    # OBS.: O IPTU de 2016 está separado por ',' e não por ';'\n",
    "    if path.name == \"IPTU_2016.zip\":\n",
    "        df_iptu = pd.read_csv(f'{path}',\\\n",
    "                     compression='zip',\\\n",
    "                     encoding='iso-8859-9',\\\n",
    "                     sep=',',\\\n",
    "                     decimal=',',\\\n",
    "                     error_bad_lines=False)\n",
    "    else:\n",
    "        df_iptu = pd.read_csv(f'{path}',\\\n",
    "                     compression='zip',\\\n",
    "                     encoding='iso-8859-9',\\\n",
    "                     sep=';',\\\n",
    "                     decimal=',',\\\n",
    "                     error_bad_lines=False)\n",
    "        \n",
    "    # Obter o SQ (Setor e Quadra)\n",
    "    df_iptu['setor'] = df_iptu['NUMERO DO CONTRIBUINTE'].str[0:3]\n",
    "    df_iptu['quadra'] = df_iptu['NUMERO DO CONTRIBUINTE'].str[3:6]\n",
    "\n",
    "    # Calculando chave 'SQ'\n",
    "    df_iptu['sq'] = \\\n",
    "    df_iptu['setor'] + df_iptu['quadra']\n",
    "\n",
    "    # Normalizando o lote condominial\n",
    "    df_iptu.loc[df_iptu['NUMERO DO CONDOMINIO'].str[0:2] != '00', 'lote'] = '0000'\n",
    "    df_iptu.loc[df_iptu['NUMERO DO CONDOMINIO'].str[0:2] == '00', 'lote'] = \\\n",
    "    df_iptu.loc[df_iptu['NUMERO DO CONDOMINIO'].str[0:2] == '00', 'NUMERO DO CONTRIBUINTE'].str[6:10]\n",
    "\n",
    "    # Individualizando a testada e pavimentos por lote (SQLC)\n",
    "    df_iptu['sqlc'] = df_iptu['setor'] + \\\n",
    "    df_iptu['quadra'] + df_iptu['lote'] + \\\n",
    "    df_iptu['NUMERO DO CONDOMINIO'].str[0:2]\n",
    "\n",
    "    df_iptu['AREA CONSTRUIDA'] = pd.to_numeric(df_iptu['AREA CONSTRUIDA'], errors ='coerce')\n",
    "    df_iptu['AREA OCUPADA'] = pd.to_numeric(df_iptu['AREA OCUPADA'], errors ='coerce')\n",
    "    df_iptu['AREA DO TERRENO'] = pd.to_numeric(df_iptu['AREA DO TERRENO'], errors ='coerce')\n",
    "    df_iptu['FRACAO IDEAL'] = pd.to_numeric(df_iptu['FRACAO IDEAL'], errors ='coerce')\n",
    "    df_iptu['QUANTIDADE DE PAVIMENTOS'] = pd.to_numeric(df_iptu['QUANTIDADE DE PAVIMENTOS'], errors ='coerce')\n",
    "    df_iptu['TESTADA PARA CALCULO'] = pd.to_numeric(df_iptu['TESTADA PARA CALCULO'], errors ='coerce')\n",
    "\n",
    "    # Adequando variáveis à fração ideal\n",
    "    df_iptu['area_terreno'] = df_iptu['FRACAO IDEAL'] * df_iptu['AREA DO TERRENO']\n",
    "    df_iptu['area_ocupada'] = df_iptu['FRACAO IDEAL'] * df_iptu['AREA OCUPADA']\n",
    "\n",
    "    # Adequar os usos ao padrão estabelecido\n",
    "    df_iptu.loc[df_iptu['TIPO DE USO DO IMOVEL']\\\n",
    "                .isin(usos),\\\n",
    "                'TIPO DE USO DO IMOVEL'] = \\\n",
    "    df_iptu[df_iptu['TIPO DE USO DO IMOVEL']\\\n",
    "                 .isin(usos)]['TIPO DE USO DO IMOVEL']\\\n",
    "    .apply(lambda x: usos[x])\n",
    "\n",
    "    # Agregar por SQ e ANO DO EXERCICIO\n",
    "    iptu_agg = df_iptu[['sq', \\\n",
    "                        'AREA CONSTRUIDA',\n",
    "                        'area_terreno',\n",
    "                        'area_ocupada',\n",
    "                        'QUANTIDADE DE PAVIMENTOS',\n",
    "                        'TESTADA PARA CALCULO']]\\\n",
    "    \n",
    "    # Agregar por SQ e ANO DO EXERCICIO\n",
    "    iptu_agg = df_iptu[['sq', \\\n",
    "                        'AREA CONSTRUIDA',\n",
    "                        'area_terreno']]\\\n",
    "    .groupby('sq')\\\n",
    "    .agg({'AREA CONSTRUIDA': 'sum',\n",
    "         'area_terreno': 'sum'})\\\n",
    "    .rename(columns = {'AREA CONSTRUIDA': 'area_construida'})\n",
    "    \n",
    "    \n",
    "    # Removendo colunas sobressalentes\n",
    "    densidades.append(iptu_agg.rename(columns={'area_construida':f'{path.name[-8:-4]}_area_construida',\\\n",
    "                                               'area_terreno':f'{path.name[-8:-4]}_area_terreno'}))\n",
    "    \n",
    "    # Gerando GeoDataFrame\n",
    "    #gdf_iptu_agg = gdf_quadras.merge(iptu_agg, on='sq', how='right')"
   ]
  },
  {
   "cell_type": "code",
   "execution_count": 29,
   "id": "designing-sauce",
   "metadata": {},
   "outputs": [],
   "source": [
    "df_densidades = \\\n",
    "pd.concat(densidades, axis=1).reindex(columns=sorted(pd.concat(densidades, axis=1).columns))"
   ]
  },
  {
   "cell_type": "code",
   "execution_count": 31,
   "id": "announced-present",
   "metadata": {},
   "outputs": [
    {
     "data": {
      "text/html": [
       "<div>\n",
       "<style scoped>\n",
       "    .dataframe tbody tr th:only-of-type {\n",
       "        vertical-align: middle;\n",
       "    }\n",
       "\n",
       "    .dataframe tbody tr th {\n",
       "        vertical-align: top;\n",
       "    }\n",
       "\n",
       "    .dataframe thead th {\n",
       "        text-align: right;\n",
       "    }\n",
       "</style>\n",
       "<table border=\"1\" class=\"dataframe\">\n",
       "  <thead>\n",
       "    <tr style=\"text-align: right;\">\n",
       "      <th></th>\n",
       "      <th>1995_area_construida</th>\n",
       "      <th>1995_area_terreno</th>\n",
       "      <th>1996_area_construida</th>\n",
       "      <th>1996_area_terreno</th>\n",
       "      <th>1997_area_construida</th>\n",
       "      <th>1997_area_terreno</th>\n",
       "      <th>1998_area_construida</th>\n",
       "      <th>1998_area_terreno</th>\n",
       "      <th>1999_area_construida</th>\n",
       "      <th>1999_area_terreno</th>\n",
       "      <th>...</th>\n",
       "      <th>2016_area_construida</th>\n",
       "      <th>2016_area_terreno</th>\n",
       "      <th>2017_area_construida</th>\n",
       "      <th>2017_area_terreno</th>\n",
       "      <th>2018_area_construida</th>\n",
       "      <th>2018_area_terreno</th>\n",
       "      <th>2019_area_construida</th>\n",
       "      <th>2019_area_terreno</th>\n",
       "      <th>2020_area_construida</th>\n",
       "      <th>2020_area_terreno</th>\n",
       "    </tr>\n",
       "    <tr>\n",
       "      <th>sq</th>\n",
       "      <th></th>\n",
       "      <th></th>\n",
       "      <th></th>\n",
       "      <th></th>\n",
       "      <th></th>\n",
       "      <th></th>\n",
       "      <th></th>\n",
       "      <th></th>\n",
       "      <th></th>\n",
       "      <th></th>\n",
       "      <th></th>\n",
       "      <th></th>\n",
       "      <th></th>\n",
       "      <th></th>\n",
       "      <th></th>\n",
       "      <th></th>\n",
       "      <th></th>\n",
       "      <th></th>\n",
       "      <th></th>\n",
       "      <th></th>\n",
       "      <th></th>\n",
       "    </tr>\n",
       "  </thead>\n",
       "  <tbody>\n",
       "    <tr>\n",
       "      <th>001003</th>\n",
       "      <td>37464.0</td>\n",
       "      <td>21448.9773</td>\n",
       "      <td>39154.0</td>\n",
       "      <td>21448.9773</td>\n",
       "      <td>39120.0</td>\n",
       "      <td>21456.9773</td>\n",
       "      <td>39120.0</td>\n",
       "      <td>21456.9773</td>\n",
       "      <td>39120.0</td>\n",
       "      <td>21477.9773</td>\n",
       "      <td>...</td>\n",
       "      <td>40035.0</td>\n",
       "      <td>21529.9343</td>\n",
       "      <td>40035.0</td>\n",
       "      <td>21529.9343</td>\n",
       "      <td>40035.0</td>\n",
       "      <td>21529.9343</td>\n",
       "      <td>31102.0</td>\n",
       "      <td>21529.9343</td>\n",
       "      <td>29926.0</td>\n",
       "      <td>21529.9343</td>\n",
       "    </tr>\n",
       "    <tr>\n",
       "      <th>001004</th>\n",
       "      <td>20616.0</td>\n",
       "      <td>14173.1760</td>\n",
       "      <td>20870.0</td>\n",
       "      <td>14173.1760</td>\n",
       "      <td>21621.0</td>\n",
       "      <td>14173.1760</td>\n",
       "      <td>21645.0</td>\n",
       "      <td>14173.1760</td>\n",
       "      <td>21645.0</td>\n",
       "      <td>14173.1760</td>\n",
       "      <td>...</td>\n",
       "      <td>20701.0</td>\n",
       "      <td>14196.1760</td>\n",
       "      <td>20701.0</td>\n",
       "      <td>14196.1760</td>\n",
       "      <td>20715.0</td>\n",
       "      <td>14196.1760</td>\n",
       "      <td>20715.0</td>\n",
       "      <td>14196.1760</td>\n",
       "      <td>20715.0</td>\n",
       "      <td>14196.1760</td>\n",
       "    </tr>\n",
       "    <tr>\n",
       "      <th>001005</th>\n",
       "      <td>14488.0</td>\n",
       "      <td>9480.4600</td>\n",
       "      <td>14488.0</td>\n",
       "      <td>9480.4600</td>\n",
       "      <td>16268.0</td>\n",
       "      <td>9480.4600</td>\n",
       "      <td>16368.0</td>\n",
       "      <td>9480.4600</td>\n",
       "      <td>16368.0</td>\n",
       "      <td>9480.4600</td>\n",
       "      <td>...</td>\n",
       "      <td>17103.0</td>\n",
       "      <td>9484.0000</td>\n",
       "      <td>17103.0</td>\n",
       "      <td>9484.0000</td>\n",
       "      <td>17263.0</td>\n",
       "      <td>9484.0000</td>\n",
       "      <td>17263.0</td>\n",
       "      <td>9484.0000</td>\n",
       "      <td>17263.0</td>\n",
       "      <td>9484.0000</td>\n",
       "    </tr>\n",
       "    <tr>\n",
       "      <th>001006</th>\n",
       "      <td>6378.0</td>\n",
       "      <td>3474.9722</td>\n",
       "      <td>5909.0</td>\n",
       "      <td>3337.9722</td>\n",
       "      <td>7728.0</td>\n",
       "      <td>3465.9722</td>\n",
       "      <td>7728.0</td>\n",
       "      <td>3465.9722</td>\n",
       "      <td>7728.0</td>\n",
       "      <td>3465.9722</td>\n",
       "      <td>...</td>\n",
       "      <td>7686.0</td>\n",
       "      <td>3453.9722</td>\n",
       "      <td>7686.0</td>\n",
       "      <td>3453.9722</td>\n",
       "      <td>7686.0</td>\n",
       "      <td>3453.9722</td>\n",
       "      <td>7686.0</td>\n",
       "      <td>3453.9722</td>\n",
       "      <td>7686.0</td>\n",
       "      <td>3453.9722</td>\n",
       "    </tr>\n",
       "    <tr>\n",
       "      <th>001007</th>\n",
       "      <td>22929.0</td>\n",
       "      <td>14939.1304</td>\n",
       "      <td>22890.0</td>\n",
       "      <td>14773.1304</td>\n",
       "      <td>23922.0</td>\n",
       "      <td>14946.1304</td>\n",
       "      <td>23922.0</td>\n",
       "      <td>14946.1304</td>\n",
       "      <td>23922.0</td>\n",
       "      <td>14951.1304</td>\n",
       "      <td>...</td>\n",
       "      <td>26042.0</td>\n",
       "      <td>14952.1304</td>\n",
       "      <td>26067.0</td>\n",
       "      <td>14844.4308</td>\n",
       "      <td>26067.0</td>\n",
       "      <td>14844.4308</td>\n",
       "      <td>26067.0</td>\n",
       "      <td>14844.4308</td>\n",
       "      <td>26067.0</td>\n",
       "      <td>14844.4308</td>\n",
       "    </tr>\n",
       "    <tr>\n",
       "      <th>...</th>\n",
       "      <td>...</td>\n",
       "      <td>...</td>\n",
       "      <td>...</td>\n",
       "      <td>...</td>\n",
       "      <td>...</td>\n",
       "      <td>...</td>\n",
       "      <td>...</td>\n",
       "      <td>...</td>\n",
       "      <td>...</td>\n",
       "      <td>...</td>\n",
       "      <td>...</td>\n",
       "      <td>...</td>\n",
       "      <td>...</td>\n",
       "      <td>...</td>\n",
       "      <td>...</td>\n",
       "      <td>...</td>\n",
       "      <td>...</td>\n",
       "      <td>...</td>\n",
       "      <td>...</td>\n",
       "      <td>...</td>\n",
       "      <td>...</td>\n",
       "    </tr>\n",
       "    <tr>\n",
       "      <th>277055</th>\n",
       "      <td>NaN</td>\n",
       "      <td>NaN</td>\n",
       "      <td>NaN</td>\n",
       "      <td>NaN</td>\n",
       "      <td>NaN</td>\n",
       "      <td>NaN</td>\n",
       "      <td>NaN</td>\n",
       "      <td>NaN</td>\n",
       "      <td>NaN</td>\n",
       "      <td>NaN</td>\n",
       "      <td>...</td>\n",
       "      <td>NaN</td>\n",
       "      <td>NaN</td>\n",
       "      <td>NaN</td>\n",
       "      <td>NaN</td>\n",
       "      <td>NaN</td>\n",
       "      <td>NaN</td>\n",
       "      <td>NaN</td>\n",
       "      <td>NaN</td>\n",
       "      <td>2606.0</td>\n",
       "      <td>3526.0000</td>\n",
       "    </tr>\n",
       "    <tr>\n",
       "      <th>300115</th>\n",
       "      <td>NaN</td>\n",
       "      <td>NaN</td>\n",
       "      <td>NaN</td>\n",
       "      <td>NaN</td>\n",
       "      <td>NaN</td>\n",
       "      <td>NaN</td>\n",
       "      <td>NaN</td>\n",
       "      <td>NaN</td>\n",
       "      <td>NaN</td>\n",
       "      <td>NaN</td>\n",
       "      <td>...</td>\n",
       "      <td>NaN</td>\n",
       "      <td>NaN</td>\n",
       "      <td>NaN</td>\n",
       "      <td>NaN</td>\n",
       "      <td>NaN</td>\n",
       "      <td>NaN</td>\n",
       "      <td>NaN</td>\n",
       "      <td>NaN</td>\n",
       "      <td>0.0</td>\n",
       "      <td>104240.0000</td>\n",
       "    </tr>\n",
       "    <tr>\n",
       "      <th>304156</th>\n",
       "      <td>NaN</td>\n",
       "      <td>NaN</td>\n",
       "      <td>NaN</td>\n",
       "      <td>NaN</td>\n",
       "      <td>NaN</td>\n",
       "      <td>NaN</td>\n",
       "      <td>NaN</td>\n",
       "      <td>NaN</td>\n",
       "      <td>NaN</td>\n",
       "      <td>NaN</td>\n",
       "      <td>...</td>\n",
       "      <td>NaN</td>\n",
       "      <td>NaN</td>\n",
       "      <td>NaN</td>\n",
       "      <td>NaN</td>\n",
       "      <td>NaN</td>\n",
       "      <td>NaN</td>\n",
       "      <td>NaN</td>\n",
       "      <td>NaN</td>\n",
       "      <td>20891.0</td>\n",
       "      <td>26472.0000</td>\n",
       "    </tr>\n",
       "    <tr>\n",
       "      <th>006800</th>\n",
       "      <td>NaN</td>\n",
       "      <td>NaN</td>\n",
       "      <td>NaN</td>\n",
       "      <td>NaN</td>\n",
       "      <td>NaN</td>\n",
       "      <td>NaN</td>\n",
       "      <td>NaN</td>\n",
       "      <td>NaN</td>\n",
       "      <td>NaN</td>\n",
       "      <td>NaN</td>\n",
       "      <td>...</td>\n",
       "      <td>NaN</td>\n",
       "      <td>NaN</td>\n",
       "      <td>NaN</td>\n",
       "      <td>NaN</td>\n",
       "      <td>NaN</td>\n",
       "      <td>NaN</td>\n",
       "      <td>NaN</td>\n",
       "      <td>NaN</td>\n",
       "      <td>NaN</td>\n",
       "      <td>NaN</td>\n",
       "    </tr>\n",
       "    <tr>\n",
       "      <th>235022</th>\n",
       "      <td>NaN</td>\n",
       "      <td>NaN</td>\n",
       "      <td>NaN</td>\n",
       "      <td>NaN</td>\n",
       "      <td>NaN</td>\n",
       "      <td>NaN</td>\n",
       "      <td>NaN</td>\n",
       "      <td>NaN</td>\n",
       "      <td>NaN</td>\n",
       "      <td>NaN</td>\n",
       "      <td>...</td>\n",
       "      <td>NaN</td>\n",
       "      <td>NaN</td>\n",
       "      <td>NaN</td>\n",
       "      <td>NaN</td>\n",
       "      <td>NaN</td>\n",
       "      <td>NaN</td>\n",
       "      <td>NaN</td>\n",
       "      <td>NaN</td>\n",
       "      <td>NaN</td>\n",
       "      <td>NaN</td>\n",
       "    </tr>\n",
       "  </tbody>\n",
       "</table>\n",
       "<p>45876 rows × 52 columns</p>\n",
       "</div>"
      ],
      "text/plain": [
       "        1995_area_construida  1995_area_terreno  1996_area_construida  \\\n",
       "sq                                                                      \n",
       "001003               37464.0         21448.9773               39154.0   \n",
       "001004               20616.0         14173.1760               20870.0   \n",
       "001005               14488.0          9480.4600               14488.0   \n",
       "001006                6378.0          3474.9722                5909.0   \n",
       "001007               22929.0         14939.1304               22890.0   \n",
       "...                      ...                ...                   ...   \n",
       "277055                   NaN                NaN                   NaN   \n",
       "300115                   NaN                NaN                   NaN   \n",
       "304156                   NaN                NaN                   NaN   \n",
       "006800                   NaN                NaN                   NaN   \n",
       "235022                   NaN                NaN                   NaN   \n",
       "\n",
       "        1996_area_terreno  1997_area_construida  1997_area_terreno  \\\n",
       "sq                                                                   \n",
       "001003         21448.9773               39120.0         21456.9773   \n",
       "001004         14173.1760               21621.0         14173.1760   \n",
       "001005          9480.4600               16268.0          9480.4600   \n",
       "001006          3337.9722                7728.0          3465.9722   \n",
       "001007         14773.1304               23922.0         14946.1304   \n",
       "...                   ...                   ...                ...   \n",
       "277055                NaN                   NaN                NaN   \n",
       "300115                NaN                   NaN                NaN   \n",
       "304156                NaN                   NaN                NaN   \n",
       "006800                NaN                   NaN                NaN   \n",
       "235022                NaN                   NaN                NaN   \n",
       "\n",
       "        1998_area_construida  1998_area_terreno  1999_area_construida  \\\n",
       "sq                                                                      \n",
       "001003               39120.0         21456.9773               39120.0   \n",
       "001004               21645.0         14173.1760               21645.0   \n",
       "001005               16368.0          9480.4600               16368.0   \n",
       "001006                7728.0          3465.9722                7728.0   \n",
       "001007               23922.0         14946.1304               23922.0   \n",
       "...                      ...                ...                   ...   \n",
       "277055                   NaN                NaN                   NaN   \n",
       "300115                   NaN                NaN                   NaN   \n",
       "304156                   NaN                NaN                   NaN   \n",
       "006800                   NaN                NaN                   NaN   \n",
       "235022                   NaN                NaN                   NaN   \n",
       "\n",
       "        1999_area_terreno  ...  2016_area_construida  2016_area_terreno  \\\n",
       "sq                         ...                                            \n",
       "001003         21477.9773  ...               40035.0         21529.9343   \n",
       "001004         14173.1760  ...               20701.0         14196.1760   \n",
       "001005          9480.4600  ...               17103.0          9484.0000   \n",
       "001006          3465.9722  ...                7686.0          3453.9722   \n",
       "001007         14951.1304  ...               26042.0         14952.1304   \n",
       "...                   ...  ...                   ...                ...   \n",
       "277055                NaN  ...                   NaN                NaN   \n",
       "300115                NaN  ...                   NaN                NaN   \n",
       "304156                NaN  ...                   NaN                NaN   \n",
       "006800                NaN  ...                   NaN                NaN   \n",
       "235022                NaN  ...                   NaN                NaN   \n",
       "\n",
       "        2017_area_construida  2017_area_terreno  2018_area_construida  \\\n",
       "sq                                                                      \n",
       "001003               40035.0         21529.9343               40035.0   \n",
       "001004               20701.0         14196.1760               20715.0   \n",
       "001005               17103.0          9484.0000               17263.0   \n",
       "001006                7686.0          3453.9722                7686.0   \n",
       "001007               26067.0         14844.4308               26067.0   \n",
       "...                      ...                ...                   ...   \n",
       "277055                   NaN                NaN                   NaN   \n",
       "300115                   NaN                NaN                   NaN   \n",
       "304156                   NaN                NaN                   NaN   \n",
       "006800                   NaN                NaN                   NaN   \n",
       "235022                   NaN                NaN                   NaN   \n",
       "\n",
       "        2018_area_terreno  2019_area_construida  2019_area_terreno  \\\n",
       "sq                                                                   \n",
       "001003         21529.9343               31102.0         21529.9343   \n",
       "001004         14196.1760               20715.0         14196.1760   \n",
       "001005          9484.0000               17263.0          9484.0000   \n",
       "001006          3453.9722                7686.0          3453.9722   \n",
       "001007         14844.4308               26067.0         14844.4308   \n",
       "...                   ...                   ...                ...   \n",
       "277055                NaN                   NaN                NaN   \n",
       "300115                NaN                   NaN                NaN   \n",
       "304156                NaN                   NaN                NaN   \n",
       "006800                NaN                   NaN                NaN   \n",
       "235022                NaN                   NaN                NaN   \n",
       "\n",
       "        2020_area_construida  2020_area_terreno  \n",
       "sq                                               \n",
       "001003               29926.0         21529.9343  \n",
       "001004               20715.0         14196.1760  \n",
       "001005               17263.0          9484.0000  \n",
       "001006                7686.0          3453.9722  \n",
       "001007               26067.0         14844.4308  \n",
       "...                      ...                ...  \n",
       "277055                2606.0          3526.0000  \n",
       "300115                   0.0        104240.0000  \n",
       "304156               20891.0         26472.0000  \n",
       "006800                   NaN                NaN  \n",
       "235022                   NaN                NaN  \n",
       "\n",
       "[45876 rows x 52 columns]"
      ]
     },
     "execution_count": 31,
     "metadata": {},
     "output_type": "execute_result"
    }
   ],
   "source": [
    "df_densidades"
   ]
  },
  {
   "cell_type": "code",
   "execution_count": 32,
   "id": "imperial-cause",
   "metadata": {},
   "outputs": [],
   "source": [
    "df_densidades.replace([np.inf, -np.inf], np.nan, inplace=True)"
   ]
  },
  {
   "cell_type": "code",
   "execution_count": 67,
   "id": "operating-airport",
   "metadata": {},
   "outputs": [],
   "source": [
    "# df_densidades = df_densidades.interpolate(method='linear', limit_direction='forward', axis=1)"
   ]
  },
  {
   "cell_type": "code",
   "execution_count": 33,
   "id": "chief-horror",
   "metadata": {},
   "outputs": [],
   "source": [
    "# df_densidades.loc['169197']"
   ]
  },
  {
   "cell_type": "code",
   "execution_count": 34,
   "id": "hollow-trash",
   "metadata": {},
   "outputs": [],
   "source": [
    "# df_densidades.loc['169197']"
   ]
  },
  {
   "cell_type": "code",
   "execution_count": 35,
   "id": "planned-plane",
   "metadata": {},
   "outputs": [],
   "source": [
    "# df_densidades.loc['171198']"
   ]
  },
  {
   "cell_type": "code",
   "execution_count": 36,
   "id": "imposed-guyana",
   "metadata": {},
   "outputs": [],
   "source": [
    "# Gerando GeoDataFrame\n",
    "gdf_iptu_agg = gdf_quadras.merge(df_densidades, on='sq', how='left')"
   ]
  },
  {
   "cell_type": "code",
   "execution_count": 72,
   "id": "exciting-field",
   "metadata": {},
   "outputs": [],
   "source": [
    "# gdf_iptu_agg.loc['169197']"
   ]
  },
  {
   "cell_type": "code",
   "execution_count": 37,
   "id": "periodic-tennessee",
   "metadata": {},
   "outputs": [],
   "source": [
    "gdf_iptu_agg.to_file('resultados/densidade_construtiva/IPTU_quadras_area_contruida.gpkg', driver='GPKG')"
   ]
  },
  {
   "cell_type": "code",
   "execution_count": 31,
   "id": "latter-trailer",
   "metadata": {},
   "outputs": [],
   "source": [
    "# np.arange(1995, 2021)"
   ]
  },
  {
   "cell_type": "code",
   "execution_count": 32,
   "id": "otherwise-howard",
   "metadata": {},
   "outputs": [],
   "source": [
    "# gdf_iptu_agg.replace([np.inf, -np.inf], np.nan, inplace=True)"
   ]
  },
  {
   "cell_type": "code",
   "execution_count": 33,
   "id": "exotic-prediction",
   "metadata": {},
   "outputs": [],
   "source": [
    "# gdf_iptu_agg.iloc[45142].drop('geometry').std()"
   ]
  },
  {
   "cell_type": "code",
   "execution_count": null,
   "id": "early-video",
   "metadata": {},
   "outputs": [],
   "source": [
    "# gdf_iptu_agg.iloc[45142].drop('geometry')"
   ]
  },
  {
   "cell_type": "code",
   "execution_count": null,
   "id": "alike-suspension",
   "metadata": {},
   "outputs": [],
   "source": [
    "# gdf_iptu_agg.iloc[45142].drop('geometry').ewm(com=0.3).mean()"
   ]
  },
  {
   "cell_type": "code",
   "execution_count": null,
   "id": "noble-champion",
   "metadata": {},
   "outputs": [],
   "source": []
  }
 ],
 "metadata": {
  "kernelspec": {
   "display_name": "Python 3",
   "language": "python",
   "name": "python3"
  },
  "language_info": {
   "codemirror_mode": {
    "name": "ipython",
    "version": 3
   },
   "file_extension": ".py",
   "mimetype": "text/x-python",
   "name": "python",
   "nbconvert_exporter": "python",
   "pygments_lexer": "ipython3",
   "version": "3.9.2"
  }
 },
 "nbformat": 4,
 "nbformat_minor": 5
}
