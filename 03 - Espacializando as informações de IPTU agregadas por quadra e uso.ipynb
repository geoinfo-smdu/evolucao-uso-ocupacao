{
 "cells": [
  {
   "cell_type": "markdown",
   "metadata": {},
   "source": [
    "## Espacializando os dados de IPTU agregados por quadra e uso"
   ]
  },
  {
   "cell_type": "code",
   "execution_count": 1,
   "metadata": {},
   "outputs": [
    {
     "data": {
      "text/html": [
       "<pre>✔️ 1.38 ms (2021-03-16T13:01:52/2021-03-16T13:01:52)</pre>"
      ],
      "text/plain": [
       "<IPython.core.display.HTML object>"
      ]
     },
     "metadata": {},
     "output_type": "display_data"
    }
   ],
   "source": [
    "# Carrengando um complemento para visualizar quanto tempo demoram as tarefas\n",
    "\n",
    "%load_ext autotime"
   ]
  },
  {
   "cell_type": "code",
   "execution_count": 2,
   "metadata": {},
   "outputs": [
    {
     "data": {
      "text/html": [
       "<pre>✔️ 309 ms (2021-03-16T13:02:05/2021-03-16T13:02:05)</pre>"
      ],
      "text/plain": [
       "<IPython.core.display.HTML object>"
      ]
     },
     "metadata": {},
     "output_type": "display_data"
    }
   ],
   "source": [
    "from pathlib import Path\n",
    "import os\n",
    "import pandas as pd\n",
    "import geopandas as gpd"
   ]
  },
  {
   "cell_type": "markdown",
   "metadata": {},
   "source": [
    "## Carregando e processando geometria das quadras\n",
    "\n",
    "Para melhorar a performance optou-se por utilizar o ponto representativo dentro da quadra e dessa forma poder fazer as possíveis agregações"
   ]
  },
  {
   "cell_type": "code",
   "execution_count": 7,
   "metadata": {},
   "outputs": [
    {
     "data": {
      "text/html": [
       "<pre>✔️ 3.96 s (2021-03-16T13:05:05/2021-03-16T13:05:09)</pre>"
      ],
      "text/plain": [
       "<IPython.core.display.HTML object>"
      ]
     },
     "metadata": {},
     "output_type": "display_data"
    }
   ],
   "source": [
    "# Carregando geometria das quadras fiscais\n",
    "gdf_quadras = gpd.GeoDataFrame.from_file(f'zip://GIS/SIRGAS_SHP_quadraMDSF.zip!SIRGAS_SHP_quadraMDSF')"
   ]
  },
  {
   "cell_type": "code",
   "execution_count": 8,
   "metadata": {},
   "outputs": [
    {
     "data": {
      "text/html": [
       "<pre>✔️ 10.6 ms (2021-03-16T13:05:17/2021-03-16T13:05:17)</pre>"
      ],
      "text/plain": [
       "<IPython.core.display.HTML object>"
      ]
     },
     "metadata": {},
     "output_type": "display_data"
    }
   ],
   "source": [
    "gdf_quadras['sq'] = gdf_quadras.qd_setor + gdf_quadras.qd_fiscal"
   ]
  },
  {
   "cell_type": "code",
   "execution_count": 9,
   "metadata": {},
   "outputs": [
    {
     "data": {
      "text/html": [
       "<pre>✔️ 29.6 s (2021-03-16T13:05:37/2021-03-16T13:06:06)</pre>"
      ],
      "text/plain": [
       "<IPython.core.display.HTML object>"
      ]
     },
     "metadata": {},
     "output_type": "display_data"
    }
   ],
   "source": [
    "gdf_quadras = gdf_quadras.loc[gdf_quadras.qd_tipo == 'F'][['sq', 'geometry']].dissolve(by='sq')"
   ]
  },
  {
   "cell_type": "code",
   "execution_count": 10,
   "metadata": {},
   "outputs": [
    {
     "data": {
      "text/html": [
       "<pre>✔️ 392 ms (2021-03-16T13:06:06/2021-03-16T13:06:07)</pre>"
      ],
      "text/plain": [
       "<IPython.core.display.HTML object>"
      ]
     },
     "metadata": {},
     "output_type": "display_data"
    }
   ],
   "source": [
    "gdf_quadras.geometry = gdf_quadras.representative_point()"
   ]
  },
  {
   "cell_type": "markdown",
   "metadata": {},
   "source": [
    "## Convertendo os arquivos de IPTU Agregados"
   ]
  },
  {
   "cell_type": "code",
   "execution_count": 12,
   "metadata": {},
   "outputs": [
    {
     "data": {
      "text/html": [
       "<pre>✔️ 12 min 9 s (2021-03-16T13:24:44/2021-03-16T13:36:53)</pre>"
      ],
      "text/plain": [
       "<IPython.core.display.HTML object>"
      ]
     },
     "metadata": {},
     "output_type": "display_data"
    },
    {
     "name": "stdout",
     "output_type": "stream",
     "text": [
      "resultados/IPTU_1996-agregado-sq-uso-geo.gpkg --> Processado!\n",
      "resultados/IPTU_1999-agregado-sq-uso-geo.gpkg --> Processado!\n",
      "resultados/IPTU_2002-agregado-sq-uso-geo.gpkg --> Processado!\n",
      "resultados/IPTU_2005-agregado-sq-uso-geo.gpkg --> Processado!\n",
      "resultados/IPTU_2010-agregado-sq-uso-geo.gpkg --> Processado!\n",
      "resultados/IPTU_2003-agregado-sq-uso-geo.gpkg --> Processado!\n",
      "resultados/IPTU_2018-agregado-sq-uso-geo.gpkg --> Processado!\n",
      "resultados/IPTU_2004-agregado-sq-uso-geo.gpkg --> Processado!\n",
      "resultados/IPTU_2009-agregado-sq-uso-geo.gpkg --> Processado!\n",
      "resultados/IPTU_2006-agregado-sq-uso-geo.gpkg --> Processado!\n",
      "resultados/IPTU_2000-agregado-sq-uso-geo.gpkg --> Processado!\n",
      "resultados/IPTU_2008-agregado-sq-uso-geo.gpkg --> Processado!\n",
      "resultados/IPTU_2017-agregado-sq-uso-geo.gpkg --> Processado!\n",
      "resultados/IPTU_2012-agregado-sq-uso-geo.gpkg --> Processado!\n",
      "resultados/IPTU_2013-agregado-sq-uso-geo.gpkg --> Processado!\n",
      "resultados/IPTU_1995-agregado-sq-uso-geo.gpkg --> Processado!\n",
      "resultados/IPTU_1998-agregado-sq-uso-geo.gpkg --> Processado!\n",
      "resultados/IPTU_2019-agregado-sq-uso-geo.gpkg --> Processado!\n",
      "resultados/IPTU_2015-agregado-sq-uso-geo.gpkg --> Processado!\n",
      "resultados/IPTU_2016-agregado-sq-uso-geo.gpkg --> Processado!\n",
      "resultados/IPTU_2007-agregado-sq-uso-geo.gpkg --> Processado!\n",
      "resultados/IPTU_1997-agregado-sq-uso-geo.gpkg --> Processado!\n",
      "resultados/IPTU_2020-agregado-sq-uso-geo.gpkg --> Processado!\n",
      "resultados/IPTU_2014-agregado-sq-uso-geo.gpkg --> Processado!\n",
      "resultados/IPTU_2011-agregado-sq-uso-geo.gpkg --> Processado!\n",
      "resultados/IPTU_2001-agregado-sq-uso-geo.gpkg --> Processado!\n"
     ]
    }
   ],
   "source": [
    "for path in Path('resultados').rglob('IPTU_*.gz'):\n",
    "    \n",
    "    # Definindo o exercício\n",
    "    exercicio = path.name[5:9]\n",
    "    \n",
    "    # Carregando dados\n",
    "    df_iptu_agg = pd.read_csv(f'{path}',\\\n",
    "              compression='gzip',\\\n",
    "              encoding='utf-8',\\\n",
    "              sep=',',\\\n",
    "              decimal='.',\\\n",
    "              error_bad_lines=False)\n",
    "    \n",
    "    # Calculando chave 'SQ'\n",
    "    df_iptu_agg['sq'] = \\\n",
    "    (df_iptu_agg.setor * 1000 + df_iptu_agg.quadra).astype(str).str.zfill(6)\n",
    "    \n",
    "    # Gerando GeoDataFrame\n",
    "    gdf_iptu_agg = gdf_quadras.merge(df_iptu_agg, on='sq', how='right')\n",
    "    \n",
    "    # Salvando GeoDataFrame\n",
    "    gdf_iptu_agg.loc[gdf_iptu_agg.is_valid].to_file(f'resultados/IPTU_{exercicio}-agregado-sq-uso-geo.gpkg', \\\n",
    "                                                    driver='GPKG')\n",
    "    \n",
    "    # LOG\n",
    "    print(f'resultados/IPTU_{exercicio}-agregado-sq-uso-geo.gpkg --> Processado!')"
   ]
  },
  {
   "cell_type": "code",
   "execution_count": null,
   "metadata": {},
   "outputs": [],
   "source": []
  }
 ],
 "metadata": {
  "kernelspec": {
   "display_name": "Python 3",
   "language": "python",
   "name": "python3"
  },
  "language_info": {
   "codemirror_mode": {
    "name": "ipython",
    "version": 3
   },
   "file_extension": ".py",
   "mimetype": "text/x-python",
   "name": "python",
   "nbconvert_exporter": "python",
   "pygments_lexer": "ipython3",
   "version": "3.8.2"
  }
 },
 "nbformat": 4,
 "nbformat_minor": 4
}
