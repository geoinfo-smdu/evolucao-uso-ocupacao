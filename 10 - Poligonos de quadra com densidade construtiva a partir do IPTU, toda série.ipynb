{
 "cells": [
  {
   "cell_type": "markdown",
   "id": "fewer-utilization",
   "metadata": {},
   "source": [
    "# Determinação de atributos das quadras com densidade construtiva a partir de dados do IPTU, série total"
   ]
  },
  {
   "cell_type": "code",
   "execution_count": 1,
   "id": "front-money",
   "metadata": {},
   "outputs": [],
   "source": [
    "import geopandas as gpd\n",
    "import pandas as pd\n",
    "import rasterio"
   ]
  },
  {
   "cell_type": "markdown",
   "id": "through-maria",
   "metadata": {},
   "source": [
    "## Carregando e pré-processando dados do IPTU"
   ]
  },
  {
   "cell_type": "code",
   "execution_count": 2,
   "id": "gentle-vinyl",
   "metadata": {},
   "outputs": [],
   "source": [
    "# Padrões de nomenclatura de usos\n",
    "\n",
    "usos = {\n",
    "    \"apartamento em condomínio\":\"apartamento\",\n",
    "    \"cortiço (habitação coletiva subnormal)\":\"cortiço\",\n",
    "    \"escritório/consultório em condomínio (unidade autônoma)\":\"escritório ou consultório\",\n",
    "    \"loja em edifício em condomínio (unidade autônoma)\":\"loja em edifício em condomínio\",\n",
    "    \"residência coletiva, exclusive cortiço (mais de uma residência no lote)\":\"residência coletiva (mais de uma residência no lote), exclusive cortiço\",\n",
    "    \"posto de serviço (combustíveis)\":\"posto de serviço\",\n",
    "    \"estacionamento e garagem, não em condomínio\":\"garagem (exclusive em prédio em condomínio)\",\n",
    "    \"garagem (unidade autônoma) de prédio de garagens\":\"garagem, em prédio de garagens\",\n",
    "    \"garagem (unidade autônoma) em edifício em condomínio de escritórios, consultórios ou misto\":\"garagem em edifício de escritórios, consultórios ou misto\",\n",
    "    \"garagem (unidade autônoma) em edifício em condomínio de uso exclusivamente residencial\":\"garagem em edifício de uso exclusivamente residencial\",\n",
    "    \"outras edificações de uso coletivo, com utilização múltipla\":\"outras edificações do tipo (uso coletivo), com utilização múltipla\",\n",
    "    \"outras edificações de uso comercial, com utilização múltipla\":\"outras edificações do tipo (uso comércio), com utilização múltipla\",\n",
    "    \"outras edificações de uso de serviço, com utilização múltipla\":\"outras edificações do tipo (uso serviço), com utilização múltipla\",\n",
    "    \"outras edificações de uso especial, com utilização múltipla\":\"outras edificações do tipo (uso especial), com utilização múltipla\",\n",
    "    \"prédio com uso exclusivamente residencial, não em condomínio\":\"prédio de apartamento, não em condomínio, de uso exclusivamente residencial\",\n",
    "    \"prédio com uso misto, predominância de uso não residencial, não em condomínio\":\"prédio de escritório, não em condomínio, de uso misto (apartamentos e escritórios e/ou consultórios) com ou sem loja (predominância comercial)\",\n",
    "    \"prédio com uso misto, predominância de uso residencial, não em condomínio\":\"prédio de apartamento, não em condomínio, de uso misto (apartamentos e escritórios e/ou consultórios), com ou sem loja (predominância residencial)\",\n",
    "    \"prédio de escritório ou consultório, com ou sem lojas, não em condomínio\":\"prédio de escritório ou consultório, não em condomínio, com ou sem lojas\",\n",
    "    \"flat de uso comercial (semelhante a hotel)\":\"flat, não residencial\",\n",
    "    \"flat residencial em condomínio\":\"flat, residencial\"\n",
    "}"
   ]
  },
  {
   "cell_type": "code",
   "execution_count": 3,
   "id": "identical-timer",
   "metadata": {},
   "outputs": [],
   "source": [
    "df_iptu = pd.read_csv('IPTU/IPTU_2020.zip',\\\n",
    "             compression='zip',\\\n",
    "             encoding='iso-8859-9',\\\n",
    "             sep=';',\\\n",
    "             decimal=',',\\\n",
    "             error_bad_lines=False)"
   ]
  },
  {
   "cell_type": "code",
   "execution_count": 4,
   "id": "pleasant-toronto",
   "metadata": {},
   "outputs": [],
   "source": [
    "# Obter o SQ (Setor e Quadra)\n",
    "df_iptu['setor'] = df_iptu['NUMERO DO CONTRIBUINTE'].str[0:3]\n",
    "df_iptu['quadra'] = df_iptu['NUMERO DO CONTRIBUINTE'].str[3:6]\n",
    "\n",
    "# Calculando chave 'SQ'\n",
    "df_iptu['sq'] = \\\n",
    "df_iptu['setor'] + df_iptu['quadra']\n",
    "\n",
    "# Normalizando o lote condominial\n",
    "df_iptu.loc[df_iptu['NUMERO DO CONDOMINIO'].str[0:2] != '00', 'lote'] = '0000'\n",
    "df_iptu.loc[df_iptu['NUMERO DO CONDOMINIO'].str[0:2] == '00', 'lote'] = \\\n",
    "df_iptu.loc[df_iptu['NUMERO DO CONDOMINIO'].str[0:2] == '00', 'NUMERO DO CONTRIBUINTE'].str[6:10]\n",
    "\n",
    "# Individualizando a testada e pavimentos por lote (SQLC)\n",
    "df_iptu['sqlc'] = df_iptu['setor'] + \\\n",
    "df_iptu['quadra'] + df_iptu['lote'] + \\\n",
    "df_iptu['NUMERO DO CONDOMINIO'].str[0:2]\n",
    "\n",
    "df_iptu['AREA CONSTRUIDA'] = pd.to_numeric(df_iptu['AREA CONSTRUIDA'], errors ='coerce')\n",
    "df_iptu['AREA OCUPADA'] = pd.to_numeric(df_iptu['AREA OCUPADA'], errors ='coerce')\n",
    "df_iptu['AREA DO TERRENO'] = pd.to_numeric(df_iptu['AREA DO TERRENO'], errors ='coerce')\n",
    "df_iptu['FRACAO IDEAL'] = pd.to_numeric(df_iptu['FRACAO IDEAL'], errors ='coerce')\n",
    "df_iptu['QUANTIDADE DE PAVIMENTOS'] = pd.to_numeric(df_iptu['QUANTIDADE DE PAVIMENTOS'], errors ='coerce')\n",
    "df_iptu['TESTADA PARA CALCULO'] = pd.to_numeric(df_iptu['TESTADA PARA CALCULO'], errors ='coerce')\n",
    "\n",
    "# Adequando variáveis à fração ideal\n",
    "df_iptu['area_terreno'] = df_iptu['FRACAO IDEAL'] * df_iptu['AREA DO TERRENO']\n",
    "df_iptu['area_ocupada'] = df_iptu['FRACAO IDEAL'] * df_iptu['AREA OCUPADA']\n",
    "\n",
    "# Adequar os usos ao padrão estabelecido\n",
    "df_iptu.loc[df_iptu['TIPO DE USO DO IMOVEL']\\\n",
    "            .isin(usos),\\\n",
    "            'TIPO DE USO DO IMOVEL'] = \\\n",
    "df_iptu[df_iptu['TIPO DE USO DO IMOVEL']\\\n",
    "             .isin(usos)]['TIPO DE USO DO IMOVEL']\\\n",
    ".apply(lambda x: usos[x])"
   ]
  },
  {
   "cell_type": "markdown",
   "id": "equivalent-secret",
   "metadata": {},
   "source": [
    "## Carregando e pré-processando quadras"
   ]
  },
  {
   "cell_type": "code",
   "execution_count": 5,
   "id": "coordinate-venture",
   "metadata": {},
   "outputs": [],
   "source": [
    "# Carregando geometria das quadras fiscais\n",
    "gdf_quadras = gpd.GeoDataFrame.from_file(f'zip://GIS/SIRGAS_SHP_quadraMDSF.zip!SIRGAS_SHP_quadraMDSF')"
   ]
  },
  {
   "cell_type": "code",
   "execution_count": 6,
   "id": "rocky-muscle",
   "metadata": {},
   "outputs": [],
   "source": [
    "gdf_quadras['sq'] = gdf_quadras.qd_setor + gdf_quadras.qd_fiscal"
   ]
  },
  {
   "cell_type": "code",
   "execution_count": 7,
   "id": "induced-boulder",
   "metadata": {},
   "outputs": [],
   "source": [
    "gdf_quadras = gdf_quadras.loc[gdf_quadras.qd_tipo == 'F'][['sq', 'geometry']].dissolve(by='sq')"
   ]
  },
  {
   "cell_type": "code",
   "execution_count": 8,
   "id": "precious-coast",
   "metadata": {},
   "outputs": [],
   "source": [
    "# gdf_quadras.geometry = gdf_quadras.representative_point()"
   ]
  },
  {
   "cell_type": "markdown",
   "id": "fresh-pizza",
   "metadata": {},
   "source": [
    "## Agregando e espacializando dado de densidade contruída"
   ]
  },
  {
   "cell_type": "code",
   "execution_count": 9,
   "id": "sophisticated-luxembourg",
   "metadata": {},
   "outputs": [],
   "source": [
    "# Agregar por SQ e ANO DO EXERCICIO\n",
    "iptu_agg = df_iptu[['sq', \\\n",
    "                    'AREA CONSTRUIDA',\n",
    "                    'area_terreno']]\\\n",
    ".groupby('sq')\\\n",
    ".agg({'AREA CONSTRUIDA': 'sum',\n",
    "     'area_terreno': 'sum'})\\\n",
    ".rename(columns = {'AREA CONSTRUIDA': 'area_construida'})"
   ]
  },
  {
   "cell_type": "code",
   "execution_count": 10,
   "id": "awful-nightmare",
   "metadata": {},
   "outputs": [],
   "source": [
    "iptu_agg['densidade'] = iptu_agg['area_construida'] / iptu_agg['area_terreno']"
   ]
  },
  {
   "cell_type": "code",
   "execution_count": 11,
   "id": "powerful-spain",
   "metadata": {},
   "outputs": [
    {
     "data": {
      "text/html": [
       "<div>\n",
       "<style scoped>\n",
       "    .dataframe tbody tr th:only-of-type {\n",
       "        vertical-align: middle;\n",
       "    }\n",
       "\n",
       "    .dataframe tbody tr th {\n",
       "        vertical-align: top;\n",
       "    }\n",
       "\n",
       "    .dataframe thead th {\n",
       "        text-align: right;\n",
       "    }\n",
       "</style>\n",
       "<table border=\"1\" class=\"dataframe\">\n",
       "  <thead>\n",
       "    <tr style=\"text-align: right;\">\n",
       "      <th></th>\n",
       "      <th>area_construida</th>\n",
       "      <th>area_terreno</th>\n",
       "      <th>densidade</th>\n",
       "    </tr>\n",
       "    <tr>\n",
       "      <th>sq</th>\n",
       "      <th></th>\n",
       "      <th></th>\n",
       "      <th></th>\n",
       "    </tr>\n",
       "  </thead>\n",
       "  <tbody>\n",
       "    <tr>\n",
       "      <th>001003</th>\n",
       "      <td>29926</td>\n",
       "      <td>21529.9343</td>\n",
       "      <td>1.389972</td>\n",
       "    </tr>\n",
       "    <tr>\n",
       "      <th>001004</th>\n",
       "      <td>20715</td>\n",
       "      <td>14196.1760</td>\n",
       "      <td>1.459196</td>\n",
       "    </tr>\n",
       "    <tr>\n",
       "      <th>001005</th>\n",
       "      <td>17263</td>\n",
       "      <td>9484.0000</td>\n",
       "      <td>1.820224</td>\n",
       "    </tr>\n",
       "    <tr>\n",
       "      <th>001006</th>\n",
       "      <td>7686</td>\n",
       "      <td>3453.9722</td>\n",
       "      <td>2.225264</td>\n",
       "    </tr>\n",
       "    <tr>\n",
       "      <th>001007</th>\n",
       "      <td>26067</td>\n",
       "      <td>14844.4308</td>\n",
       "      <td>1.756012</td>\n",
       "    </tr>\n",
       "    <tr>\n",
       "      <th>...</th>\n",
       "      <td>...</td>\n",
       "      <td>...</td>\n",
       "      <td>...</td>\n",
       "    </tr>\n",
       "    <tr>\n",
       "      <th>310116</th>\n",
       "      <td>1313</td>\n",
       "      <td>1273.0000</td>\n",
       "      <td>1.031422</td>\n",
       "    </tr>\n",
       "    <tr>\n",
       "      <th>310117</th>\n",
       "      <td>22601</td>\n",
       "      <td>17716.1264</td>\n",
       "      <td>1.275730</td>\n",
       "    </tr>\n",
       "    <tr>\n",
       "      <th>310118</th>\n",
       "      <td>25215</td>\n",
       "      <td>17934.5581</td>\n",
       "      <td>1.405945</td>\n",
       "    </tr>\n",
       "    <tr>\n",
       "      <th>310119</th>\n",
       "      <td>0</td>\n",
       "      <td>18500.0000</td>\n",
       "      <td>0.000000</td>\n",
       "    </tr>\n",
       "    <tr>\n",
       "      <th>310120</th>\n",
       "      <td>0</td>\n",
       "      <td>18926.0000</td>\n",
       "      <td>0.000000</td>\n",
       "    </tr>\n",
       "  </tbody>\n",
       "</table>\n",
       "<p>45494 rows × 3 columns</p>\n",
       "</div>"
      ],
      "text/plain": [
       "        area_construida  area_terreno  densidade\n",
       "sq                                              \n",
       "001003            29926    21529.9343   1.389972\n",
       "001004            20715    14196.1760   1.459196\n",
       "001005            17263     9484.0000   1.820224\n",
       "001006             7686     3453.9722   2.225264\n",
       "001007            26067    14844.4308   1.756012\n",
       "...                 ...           ...        ...\n",
       "310116             1313     1273.0000   1.031422\n",
       "310117            22601    17716.1264   1.275730\n",
       "310118            25215    17934.5581   1.405945\n",
       "310119                0    18500.0000   0.000000\n",
       "310120                0    18926.0000   0.000000\n",
       "\n",
       "[45494 rows x 3 columns]"
      ]
     },
     "execution_count": 11,
     "metadata": {},
     "output_type": "execute_result"
    }
   ],
   "source": [
    "iptu_agg"
   ]
  },
  {
   "cell_type": "code",
   "execution_count": 12,
   "id": "diagnostic-enough",
   "metadata": {},
   "outputs": [],
   "source": [
    "# Gerando GeoDataFrame\n",
    "gdf_iptu_agg = gdf_quadras.merge(iptu_agg, on='sq', how='right')"
   ]
  },
  {
   "cell_type": "code",
   "execution_count": 13,
   "id": "bacterial-treasure",
   "metadata": {},
   "outputs": [
    {
     "data": {
      "text/html": [
       "<div>\n",
       "<style scoped>\n",
       "    .dataframe tbody tr th:only-of-type {\n",
       "        vertical-align: middle;\n",
       "    }\n",
       "\n",
       "    .dataframe tbody tr th {\n",
       "        vertical-align: top;\n",
       "    }\n",
       "\n",
       "    .dataframe thead th {\n",
       "        text-align: right;\n",
       "    }\n",
       "</style>\n",
       "<table border=\"1\" class=\"dataframe\">\n",
       "  <thead>\n",
       "    <tr style=\"text-align: right;\">\n",
       "      <th></th>\n",
       "      <th>geometry</th>\n",
       "      <th>densidade</th>\n",
       "    </tr>\n",
       "    <tr>\n",
       "      <th>sq</th>\n",
       "      <th></th>\n",
       "      <th></th>\n",
       "    </tr>\n",
       "  </thead>\n",
       "  <tbody>\n",
       "    <tr>\n",
       "      <th>001003</th>\n",
       "      <td>POLYGON ((333415.056 7396354.502, 333412.306 7...</td>\n",
       "      <td>1.389972</td>\n",
       "    </tr>\n",
       "    <tr>\n",
       "      <th>001004</th>\n",
       "      <td>POLYGON ((333547.169 7396521.849, 333542.688 7...</td>\n",
       "      <td>1.459196</td>\n",
       "    </tr>\n",
       "    <tr>\n",
       "      <th>001005</th>\n",
       "      <td>POLYGON ((333559.635 7396520.416, 333574.733 7...</td>\n",
       "      <td>1.820224</td>\n",
       "    </tr>\n",
       "    <tr>\n",
       "      <th>001006</th>\n",
       "      <td>POLYGON ((333599.160 7396343.566, 333593.816 7...</td>\n",
       "      <td>2.225264</td>\n",
       "    </tr>\n",
       "    <tr>\n",
       "      <th>001007</th>\n",
       "      <td>POLYGON ((333689.258 7396305.230, 333688.459 7...</td>\n",
       "      <td>1.756012</td>\n",
       "    </tr>\n",
       "    <tr>\n",
       "      <th>...</th>\n",
       "      <td>...</td>\n",
       "      <td>...</td>\n",
       "    </tr>\n",
       "    <tr>\n",
       "      <th>310116</th>\n",
       "      <td>MULTIPOLYGON (((332734.442 7383503.772, 332721...</td>\n",
       "      <td>1.031422</td>\n",
       "    </tr>\n",
       "    <tr>\n",
       "      <th>310117</th>\n",
       "      <td>MULTIPOLYGON (((333231.482 7383452.112, 333232...</td>\n",
       "      <td>1.275730</td>\n",
       "    </tr>\n",
       "    <tr>\n",
       "      <th>310118</th>\n",
       "      <td>POLYGON ((332710.926 7384374.222, 332722.074 7...</td>\n",
       "      <td>1.405945</td>\n",
       "    </tr>\n",
       "    <tr>\n",
       "      <th>310119</th>\n",
       "      <td>POLYGON ((333650.450 7384445.066, 333649.333 7...</td>\n",
       "      <td>0.000000</td>\n",
       "    </tr>\n",
       "    <tr>\n",
       "      <th>310120</th>\n",
       "      <td>MULTIPOLYGON (((333312.322 7383219.342, 333311...</td>\n",
       "      <td>0.000000</td>\n",
       "    </tr>\n",
       "  </tbody>\n",
       "</table>\n",
       "<p>45494 rows × 2 columns</p>\n",
       "</div>"
      ],
      "text/plain": [
       "                                                 geometry  densidade\n",
       "sq                                                                  \n",
       "001003  POLYGON ((333415.056 7396354.502, 333412.306 7...   1.389972\n",
       "001004  POLYGON ((333547.169 7396521.849, 333542.688 7...   1.459196\n",
       "001005  POLYGON ((333559.635 7396520.416, 333574.733 7...   1.820224\n",
       "001006  POLYGON ((333599.160 7396343.566, 333593.816 7...   2.225264\n",
       "001007  POLYGON ((333689.258 7396305.230, 333688.459 7...   1.756012\n",
       "...                                                   ...        ...\n",
       "310116  MULTIPOLYGON (((332734.442 7383503.772, 332721...   1.031422\n",
       "310117  MULTIPOLYGON (((333231.482 7383452.112, 333232...   1.275730\n",
       "310118  POLYGON ((332710.926 7384374.222, 332722.074 7...   1.405945\n",
       "310119  POLYGON ((333650.450 7384445.066, 333649.333 7...   0.000000\n",
       "310120  MULTIPOLYGON (((333312.322 7383219.342, 333311...   0.000000\n",
       "\n",
       "[45494 rows x 2 columns]"
      ]
     },
     "execution_count": 13,
     "metadata": {},
     "output_type": "execute_result"
    }
   ],
   "source": [
    "gdf_iptu_agg.drop(columns=['area_construida', 'area_terreno'])"
   ]
  },
  {
   "cell_type": "code",
   "execution_count": 14,
   "id": "dependent-worship",
   "metadata": {},
   "outputs": [],
   "source": [
    "del df_iptu"
   ]
  },
  {
   "cell_type": "code",
   "execution_count": 15,
   "id": "northern-thriller",
   "metadata": {},
   "outputs": [],
   "source": [
    "del gdf_iptu_agg"
   ]
  },
  {
   "cell_type": "markdown",
   "id": "unknown-measurement",
   "metadata": {},
   "source": [
    "## Gera raster densidade construtiva para cada ano"
   ]
  },
  {
   "cell_type": "code",
   "execution_count": 16,
   "id": "later-joseph",
   "metadata": {},
   "outputs": [],
   "source": [
    "from pathlib import Path\n",
    "import os"
   ]
  },
  {
   "cell_type": "code",
   "execution_count": 17,
   "id": "liable-death",
   "metadata": {},
   "outputs": [],
   "source": [
    "densidades = []"
   ]
  },
  {
   "cell_type": "code",
   "execution_count": 18,
   "id": "broad-launch",
   "metadata": {},
   "outputs": [
    {
     "name": "stdout",
     "output_type": "stream",
     "text": [
      "IPTU_2010.zip\n"
     ]
    },
    {
     "name": "stderr",
     "output_type": "stream",
     "text": [
      "b'Skipping line 2445507: expected 35 fields, saw 43\\n'\n",
      "/home/fernando/miniconda3/envs/geoplot/lib/python3.9/site-packages/IPython/core/interactiveshell.py:3165: DtypeWarning: Columns (18,19,20,21,22) have mixed types.Specify dtype option on import or set low_memory=False.\n",
      "  has_raised = await self.run_ast_nodes(code_ast.body, cell_name,\n"
     ]
    },
    {
     "name": "stdout",
     "output_type": "stream",
     "text": [
      "IPTU_1996.zip\n"
     ]
    },
    {
     "name": "stderr",
     "output_type": "stream",
     "text": [
      "/home/fernando/miniconda3/envs/geoplot/lib/python3.9/site-packages/IPython/core/interactiveshell.py:3165: DtypeWarning: Columns (27) have mixed types.Specify dtype option on import or set low_memory=False.\n",
      "  has_raised = await self.run_ast_nodes(code_ast.body, cell_name,\n"
     ]
    },
    {
     "name": "stdout",
     "output_type": "stream",
     "text": [
      "IPTU_2007.zip\n"
     ]
    },
    {
     "name": "stderr",
     "output_type": "stream",
     "text": [
      "b'Skipping line 2417712: expected 35 fields, saw 43\\n'\n"
     ]
    },
    {
     "name": "stdout",
     "output_type": "stream",
     "text": [
      "IPTU_2013.zip\n"
     ]
    },
    {
     "name": "stderr",
     "output_type": "stream",
     "text": [
      "b'Skipping line 2560170: expected 35 fields, saw 43\\n'\n",
      "/home/fernando/miniconda3/envs/geoplot/lib/python3.9/site-packages/IPython/core/interactiveshell.py:3165: DtypeWarning: Columns (18,19,20,21,22,27) have mixed types.Specify dtype option on import or set low_memory=False.\n",
      "  has_raised = await self.run_ast_nodes(code_ast.body, cell_name,\n"
     ]
    },
    {
     "name": "stdout",
     "output_type": "stream",
     "text": [
      "IPTU_2004.zip\n"
     ]
    },
    {
     "name": "stderr",
     "output_type": "stream",
     "text": [
      "b'Skipping line 2325266: expected 35 fields, saw 43\\n'\n"
     ]
    },
    {
     "name": "stdout",
     "output_type": "stream",
     "text": [
      "IPTU_2005.zip\n"
     ]
    },
    {
     "name": "stderr",
     "output_type": "stream",
     "text": [
      "b'Skipping line 2355090: expected 35 fields, saw 43\\n'\n"
     ]
    },
    {
     "name": "stdout",
     "output_type": "stream",
     "text": [
      "IPTU_1995.zip\n",
      "IPTU_1998.zip\n"
     ]
    },
    {
     "name": "stderr",
     "output_type": "stream",
     "text": [
      "b'Skipping line 2096075: expected 35 fields, saw 43\\n'\n"
     ]
    },
    {
     "name": "stdout",
     "output_type": "stream",
     "text": [
      "IPTU_2018.zip\n",
      "IPTU_2001.zip\n"
     ]
    },
    {
     "name": "stderr",
     "output_type": "stream",
     "text": [
      "b'Skipping line 2211865: expected 35 fields, saw 43\\n'\n"
     ]
    },
    {
     "name": "stdout",
     "output_type": "stream",
     "text": [
      "IPTU_2017.zip\n",
      "IPTU_2015.zip\n"
     ]
    },
    {
     "name": "stderr",
     "output_type": "stream",
     "text": [
      "b'Skipping line 2651001: expected 35 fields, saw 43\\n'\n"
     ]
    },
    {
     "name": "stdout",
     "output_type": "stream",
     "text": [
      "IPTU_2006.zip\n"
     ]
    },
    {
     "name": "stderr",
     "output_type": "stream",
     "text": [
      "b'Skipping line 2381472: expected 35 fields, saw 43\\n'\n"
     ]
    },
    {
     "name": "stdout",
     "output_type": "stream",
     "text": [
      "IPTU_2009.zip\n"
     ]
    },
    {
     "name": "stderr",
     "output_type": "stream",
     "text": [
      "b'Skipping line 2471701: expected 35 fields, saw 43\\n'\n"
     ]
    },
    {
     "name": "stdout",
     "output_type": "stream",
     "text": [
      "IPTU_2014.zip\n"
     ]
    },
    {
     "name": "stderr",
     "output_type": "stream",
     "text": [
      "b'Skipping line 2606431: expected 35 fields, saw 43\\n'\n"
     ]
    },
    {
     "name": "stdout",
     "output_type": "stream",
     "text": [
      "IPTU_2011.zip\n"
     ]
    },
    {
     "name": "stderr",
     "output_type": "stream",
     "text": [
      "b'Skipping line 2484471: expected 35 fields, saw 43\\n'\n"
     ]
    },
    {
     "name": "stdout",
     "output_type": "stream",
     "text": [
      "IPTU_2000.zip\n"
     ]
    },
    {
     "name": "stderr",
     "output_type": "stream",
     "text": [
      "b'Skipping line 2156584: expected 35 fields, saw 43\\n'\n"
     ]
    },
    {
     "name": "stdout",
     "output_type": "stream",
     "text": [
      "IPTU_2019.zip\n",
      "IPTU_1997.zip\n",
      "IPTU_2016.zip\n",
      "IPTU_2002.zip\n"
     ]
    },
    {
     "name": "stderr",
     "output_type": "stream",
     "text": [
      "b'Skipping line 2247445: expected 35 fields, saw 43\\n'\n"
     ]
    },
    {
     "name": "stdout",
     "output_type": "stream",
     "text": [
      "IPTU_1999.zip\n"
     ]
    },
    {
     "name": "stderr",
     "output_type": "stream",
     "text": [
      "b'Skipping line 2121196: expected 35 fields, saw 43\\n'\n"
     ]
    },
    {
     "name": "stdout",
     "output_type": "stream",
     "text": [
      "IPTU_2020.zip\n",
      "IPTU_2008.zip\n"
     ]
    },
    {
     "name": "stderr",
     "output_type": "stream",
     "text": [
      "b'Skipping line 2440049: expected 35 fields, saw 43\\n'\n"
     ]
    },
    {
     "name": "stdout",
     "output_type": "stream",
     "text": [
      "IPTU_2003.zip\n"
     ]
    },
    {
     "name": "stderr",
     "output_type": "stream",
     "text": [
      "b'Skipping line 2288886: expected 35 fields, saw 43\\n'\n"
     ]
    },
    {
     "name": "stdout",
     "output_type": "stream",
     "text": [
      "IPTU_2012.zip\n"
     ]
    },
    {
     "name": "stderr",
     "output_type": "stream",
     "text": [
      "b'Skipping line 2526350: expected 35 fields, saw 43\\n'\n"
     ]
    }
   ],
   "source": [
    "for path in Path('IPTU').rglob('*.zip'):\n",
    "    print(path.name)\n",
    "    \n",
    "    # 1. Carregar dados do arquivo\n",
    "    # OBS.: O IPTU de 2016 está separado por ',' e não por ';'\n",
    "    if path.name == \"IPTU_2016.zip\":\n",
    "        df_iptu = pd.read_csv(f'{path}',\\\n",
    "                     compression='zip',\\\n",
    "                     encoding='iso-8859-9',\\\n",
    "                     sep=',',\\\n",
    "                     decimal=',',\\\n",
    "                     error_bad_lines=False)\n",
    "    else:\n",
    "        df_iptu = pd.read_csv(f'{path}',\\\n",
    "                     compression='zip',\\\n",
    "                     encoding='iso-8859-9',\\\n",
    "                     sep=';',\\\n",
    "                     decimal=',',\\\n",
    "                     error_bad_lines=False)\n",
    "        \n",
    "    # Obter o SQ (Setor e Quadra)\n",
    "    df_iptu['setor'] = df_iptu['NUMERO DO CONTRIBUINTE'].str[0:3]\n",
    "    df_iptu['quadra'] = df_iptu['NUMERO DO CONTRIBUINTE'].str[3:6]\n",
    "\n",
    "    # Calculando chave 'SQ'\n",
    "    df_iptu['sq'] = \\\n",
    "    df_iptu['setor'] + df_iptu['quadra']\n",
    "\n",
    "    # Normalizando o lote condominial\n",
    "    df_iptu.loc[df_iptu['NUMERO DO CONDOMINIO'].str[0:2] != '00', 'lote'] = '0000'\n",
    "    df_iptu.loc[df_iptu['NUMERO DO CONDOMINIO'].str[0:2] == '00', 'lote'] = \\\n",
    "    df_iptu.loc[df_iptu['NUMERO DO CONDOMINIO'].str[0:2] == '00', 'NUMERO DO CONTRIBUINTE'].str[6:10]\n",
    "\n",
    "    # Individualizando a testada e pavimentos por lote (SQLC)\n",
    "    df_iptu['sqlc'] = df_iptu['setor'] + \\\n",
    "    df_iptu['quadra'] + df_iptu['lote'] + \\\n",
    "    df_iptu['NUMERO DO CONDOMINIO'].str[0:2]\n",
    "\n",
    "    df_iptu['AREA CONSTRUIDA'] = pd.to_numeric(df_iptu['AREA CONSTRUIDA'], errors ='coerce')\n",
    "    df_iptu['AREA OCUPADA'] = pd.to_numeric(df_iptu['AREA OCUPADA'], errors ='coerce')\n",
    "    df_iptu['AREA DO TERRENO'] = pd.to_numeric(df_iptu['AREA DO TERRENO'], errors ='coerce')\n",
    "    df_iptu['FRACAO IDEAL'] = pd.to_numeric(df_iptu['FRACAO IDEAL'], errors ='coerce')\n",
    "    df_iptu['QUANTIDADE DE PAVIMENTOS'] = pd.to_numeric(df_iptu['QUANTIDADE DE PAVIMENTOS'], errors ='coerce')\n",
    "    df_iptu['TESTADA PARA CALCULO'] = pd.to_numeric(df_iptu['TESTADA PARA CALCULO'], errors ='coerce')\n",
    "\n",
    "    # Adequando variáveis à fração ideal\n",
    "    df_iptu['area_terreno'] = df_iptu['FRACAO IDEAL'] * df_iptu['AREA DO TERRENO']\n",
    "    df_iptu['area_ocupada'] = df_iptu['FRACAO IDEAL'] * df_iptu['AREA OCUPADA']\n",
    "\n",
    "    # Adequar os usos ao padrão estabelecido\n",
    "    df_iptu.loc[df_iptu['TIPO DE USO DO IMOVEL']\\\n",
    "                .isin(usos),\\\n",
    "                'TIPO DE USO DO IMOVEL'] = \\\n",
    "    df_iptu[df_iptu['TIPO DE USO DO IMOVEL']\\\n",
    "                 .isin(usos)]['TIPO DE USO DO IMOVEL']\\\n",
    "    .apply(lambda x: usos[x])\n",
    "\n",
    "    # Agregar por SQ e ANO DO EXERCICIO\n",
    "    iptu_agg = df_iptu[['sq', \\\n",
    "                        'AREA CONSTRUIDA',\n",
    "                        'area_terreno',\n",
    "                        'area_ocupada',\n",
    "                        'QUANTIDADE DE PAVIMENTOS',\n",
    "                        'TESTADA PARA CALCULO']]\\\n",
    "    \n",
    "    # Agregar por SQ e ANO DO EXERCICIO\n",
    "    iptu_agg = df_iptu[['sq', \\\n",
    "                        'AREA CONSTRUIDA',\n",
    "                        'area_terreno']]\\\n",
    "    .groupby('sq')\\\n",
    "    .agg({'AREA CONSTRUIDA': 'sum',\n",
    "         'area_terreno': 'sum'})\\\n",
    "    .rename(columns = {'AREA CONSTRUIDA': 'area_construida'})\n",
    "    \n",
    "    # Calculando a densidade construtiva\n",
    "    iptu_agg[f'{path.name[-8:-4]}'] = iptu_agg['area_construida'] / iptu_agg['area_terreno']\n",
    "    \n",
    "    # Removendo colunas sobressalentes\n",
    "    densidades.append(iptu_agg.drop(columns=['area_construida', 'area_terreno']))\n",
    "    \n",
    "    # Gerando GeoDataFrame\n",
    "    #gdf_iptu_agg = gdf_quadras.merge(iptu_agg, on='sq', how='right')"
   ]
  },
  {
   "cell_type": "code",
   "execution_count": 19,
   "id": "designing-sauce",
   "metadata": {},
   "outputs": [],
   "source": [
    "df_densidades = \\\n",
    "pd.concat(densidades, axis=1).reindex(columns=sorted(pd.concat(densidades, axis=1).columns))"
   ]
  },
  {
   "cell_type": "code",
   "execution_count": 20,
   "id": "imposed-guyana",
   "metadata": {},
   "outputs": [],
   "source": [
    "# Gerando GeoDataFrame\n",
    "gdf_iptu_agg = gdf_quadras.merge(df_densidades, on='sq', how='right')"
   ]
  },
  {
   "cell_type": "code",
   "execution_count": 21,
   "id": "exciting-field",
   "metadata": {},
   "outputs": [
    {
     "data": {
      "text/html": [
       "<div>\n",
       "<style scoped>\n",
       "    .dataframe tbody tr th:only-of-type {\n",
       "        vertical-align: middle;\n",
       "    }\n",
       "\n",
       "    .dataframe tbody tr th {\n",
       "        vertical-align: top;\n",
       "    }\n",
       "\n",
       "    .dataframe thead th {\n",
       "        text-align: right;\n",
       "    }\n",
       "</style>\n",
       "<table border=\"1\" class=\"dataframe\">\n",
       "  <thead>\n",
       "    <tr style=\"text-align: right;\">\n",
       "      <th></th>\n",
       "      <th>geometry</th>\n",
       "      <th>1995</th>\n",
       "      <th>1996</th>\n",
       "      <th>1997</th>\n",
       "      <th>1998</th>\n",
       "      <th>1999</th>\n",
       "      <th>2000</th>\n",
       "      <th>2001</th>\n",
       "      <th>2002</th>\n",
       "      <th>2003</th>\n",
       "      <th>...</th>\n",
       "      <th>2011</th>\n",
       "      <th>2012</th>\n",
       "      <th>2013</th>\n",
       "      <th>2014</th>\n",
       "      <th>2015</th>\n",
       "      <th>2016</th>\n",
       "      <th>2017</th>\n",
       "      <th>2018</th>\n",
       "      <th>2019</th>\n",
       "      <th>2020</th>\n",
       "    </tr>\n",
       "    <tr>\n",
       "      <th>sq</th>\n",
       "      <th></th>\n",
       "      <th></th>\n",
       "      <th></th>\n",
       "      <th></th>\n",
       "      <th></th>\n",
       "      <th></th>\n",
       "      <th></th>\n",
       "      <th></th>\n",
       "      <th></th>\n",
       "      <th></th>\n",
       "      <th></th>\n",
       "      <th></th>\n",
       "      <th></th>\n",
       "      <th></th>\n",
       "      <th></th>\n",
       "      <th></th>\n",
       "      <th></th>\n",
       "      <th></th>\n",
       "      <th></th>\n",
       "      <th></th>\n",
       "      <th></th>\n",
       "    </tr>\n",
       "  </thead>\n",
       "  <tbody>\n",
       "    <tr>\n",
       "      <th>001003</th>\n",
       "      <td>POLYGON ((333415.056 7396354.502, 333412.306 7...</td>\n",
       "      <td>1.746657</td>\n",
       "      <td>1.825448</td>\n",
       "      <td>1.823183</td>\n",
       "      <td>1.823183</td>\n",
       "      <td>1.821401</td>\n",
       "      <td>1.820947</td>\n",
       "      <td>1.820947</td>\n",
       "      <td>1.822204</td>\n",
       "      <td>1.822204</td>\n",
       "      <td>...</td>\n",
       "      <td>1.859504</td>\n",
       "      <td>1.859504</td>\n",
       "      <td>1.859504</td>\n",
       "      <td>1.859504</td>\n",
       "      <td>1.859504</td>\n",
       "      <td>1.859504</td>\n",
       "      <td>1.859504</td>\n",
       "      <td>1.859504</td>\n",
       "      <td>1.444593</td>\n",
       "      <td>1.389972</td>\n",
       "    </tr>\n",
       "    <tr>\n",
       "      <th>001004</th>\n",
       "      <td>POLYGON ((333547.169 7396521.849, 333542.688 7...</td>\n",
       "      <td>1.454579</td>\n",
       "      <td>1.472500</td>\n",
       "      <td>1.525487</td>\n",
       "      <td>1.527181</td>\n",
       "      <td>1.527181</td>\n",
       "      <td>1.527181</td>\n",
       "      <td>1.527181</td>\n",
       "      <td>1.527859</td>\n",
       "      <td>1.549114</td>\n",
       "      <td>...</td>\n",
       "      <td>1.437703</td>\n",
       "      <td>1.441308</td>\n",
       "      <td>1.441308</td>\n",
       "      <td>1.457717</td>\n",
       "      <td>1.458210</td>\n",
       "      <td>1.458210</td>\n",
       "      <td>1.458210</td>\n",
       "      <td>1.459196</td>\n",
       "      <td>1.459196</td>\n",
       "      <td>1.459196</td>\n",
       "    </tr>\n",
       "    <tr>\n",
       "      <th>001005</th>\n",
       "      <td>POLYGON ((333559.635 7396520.416, 333574.733 7...</td>\n",
       "      <td>1.528196</td>\n",
       "      <td>1.528196</td>\n",
       "      <td>1.715950</td>\n",
       "      <td>1.726499</td>\n",
       "      <td>1.726499</td>\n",
       "      <td>1.733355</td>\n",
       "      <td>1.733355</td>\n",
       "      <td>1.733355</td>\n",
       "      <td>1.733355</td>\n",
       "      <td>...</td>\n",
       "      <td>1.803353</td>\n",
       "      <td>1.803353</td>\n",
       "      <td>1.803353</td>\n",
       "      <td>1.803353</td>\n",
       "      <td>1.803353</td>\n",
       "      <td>1.803353</td>\n",
       "      <td>1.803353</td>\n",
       "      <td>1.820224</td>\n",
       "      <td>1.820224</td>\n",
       "      <td>1.820224</td>\n",
       "    </tr>\n",
       "    <tr>\n",
       "      <th>001006</th>\n",
       "      <td>POLYGON ((333599.160 7396343.566, 333593.816 7...</td>\n",
       "      <td>1.835410</td>\n",
       "      <td>1.770236</td>\n",
       "      <td>2.229677</td>\n",
       "      <td>2.229677</td>\n",
       "      <td>2.229677</td>\n",
       "      <td>2.229677</td>\n",
       "      <td>2.237424</td>\n",
       "      <td>2.246110</td>\n",
       "      <td>2.246110</td>\n",
       "      <td>...</td>\n",
       "      <td>2.260875</td>\n",
       "      <td>2.260875</td>\n",
       "      <td>2.260875</td>\n",
       "      <td>2.260875</td>\n",
       "      <td>2.260875</td>\n",
       "      <td>2.225264</td>\n",
       "      <td>2.225264</td>\n",
       "      <td>2.225264</td>\n",
       "      <td>2.225264</td>\n",
       "      <td>2.225264</td>\n",
       "    </tr>\n",
       "    <tr>\n",
       "      <th>001007</th>\n",
       "      <td>POLYGON ((333689.258 7396305.230, 333688.459 7...</td>\n",
       "      <td>1.534828</td>\n",
       "      <td>1.549435</td>\n",
       "      <td>1.600548</td>\n",
       "      <td>1.600548</td>\n",
       "      <td>1.600013</td>\n",
       "      <td>1.600013</td>\n",
       "      <td>1.600013</td>\n",
       "      <td>1.600013</td>\n",
       "      <td>1.616734</td>\n",
       "      <td>...</td>\n",
       "      <td>1.627460</td>\n",
       "      <td>1.627460</td>\n",
       "      <td>1.600173</td>\n",
       "      <td>1.741491</td>\n",
       "      <td>1.741491</td>\n",
       "      <td>1.741692</td>\n",
       "      <td>1.756012</td>\n",
       "      <td>1.756012</td>\n",
       "      <td>1.756012</td>\n",
       "      <td>1.756012</td>\n",
       "    </tr>\n",
       "    <tr>\n",
       "      <th>...</th>\n",
       "      <td>...</td>\n",
       "      <td>...</td>\n",
       "      <td>...</td>\n",
       "      <td>...</td>\n",
       "      <td>...</td>\n",
       "      <td>...</td>\n",
       "      <td>...</td>\n",
       "      <td>...</td>\n",
       "      <td>...</td>\n",
       "      <td>...</td>\n",
       "      <td>...</td>\n",
       "      <td>...</td>\n",
       "      <td>...</td>\n",
       "      <td>...</td>\n",
       "      <td>...</td>\n",
       "      <td>...</td>\n",
       "      <td>...</td>\n",
       "      <td>...</td>\n",
       "      <td>...</td>\n",
       "      <td>...</td>\n",
       "      <td>...</td>\n",
       "    </tr>\n",
       "    <tr>\n",
       "      <th>277055</th>\n",
       "      <td>POLYGON ((323534.250 7363993.461, 323524.791 7...</td>\n",
       "      <td>NaN</td>\n",
       "      <td>NaN</td>\n",
       "      <td>NaN</td>\n",
       "      <td>NaN</td>\n",
       "      <td>NaN</td>\n",
       "      <td>NaN</td>\n",
       "      <td>NaN</td>\n",
       "      <td>NaN</td>\n",
       "      <td>NaN</td>\n",
       "      <td>...</td>\n",
       "      <td>NaN</td>\n",
       "      <td>NaN</td>\n",
       "      <td>NaN</td>\n",
       "      <td>NaN</td>\n",
       "      <td>NaN</td>\n",
       "      <td>NaN</td>\n",
       "      <td>NaN</td>\n",
       "      <td>NaN</td>\n",
       "      <td>NaN</td>\n",
       "      <td>0.739081</td>\n",
       "    </tr>\n",
       "    <tr>\n",
       "      <th>300115</th>\n",
       "      <td>None</td>\n",
       "      <td>NaN</td>\n",
       "      <td>NaN</td>\n",
       "      <td>NaN</td>\n",
       "      <td>NaN</td>\n",
       "      <td>NaN</td>\n",
       "      <td>NaN</td>\n",
       "      <td>NaN</td>\n",
       "      <td>NaN</td>\n",
       "      <td>NaN</td>\n",
       "      <td>...</td>\n",
       "      <td>NaN</td>\n",
       "      <td>NaN</td>\n",
       "      <td>NaN</td>\n",
       "      <td>NaN</td>\n",
       "      <td>NaN</td>\n",
       "      <td>NaN</td>\n",
       "      <td>NaN</td>\n",
       "      <td>NaN</td>\n",
       "      <td>NaN</td>\n",
       "      <td>0.000000</td>\n",
       "    </tr>\n",
       "    <tr>\n",
       "      <th>304156</th>\n",
       "      <td>POLYGON ((335261.880 7398079.111, 335262.480 7...</td>\n",
       "      <td>NaN</td>\n",
       "      <td>NaN</td>\n",
       "      <td>NaN</td>\n",
       "      <td>NaN</td>\n",
       "      <td>NaN</td>\n",
       "      <td>NaN</td>\n",
       "      <td>NaN</td>\n",
       "      <td>NaN</td>\n",
       "      <td>NaN</td>\n",
       "      <td>...</td>\n",
       "      <td>NaN</td>\n",
       "      <td>NaN</td>\n",
       "      <td>NaN</td>\n",
       "      <td>NaN</td>\n",
       "      <td>NaN</td>\n",
       "      <td>NaN</td>\n",
       "      <td>NaN</td>\n",
       "      <td>NaN</td>\n",
       "      <td>NaN</td>\n",
       "      <td>0.789173</td>\n",
       "    </tr>\n",
       "    <tr>\n",
       "      <th>006800</th>\n",
       "      <td>None</td>\n",
       "      <td>NaN</td>\n",
       "      <td>NaN</td>\n",
       "      <td>NaN</td>\n",
       "      <td>NaN</td>\n",
       "      <td>NaN</td>\n",
       "      <td>NaN</td>\n",
       "      <td>NaN</td>\n",
       "      <td>NaN</td>\n",
       "      <td>NaN</td>\n",
       "      <td>...</td>\n",
       "      <td>NaN</td>\n",
       "      <td>NaN</td>\n",
       "      <td>NaN</td>\n",
       "      <td>NaN</td>\n",
       "      <td>NaN</td>\n",
       "      <td>NaN</td>\n",
       "      <td>NaN</td>\n",
       "      <td>NaN</td>\n",
       "      <td>NaN</td>\n",
       "      <td>NaN</td>\n",
       "    </tr>\n",
       "    <tr>\n",
       "      <th>235022</th>\n",
       "      <td>None</td>\n",
       "      <td>NaN</td>\n",
       "      <td>NaN</td>\n",
       "      <td>NaN</td>\n",
       "      <td>NaN</td>\n",
       "      <td>NaN</td>\n",
       "      <td>NaN</td>\n",
       "      <td>NaN</td>\n",
       "      <td>NaN</td>\n",
       "      <td>0.000000</td>\n",
       "      <td>...</td>\n",
       "      <td>NaN</td>\n",
       "      <td>NaN</td>\n",
       "      <td>NaN</td>\n",
       "      <td>NaN</td>\n",
       "      <td>NaN</td>\n",
       "      <td>NaN</td>\n",
       "      <td>NaN</td>\n",
       "      <td>NaN</td>\n",
       "      <td>NaN</td>\n",
       "      <td>NaN</td>\n",
       "    </tr>\n",
       "  </tbody>\n",
       "</table>\n",
       "<p>45876 rows × 27 columns</p>\n",
       "</div>"
      ],
      "text/plain": [
       "                                                 geometry      1995      1996  \\\n",
       "sq                                                                              \n",
       "001003  POLYGON ((333415.056 7396354.502, 333412.306 7...  1.746657  1.825448   \n",
       "001004  POLYGON ((333547.169 7396521.849, 333542.688 7...  1.454579  1.472500   \n",
       "001005  POLYGON ((333559.635 7396520.416, 333574.733 7...  1.528196  1.528196   \n",
       "001006  POLYGON ((333599.160 7396343.566, 333593.816 7...  1.835410  1.770236   \n",
       "001007  POLYGON ((333689.258 7396305.230, 333688.459 7...  1.534828  1.549435   \n",
       "...                                                   ...       ...       ...   \n",
       "277055  POLYGON ((323534.250 7363993.461, 323524.791 7...       NaN       NaN   \n",
       "300115                                               None       NaN       NaN   \n",
       "304156  POLYGON ((335261.880 7398079.111, 335262.480 7...       NaN       NaN   \n",
       "006800                                               None       NaN       NaN   \n",
       "235022                                               None       NaN       NaN   \n",
       "\n",
       "            1997      1998      1999      2000      2001      2002      2003  \\\n",
       "sq                                                                             \n",
       "001003  1.823183  1.823183  1.821401  1.820947  1.820947  1.822204  1.822204   \n",
       "001004  1.525487  1.527181  1.527181  1.527181  1.527181  1.527859  1.549114   \n",
       "001005  1.715950  1.726499  1.726499  1.733355  1.733355  1.733355  1.733355   \n",
       "001006  2.229677  2.229677  2.229677  2.229677  2.237424  2.246110  2.246110   \n",
       "001007  1.600548  1.600548  1.600013  1.600013  1.600013  1.600013  1.616734   \n",
       "...          ...       ...       ...       ...       ...       ...       ...   \n",
       "277055       NaN       NaN       NaN       NaN       NaN       NaN       NaN   \n",
       "300115       NaN       NaN       NaN       NaN       NaN       NaN       NaN   \n",
       "304156       NaN       NaN       NaN       NaN       NaN       NaN       NaN   \n",
       "006800       NaN       NaN       NaN       NaN       NaN       NaN       NaN   \n",
       "235022       NaN       NaN       NaN       NaN       NaN       NaN  0.000000   \n",
       "\n",
       "        ...      2011      2012      2013      2014      2015      2016  \\\n",
       "sq      ...                                                               \n",
       "001003  ...  1.859504  1.859504  1.859504  1.859504  1.859504  1.859504   \n",
       "001004  ...  1.437703  1.441308  1.441308  1.457717  1.458210  1.458210   \n",
       "001005  ...  1.803353  1.803353  1.803353  1.803353  1.803353  1.803353   \n",
       "001006  ...  2.260875  2.260875  2.260875  2.260875  2.260875  2.225264   \n",
       "001007  ...  1.627460  1.627460  1.600173  1.741491  1.741491  1.741692   \n",
       "...     ...       ...       ...       ...       ...       ...       ...   \n",
       "277055  ...       NaN       NaN       NaN       NaN       NaN       NaN   \n",
       "300115  ...       NaN       NaN       NaN       NaN       NaN       NaN   \n",
       "304156  ...       NaN       NaN       NaN       NaN       NaN       NaN   \n",
       "006800  ...       NaN       NaN       NaN       NaN       NaN       NaN   \n",
       "235022  ...       NaN       NaN       NaN       NaN       NaN       NaN   \n",
       "\n",
       "            2017      2018      2019      2020  \n",
       "sq                                              \n",
       "001003  1.859504  1.859504  1.444593  1.389972  \n",
       "001004  1.458210  1.459196  1.459196  1.459196  \n",
       "001005  1.803353  1.820224  1.820224  1.820224  \n",
       "001006  2.225264  2.225264  2.225264  2.225264  \n",
       "001007  1.756012  1.756012  1.756012  1.756012  \n",
       "...          ...       ...       ...       ...  \n",
       "277055       NaN       NaN       NaN  0.739081  \n",
       "300115       NaN       NaN       NaN  0.000000  \n",
       "304156       NaN       NaN       NaN  0.789173  \n",
       "006800       NaN       NaN       NaN       NaN  \n",
       "235022       NaN       NaN       NaN       NaN  \n",
       "\n",
       "[45876 rows x 27 columns]"
      ]
     },
     "execution_count": 21,
     "metadata": {},
     "output_type": "execute_result"
    }
   ],
   "source": [
    "gdf_iptu_agg"
   ]
  },
  {
   "cell_type": "code",
   "execution_count": 22,
   "id": "periodic-tennessee",
   "metadata": {},
   "outputs": [],
   "source": [
    "gdf_iptu_agg.to_file('resultados/densidade_construtiva/IPTU_quadras_densidade_construtiva.gpkg', driver='GPKG')"
   ]
  },
  {
   "cell_type": "code",
   "execution_count": null,
   "id": "exotic-prediction",
   "metadata": {},
   "outputs": [],
   "source": []
  }
 ],
 "metadata": {
  "kernelspec": {
   "display_name": "Python 3",
   "language": "python",
   "name": "python3"
  },
  "language_info": {
   "codemirror_mode": {
    "name": "ipython",
    "version": 3
   },
   "file_extension": ".py",
   "mimetype": "text/x-python",
   "name": "python",
   "nbconvert_exporter": "python",
   "pygments_lexer": "ipython3",
   "version": "3.9.2"
  }
 },
 "nbformat": 4,
 "nbformat_minor": 5
}
