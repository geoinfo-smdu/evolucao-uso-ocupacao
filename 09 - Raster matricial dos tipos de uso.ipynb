{
 "cells": [
  {
   "cell_type": "markdown",
   "id": "elegant-module",
   "metadata": {},
   "source": [
    "# Raster matricial dos tipos de uso"
   ]
  },
  {
   "cell_type": "code",
   "execution_count": 59,
   "id": "worst-transaction",
   "metadata": {},
   "outputs": [],
   "source": [
    "import geopandas as gpd\n",
    "import pandas as pd\n",
    "import rasterio"
   ]
  },
  {
   "cell_type": "markdown",
   "id": "differential-quantity",
   "metadata": {},
   "source": [
    "## Carregando e pre-processando os dados de IPTU"
   ]
  },
  {
   "cell_type": "code",
   "execution_count": 60,
   "id": "invisible-conjunction",
   "metadata": {},
   "outputs": [],
   "source": [
    "# Padrões de nomenclatura de usos\n",
    "\n",
    "usos = {\n",
    "    \"apartamento em condomínio\":\"apartamento\",\n",
    "    \"cortiço (habitação coletiva subnormal)\":\"cortiço\",\n",
    "    \"escritório/consultório em condomínio (unidade autônoma)\":\"escritório ou consultório\",\n",
    "    \"loja em edifício em condomínio (unidade autônoma)\":\"loja em edifício em condomínio\",\n",
    "    \"residência coletiva, exclusive cortiço (mais de uma residência no lote)\":\"residência coletiva (mais de uma residência no lote), exclusive cortiço\",\n",
    "    \"posto de serviço (combustíveis)\":\"posto de serviço\",\n",
    "    \"estacionamento e garagem, não em condomínio\":\"garagem (exclusive em prédio em condomínio)\",\n",
    "    \"garagem (unidade autônoma) de prédio de garagens\":\"garagem, em prédio de garagens\",\n",
    "    \"garagem (unidade autônoma) em edifício em condomínio de escritórios, consultórios ou misto\":\"garagem em edifício de escritórios, consultórios ou misto\",\n",
    "    \"garagem (unidade autônoma) em edifício em condomínio de uso exclusivamente residencial\":\"garagem em edifício de uso exclusivamente residencial\",\n",
    "    \"outras edificações de uso coletivo, com utilização múltipla\":\"outras edificações do tipo (uso coletivo), com utilização múltipla\",\n",
    "    \"outras edificações de uso comercial, com utilização múltipla\":\"outras edificações do tipo (uso comércio), com utilização múltipla\",\n",
    "    \"outras edificações de uso de serviço, com utilização múltipla\":\"outras edificações do tipo (uso serviço), com utilização múltipla\",\n",
    "    \"outras edificações de uso especial, com utilização múltipla\":\"outras edificações do tipo (uso especial), com utilização múltipla\",\n",
    "    \"prédio com uso exclusivamente residencial, não em condomínio\":\"prédio de apartamento, não em condomínio, de uso exclusivamente residencial\",\n",
    "    \"prédio com uso misto, predominância de uso não residencial, não em condomínio\":\"prédio de escritório, não em condomínio, de uso misto (apartamentos e escritórios e/ou consultórios) com ou sem loja (predominância comercial)\",\n",
    "    \"prédio com uso misto, predominância de uso residencial, não em condomínio\":\"prédio de apartamento, não em condomínio, de uso misto (apartamentos e escritórios e/ou consultórios), com ou sem loja (predominância residencial)\",\n",
    "    \"prédio de escritório ou consultório, com ou sem lojas, não em condomínio\":\"prédio de escritório ou consultório, não em condomínio, com ou sem lojas\",\n",
    "    \"flat de uso comercial (semelhante a hotel)\":\"flat, não residencial\",\n",
    "    \"flat residencial em condomínio\":\"flat, residencial\"\n",
    "}"
   ]
  },
  {
   "cell_type": "code",
   "execution_count": 61,
   "id": "fifty-ireland",
   "metadata": {},
   "outputs": [],
   "source": [
    "df_iptu = pd.read_csv('IPTU/IPTU_2020.zip',\\\n",
    "             compression='zip',\\\n",
    "             encoding='iso-8859-9',\\\n",
    "             sep=';',\\\n",
    "             decimal=',',\\\n",
    "             error_bad_lines=False)"
   ]
  },
  {
   "cell_type": "code",
   "execution_count": 62,
   "id": "mathematical-genre",
   "metadata": {},
   "outputs": [],
   "source": [
    "# Obter o SQ (Setor e Quadra)\n",
    "df_iptu['setor'] = df_iptu['NUMERO DO CONTRIBUINTE'].str[0:3]\n",
    "df_iptu['quadra'] = df_iptu['NUMERO DO CONTRIBUINTE'].str[3:6]\n",
    "\n",
    "# Calculando chave 'SQ'\n",
    "df_iptu['sq'] = \\\n",
    "df_iptu['setor'] + df_iptu['quadra']\n",
    "\n",
    "# Normalizando o lote condominial\n",
    "df_iptu.loc[df_iptu['NUMERO DO CONDOMINIO'].str[0:2] != '00', 'lote'] = '0000'\n",
    "df_iptu.loc[df_iptu['NUMERO DO CONDOMINIO'].str[0:2] == '00', 'lote'] = \\\n",
    "df_iptu.loc[df_iptu['NUMERO DO CONDOMINIO'].str[0:2] == '00', 'NUMERO DO CONTRIBUINTE'].str[6:10]\n",
    "\n",
    "# Individualizando a testada e pavimentos por lote (SQLC)\n",
    "df_iptu['sqlc'] = df_iptu['setor'] + \\\n",
    "df_iptu['quadra'] + df_iptu['lote'] + \\\n",
    "df_iptu['NUMERO DO CONDOMINIO'].str[0:2]\n",
    "\n",
    "df_iptu['AREA CONSTRUIDA'] = pd.to_numeric(df_iptu['AREA CONSTRUIDA'], errors ='coerce')\n",
    "df_iptu['AREA OCUPADA'] = pd.to_numeric(df_iptu['AREA OCUPADA'], errors ='coerce')\n",
    "df_iptu['AREA DO TERRENO'] = pd.to_numeric(df_iptu['AREA DO TERRENO'], errors ='coerce')\n",
    "df_iptu['FRACAO IDEAL'] = pd.to_numeric(df_iptu['FRACAO IDEAL'], errors ='coerce')\n",
    "df_iptu['QUANTIDADE DE PAVIMENTOS'] = pd.to_numeric(df_iptu['QUANTIDADE DE PAVIMENTOS'], errors ='coerce')\n",
    "df_iptu['TESTADA PARA CALCULO'] = pd.to_numeric(df_iptu['TESTADA PARA CALCULO'], errors ='coerce')\n",
    "\n",
    "# Adequando variáveis à fração ideal\n",
    "df_iptu['area_terreno'] = df_iptu['FRACAO IDEAL'] * df_iptu['AREA DO TERRENO']\n",
    "df_iptu['area_ocupada'] = df_iptu['FRACAO IDEAL'] * df_iptu['AREA OCUPADA']\n",
    "\n",
    "# Adequar os usos ao padrão estabelecido\n",
    "df_iptu.loc[df_iptu['TIPO DE USO DO IMOVEL']\\\n",
    "            .isin(usos),\\\n",
    "            'TIPO DE USO DO IMOVEL'] = \\\n",
    "df_iptu[df_iptu['TIPO DE USO DO IMOVEL']\\\n",
    "             .isin(usos)]['TIPO DE USO DO IMOVEL']\\\n",
    ".apply(lambda x: usos[x])"
   ]
  },
  {
   "cell_type": "markdown",
   "id": "binding-dylan",
   "metadata": {},
   "source": [
    "## Carregando e pré-processando as quadras"
   ]
  },
  {
   "cell_type": "code",
   "execution_count": 63,
   "id": "alleged-chassis",
   "metadata": {},
   "outputs": [],
   "source": [
    "# Carregando geometria das quadras fiscais\n",
    "gdf_quadras = gpd.GeoDataFrame.from_file(f'zip://GIS/SIRGAS_SHP_quadraMDSF.zip!SIRGAS_SHP_quadraMDSF')\n",
    "\n",
    "gdf_quadras['sq'] = gdf_quadras.qd_setor + gdf_quadras.qd_fiscal\n",
    "\n",
    "gdf_quadras = gdf_quadras.loc[gdf_quadras.qd_tipo == 'F'][['sq', 'geometry']].dissolve(by='sq')\n",
    "\n",
    "gdf_quadras.geometry = gdf_quadras.representative_point()"
   ]
  },
  {
   "cell_type": "markdown",
   "id": "complete-fellow",
   "metadata": {},
   "source": [
    "## Agrupando os tipos de uso"
   ]
  },
  {
   "cell_type": "code",
   "execution_count": 64,
   "id": "whole-bicycle",
   "metadata": {},
   "outputs": [
    {
     "data": {
      "text/plain": [
       "Index(['NUMERO DO CONTRIBUINTE', 'ANO DO EXERCICIO', 'NUMERO DA NL',\n",
       "       'DATA DO CADASTRAMENTO', 'TIPO DE CONTRIBUINTE 1',\n",
       "       'CPF/CNPJ DO CONTRIBUINTE 1', 'NOME DO CONTRIBUINTE 1',\n",
       "       'TIPO DE CONTRIBUINTE 2', 'CPF/CNPJ DO CONTRIBUINTE 2',\n",
       "       'NOME DO CONTRIBUINTE 2', 'NUMERO DO CONDOMINIO', 'CODLOG DO IMOVEL',\n",
       "       'NOME DE LOGRADOURO DO IMOVEL', 'NUMERO DO IMOVEL',\n",
       "       'COMPLEMENTO DO IMOVEL', 'BAIRRO DO IMOVEL', 'REFERENCIA DO IMOVEL',\n",
       "       'CEP DO IMOVEL', 'QUANTIDADE DE ESQUINAS/FRENTES', 'FRACAO IDEAL',\n",
       "       'AREA DO TERRENO', 'AREA CONSTRUIDA', 'AREA OCUPADA',\n",
       "       'VALOR DO M2 DO TERRENO', 'VALOR DO M2 DE CONSTRUCAO',\n",
       "       'ANO DA CONSTRUCAO CORRIGIDO', 'QUANTIDADE DE PAVIMENTOS',\n",
       "       'TESTADA PARA CALCULO', 'TIPO DE USO DO IMOVEL',\n",
       "       'TIPO DE PADRAO DA CONSTRUCAO', 'TIPO DE TERRENO',\n",
       "       'FATOR DE OBSOLESCENCIA', 'ANO DE INICIO DA VIDA DO CONTRIBUINTE',\n",
       "       'MES DE INICIO DA VIDA DO CONTRIBUINTE', 'FASE DO CONTRIBUINTE',\n",
       "       'setor', 'quadra', 'sq', 'lote', 'sqlc', 'area_terreno',\n",
       "       'area_ocupada'],\n",
       "      dtype='object')"
      ]
     },
     "execution_count": 64,
     "metadata": {},
     "output_type": "execute_result"
    }
   ],
   "source": [
    "df_iptu.columns"
   ]
  },
  {
   "cell_type": "code",
   "execution_count": 65,
   "id": "handy-compound",
   "metadata": {},
   "outputs": [
    {
     "data": {
      "text/plain": [
       "3498644"
      ]
     },
     "execution_count": 65,
     "metadata": {},
     "output_type": "execute_result"
    }
   ],
   "source": [
    "len(df_iptu)"
   ]
  },
  {
   "cell_type": "code",
   "execution_count": 66,
   "id": "congressional-governor",
   "metadata": {},
   "outputs": [],
   "source": [
    "df_iptu.loc[:, 'TIPO DE USO DO IMOVEL'] = df_iptu.loc[:, 'TIPO DE USO DO IMOVEL'].str.capitalize()"
   ]
  },
  {
   "cell_type": "code",
   "execution_count": 67,
   "id": "handled-pearl",
   "metadata": {},
   "outputs": [
    {
     "data": {
      "text/plain": [
       "Apartamento em condomínio                                                                                                                             1363685\n",
       "Residência                                                                                                                                            1081450\n",
       "Residência coletiva, exclusive cortiço (mais de uma residência no lote)                                                                                203816\n",
       "Garagem (unidade autônoma) em edifício em condomínio de uso exclusivamente residencial                                                                 196802\n",
       "Escritório/consultório em condomínio (unidade autônoma)                                                                                                138156\n",
       "Terreno                                                                                                                                                109885\n",
       "Residência e outro uso (predominância residencial)                                                                                                      85255\n",
       "Loja                                                                                                                                                    54407\n",
       "Loja e residência (predominância comercial)                                                                                                             45021\n",
       "Garagem (unidade autônoma) em edifício em condomínio de escritórios, consultórios ou misto                                                              38221\n",
       "Prédio de escritório ou consultório, não em condomínio, com ou sem lojas                                                                                24979\n",
       "Flat de uso comercial (semelhante a hotel)                                                                                                              24239\n",
       "Loja em edifício em condomínio (unidade autônoma)                                                                                                       23589\n",
       "Outras edificações de uso comercial, com utilização múltipla                                                                                            21168\n",
       "Indústria                                                                                                                                               13334\n",
       "Oficina                                                                                                                                                  9983\n",
       "Garagem (unidade autônoma) de prédio de garagens                                                                                                         9571\n",
       "Armazéns gerais e depósitos                                                                                                                              8612\n",
       "Escola                                                                                                                                                   6941\n",
       "Templo                                                                                                                                                   5800\n",
       "Flat residencial em condomínio                                                                                                                           4976\n",
       "Outras edificações de uso de serviço, com utilização múltipla                                                                                            4959\n",
       "Hotel, pensão ou hospedaria                                                                                                                              3939\n",
       "Outras edificações de uso coletivo, com utilização múltipla                                                                                              2935\n",
       "Garagem (exclusive em prédio em condomínio)                                                                                                              2714\n",
       "Prédio de apartamento, não em condomínio, de uso misto (apartamentos e escritórios e/ou consultórios), com ou sem loja (predominância residencial)       2704\n",
       "Posto de serviço                                                                                                                                         2294\n",
       "Prédio de apartamento, não em condomínio, de uso exclusivamente residencial                                                                              2037\n",
       "Cortiço                                                                                                                                                  1768\n",
       "Hospital, ambulatório, casa de saúde e assemelhados                                                                                                      1291\n",
       "Outras edificações de uso especial, com utilização múltipla                                                                                              1267\n",
       "Asilo, orfanato, creche, seminário ou convento                                                                                                            927\n",
       "Cinema, teatro, casa de diversão, clube ou congênere                                                                                                      569\n",
       "Clube esportivo                                                                                                                                           563\n",
       "Estação radioemissora, de televisão ou empresa jornalística                                                                                               496\n",
       "Prédio de escritório, não em condomínio, de uso misto (apartamentos e escritórios e/ou consultórios) com ou sem loja (predominância comercial)            291\n",
       "Name: TIPO DE USO DO IMOVEL, dtype: int64"
      ]
     },
     "execution_count": 67,
     "metadata": {},
     "output_type": "execute_result"
    }
   ],
   "source": [
    "df_iptu.loc[:, 'TIPO DE USO DO IMOVEL'].value_counts()"
   ]
  },
  {
   "cell_type": "code",
   "execution_count": 68,
   "id": "endless-decade",
   "metadata": {},
   "outputs": [],
   "source": [
    "usos_agregados = {\n",
    "    'Residencial':[\n",
    "        'Apartamento em condomínio',\n",
    "        'Apartamento',\n",
    "        'Residência',\n",
    "        'Garagem (unidade autônoma) em edifício em condomínio de uso exclusivamente residencial',\n",
    "        'Garagem em edifício de uso exclusivamente residencial',\n",
    "        'Residência e outro uso (predominância residencial)',\n",
    "        'Flat residencial em condomínio',\n",
    "        'Flat, residencial',\n",
    "        'Prédio de apartamento, não em condomínio, de uso misto (apartamentos e escritórios e/ou consultórios), com ou sem loja (predominância residencial)',\n",
    "        'Prédio de apartamento, não em condomínio, de uso exclusivamente residencial',\n",
    "        'Prédio com uso exclusivamente residencial, não em condomínio',\n",
    "        'Prédio com uso misto, predominância de uso residencial, não em condomínio',\n",
    "        'Cortiço',\n",
    "        'Cortiço (habitação coletiva subnormal)',\n",
    "        'Asilo, orfanato, creche, seminário ou convento',\n",
    "        'Residência coletiva, exclusive cortiço (mais de uma residência no lote)',\n",
    "        'Residência coletiva (mais de uma residência no lote), exclusive cortiço',\n",
    "        'Hotel, pensão ou hospedaria'\n",
    "    ],\n",
    "    'Comercial e Serviços': [\n",
    "        'Escritório/consultório em condomínio (unidade autônoma)',\n",
    "        'Loja',\n",
    "        'Loja e residência (predominância comercial)',\n",
    "        'Loja em edifício em condomínio',\n",
    "        'Escritório ou consultório',\n",
    "        'Garagem (unidade autônoma) em edifício em condomínio de escritórios, consultórios ou misto',\n",
    "        'Garagem em edifício de escritórios, consultórios ou misto',\n",
    "        'Prédio de escritório ou consultório, com ou sem lojas, não em condomínio',\n",
    "        'Prédio de escritório ou consultório, não em condomínio, com ou sem lojas',\n",
    "        'Outras edificações do tipo (uso comércio), com utilização múltipla',\n",
    "        'Outras edificações do tipo (uso serviço), com utilização múltipla',\n",
    "        'Outras edificações do tipo (uso coletivo), com utilização múltipla',\n",
    "        'Outras edificações do tipo (uso especial), com utilização múltipla',\n",
    "        'Flat de uso comercial (semelhante a hotel)',\n",
    "        'Flat, não residencial',\n",
    "        'Loja em edifício em condomínio (unidade autônoma)',\n",
    "        'Outras edificações de uso comercial, com utilização múltipla',\n",
    "        'Garagem (unidade autônoma) de prédio de garagens',\n",
    "        'Garagem, em prédio de garagens',\n",
    "        'Estacionamento e garagem, não em condomínio',\n",
    "        'Escola',\n",
    "        'Templo',\n",
    "        'Outras edificações de uso de serviço, com utilização múltipla',\n",
    "        'Garagem (exclusive em prédio em condomínio)',\n",
    "        'Posto de serviço',\n",
    "        'Posto de serviço (combustíveis)',\n",
    "        'Hospital, ambulatório, casa de saúde e assemelhados',\n",
    "        'Outras edificações de uso especial, com utilização múltipla',\n",
    "        'Cinema, teatro, casa de diversão, clube ou congênere',\n",
    "        'Clube esportivo',\n",
    "        'Estação radioemissora, de televisão ou empresa jornalística',\n",
    "        'Prédio de escritório, não em condomínio, de uso misto (apartamentos e escritórios e/ou consultórios) com ou sem loja (predominância comercial)',\n",
    "        'Prédio com uso misto, predominância de uso não residencial, não em condomínio',\n",
    "        'Outras edificações de uso coletivo, com utilização múltipla'\n",
    "    ],\n",
    "    'Terrenos, indústria, galpões e outros':[\n",
    "        'Terreno',\n",
    "        'Indústria',\n",
    "        'Oficina',\n",
    "        'Armazéns gerais e depósitos'\n",
    "    ]\n",
    "}"
   ]
  },
  {
   "cell_type": "code",
   "execution_count": 69,
   "id": "filled-humidity",
   "metadata": {},
   "outputs": [
    {
     "data": {
      "text/plain": [
       "['Apartamento em condomínio',\n",
       " 'Apartamento',\n",
       " 'Residência',\n",
       " 'Garagem (unidade autônoma) em edifício em condomínio de uso exclusivamente residencial',\n",
       " 'Garagem em edifício de uso exclusivamente residencial',\n",
       " 'Residência e outro uso (predominância residencial)',\n",
       " 'Flat residencial em condomínio',\n",
       " 'Flat, residencial',\n",
       " 'Prédio de apartamento, não em condomínio, de uso misto (apartamentos e escritórios e/ou consultórios), com ou sem loja (predominância residencial)',\n",
       " 'Prédio de apartamento, não em condomínio, de uso exclusivamente residencial',\n",
       " 'Prédio com uso exclusivamente residencial, não em condomínio',\n",
       " 'Prédio com uso misto, predominância de uso residencial, não em condomínio',\n",
       " 'Cortiço',\n",
       " 'Cortiço (habitação coletiva subnormal)',\n",
       " 'Asilo, orfanato, creche, seminário ou convento',\n",
       " 'Residência coletiva, exclusive cortiço (mais de uma residência no lote)',\n",
       " 'Residência coletiva (mais de uma residência no lote), exclusive cortiço',\n",
       " 'Hotel, pensão ou hospedaria']"
      ]
     },
     "execution_count": 69,
     "metadata": {},
     "output_type": "execute_result"
    }
   ],
   "source": [
    "usos_agregados['Residencial']"
   ]
  },
  {
   "cell_type": "code",
   "execution_count": 70,
   "id": "finite-slave",
   "metadata": {},
   "outputs": [
    {
     "data": {
      "text/plain": [
       "101.0"
      ]
     },
     "execution_count": 70,
     "metadata": {},
     "output_type": "execute_result"
    }
   ],
   "source": [
    "df_iptu.loc[df_iptu['TIPO DE USO DO IMOVEL'].isin(usos_agregados['Residencial']), \n",
    "            'AREA CONSTRUIDA'].median()"
   ]
  },
  {
   "cell_type": "code",
   "execution_count": 71,
   "id": "reflected-patrick",
   "metadata": {},
   "outputs": [
    {
     "data": {
      "text/plain": [
       "127.20050967662914"
      ]
     },
     "execution_count": 71,
     "metadata": {},
     "output_type": "execute_result"
    }
   ],
   "source": [
    "df_iptu.loc[df_iptu['TIPO DE USO DO IMOVEL'].isin(usos_agregados['Residencial']), \n",
    "            'AREA CONSTRUIDA'].mean()"
   ]
  },
  {
   "cell_type": "code",
   "execution_count": 72,
   "id": "adaptive-channel",
   "metadata": {},
   "outputs": [
    {
     "data": {
      "text/plain": [
       "<AxesSubplot:>"
      ]
     },
     "execution_count": 72,
     "metadata": {},
     "output_type": "execute_result"
    },
    {
     "data": {
      "image/png": "[encoded data removed]",
      "text/plain": [
       "<Figure size 432x288 with 1 Axes>"
      ]
     },
     "metadata": {
      "needs_background": "light"
     },
     "output_type": "display_data"
    }
   ],
   "source": [
    "df_iptu.loc[df_iptu['TIPO DE USO DO IMOVEL'].isin(usos_agregados['Residencial']) & \\\n",
    "            (df_iptu['AREA CONSTRUIDA'] < 600), \n",
    "            'AREA CONSTRUIDA'].hist(bins = 60)"
   ]
  },
  {
   "cell_type": "code",
   "execution_count": 73,
   "id": "fiscal-emission",
   "metadata": {
    "scrolled": true
   },
   "outputs": [
    {
     "data": {
      "text/plain": [
       "<AxesSubplot:>"
      ]
     },
     "execution_count": 73,
     "metadata": {},
     "output_type": "execute_result"
    },
    {
     "data": {
      "image/png": "[encoded data removed]",
      "text/plain": [
       "<Figure size 432x288 with 1 Axes>"
      ]
     },
     "metadata": {
      "needs_background": "light"
     },
     "output_type": "display_data"
    }
   ],
   "source": [
    "df_iptu.loc[df_iptu['TIPO DE USO DO IMOVEL'].isin(usos_agregados['Residencial']) & \\\n",
    "            (df_iptu['AREA CONSTRUIDA'] < 200), \n",
    "            'AREA CONSTRUIDA'].hist(bins = 15)"
   ]
  },
  {
   "cell_type": "code",
   "execution_count": 74,
   "id": "fitted-server",
   "metadata": {},
   "outputs": [],
   "source": [
    "df_iptu_residencial = \\\n",
    "df_iptu.loc[df_iptu['TIPO DE USO DO IMOVEL'].isin(usos_agregados['Residencial']),\n",
    "           ['TIPO DE USO DO IMOVEL', 'ANO DA CONSTRUCAO CORRIGIDO', 'AREA CONSTRUIDA']]"
   ]
  },
  {
   "cell_type": "code",
   "execution_count": 75,
   "id": "frank-subscriber",
   "metadata": {},
   "outputs": [],
   "source": [
    "df_iptu_residencial['A.C. Residencia Horizontal'] = \\\n",
    "df_iptu_residencial.loc[df_iptu_residencial['TIPO DE USO DO IMOVEL'] == 'Residência',\n",
    "                       'AREA CONSTRUIDA']"
   ]
  },
  {
   "cell_type": "code",
   "execution_count": 76,
   "id": "historical-diameter",
   "metadata": {},
   "outputs": [],
   "source": [
    "df_iptu_residencial['A.C. Apartamento em Condomínio'] = \\\n",
    "df_iptu_residencial.loc[df_iptu_residencial['TIPO DE USO DO IMOVEL'] == 'Apartamento em condomínio',\n",
    "                       'AREA CONSTRUIDA']"
   ]
  },
  {
   "cell_type": "code",
   "execution_count": 77,
   "id": "surgical-reputation",
   "metadata": {},
   "outputs": [
    {
     "data": {
      "text/plain": [
       "<AxesSubplot:xlabel='ANO DA CONSTRUCAO CORRIGIDO'>"
      ]
     },
     "execution_count": 77,
     "metadata": {},
     "output_type": "execute_result"
    },
    {
     "data": {
      "image/png": "[encoded data removed]",
      "text/plain": [
       "<Figure size 432x288 with 1 Axes>"
      ]
     },
     "metadata": {
      "needs_background": "light"
     },
     "output_type": "display_data"
    }
   ],
   "source": [
    "df_iptu_residencial.loc[df_iptu_residencial['ANO DA CONSTRUCAO CORRIGIDO'] > 1970,\n",
    "                       ['ANO DA CONSTRUCAO CORRIGIDO',\n",
    "                       'A.C. Residencia Horizontal',\n",
    "                       'A.C. Apartamento em Condomínio']].\\\n",
    "groupby(['ANO DA CONSTRUCAO CORRIGIDO']).\\\n",
    "sum().plot()"
   ]
  },
  {
   "cell_type": "markdown",
   "id": "golden-netherlands",
   "metadata": {},
   "source": [
    "## Agregando por uso agregado e espacializando"
   ]
  },
  {
   "cell_type": "code",
   "execution_count": 78,
   "id": "arabic-hearing",
   "metadata": {},
   "outputs": [
    {
     "data": {
      "text/plain": [
       "dict_keys(['Residencial', 'Comercial e Serviços', 'Terrenos, indústria, galpões e outros'])"
      ]
     },
     "execution_count": 78,
     "metadata": {},
     "output_type": "execute_result"
    }
   ],
   "source": [
    "usos_agregados.keys()"
   ]
  },
  {
   "cell_type": "code",
   "execution_count": 79,
   "id": "sealed-disaster",
   "metadata": {},
   "outputs": [],
   "source": [
    "for k in usos_agregados.keys():\n",
    "    df_iptu\\\n",
    "    .loc[df_iptu['TIPO DE USO DO IMOVEL'].isin(usos_agregados[k]), \\\n",
    "        'uso_agregado'] = k"
   ]
  },
  {
   "cell_type": "code",
   "execution_count": 80,
   "id": "serial-cooking",
   "metadata": {},
   "outputs": [
    {
     "data": {
      "text/plain": [
       "Residencial                              2947359\n",
       "Comercial e Serviços                      409471\n",
       "Terrenos, indústria, galpões e outros     141814\n",
       "Name: uso_agregado, dtype: int64"
      ]
     },
     "execution_count": 80,
     "metadata": {},
     "output_type": "execute_result"
    }
   ],
   "source": [
    "df_iptu.uso_agregado.value_counts()"
   ]
  },
  {
   "cell_type": "code",
   "execution_count": 81,
   "id": "resistant-clear",
   "metadata": {},
   "outputs": [
    {
     "data": {
      "text/plain": [
       "Series([], Name: TIPO DE USO DO IMOVEL, dtype: int64)"
      ]
     },
     "execution_count": 81,
     "metadata": {},
     "output_type": "execute_result"
    }
   ],
   "source": [
    "df_iptu.loc[df_iptu.uso_agregado.isna(), 'TIPO DE USO DO IMOVEL'].value_counts()"
   ]
  },
  {
   "cell_type": "code",
   "execution_count": 82,
   "id": "reflected-victory",
   "metadata": {},
   "outputs": [],
   "source": [
    "sq_area = df_iptu[['sq', \\\n",
    "                    'AREA CONSTRUIDA']]\\\n",
    ".groupby(['sq'])\\\n",
    ".agg({'AREA CONSTRUIDA': 'sum'})\\\n",
    ".rename(columns = {'AREA CONSTRUIDA': 'area_construida'})"
   ]
  },
  {
   "cell_type": "code",
   "execution_count": 83,
   "id": "centered-marketplace",
   "metadata": {},
   "outputs": [],
   "source": [
    "iptu_agg = df_iptu[['sq', \\\n",
    "                    'AREA CONSTRUIDA',\n",
    "                    'uso_agregado']]\\\n",
    ".groupby(['sq', 'uso_agregado'])\\\n",
    ".agg({'AREA CONSTRUIDA': 'sum'})\\\n",
    ".rename(columns = {'AREA CONSTRUIDA': 'area_construida'})"
   ]
  },
  {
   "cell_type": "code",
   "execution_count": 84,
   "id": "matched-calendar",
   "metadata": {},
   "outputs": [],
   "source": [
    "iptu_agg_qd = iptu_agg.reset_index().merge(sq_area, on='sq', how='left')"
   ]
  },
  {
   "cell_type": "code",
   "execution_count": 85,
   "id": "grave-organic",
   "metadata": {},
   "outputs": [],
   "source": [
    "iptu_agg_qd = \\\n",
    "iptu_agg_qd.loc[(iptu_agg_qd.area_construida_y != 0) | \\\n",
    "               (iptu_agg_qd.area_construida_x != 0)]"
   ]
  },
  {
   "cell_type": "code",
   "execution_count": 86,
   "id": "wired-camcorder",
   "metadata": {},
   "outputs": [
    {
     "data": {
      "text/html": [
       "<div>\n",
       "<style scoped>\n",
       "    .dataframe tbody tr th:only-of-type {\n",
       "        vertical-align: middle;\n",
       "    }\n",
       "\n",
       "    .dataframe tbody tr th {\n",
       "        vertical-align: top;\n",
       "    }\n",
       "\n",
       "    .dataframe thead th {\n",
       "        text-align: right;\n",
       "    }\n",
       "</style>\n",
       "<table border=\"1\" class=\"dataframe\">\n",
       "  <thead>\n",
       "    <tr style=\"text-align: right;\">\n",
       "      <th></th>\n",
       "      <th>sq</th>\n",
       "      <th>uso_agregado</th>\n",
       "      <th>area_construida_x</th>\n",
       "      <th>area_construida_y</th>\n",
       "    </tr>\n",
       "  </thead>\n",
       "  <tbody>\n",
       "    <tr>\n",
       "      <th>0</th>\n",
       "      <td>001003</td>\n",
       "      <td>Comercial e Serviços</td>\n",
       "      <td>22140</td>\n",
       "      <td>29926</td>\n",
       "    </tr>\n",
       "    <tr>\n",
       "      <th>1</th>\n",
       "      <td>001003</td>\n",
       "      <td>Residencial</td>\n",
       "      <td>7786</td>\n",
       "      <td>29926</td>\n",
       "    </tr>\n",
       "    <tr>\n",
       "      <th>2</th>\n",
       "      <td>001003</td>\n",
       "      <td>Terrenos, indústria, galpões e outros</td>\n",
       "      <td>0</td>\n",
       "      <td>29926</td>\n",
       "    </tr>\n",
       "    <tr>\n",
       "      <th>3</th>\n",
       "      <td>001004</td>\n",
       "      <td>Comercial e Serviços</td>\n",
       "      <td>13305</td>\n",
       "      <td>20715</td>\n",
       "    </tr>\n",
       "    <tr>\n",
       "      <th>4</th>\n",
       "      <td>001004</td>\n",
       "      <td>Residencial</td>\n",
       "      <td>5994</td>\n",
       "      <td>20715</td>\n",
       "    </tr>\n",
       "    <tr>\n",
       "      <th>...</th>\n",
       "      <td>...</td>\n",
       "      <td>...</td>\n",
       "      <td>...</td>\n",
       "      <td>...</td>\n",
       "    </tr>\n",
       "    <tr>\n",
       "      <th>103915</th>\n",
       "      <td>310116</td>\n",
       "      <td>Comercial e Serviços</td>\n",
       "      <td>180</td>\n",
       "      <td>1313</td>\n",
       "    </tr>\n",
       "    <tr>\n",
       "      <th>103916</th>\n",
       "      <td>310116</td>\n",
       "      <td>Residencial</td>\n",
       "      <td>1133</td>\n",
       "      <td>1313</td>\n",
       "    </tr>\n",
       "    <tr>\n",
       "      <th>103917</th>\n",
       "      <td>310117</td>\n",
       "      <td>Comercial e Serviços</td>\n",
       "      <td>728</td>\n",
       "      <td>22601</td>\n",
       "    </tr>\n",
       "    <tr>\n",
       "      <th>103918</th>\n",
       "      <td>310117</td>\n",
       "      <td>Residencial</td>\n",
       "      <td>21873</td>\n",
       "      <td>22601</td>\n",
       "    </tr>\n",
       "    <tr>\n",
       "      <th>103919</th>\n",
       "      <td>310118</td>\n",
       "      <td>Residencial</td>\n",
       "      <td>25215</td>\n",
       "      <td>25215</td>\n",
       "    </tr>\n",
       "  </tbody>\n",
       "</table>\n",
       "<p>103032 rows × 4 columns</p>\n",
       "</div>"
      ],
      "text/plain": [
       "            sq                           uso_agregado  area_construida_x  \\\n",
       "0       001003                   Comercial e Serviços              22140   \n",
       "1       001003                            Residencial               7786   \n",
       "2       001003  Terrenos, indústria, galpões e outros                  0   \n",
       "3       001004                   Comercial e Serviços              13305   \n",
       "4       001004                            Residencial               5994   \n",
       "...        ...                                    ...                ...   \n",
       "103915  310116                   Comercial e Serviços                180   \n",
       "103916  310116                            Residencial               1133   \n",
       "103917  310117                   Comercial e Serviços                728   \n",
       "103918  310117                            Residencial              21873   \n",
       "103919  310118                            Residencial              25215   \n",
       "\n",
       "        area_construida_y  \n",
       "0                   29926  \n",
       "1                   29926  \n",
       "2                   29926  \n",
       "3                   20715  \n",
       "4                   20715  \n",
       "...                   ...  \n",
       "103915               1313  \n",
       "103916               1313  \n",
       "103917              22601  \n",
       "103918              22601  \n",
       "103919              25215  \n",
       "\n",
       "[103032 rows x 4 columns]"
      ]
     },
     "execution_count": 86,
     "metadata": {},
     "output_type": "execute_result"
    }
   ],
   "source": [
    "iptu_agg_qd"
   ]
  },
  {
   "cell_type": "code",
   "execution_count": 87,
   "id": "imperial-genesis",
   "metadata": {},
   "outputs": [],
   "source": [
    "# Gerando GeoDataFrame\n",
    "gdf_iptu_agg = gdf_quadras.merge(iptu_agg_qd, on='sq', how='right')"
   ]
  },
  {
   "cell_type": "markdown",
   "id": "dimensional-shopper",
   "metadata": {},
   "source": [
    "## Gerando Raster com usos agregados"
   ]
  },
  {
   "cell_type": "code",
   "execution_count": 88,
   "id": "angry-priest",
   "metadata": {},
   "outputs": [],
   "source": [
    "import numpy as np\n",
    "from scipy.interpolate import griddata\n",
    "import matplotlib.pyplot as plt\n",
    "import rasterio"
   ]
  },
  {
   "cell_type": "code",
   "execution_count": 89,
   "id": "elementary-dairy",
   "metadata": {},
   "outputs": [],
   "source": [
    "resolucao_espacial = 30"
   ]
  },
  {
   "cell_type": "code",
   "execution_count": 90,
   "id": "focused-correction",
   "metadata": {},
   "outputs": [
    {
     "name": "stderr",
     "output_type": "stream",
     "text": [
      "/home/fernando/miniconda3/envs/geoplot/lib/python3.9/site-packages/geopandas/geodataframe.py:577: RuntimeWarning: Sequential read of iterator was interrupted. Resetting iterator. This can negatively impact the performance.\n",
      "  for feature in features_lst:\n"
     ]
    }
   ],
   "source": [
    "limite_municipio = gpd.read_file('GIS/municipio-de-São-Paulo.gpkg')"
   ]
  },
  {
   "cell_type": "code",
   "execution_count": 91,
   "id": "awful-morgan",
   "metadata": {},
   "outputs": [],
   "source": [
    "x_range = np.arange(limite_municipio.bounds.minx[0],\n",
    "                    limite_municipio.bounds.maxx[0] + resolucao_espacial,\n",
    "                    resolucao_espacial)\n",
    "\n",
    "y_range = np.arange(limite_municipio.bounds.miny[0],\n",
    "                    limite_municipio.bounds.maxy[0] + resolucao_espacial,\n",
    "                    resolucao_espacial)"
   ]
  },
  {
   "cell_type": "code",
   "execution_count": 92,
   "id": "adjacent-catch",
   "metadata": {},
   "outputs": [],
   "source": [
    "grid_x, grid_y = np.meshgrid(x_range, y_range)"
   ]
  },
  {
   "cell_type": "code",
   "execution_count": 93,
   "id": "curious-exploration",
   "metadata": {},
   "outputs": [],
   "source": [
    "gdf_iptu_agg = gdf_iptu_agg[gdf_iptu_agg.is_valid]"
   ]
  },
  {
   "cell_type": "code",
   "execution_count": 94,
   "id": "close-mounting",
   "metadata": {},
   "outputs": [],
   "source": [
    "gdf_iptu_agg = gdf_iptu_agg.set_index('sq')"
   ]
  },
  {
   "cell_type": "code",
   "execution_count": 95,
   "id": "premium-festival",
   "metadata": {},
   "outputs": [],
   "source": [
    "gdf_iptu_agg_res = gdf_iptu_agg.loc[gdf_iptu_agg.uso_agregado == 'Residencial']\n",
    "gdf_iptu_agg_com = gdf_iptu_agg.loc[gdf_iptu_agg.uso_agregado == 'Comercial e Serviços']\n",
    "gdf_iptu_agg_outros = gdf_iptu_agg.loc[gdf_iptu_agg.uso_agregado == 'Terrenos, indústria, galpões e outros']"
   ]
  },
  {
   "cell_type": "code",
   "execution_count": 96,
   "id": "extreme-geometry",
   "metadata": {},
   "outputs": [],
   "source": [
    "df_iptu_agg_usos = \\\n",
    "pd.concat([gdf_iptu_agg.groupby('sq')['geometry'].first(),\n",
    "          gdf_iptu_agg_res.loc[:, 'area_construida_x'].rename('Residencial'),\n",
    "          gdf_iptu_agg_com.loc[:, 'area_construida_x'].rename('Comercial e Serviços'),\n",
    "          gdf_iptu_agg_outros.loc[:, 'area_construida_x'].rename('Terrenos, indústria, galpões e outros'),\n",
    "          gdf_iptu_agg.groupby('sq')['area_construida_y'].first().rename('Area Total Construida')],\n",
    "          axis=1)"
   ]
  },
  {
   "cell_type": "code",
   "execution_count": 97,
   "id": "south-sauce",
   "metadata": {},
   "outputs": [
    {
     "data": {
      "text/html": [
       "<div>\n",
       "<style scoped>\n",
       "    .dataframe tbody tr th:only-of-type {\n",
       "        vertical-align: middle;\n",
       "    }\n",
       "\n",
       "    .dataframe tbody tr th {\n",
       "        vertical-align: top;\n",
       "    }\n",
       "\n",
       "    .dataframe thead th {\n",
       "        text-align: right;\n",
       "    }\n",
       "</style>\n",
       "<table border=\"1\" class=\"dataframe\">\n",
       "  <thead>\n",
       "    <tr style=\"text-align: right;\">\n",
       "      <th></th>\n",
       "      <th>geometry</th>\n",
       "      <th>Residencial</th>\n",
       "      <th>Comercial e Serviços</th>\n",
       "      <th>Terrenos, indústria, galpões e outros</th>\n",
       "      <th>Area Total Construida</th>\n",
       "    </tr>\n",
       "    <tr>\n",
       "      <th>sq</th>\n",
       "      <th></th>\n",
       "      <th></th>\n",
       "      <th></th>\n",
       "      <th></th>\n",
       "      <th></th>\n",
       "    </tr>\n",
       "  </thead>\n",
       "  <tbody>\n",
       "    <tr>\n",
       "      <th>001003</th>\n",
       "      <td>POINT (333387.800 7396468.599)</td>\n",
       "      <td>7786.0</td>\n",
       "      <td>22140.0</td>\n",
       "      <td>0.0</td>\n",
       "      <td>29926</td>\n",
       "    </tr>\n",
       "    <tr>\n",
       "      <th>001004</th>\n",
       "      <td>POINT (333487.097 7396436.735)</td>\n",
       "      <td>5994.0</td>\n",
       "      <td>13305.0</td>\n",
       "      <td>1416.0</td>\n",
       "      <td>20715</td>\n",
       "    </tr>\n",
       "    <tr>\n",
       "      <th>001005</th>\n",
       "      <td>POINT (333561.571 7396423.397)</td>\n",
       "      <td>5431.0</td>\n",
       "      <td>10246.0</td>\n",
       "      <td>1586.0</td>\n",
       "      <td>17263</td>\n",
       "    </tr>\n",
       "    <tr>\n",
       "      <th>001006</th>\n",
       "      <td>POINT (333606.259 7396412.473)</td>\n",
       "      <td>3137.0</td>\n",
       "      <td>4279.0</td>\n",
       "      <td>270.0</td>\n",
       "      <td>7686</td>\n",
       "    </tr>\n",
       "    <tr>\n",
       "      <th>001007</th>\n",
       "      <td>POINT (333670.058 7396400.965)</td>\n",
       "      <td>13246.0</td>\n",
       "      <td>12521.0</td>\n",
       "      <td>300.0</td>\n",
       "      <td>26067</td>\n",
       "    </tr>\n",
       "    <tr>\n",
       "      <th>...</th>\n",
       "      <td>...</td>\n",
       "      <td>...</td>\n",
       "      <td>...</td>\n",
       "      <td>...</td>\n",
       "      <td>...</td>\n",
       "    </tr>\n",
       "    <tr>\n",
       "      <th>310114</th>\n",
       "      <td>POINT (332961.601 7383593.159)</td>\n",
       "      <td>5025.0</td>\n",
       "      <td>NaN</td>\n",
       "      <td>NaN</td>\n",
       "      <td>5025</td>\n",
       "    </tr>\n",
       "    <tr>\n",
       "      <th>310115</th>\n",
       "      <td>POINT (333248.311 7383543.462)</td>\n",
       "      <td>10549.0</td>\n",
       "      <td>211.0</td>\n",
       "      <td>244.0</td>\n",
       "      <td>11004</td>\n",
       "    </tr>\n",
       "    <tr>\n",
       "      <th>310116</th>\n",
       "      <td>POINT (332733.661 7383530.821)</td>\n",
       "      <td>1133.0</td>\n",
       "      <td>180.0</td>\n",
       "      <td>NaN</td>\n",
       "      <td>1313</td>\n",
       "    </tr>\n",
       "    <tr>\n",
       "      <th>310117</th>\n",
       "      <td>POINT (333174.165 7383508.667)</td>\n",
       "      <td>21873.0</td>\n",
       "      <td>728.0</td>\n",
       "      <td>NaN</td>\n",
       "      <td>22601</td>\n",
       "    </tr>\n",
       "    <tr>\n",
       "      <th>310118</th>\n",
       "      <td>POINT (332646.595 7384341.976)</td>\n",
       "      <td>25215.0</td>\n",
       "      <td>NaN</td>\n",
       "      <td>NaN</td>\n",
       "      <td>25215</td>\n",
       "    </tr>\n",
       "  </tbody>\n",
       "</table>\n",
       "<p>44504 rows × 5 columns</p>\n",
       "</div>"
      ],
      "text/plain": [
       "                              geometry  Residencial  Comercial e Serviços  \\\n",
       "sq                                                                          \n",
       "001003  POINT (333387.800 7396468.599)       7786.0               22140.0   \n",
       "001004  POINT (333487.097 7396436.735)       5994.0               13305.0   \n",
       "001005  POINT (333561.571 7396423.397)       5431.0               10246.0   \n",
       "001006  POINT (333606.259 7396412.473)       3137.0                4279.0   \n",
       "001007  POINT (333670.058 7396400.965)      13246.0               12521.0   \n",
       "...                                ...          ...                   ...   \n",
       "310114  POINT (332961.601 7383593.159)       5025.0                   NaN   \n",
       "310115  POINT (333248.311 7383543.462)      10549.0                 211.0   \n",
       "310116  POINT (332733.661 7383530.821)       1133.0                 180.0   \n",
       "310117  POINT (333174.165 7383508.667)      21873.0                 728.0   \n",
       "310118  POINT (332646.595 7384341.976)      25215.0                   NaN   \n",
       "\n",
       "        Terrenos, indústria, galpões e outros  Area Total Construida  \n",
       "sq                                                                    \n",
       "001003                                    0.0                  29926  \n",
       "001004                                 1416.0                  20715  \n",
       "001005                                 1586.0                  17263  \n",
       "001006                                  270.0                   7686  \n",
       "001007                                  300.0                  26067  \n",
       "...                                       ...                    ...  \n",
       "310114                                    NaN                   5025  \n",
       "310115                                  244.0                  11004  \n",
       "310116                                    NaN                   1313  \n",
       "310117                                    NaN                  22601  \n",
       "310118                                    NaN                  25215  \n",
       "\n",
       "[44504 rows x 5 columns]"
      ]
     },
     "execution_count": 97,
     "metadata": {},
     "output_type": "execute_result"
    }
   ],
   "source": [
    "df_iptu_agg_usos"
   ]
  },
  {
   "cell_type": "code",
   "execution_count": 98,
   "id": "sunrise-indian",
   "metadata": {},
   "outputs": [],
   "source": [
    "points_usos = list(df_iptu_agg_usos.geometry.apply(lambda p: (p.x, p.y)))\n",
    "\n",
    "# Banda Residencial\n",
    "values_res = df_iptu_agg_usos['Residencial'] / df_iptu_agg_usos['Area Total Construida']\n",
    "values_res[np.isnan(values_res)] = 0.\n",
    "\n",
    "# Banda Comercial\n",
    "values_com = df_iptu_agg_usos['Comercial e Serviços'] / df_iptu_agg_usos['Area Total Construida']\n",
    "values_com[np.isnan(values_com)] = 0.\n",
    "\n",
    "# Banda Outros\n",
    "values_outros = df_iptu_agg_usos['Terrenos, indústria, galpões e outros'] / df_iptu_agg_usos['Area Total Construida']\n",
    "values_outros[np.isnan(values_outros)] = 0."
   ]
  },
  {
   "cell_type": "code",
   "execution_count": 99,
   "id": "retained-berkeley",
   "metadata": {},
   "outputs": [
    {
     "data": {
      "text/plain": [
       "44504"
      ]
     },
     "execution_count": 99,
     "metadata": {},
     "output_type": "execute_result"
    }
   ],
   "source": [
    "len(points_usos)"
   ]
  },
  {
   "cell_type": "code",
   "execution_count": 100,
   "id": "adult-thirty",
   "metadata": {},
   "outputs": [],
   "source": [
    "# Interpolando no grid\n",
    "\n",
    "grid_res = griddata(points_usos, values_res, (grid_x, grid_y), method='nearest')\n",
    "grid_com = griddata(points_usos, values_com, (grid_x, grid_y), method='nearest')\n",
    "grid_outros = griddata(points_usos, values_outros, (grid_x, grid_y), method='nearest')"
   ]
  },
  {
   "cell_type": "code",
   "execution_count": 101,
   "id": "particular-musical",
   "metadata": {
    "scrolled": false
   },
   "outputs": [
    {
     "data": {
      "text/plain": [
       "<matplotlib.image.AxesImage at 0x7f3955b15280>"
      ]
     },
     "execution_count": 101,
     "metadata": {},
     "output_type": "execute_result"
    },
    {
     "data": {
      "image/png": "[encoded data removed]",
      "text/plain": [
       "<Figure size 432x288 with 1 Axes>"
      ]
     },
     "metadata": {
      "needs_background": "light"
     },
     "output_type": "display_data"
    }
   ],
   "source": [
    "plt.imshow(grid_outros)"
   ]
  },
  {
   "cell_type": "markdown",
   "id": "eligible-harassment",
   "metadata": {},
   "source": [
    "## Salvando em arquivos Raster"
   ]
  },
  {
   "cell_type": "code",
   "execution_count": 102,
   "id": "productive-mathematics",
   "metadata": {},
   "outputs": [],
   "source": [
    "from rasterio.transform import Affine\n",
    "from rasterio import mask\n",
    "from rasterio.crs import CRS"
   ]
  },
  {
   "cell_type": "code",
   "execution_count": 103,
   "id": "muslim-chorus",
   "metadata": {},
   "outputs": [
    {
     "data": {
      "text/plain": [
       "Affine(30.0, 0.0, 313374.67093572277,\n",
       "       0.0, 30.0, 7343727.818227606)"
      ]
     },
     "execution_count": 103,
     "metadata": {},
     "output_type": "execute_result"
    }
   ],
   "source": [
    "transform = Affine.translation(grid_x[0][0] - resolucao_espacial / 2, \n",
    "                               grid_y[0][0] - resolucao_espacial / 2 ) \\\n",
    "                               * Affine.scale(resolucao_espacial, resolucao_espacial)\n",
    "transform"
   ]
  },
  {
   "cell_type": "code",
   "execution_count": 104,
   "id": "floating-development",
   "metadata": {},
   "outputs": [],
   "source": [
    "raster_crs = CRS.from_epsg(31983)"
   ]
  },
  {
   "cell_type": "code",
   "execution_count": 105,
   "id": "recovered-courage",
   "metadata": {},
   "outputs": [],
   "source": [
    "grid_res = grid_res.astype('float32')\n",
    "grid_com = grid_com.astype('float32')\n",
    "grid_outros = grid_outros.astype('float32')"
   ]
  },
  {
   "cell_type": "code",
   "execution_count": 106,
   "id": "wrapped-lightning",
   "metadata": {},
   "outputs": [],
   "source": [
    "meta = {\n",
    "    'driver':'GTiff',\n",
    "    'height':grid_res.shape[0],\n",
    "    'width':grid_res.shape[1],\n",
    "    'count':1,\n",
    "    'nodata':0.,\n",
    "    'dtype':grid_res.dtype,\n",
    "    'crs':raster_crs,\n",
    "    'transform':transform,\n",
    "}"
   ]
  },
  {
   "cell_type": "code",
   "execution_count": 107,
   "id": "casual-apparel",
   "metadata": {},
   "outputs": [],
   "source": [
    "with rasterio.open(f'resultados/tipos_de_uso/IPTU-proporcao-uso-residencial-2020.TIF', \"w\", **meta) as dest:\n",
    "    dest.write(grid_res, 1)\n"
   ]
  },
  {
   "cell_type": "code",
   "execution_count": 108,
   "id": "detailed-marker",
   "metadata": {},
   "outputs": [],
   "source": [
    "with rasterio.open(f'resultados/tipos_de_uso/IPTU-proporcao-uso-comercial-servicos-2020.TIF', \"w\", **meta) as dest:\n",
    "    dest.write(grid_com, 1)"
   ]
  },
  {
   "cell_type": "code",
   "execution_count": 109,
   "id": "manual-henry",
   "metadata": {},
   "outputs": [],
   "source": [
    "with rasterio.open(f'resultados/tipos_de_uso/IPTU-proporcao-uso-outros-2020.TIF', \"w\", **meta) as dest:\n",
    "    dest.write(grid_outros, 1)"
   ]
  },
  {
   "cell_type": "code",
   "execution_count": 110,
   "id": "criminal-stomach",
   "metadata": {},
   "outputs": [],
   "source": [
    "# grid_res = np.fl(grid_res * 254)\n",
    "# grid_com = np.uint8(grid_com * 254)\n",
    "# grid_outros = np.uint8(grid_outros * 254)"
   ]
  },
  {
   "cell_type": "code",
   "execution_count": 111,
   "id": "quarterly-lucas",
   "metadata": {},
   "outputs": [],
   "source": [
    "meta = {\n",
    "    'driver':'GTiff',\n",
    "    'height':grid_res.shape[0],\n",
    "    'width':grid_res.shape[1],\n",
    "    'count':3,\n",
    "    'nodata':9999.,\n",
    "    'dtype':grid_res.dtype,\n",
    "    'crs':raster_crs,\n",
    "    'transform':transform,\n",
    "}"
   ]
  },
  {
   "cell_type": "code",
   "execution_count": 112,
   "id": "operational-subcommittee",
   "metadata": {},
   "outputs": [],
   "source": [
    "with rasterio.open(f'resultados/tipos_de_uso/IPTU-proporcao-usos-color-2020.TIF', \"w\", **meta) as dest:\n",
    "    dest.write(grid_res, 1)\n",
    "    dest.write(grid_com, 2)\n",
    "    dest.write(grid_outros, 3)"
   ]
  },
  {
   "cell_type": "markdown",
   "id": "cardiac-planning",
   "metadata": {},
   "source": [
    "## Gera raster dos tipos de uso para cada ano"
   ]
  },
  {
   "cell_type": "code",
   "execution_count": 113,
   "id": "driving-proceeding",
   "metadata": {},
   "outputs": [],
   "source": [
    "from pathlib import Path\n",
    "import os"
   ]
  },
  {
   "cell_type": "code",
   "execution_count": 114,
   "id": "attractive-taste",
   "metadata": {},
   "outputs": [
    {
     "name": "stdout",
     "output_type": "stream",
     "text": [
      "IPTU_2010.zip\n"
     ]
    },
    {
     "name": "stderr",
     "output_type": "stream",
     "text": [
      "b'Skipping line 2445507: expected 35 fields, saw 43\\n'\n",
      "/home/fernando/miniconda3/envs/geoplot/lib/python3.9/site-packages/IPython/core/interactiveshell.py:3165: DtypeWarning: Columns (18,19,20,21,22) have mixed types.Specify dtype option on import or set low_memory=False.\n",
      "  has_raised = await self.run_ast_nodes(code_ast.body, cell_name,\n"
     ]
    },
    {
     "name": "stdout",
     "output_type": "stream",
     "text": [
      "Series([], Name: TIPO DE USO DO IMOVEL, dtype: int64)\n",
      "IPTU_1996.zip\n"
     ]
    },
    {
     "name": "stderr",
     "output_type": "stream",
     "text": [
      "/home/fernando/miniconda3/envs/geoplot/lib/python3.9/site-packages/IPython/core/interactiveshell.py:3165: DtypeWarning: Columns (27) have mixed types.Specify dtype option on import or set low_memory=False.\n",
      "  has_raised = await self.run_ast_nodes(code_ast.body, cell_name,\n"
     ]
    },
    {
     "name": "stdout",
     "output_type": "stream",
     "text": [
      "Residência vertical - padrão c    1\n",
      "Name: TIPO DE USO DO IMOVEL, dtype: int64\n",
      "IPTU_2007.zip\n"
     ]
    },
    {
     "name": "stderr",
     "output_type": "stream",
     "text": [
      "b'Skipping line 2417712: expected 35 fields, saw 43\\n'\n"
     ]
    },
    {
     "name": "stdout",
     "output_type": "stream",
     "text": [
      "Series([], Name: TIPO DE USO DO IMOVEL, dtype: int64)\n",
      "IPTU_2013.zip\n"
     ]
    },
    {
     "name": "stderr",
     "output_type": "stream",
     "text": [
      "b'Skipping line 2560170: expected 35 fields, saw 43\\n'\n",
      "/home/fernando/miniconda3/envs/geoplot/lib/python3.9/site-packages/IPython/core/interactiveshell.py:3165: DtypeWarning: Columns (18,19,20,21,22,27) have mixed types.Specify dtype option on import or set low_memory=False.\n",
      "  has_raised = await self.run_ast_nodes(code_ast.body, cell_name,\n"
     ]
    },
    {
     "name": "stdout",
     "output_type": "stream",
     "text": [
      "Residência horizontal - padrão b    5\n",
      "Name: TIPO DE USO DO IMOVEL, dtype: int64\n",
      "IPTU_2004.zip\n"
     ]
    },
    {
     "name": "stderr",
     "output_type": "stream",
     "text": [
      "b'Skipping line 2325266: expected 35 fields, saw 43\\n'\n"
     ]
    },
    {
     "name": "stdout",
     "output_type": "stream",
     "text": [
      "Series([], Name: TIPO DE USO DO IMOVEL, dtype: int64)\n",
      "IPTU_2005.zip\n"
     ]
    },
    {
     "name": "stderr",
     "output_type": "stream",
     "text": [
      "b'Skipping line 2355090: expected 35 fields, saw 43\\n'\n"
     ]
    },
    {
     "name": "stdout",
     "output_type": "stream",
     "text": [
      "Series([], Name: TIPO DE USO DO IMOVEL, dtype: int64)\n",
      "IPTU_1995.zip\n"
     ]
    },
    {
     "name": "stderr",
     "output_type": "stream",
     "text": [
      "/home/fernando/miniconda3/envs/geoplot/lib/python3.9/site-packages/IPython/core/interactiveshell.py:3165: DtypeWarning: Columns (27) have mixed types.Specify dtype option on import or set low_memory=False.\n",
      "  has_raised = await self.run_ast_nodes(code_ast.body, cell_name,\n"
     ]
    },
    {
     "name": "stdout",
     "output_type": "stream",
     "text": [
      "Residência vertical - padrão c    1\n",
      "Name: TIPO DE USO DO IMOVEL, dtype: int64\n",
      "IPTU_1998.zip\n"
     ]
    },
    {
     "name": "stderr",
     "output_type": "stream",
     "text": [
      "b'Skipping line 2096075: expected 35 fields, saw 43\\n'\n"
     ]
    },
    {
     "name": "stdout",
     "output_type": "stream",
     "text": [
      "Series([], Name: TIPO DE USO DO IMOVEL, dtype: int64)\n",
      "IPTU_2018.zip\n",
      "Series([], Name: TIPO DE USO DO IMOVEL, dtype: int64)\n",
      "IPTU_2001.zip\n"
     ]
    },
    {
     "name": "stderr",
     "output_type": "stream",
     "text": [
      "b'Skipping line 2211865: expected 35 fields, saw 43\\n'\n"
     ]
    },
    {
     "name": "stdout",
     "output_type": "stream",
     "text": [
      "Series([], Name: TIPO DE USO DO IMOVEL, dtype: int64)\n",
      "IPTU_2017.zip\n",
      "Series([], Name: TIPO DE USO DO IMOVEL, dtype: int64)\n",
      "IPTU_2015.zip\n"
     ]
    },
    {
     "name": "stderr",
     "output_type": "stream",
     "text": [
      "b'Skipping line 2651001: expected 35 fields, saw 43\\n'\n",
      "/home/fernando/miniconda3/envs/geoplot/lib/python3.9/site-packages/IPython/core/interactiveshell.py:3165: DtypeWarning: Columns (18,19,20,21,22,27) have mixed types.Specify dtype option on import or set low_memory=False.\n",
      "  has_raised = await self.run_ast_nodes(code_ast.body, cell_name,\n"
     ]
    },
    {
     "name": "stdout",
     "output_type": "stream",
     "text": [
      "Residência horizontal - padrão b    5\n",
      "Name: TIPO DE USO DO IMOVEL, dtype: int64\n",
      "IPTU_2006.zip\n"
     ]
    },
    {
     "name": "stderr",
     "output_type": "stream",
     "text": [
      "b'Skipping line 2381472: expected 35 fields, saw 43\\n'\n"
     ]
    },
    {
     "name": "stdout",
     "output_type": "stream",
     "text": [
      "Series([], Name: TIPO DE USO DO IMOVEL, dtype: int64)\n",
      "IPTU_2009.zip\n"
     ]
    },
    {
     "name": "stderr",
     "output_type": "stream",
     "text": [
      "b'Skipping line 2471701: expected 35 fields, saw 43\\n'\n"
     ]
    },
    {
     "name": "stdout",
     "output_type": "stream",
     "text": [
      "Series([], Name: TIPO DE USO DO IMOVEL, dtype: int64)\n",
      "IPTU_2014.zip\n"
     ]
    },
    {
     "name": "stderr",
     "output_type": "stream",
     "text": [
      "b'Skipping line 2606431: expected 35 fields, saw 43\\n'\n",
      "/home/fernando/miniconda3/envs/geoplot/lib/python3.9/site-packages/IPython/core/interactiveshell.py:3165: DtypeWarning: Columns (18,19,20,21,22,27) have mixed types.Specify dtype option on import or set low_memory=False.\n",
      "  has_raised = await self.run_ast_nodes(code_ast.body, cell_name,\n"
     ]
    },
    {
     "name": "stdout",
     "output_type": "stream",
     "text": [
      "Residência horizontal - padrão b    5\n",
      "Name: TIPO DE USO DO IMOVEL, dtype: int64\n",
      "IPTU_2011.zip\n"
     ]
    },
    {
     "name": "stderr",
     "output_type": "stream",
     "text": [
      "b'Skipping line 2484471: expected 35 fields, saw 43\\n'\n",
      "/home/fernando/miniconda3/envs/geoplot/lib/python3.9/site-packages/IPython/core/interactiveshell.py:3165: DtypeWarning: Columns (18,19,20,21,22) have mixed types.Specify dtype option on import or set low_memory=False.\n",
      "  has_raised = await self.run_ast_nodes(code_ast.body, cell_name,\n"
     ]
    },
    {
     "name": "stdout",
     "output_type": "stream",
     "text": [
      "Series([], Name: TIPO DE USO DO IMOVEL, dtype: int64)\n",
      "IPTU_2000.zip\n"
     ]
    },
    {
     "name": "stderr",
     "output_type": "stream",
     "text": [
      "b'Skipping line 2156584: expected 35 fields, saw 43\\n'\n"
     ]
    },
    {
     "name": "stdout",
     "output_type": "stream",
     "text": [
      "Series([], Name: TIPO DE USO DO IMOVEL, dtype: int64)\n",
      "IPTU_2019.zip\n",
      "Series([], Name: TIPO DE USO DO IMOVEL, dtype: int64)\n",
      "IPTU_1997.zip\n"
     ]
    },
    {
     "name": "stderr",
     "output_type": "stream",
     "text": [
      "/home/fernando/miniconda3/envs/geoplot/lib/python3.9/site-packages/IPython/core/interactiveshell.py:3165: DtypeWarning: Columns (27) have mixed types.Specify dtype option on import or set low_memory=False.\n",
      "  has_raised = await self.run_ast_nodes(code_ast.body, cell_name,\n"
     ]
    },
    {
     "name": "stdout",
     "output_type": "stream",
     "text": [
      "Residência vertical - padrão c    1\n",
      "Name: TIPO DE USO DO IMOVEL, dtype: int64\n",
      "IPTU_2016.zip\n",
      "Series([], Name: TIPO DE USO DO IMOVEL, dtype: int64)\n",
      "IPTU_2002.zip\n"
     ]
    },
    {
     "name": "stderr",
     "output_type": "stream",
     "text": [
      "b'Skipping line 2247445: expected 35 fields, saw 43\\n'\n"
     ]
    },
    {
     "name": "stdout",
     "output_type": "stream",
     "text": [
      "Series([], Name: TIPO DE USO DO IMOVEL, dtype: int64)\n",
      "IPTU_1999.zip\n"
     ]
    },
    {
     "name": "stderr",
     "output_type": "stream",
     "text": [
      "b'Skipping line 2121196: expected 35 fields, saw 43\\n'\n"
     ]
    },
    {
     "name": "stdout",
     "output_type": "stream",
     "text": [
      "Series([], Name: TIPO DE USO DO IMOVEL, dtype: int64)\n",
      "IPTU_2020.zip\n",
      "Series([], Name: TIPO DE USO DO IMOVEL, dtype: int64)\n",
      "IPTU_2008.zip\n"
     ]
    },
    {
     "name": "stderr",
     "output_type": "stream",
     "text": [
      "b'Skipping line 2440049: expected 35 fields, saw 43\\n'\n"
     ]
    },
    {
     "name": "stdout",
     "output_type": "stream",
     "text": [
      "Series([], Name: TIPO DE USO DO IMOVEL, dtype: int64)\n",
      "IPTU_2003.zip\n"
     ]
    },
    {
     "name": "stderr",
     "output_type": "stream",
     "text": [
      "b'Skipping line 2288886: expected 35 fields, saw 43\\n'\n"
     ]
    },
    {
     "name": "stdout",
     "output_type": "stream",
     "text": [
      "Series([], Name: TIPO DE USO DO IMOVEL, dtype: int64)\n",
      "IPTU_2012.zip\n"
     ]
    },
    {
     "name": "stderr",
     "output_type": "stream",
     "text": [
      "b'Skipping line 2526350: expected 35 fields, saw 43\\n'\n",
      "/home/fernando/miniconda3/envs/geoplot/lib/python3.9/site-packages/IPython/core/interactiveshell.py:3165: DtypeWarning: Columns (18,19,20,21,22) have mixed types.Specify dtype option on import or set low_memory=False.\n",
      "  has_raised = await self.run_ast_nodes(code_ast.body, cell_name,\n"
     ]
    },
    {
     "name": "stdout",
     "output_type": "stream",
     "text": [
      "Series([], Name: TIPO DE USO DO IMOVEL, dtype: int64)\n"
     ]
    }
   ],
   "source": [
    "for path in Path('IPTU').rglob('*.zip'):\n",
    "    print(path.name)\n",
    "    \n",
    "    # 1. Carregar dados do arquivo\n",
    "    # OBS.: O IPTU de 2016 está separado por ',' e não por ';'\n",
    "    if path.name == \"IPTU_2016.zip\":\n",
    "        df_iptu = pd.read_csv(f'{path}',\\\n",
    "                     compression='zip',\\\n",
    "                     encoding='iso-8859-9',\\\n",
    "                     sep=',',\\\n",
    "                     decimal=',',\\\n",
    "                     error_bad_lines=False)\n",
    "    else:\n",
    "        df_iptu = pd.read_csv(f'{path}',\\\n",
    "                     compression='zip',\\\n",
    "                     encoding='iso-8859-9',\\\n",
    "                     sep=';',\\\n",
    "                     decimal=',',\\\n",
    "                     error_bad_lines=False)\n",
    "    \n",
    "    # Obter o SQ (Setor e Quadra)\n",
    "    df_iptu['setor'] = df_iptu['NUMERO DO CONTRIBUINTE'].str[0:3]\n",
    "    df_iptu['quadra'] = df_iptu['NUMERO DO CONTRIBUINTE'].str[3:6]\n",
    "\n",
    "    # Calculando chave 'SQ'\n",
    "    df_iptu['sq'] = \\\n",
    "    df_iptu['setor'] + df_iptu['quadra']\n",
    "\n",
    "    # Normalizando o lote condominial\n",
    "    df_iptu.loc[df_iptu['NUMERO DO CONDOMINIO'].str[0:2] != '00', 'lote'] = '0000'\n",
    "    df_iptu.loc[df_iptu['NUMERO DO CONDOMINIO'].str[0:2] == '00', 'lote'] = \\\n",
    "    df_iptu.loc[df_iptu['NUMERO DO CONDOMINIO'].str[0:2] == '00', 'NUMERO DO CONTRIBUINTE'].str[6:10]\n",
    "\n",
    "    # Individualizando a testada e pavimentos por lote (SQLC)\n",
    "    df_iptu['sqlc'] = df_iptu['setor'] + \\\n",
    "    df_iptu['quadra'] + df_iptu['lote'] + \\\n",
    "    df_iptu['NUMERO DO CONDOMINIO'].str[0:2]\n",
    "\n",
    "    df_iptu['AREA CONSTRUIDA'] = pd.to_numeric(df_iptu['AREA CONSTRUIDA'], errors ='coerce')\n",
    "    df_iptu['AREA OCUPADA'] = pd.to_numeric(df_iptu['AREA OCUPADA'], errors ='coerce')\n",
    "    df_iptu['AREA DO TERRENO'] = pd.to_numeric(df_iptu['AREA DO TERRENO'], errors ='coerce')\n",
    "    df_iptu['FRACAO IDEAL'] = pd.to_numeric(df_iptu['FRACAO IDEAL'], errors ='coerce')\n",
    "    df_iptu['QUANTIDADE DE PAVIMENTOS'] = pd.to_numeric(df_iptu['QUANTIDADE DE PAVIMENTOS'], errors ='coerce')\n",
    "    df_iptu['TESTADA PARA CALCULO'] = pd.to_numeric(df_iptu['TESTADA PARA CALCULO'], errors ='coerce')\n",
    "\n",
    "    # Adequando variáveis à fração ideal\n",
    "    df_iptu['area_terreno'] = df_iptu['FRACAO IDEAL'] * df_iptu['AREA DO TERRENO']\n",
    "    df_iptu['area_ocupada'] = df_iptu['FRACAO IDEAL'] * df_iptu['AREA OCUPADA']\n",
    "    \n",
    "    # Paadronizando tipo de uso com a primeira letra em maíusculo\n",
    "    df_iptu.loc[:, 'TIPO DE USO DO IMOVEL'] = df_iptu.loc[:, 'TIPO DE USO DO IMOVEL'].str.capitalize()\n",
    "\n",
    "    # Adequar os usos ao padrão estabelecido\n",
    "    df_iptu.loc[df_iptu['TIPO DE USO DO IMOVEL']\\\n",
    "                .isin(usos),\\\n",
    "                'TIPO DE USO DO IMOVEL'] = \\\n",
    "    df_iptu[df_iptu['TIPO DE USO DO IMOVEL']\\\n",
    "                 .isin(usos)]['TIPO DE USO DO IMOVEL']\\\n",
    "    .apply(lambda x: usos[x])\n",
    "    \n",
    "    for k in usos_agregados.keys():\n",
    "        df_iptu\\\n",
    "        .loc[df_iptu['TIPO DE USO DO IMOVEL'].isin(usos_agregados[k]), \\\n",
    "            'uso_agregado'] = k\n",
    "    \n",
    "    # Auditando os tipos de uso\n",
    "    print(df_iptu.loc[df_iptu.uso_agregado.isna(), 'TIPO DE USO DO IMOVEL'].value_counts())\n",
    "    \n",
    "    sq_area = df_iptu[['sq', \\\n",
    "                       'AREA CONSTRUIDA']]\\\n",
    "        .groupby(['sq'])\\\n",
    "        .agg({'AREA CONSTRUIDA': 'sum'})\\\n",
    "        .rename(columns = {'AREA CONSTRUIDA': 'area_construida'})\n",
    "    \n",
    "    iptu_agg = df_iptu[['sq', \\\n",
    "                        'AREA CONSTRUIDA',\n",
    "                        'uso_agregado']]\\\n",
    "    .groupby(['sq', 'uso_agregado'])\\\n",
    "    .agg({'AREA CONSTRUIDA': 'sum'})\\\n",
    "    .rename(columns = {'AREA CONSTRUIDA': 'area_construida'})\n",
    "    \n",
    "    iptu_agg_qd = iptu_agg.reset_index().merge(sq_area, on='sq', how='left')\n",
    "    \n",
    "    iptu_agg_qd = \\\n",
    "    iptu_agg_qd.loc[(iptu_agg_qd.area_construida_y != 0) | \\\n",
    "                   (iptu_agg_qd.area_construida_x != 0)]\n",
    "    \n",
    "    # Gerando GeoDataFrame\n",
    "    gdf_iptu_agg = gdf_quadras.merge(iptu_agg_qd, on='sq', how='right')\n",
    "    \n",
    "    gdf_iptu_agg = gdf_iptu_agg[gdf_iptu_agg.is_valid]\n",
    "    \n",
    "    gdf_iptu_agg = gdf_iptu_agg.set_index('sq')\n",
    "    \n",
    "    gdf_iptu_agg_res = gdf_iptu_agg.loc[gdf_iptu_agg.uso_agregado == 'Residencial']\n",
    "    gdf_iptu_agg_com = gdf_iptu_agg.loc[gdf_iptu_agg.uso_agregado == 'Comercial e Serviços']\n",
    "    gdf_iptu_agg_outros = gdf_iptu_agg.loc[gdf_iptu_agg.uso_agregado == 'Terrenos, indústria, galpões e outros']\n",
    "    \n",
    "    df_iptu_agg_usos = \\\n",
    "    pd.concat([gdf_iptu_agg.groupby('sq')['geometry'].first(),\n",
    "              gdf_iptu_agg_res.loc[:, 'area_construida_x'].rename('Residencial'),\n",
    "              gdf_iptu_agg_com.loc[:, 'area_construida_x'].rename('Comercial e Serviços'),\n",
    "              gdf_iptu_agg_outros.loc[:, 'area_construida_x'].rename('Terrenos, indústria, galpões e outros'),\n",
    "              gdf_iptu_agg.groupby('sq')['area_construida_y'].first().rename('Area Total Construida')],\n",
    "              axis=1)\n",
    "    \n",
    "    points_usos = list(df_iptu_agg_usos.geometry.apply(lambda p: (p.x, p.y)))\n",
    "\n",
    "    # Banda Residencial\n",
    "    values_res = df_iptu_agg_usos['Residencial'] / df_iptu_agg_usos['Area Total Construida']\n",
    "    values_res[np.isnan(values_res)] = 0.\n",
    "\n",
    "    # Banda Comercial\n",
    "    values_com = df_iptu_agg_usos['Comercial e Serviços'] / df_iptu_agg_usos['Area Total Construida']\n",
    "    values_com[np.isnan(values_com)] = 0.\n",
    "\n",
    "    # Banda Outros\n",
    "    values_outros = df_iptu_agg_usos['Terrenos, indústria, galpões e outros'] / df_iptu_agg_usos['Area Total Construida']\n",
    "    values_outros[np.isnan(values_outros)] = 0.\n",
    "    \n",
    "    grid_x, grid_y = np.meshgrid(x_range, y_range)\n",
    "    \n",
    "    # Interpolando no grid\n",
    "    grid_res = griddata(points_usos, values_res, (grid_x, grid_y), method='nearest')\n",
    "    grid_com = griddata(points_usos, values_com, (grid_x, grid_y), method='nearest')\n",
    "    grid_outros = griddata(points_usos, values_outros, (grid_x, grid_y), method='nearest')\n",
    "    \n",
    "    grid_res = grid_res.astype('float32')\n",
    "    grid_com = grid_com.astype('float32')\n",
    "    grid_outros = grid_outros.astype('float32')\n",
    "    \n",
    "    meta = {\n",
    "        'driver':'GTiff',\n",
    "        'height':grid_res.shape[0],\n",
    "        'width':grid_res.shape[1],\n",
    "        'count':1,\n",
    "        'nodata':0.,\n",
    "        'dtype':grid_res.dtype,\n",
    "        'crs':raster_crs,\n",
    "        'transform':transform,\n",
    "    }\n",
    "    \n",
    "    # Gravando Residencial\n",
    "    with rasterio.open(f'resultados/tipos_de_uso/IPTU-proporcao-uso-residencial-{path.name[-8:-4]}.TIF', \"w\", **meta) as dest:\n",
    "        dest.write(grid_res, 1)\n",
    "        \n",
    "    result_dataset = rasterio.open(f'resultados/tipos_de_uso/IPTU-proporcao-uso-residencial-{path.name[-8:-4]}.TIF')\n",
    "\n",
    "    out_image_crop, out_transform_crop = \\\n",
    "    mask.mask(result_dataset, limite_municipio.geometry, crop=True, invert=False)\n",
    "\n",
    "    with rasterio.open(f'resultados/tipos_de_uso/IPTU-proporcao-uso-residencial-{path.name[-8:-4]}.TIF', \"w\", **meta) as dest:\n",
    "        dest.write(out_image_crop)\n",
    "\n",
    "    # Gravando Comercial-Servicos\n",
    "    with rasterio.open(f'resultados/tipos_de_uso/IPTU-proporcao-uso-comercial-servicos-{path.name[-8:-4]}.TIF', \"w\", **meta) as dest:\n",
    "        dest.write(grid_com, 1)\n",
    "        \n",
    "    result_dataset = rasterio.open(f'resultados/tipos_de_uso/IPTU-proporcao-uso-comercial-servicos-{path.name[-8:-4]}.TIF')\n",
    "\n",
    "    out_image_crop, out_transform_crop = \\\n",
    "    mask.mask(result_dataset, limite_municipio.geometry, crop=True, invert=False)\n",
    "\n",
    "    with rasterio.open(f'resultados/tipos_de_uso/IPTU-proporcao-uso-comercial-servicos-{path.name[-8:-4]}.TIF', \"w\", **meta) as dest:\n",
    "        dest.write(out_image_crop)\n",
    "    \n",
    "    # Gravando outros usos\n",
    "    with rasterio.open(f'resultados/tipos_de_uso/IPTU-proporcao-uso-outros-{path.name[-8:-4]}.TIF', \"w\", **meta) as dest:\n",
    "        dest.write(grid_outros, 1)\n",
    "        \n",
    "    result_dataset = rasterio.open(f'resultados/tipos_de_uso/IPTU-proporcao-uso-residencial-{path.name[-8:-4]}.TIF')\n",
    "\n",
    "    out_image_crop, out_transform_crop = \\\n",
    "    mask.mask(result_dataset, limite_municipio.geometry, crop=True, invert=False)\n",
    "\n",
    "    with rasterio.open(f'resultados/tipos_de_uso/IPTU-proporcao-uso-residencial-{path.name[-8:-4]}.TIF', \"w\", **meta) as dest:\n",
    "        dest.write(out_image_crop)\n",
    "        \n",
    "    meta = {\n",
    "        'driver':'GTiff',\n",
    "        'height':grid_res.shape[0],\n",
    "        'width':grid_res.shape[1],\n",
    "        'count':3,\n",
    "        'nodata':9999,\n",
    "        'dtype':grid_res.dtype,\n",
    "        'crs':raster_crs,\n",
    "        'transform':transform,\n",
    "    }\n",
    "    \n",
    "    with rasterio.open(f'resultados/tipos_de_uso/IPTU-proporcao-todos-usos-color-{path.name[-8:-4]}.TIF', \"w\", **meta) as dest:\n",
    "        dest.write(grid_res, 1)\n",
    "        dest.write(grid_com, 2)\n",
    "        dest.write(grid_outros, 3)\n",
    "        \n",
    "    result_dataset = rasterio.open(f'resultados/tipos_de_uso/IPTU-proporcao-todos-usos-color-{path.name[-8:-4]}.TIF')\n",
    "\n",
    "    out_image_crop, out_transform_crop = \\\n",
    "    mask.mask(result_dataset, limite_municipio.geometry, crop=True, invert=False)\n",
    "\n",
    "    with rasterio.open(f'resultados/tipos_de_uso/IPTU-proporcao-todos-usos-color-{path.name[-8:-4]}.TIF', \"w\", **meta) as dest:\n",
    "        dest.write(out_image_crop)"
   ]
  },
  {
   "cell_type": "code",
   "execution_count": null,
   "id": "decimal-timber",
   "metadata": {},
   "outputs": [],
   "source": []
  }
 ],
 "metadata": {
  "kernelspec": {
   "display_name": "Python 3",
   "language": "python",
   "name": "python3"
  },
  "language_info": {
   "codemirror_mode": {
    "name": "ipython",
    "version": 3
   },
   "file_extension": ".py",
   "mimetype": "text/x-python",
   "name": "python",
   "nbconvert_exporter": "python",
   "pygments_lexer": "ipython3",
   "version": "3.9.2"
  }
 },
 "nbformat": 4,
 "nbformat_minor": 5
}
