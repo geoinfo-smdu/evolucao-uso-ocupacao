{
 "cells": [
  {
   "cell_type": "markdown",
   "metadata": {},
   "source": [
    "# Agregando informações por Setores, de Macro-Áreas e eixos de Reestruturação urbana"
   ]
  },
  {
   "cell_type": "code",
   "execution_count": 1,
   "metadata": {},
   "outputs": [
    {
     "data": {
      "text/html": [
       "<pre>✔️ 798 µs (2021-03-17T15:25:05/2021-03-17T15:25:05)</pre>"
      ],
      "text/plain": [
       "<IPython.core.display.HTML object>"
      ]
     },
     "metadata": {},
     "output_type": "display_data"
    }
   ],
   "source": [
    "# Carrengando um complemento para visualizar quanto tempo demoram as tarefas\n",
    "\n",
    "%load_ext autotime"
   ]
  },
  {
   "cell_type": "code",
   "execution_count": 2,
   "metadata": {},
   "outputs": [
    {
     "data": {
      "text/html": [
       "<pre>✔️ 1.84 s (2021-03-17T15:25:05/2021-03-17T15:25:07)</pre>"
      ],
      "text/plain": [
       "<IPython.core.display.HTML object>"
      ]
     },
     "metadata": {},
     "output_type": "display_data"
    }
   ],
   "source": [
    "from pathlib import Path\n",
    "import os\n",
    "import pandas as pd\n",
    "import geopandas as gpd\n",
    "import numpy as np\n",
    "import matplotlib.pyplot as plt"
   ]
  },
  {
   "cell_type": "markdown",
   "metadata": {},
   "source": [
    "## Espacializando as quadras"
   ]
  },
  {
   "cell_type": "code",
   "execution_count": 3,
   "metadata": {},
   "outputs": [
    {
     "data": {
      "text/html": [
       "<pre>✔️ 4.2 s (2021-03-17T15:25:07/2021-03-17T15:25:11)</pre>"
      ],
      "text/plain": [
       "<IPython.core.display.HTML object>"
      ]
     },
     "metadata": {},
     "output_type": "display_data"
    }
   ],
   "source": [
    "# Carregando geometria das quadras fiscais\n",
    "gdf_quadras = gpd.GeoDataFrame.from_file(f'zip://GIS/SIRGAS_SHP_quadraMDSF.zip!SIRGAS_SHP_quadraMDSF')"
   ]
  },
  {
   "cell_type": "code",
   "execution_count": 4,
   "metadata": {},
   "outputs": [
    {
     "data": {
      "text/html": [
       "<pre>✔️ 14.4 ms (2021-03-17T15:25:11/2021-03-17T15:25:12)</pre>"
      ],
      "text/plain": [
       "<IPython.core.display.HTML object>"
      ]
     },
     "metadata": {},
     "output_type": "display_data"
    }
   ],
   "source": [
    "gdf_quadras['sq'] = gdf_quadras.qd_setor + gdf_quadras.qd_fiscal"
   ]
  },
  {
   "cell_type": "code",
   "execution_count": 5,
   "metadata": {},
   "outputs": [
    {
     "data": {
      "text/html": [
       "<pre>✔️ 30.9 s (2021-03-17T15:25:12/2021-03-17T15:25:42)</pre>"
      ],
      "text/plain": [
       "<IPython.core.display.HTML object>"
      ]
     },
     "metadata": {},
     "output_type": "display_data"
    }
   ],
   "source": [
    "gdf_quadras = gdf_quadras.loc[gdf_quadras.qd_tipo == 'F'][['sq', 'geometry']].dissolve(by='sq')"
   ]
  },
  {
   "cell_type": "code",
   "execution_count": 6,
   "metadata": {},
   "outputs": [
    {
     "data": {
      "text/html": [
       "<pre>✔️ 426 ms (2021-03-17T15:25:43/2021-03-17T15:25:43)</pre>"
      ],
      "text/plain": [
       "<IPython.core.display.HTML object>"
      ]
     },
     "metadata": {},
     "output_type": "display_data"
    }
   ],
   "source": [
    "gdf_quadras.geometry = gdf_quadras.representative_point()"
   ]
  },
  {
   "cell_type": "markdown",
   "metadata": {},
   "source": [
    "## Definindo as áreas de agregação"
   ]
  },
  {
   "cell_type": "code",
   "execution_count": 7,
   "metadata": {},
   "outputs": [
    {
     "data": {
      "text/html": [
       "<pre>✔️ 99.7 ms (2021-03-17T15:25:43/2021-03-17T15:25:43)</pre>"
      ],
      "text/plain": [
       "<IPython.core.display.HTML object>"
      ]
     },
     "metadata": {},
     "output_type": "display_data"
    }
   ],
   "source": [
    "gdf_macroarea = gpd.GeoDataFrame.from_file(f'zip://GIS/PDE_2-Macroarea.zip!sirgas_PDE_2-Macroarea.shp')"
   ]
  },
  {
   "cell_type": "code",
   "execution_count": 8,
   "metadata": {},
   "outputs": [
    {
     "data": {
      "text/html": [
       "<pre>✔️ 294 µs (2021-03-17T15:25:43/2021-03-17T15:25:43)</pre>"
      ],
      "text/plain": [
       "<IPython.core.display.HTML object>"
      ]
     },
     "metadata": {},
     "output_type": "display_data"
    }
   ],
   "source": [
    "# gdf_macroarea.plot()"
   ]
  },
  {
   "cell_type": "code",
   "execution_count": 9,
   "metadata": {},
   "outputs": [
    {
     "data": {
      "text/html": [
       "<pre>✔️ 3.08 ms (2021-03-17T15:25:43/2021-03-17T15:25:43)</pre>"
      ],
      "text/plain": [
       "<IPython.core.display.HTML object>"
      ]
     },
     "metadata": {},
     "output_type": "display_data"
    },
    {
     "data": {
      "text/plain": [
       "array(['Macroarea de Estruturacao Metropolitana',\n",
       "       'Macroarea de Urbanizacao Consolidada',\n",
       "       'Macroarea de Qualificacao da Urbanizacao',\n",
       "       'Macroarea de Reducao da Vulnerabilidade Urbana',\n",
       "       'Macroarea de Reducao da Vulnerabilidade Urbana e Recuperacao Ambiental',\n",
       "       'Macroarea de Controle e Qualificacao Urbana e Ambiental',\n",
       "       'Macroarea de Contencao Urbana e Uso Sustentavel',\n",
       "       'Macroarea de Preservacao dos Ecossistemas Naturais'], dtype=object)"
      ]
     },
     "execution_count": 9,
     "metadata": {},
     "output_type": "execute_result"
    }
   ],
   "source": [
    "# Possível agrupamento\n",
    "gdf_macroarea.nm_perimet.unique()"
   ]
  },
  {
   "cell_type": "code",
   "execution_count": 10,
   "metadata": {},
   "outputs": [
    {
     "data": {
      "text/html": [
       "<pre>✔️ 242 ms (2021-03-17T15:25:44/2021-03-17T15:25:44)</pre>"
      ],
      "text/plain": [
       "<IPython.core.display.HTML object>"
      ]
     },
     "metadata": {},
     "output_type": "display_data"
    }
   ],
   "source": [
    "gdf_macroarea = \\\n",
    "gdf_macroarea.\\\n",
    "loc[:, ['nm_perimet', 'geometry']].\\\n",
    "dissolve(by='nm_perimet').\\\n",
    "reset_index()"
   ]
  },
  {
   "cell_type": "code",
   "execution_count": 11,
   "metadata": {},
   "outputs": [
    {
     "data": {
      "text/html": [
       "<pre>✔️ 349 ms (2021-03-17T15:25:44/2021-03-17T15:25:44)</pre>"
      ],
      "text/plain": [
       "<IPython.core.display.HTML object>"
      ]
     },
     "metadata": {},
     "output_type": "display_data"
    },
    {
     "data": {
      "text/plain": [
       "<AxesSubplot:>"
      ]
     },
     "execution_count": 11,
     "metadata": {},
     "output_type": "execute_result"
    },
    {
     "data": {
      "image/png": "[encoded data removed]",
      "text/plain": [
       "<Figure size 432x288 with 1 Axes>"
      ]
     },
     "metadata": {
      "needs_background": "light"
     },
     "output_type": "display_data"
    }
   ],
   "source": [
    "fig, ax = plt.subplots(1, 1)\n",
    "gdf_macroarea.plot(column='nm_perimet', legend=True, ax=ax, \\\n",
    "                   legend_kwds={'bbox_to_anchor': (4.2, 1)})"
   ]
  },
  {
   "cell_type": "code",
   "execution_count": 12,
   "metadata": {},
   "outputs": [
    {
     "data": {
      "text/html": [
       "<pre>✔️ 17.3 ms (2021-03-17T15:25:44/2021-03-17T15:25:44)</pre>"
      ],
      "text/plain": [
       "<IPython.core.display.HTML object>"
      ]
     },
     "metadata": {},
     "output_type": "display_data"
    }
   ],
   "source": [
    "gdf_setores_estruturacao = gpd.GeoDataFrame.from_file(f'zip://GIS/PDE_2A-Setores-MEM.zip!sirgas_PDE_2A-Setores-MEM.shp')"
   ]
  },
  {
   "cell_type": "code",
   "execution_count": 13,
   "metadata": {
    "scrolled": true
   },
   "outputs": [
    {
     "data": {
      "text/html": [
       "<pre>✔️ 1.08 ms (2021-03-17T15:25:44/2021-03-17T15:25:44)</pre>"
      ],
      "text/plain": [
       "<IPython.core.display.HTML object>"
      ]
     },
     "metadata": {},
     "output_type": "display_data"
    }
   ],
   "source": [
    "# gdf_setores_estruturacao.plot()"
   ]
  },
  {
   "cell_type": "code",
   "execution_count": 14,
   "metadata": {},
   "outputs": [
    {
     "data": {
      "text/html": [
       "<pre>✔️ 2.88 ms (2021-03-17T15:25:45/2021-03-17T15:25:45)</pre>"
      ],
      "text/plain": [
       "<IPython.core.display.HTML object>"
      ]
     },
     "metadata": {},
     "output_type": "display_data"
    },
    {
     "data": {
      "text/plain": [
       "array(['Arco Tiete', 'Fernao Dias', 'Avenida Cupece', 'Arco Pinheiros',\n",
       "       'Arco Jurubatuba', 'Faria Lima-Agua Espraiada-Chucri Zaidan',\n",
       "       'Arco Leste', 'Centro', 'Arco Tamanduatei', 'Arco Jacu-Pessego',\n",
       "       'Noroeste'], dtype=object)"
      ]
     },
     "execution_count": 14,
     "metadata": {},
     "output_type": "execute_result"
    }
   ],
   "source": [
    "# Possível agrupamento\n",
    "gdf_setores_estruturacao.nm_perimet.unique()"
   ]
  },
  {
   "cell_type": "code",
   "execution_count": 15,
   "metadata": {},
   "outputs": [
    {
     "data": {
      "text/html": [
       "<pre>✔️ 21.2 ms (2021-03-17T15:25:45/2021-03-17T15:25:45)</pre>"
      ],
      "text/plain": [
       "<IPython.core.display.HTML object>"
      ]
     },
     "metadata": {},
     "output_type": "display_data"
    }
   ],
   "source": [
    "gdf_setores_estruturacao = \\\n",
    "gdf_setores_estruturacao.\\\n",
    "loc[:, ['nm_perimet', 'geometry']].\\\n",
    "dissolve(by='nm_perimet').\\\n",
    "reset_index()"
   ]
  },
  {
   "cell_type": "code",
   "execution_count": 16,
   "metadata": {},
   "outputs": [
    {
     "data": {
      "text/html": [
       "<pre>✔️ 205 ms (2021-03-17T15:25:45/2021-03-17T15:25:45)</pre>"
      ],
      "text/plain": [
       "<IPython.core.display.HTML object>"
      ]
     },
     "metadata": {},
     "output_type": "display_data"
    },
    {
     "data": {
      "text/plain": [
       "<AxesSubplot:>"
      ]
     },
     "execution_count": 16,
     "metadata": {},
     "output_type": "execute_result"
    },
    {
     "data": {
      "image/png": "[encoded data removed]",
      "text/plain": [
       "<Figure size 432x288 with 1 Axes>"
      ]
     },
     "metadata": {
      "needs_background": "light"
     },
     "output_type": "display_data"
    }
   ],
   "source": [
    "fig, ax = plt.subplots(1, 1)\n",
    "gdf_setores_estruturacao.plot(column='nm_perimet', ax=ax, legend=True, \\\n",
    "                              legend_kwds={'bbox_to_anchor': (2, 1)})"
   ]
  },
  {
   "cell_type": "code",
   "execution_count": 17,
   "metadata": {},
   "outputs": [
    {
     "data": {
      "text/html": [
       "<pre>✔️ 208 ms (2021-03-17T15:25:45/2021-03-17T15:25:45)</pre>"
      ],
      "text/plain": [
       "<IPython.core.display.HTML object>"
      ]
     },
     "metadata": {},
     "output_type": "display_data"
    }
   ],
   "source": [
    "gdf_eixos_estruturacao = gpd.GeoDataFrame.from_file(f'zip://GIS/PDE_3-Eixos-EETU.zip!sirgas_PDE_3-Eixos-EETU.shp')"
   ]
  },
  {
   "cell_type": "code",
   "execution_count": 18,
   "metadata": {},
   "outputs": [
    {
     "data": {
      "text/html": [
       "<pre>✔️ 1.03 s (2021-03-17T15:25:45/2021-03-17T15:25:46)</pre>"
      ],
      "text/plain": [
       "<IPython.core.display.HTML object>"
      ]
     },
     "metadata": {},
     "output_type": "display_data"
    },
    {
     "data": {
      "text/plain": [
       "<AxesSubplot:>"
      ]
     },
     "execution_count": 18,
     "metadata": {},
     "output_type": "execute_result"
    },
    {
     "data": {
      "image/png": "[encoded data removed]",
      "text/plain": [
       "<Figure size 432x288 with 1 Axes>"
      ]
     },
     "metadata": {
      "needs_background": "light"
     },
     "output_type": "display_data"
    }
   ],
   "source": [
    "gdf_eixos_estruturacao.plot()"
   ]
  },
  {
   "cell_type": "code",
   "execution_count": 19,
   "metadata": {},
   "outputs": [
    {
     "data": {
      "text/html": [
       "<pre>✔️ 5.88 ms (2021-03-17T15:25:47/2021-03-17T15:25:47)</pre>"
      ],
      "text/plain": [
       "<IPython.core.display.HTML object>"
      ]
     },
     "metadata": {},
     "output_type": "display_data"
    },
    {
     "data": {
      "text/plain": [
       "4818"
      ]
     },
     "execution_count": 19,
     "metadata": {},
     "output_type": "execute_result"
    }
   ],
   "source": [
    "len(gdf_eixos_estruturacao.cd_perimet.unique())"
   ]
  },
  {
   "cell_type": "code",
   "execution_count": 20,
   "metadata": {},
   "outputs": [
    {
     "data": {
      "text/html": [
       "<pre>✔️ 1.38 s (2021-03-17T15:25:47/2021-03-17T15:25:48)</pre>"
      ],
      "text/plain": [
       "<IPython.core.display.HTML object>"
      ]
     },
     "metadata": {},
     "output_type": "display_data"
    }
   ],
   "source": [
    "gdf_eixos_estruturacao = \\\n",
    "gdf_eixos_estruturacao.\\\n",
    "loc[:, ['sg_macro_d', 'geometry']].\\\n",
    "dissolve(by='sg_macro_d')"
   ]
  },
  {
   "cell_type": "markdown",
   "metadata": {},
   "source": [
    "## Relacionando a área de agregação com as quadras"
   ]
  },
  {
   "cell_type": "code",
   "execution_count": 21,
   "metadata": {},
   "outputs": [
    {
     "data": {
      "text/html": [
       "<pre>✔️ 2.67 s (2021-03-17T15:25:48/2021-03-17T15:25:51)</pre>"
      ],
      "text/plain": [
       "<IPython.core.display.HTML object>"
      ]
     },
     "metadata": {},
     "output_type": "display_data"
    }
   ],
   "source": [
    "gdf_macroarea_quadras = \\\n",
    "gpd.sjoin(left_df = gdf_macroarea,\\\n",
    "          right_df = gdf_quadras,\\\n",
    "          how = \"inner\", \\\n",
    "          op = 'contains').\\\n",
    "rename(columns = {'index_right':'sq', 'nm_perimet':'agregacao'})"
   ]
  },
  {
   "cell_type": "code",
   "execution_count": 22,
   "metadata": {},
   "outputs": [
    {
     "data": {
      "text/html": [
       "<pre>✔️ 242 ms (2021-03-17T15:25:51/2021-03-17T15:25:51)</pre>"
      ],
      "text/plain": [
       "<IPython.core.display.HTML object>"
      ]
     },
     "metadata": {},
     "output_type": "display_data"
    },
    {
     "data": {
      "text/html": [
       "<div>\n",
       "<style scoped>\n",
       "    .dataframe tbody tr th:only-of-type {\n",
       "        vertical-align: middle;\n",
       "    }\n",
       "\n",
       "    .dataframe tbody tr th {\n",
       "        vertical-align: top;\n",
       "    }\n",
       "\n",
       "    .dataframe thead th {\n",
       "        text-align: right;\n",
       "    }\n",
       "</style>\n",
       "<table border=\"1\" class=\"dataframe\">\n",
       "  <thead>\n",
       "    <tr style=\"text-align: right;\">\n",
       "      <th></th>\n",
       "      <th>agregacao</th>\n",
       "      <th>geometry</th>\n",
       "      <th>sq</th>\n",
       "    </tr>\n",
       "  </thead>\n",
       "  <tbody>\n",
       "    <tr>\n",
       "      <th>0</th>\n",
       "      <td>Macroarea de Contencao Urbana e Uso Sustentavel</td>\n",
       "      <td>MULTIPOLYGON (((320025.509 7350180.642, 320018...</td>\n",
       "      <td>264002</td>\n",
       "    </tr>\n",
       "    <tr>\n",
       "      <th>0</th>\n",
       "      <td>Macroarea de Contencao Urbana e Uso Sustentavel</td>\n",
       "      <td>MULTIPOLYGON (((320025.509 7350180.642, 320018...</td>\n",
       "      <td>264004</td>\n",
       "    </tr>\n",
       "    <tr>\n",
       "      <th>0</th>\n",
       "      <td>Macroarea de Contencao Urbana e Uso Sustentavel</td>\n",
       "      <td>MULTIPOLYGON (((320025.509 7350180.642, 320018...</td>\n",
       "      <td>264003</td>\n",
       "    </tr>\n",
       "    <tr>\n",
       "      <th>0</th>\n",
       "      <td>Macroarea de Contencao Urbana e Uso Sustentavel</td>\n",
       "      <td>MULTIPOLYGON (((320025.509 7350180.642, 320018...</td>\n",
       "      <td>264001</td>\n",
       "    </tr>\n",
       "    <tr>\n",
       "      <th>0</th>\n",
       "      <td>Macroarea de Contencao Urbana e Uso Sustentavel</td>\n",
       "      <td>MULTIPOLYGON (((320025.509 7350180.642, 320018...</td>\n",
       "      <td>265027</td>\n",
       "    </tr>\n",
       "    <tr>\n",
       "      <th>...</th>\n",
       "      <td>...</td>\n",
       "      <td>...</td>\n",
       "      <td>...</td>\n",
       "    </tr>\n",
       "    <tr>\n",
       "      <th>7</th>\n",
       "      <td>Macroarea de Urbanizacao Consolidada</td>\n",
       "      <td>MULTIPOLYGON (((327517.792 7391529.376, 327517...</td>\n",
       "      <td>041090</td>\n",
       "    </tr>\n",
       "    <tr>\n",
       "      <th>7</th>\n",
       "      <td>Macroarea de Urbanizacao Consolidada</td>\n",
       "      <td>MULTIPOLYGON (((327517.792 7391529.376, 327517...</td>\n",
       "      <td>041261</td>\n",
       "    </tr>\n",
       "    <tr>\n",
       "      <th>7</th>\n",
       "      <td>Macroarea de Urbanizacao Consolidada</td>\n",
       "      <td>MULTIPOLYGON (((327517.792 7391529.376, 327517...</td>\n",
       "      <td>041265</td>\n",
       "    </tr>\n",
       "    <tr>\n",
       "      <th>7</th>\n",
       "      <td>Macroarea de Urbanizacao Consolidada</td>\n",
       "      <td>MULTIPOLYGON (((327517.792 7391529.376, 327517...</td>\n",
       "      <td>041064</td>\n",
       "    </tr>\n",
       "    <tr>\n",
       "      <th>7</th>\n",
       "      <td>Macroarea de Urbanizacao Consolidada</td>\n",
       "      <td>MULTIPOLYGON (((327517.792 7391529.376, 327517...</td>\n",
       "      <td>041264</td>\n",
       "    </tr>\n",
       "  </tbody>\n",
       "</table>\n",
       "<p>45635 rows × 3 columns</p>\n",
       "</div>"
      ],
      "text/plain": [
       "                                          agregacao  \\\n",
       "0   Macroarea de Contencao Urbana e Uso Sustentavel   \n",
       "0   Macroarea de Contencao Urbana e Uso Sustentavel   \n",
       "0   Macroarea de Contencao Urbana e Uso Sustentavel   \n",
       "0   Macroarea de Contencao Urbana e Uso Sustentavel   \n",
       "0   Macroarea de Contencao Urbana e Uso Sustentavel   \n",
       "..                                              ...   \n",
       "7              Macroarea de Urbanizacao Consolidada   \n",
       "7              Macroarea de Urbanizacao Consolidada   \n",
       "7              Macroarea de Urbanizacao Consolidada   \n",
       "7              Macroarea de Urbanizacao Consolidada   \n",
       "7              Macroarea de Urbanizacao Consolidada   \n",
       "\n",
       "                                             geometry      sq  \n",
       "0   MULTIPOLYGON (((320025.509 7350180.642, 320018...  264002  \n",
       "0   MULTIPOLYGON (((320025.509 7350180.642, 320018...  264004  \n",
       "0   MULTIPOLYGON (((320025.509 7350180.642, 320018...  264003  \n",
       "0   MULTIPOLYGON (((320025.509 7350180.642, 320018...  264001  \n",
       "0   MULTIPOLYGON (((320025.509 7350180.642, 320018...  265027  \n",
       "..                                                ...     ...  \n",
       "7   MULTIPOLYGON (((327517.792 7391529.376, 327517...  041090  \n",
       "7   MULTIPOLYGON (((327517.792 7391529.376, 327517...  041261  \n",
       "7   MULTIPOLYGON (((327517.792 7391529.376, 327517...  041265  \n",
       "7   MULTIPOLYGON (((327517.792 7391529.376, 327517...  041064  \n",
       "7   MULTIPOLYGON (((327517.792 7391529.376, 327517...  041264  \n",
       "\n",
       "[45635 rows x 3 columns]"
      ]
     },
     "execution_count": 22,
     "metadata": {},
     "output_type": "execute_result"
    }
   ],
   "source": [
    "gdf_macroarea_quadras"
   ]
  },
  {
   "cell_type": "code",
   "execution_count": 23,
   "metadata": {},
   "outputs": [
    {
     "data": {
      "text/html": [
       "<pre>✔️ 209 ms (2021-03-17T15:25:51/2021-03-17T15:25:51)</pre>"
      ],
      "text/plain": [
       "<IPython.core.display.HTML object>"
      ]
     },
     "metadata": {},
     "output_type": "display_data"
    }
   ],
   "source": [
    "gdf_setores_estruturacao_quadras = \\\n",
    "gpd.sjoin(left_df = gdf_setores_estruturacao,\\\n",
    "          right_df = gdf_quadras,\\\n",
    "          how = \"inner\", \\\n",
    "          op = 'contains').\\\n",
    "rename(columns = {'index_right':'sq', 'nm_perimet':'agregacao'})"
   ]
  },
  {
   "cell_type": "code",
   "execution_count": 24,
   "metadata": {},
   "outputs": [
    {
     "data": {
      "text/html": [
       "<pre>✔️ 59.7 ms (2021-03-17T15:25:51/2021-03-17T15:25:52)</pre>"
      ],
      "text/plain": [
       "<IPython.core.display.HTML object>"
      ]
     },
     "metadata": {},
     "output_type": "display_data"
    },
    {
     "data": {
      "text/html": [
       "<div>\n",
       "<style scoped>\n",
       "    .dataframe tbody tr th:only-of-type {\n",
       "        vertical-align: middle;\n",
       "    }\n",
       "\n",
       "    .dataframe tbody tr th {\n",
       "        vertical-align: top;\n",
       "    }\n",
       "\n",
       "    .dataframe thead th {\n",
       "        text-align: right;\n",
       "    }\n",
       "</style>\n",
       "<table border=\"1\" class=\"dataframe\">\n",
       "  <thead>\n",
       "    <tr style=\"text-align: right;\">\n",
       "      <th></th>\n",
       "      <th>agregacao</th>\n",
       "      <th>geometry</th>\n",
       "      <th>sq</th>\n",
       "    </tr>\n",
       "  </thead>\n",
       "  <tbody>\n",
       "    <tr>\n",
       "      <th>0</th>\n",
       "      <td>Arco Jacu-Pessego</td>\n",
       "      <td>POLYGON ((351347.589 7400186.921, 351343.029 7...</td>\n",
       "      <td>140350</td>\n",
       "    </tr>\n",
       "    <tr>\n",
       "      <th>0</th>\n",
       "      <td>Arco Jacu-Pessego</td>\n",
       "      <td>POLYGON ((351347.589 7400186.921, 351343.029 7...</td>\n",
       "      <td>140127</td>\n",
       "    </tr>\n",
       "    <tr>\n",
       "      <th>0</th>\n",
       "      <td>Arco Jacu-Pessego</td>\n",
       "      <td>POLYGON ((351347.589 7400186.921, 351343.029 7...</td>\n",
       "      <td>140140</td>\n",
       "    </tr>\n",
       "    <tr>\n",
       "      <th>0</th>\n",
       "      <td>Arco Jacu-Pessego</td>\n",
       "      <td>POLYGON ((351347.589 7400186.921, 351343.029 7...</td>\n",
       "      <td>140353</td>\n",
       "    </tr>\n",
       "    <tr>\n",
       "      <th>0</th>\n",
       "      <td>Arco Jacu-Pessego</td>\n",
       "      <td>POLYGON ((351347.589 7400186.921, 351343.029 7...</td>\n",
       "      <td>140416</td>\n",
       "    </tr>\n",
       "    <tr>\n",
       "      <th>...</th>\n",
       "      <td>...</td>\n",
       "      <td>...</td>\n",
       "      <td>...</td>\n",
       "    </tr>\n",
       "    <tr>\n",
       "      <th>10</th>\n",
       "      <td>Noroeste</td>\n",
       "      <td>MULTIPOLYGON (((313492.675 7409881.256, 313485...</td>\n",
       "      <td>078106</td>\n",
       "    </tr>\n",
       "    <tr>\n",
       "      <th>10</th>\n",
       "      <td>Noroeste</td>\n",
       "      <td>MULTIPOLYGON (((313492.675 7409881.256, 313485...</td>\n",
       "      <td>078107</td>\n",
       "    </tr>\n",
       "    <tr>\n",
       "      <th>10</th>\n",
       "      <td>Noroeste</td>\n",
       "      <td>MULTIPOLYGON (((313492.675 7409881.256, 313485...</td>\n",
       "      <td>078321</td>\n",
       "    </tr>\n",
       "    <tr>\n",
       "      <th>10</th>\n",
       "      <td>Noroeste</td>\n",
       "      <td>MULTIPOLYGON (((313492.675 7409881.256, 313485...</td>\n",
       "      <td>077145</td>\n",
       "    </tr>\n",
       "    <tr>\n",
       "      <th>10</th>\n",
       "      <td>Noroeste</td>\n",
       "      <td>MULTIPOLYGON (((313492.675 7409881.256, 313485...</td>\n",
       "      <td>078521</td>\n",
       "    </tr>\n",
       "  </tbody>\n",
       "</table>\n",
       "<p>8734 rows × 3 columns</p>\n",
       "</div>"
      ],
      "text/plain": [
       "            agregacao                                           geometry  \\\n",
       "0   Arco Jacu-Pessego  POLYGON ((351347.589 7400186.921, 351343.029 7...   \n",
       "0   Arco Jacu-Pessego  POLYGON ((351347.589 7400186.921, 351343.029 7...   \n",
       "0   Arco Jacu-Pessego  POLYGON ((351347.589 7400186.921, 351343.029 7...   \n",
       "0   Arco Jacu-Pessego  POLYGON ((351347.589 7400186.921, 351343.029 7...   \n",
       "0   Arco Jacu-Pessego  POLYGON ((351347.589 7400186.921, 351343.029 7...   \n",
       "..                ...                                                ...   \n",
       "10           Noroeste  MULTIPOLYGON (((313492.675 7409881.256, 313485...   \n",
       "10           Noroeste  MULTIPOLYGON (((313492.675 7409881.256, 313485...   \n",
       "10           Noroeste  MULTIPOLYGON (((313492.675 7409881.256, 313485...   \n",
       "10           Noroeste  MULTIPOLYGON (((313492.675 7409881.256, 313485...   \n",
       "10           Noroeste  MULTIPOLYGON (((313492.675 7409881.256, 313485...   \n",
       "\n",
       "        sq  \n",
       "0   140350  \n",
       "0   140127  \n",
       "0   140140  \n",
       "0   140353  \n",
       "0   140416  \n",
       "..     ...  \n",
       "10  078106  \n",
       "10  078107  \n",
       "10  078321  \n",
       "10  077145  \n",
       "10  078521  \n",
       "\n",
       "[8734 rows x 3 columns]"
      ]
     },
     "execution_count": 24,
     "metadata": {},
     "output_type": "execute_result"
    }
   ],
   "source": [
    "gdf_setores_estruturacao_quadras"
   ]
  },
  {
   "cell_type": "code",
   "execution_count": 25,
   "metadata": {},
   "outputs": [
    {
     "data": {
      "text/html": [
       "<pre>✔️ 346 ms (2021-03-17T15:25:52/2021-03-17T15:25:52)</pre>"
      ],
      "text/plain": [
       "<IPython.core.display.HTML object>"
      ]
     },
     "metadata": {},
     "output_type": "display_data"
    }
   ],
   "source": [
    "gdf_eixos_estruturacao_quadras = \\\n",
    "gpd.sjoin(left_df = gdf_eixos_estruturacao,\\\n",
    "          right_df = gdf_quadras,\\\n",
    "          how = \"inner\", \\\n",
    "          op = 'contains').\\\n",
    "reset_index().\\\n",
    "rename(columns = {'sg_macro_d':'agregacao', 'index_right':'sq'})\n"
   ]
  },
  {
   "cell_type": "code",
   "execution_count": 26,
   "metadata": {},
   "outputs": [
    {
     "data": {
      "text/html": [
       "<pre>✔️ 1.93 s (2021-03-17T15:25:52/2021-03-17T15:25:54)</pre>"
      ],
      "text/plain": [
       "<IPython.core.display.HTML object>"
      ]
     },
     "metadata": {},
     "output_type": "display_data"
    },
    {
     "data": {
      "text/html": [
       "<div>\n",
       "<style scoped>\n",
       "    .dataframe tbody tr th:only-of-type {\n",
       "        vertical-align: middle;\n",
       "    }\n",
       "\n",
       "    .dataframe tbody tr th {\n",
       "        vertical-align: top;\n",
       "    }\n",
       "\n",
       "    .dataframe thead th {\n",
       "        text-align: right;\n",
       "    }\n",
       "</style>\n",
       "<table border=\"1\" class=\"dataframe\">\n",
       "  <thead>\n",
       "    <tr style=\"text-align: right;\">\n",
       "      <th></th>\n",
       "      <th>agregacao</th>\n",
       "      <th>geometry</th>\n",
       "      <th>sq</th>\n",
       "    </tr>\n",
       "  </thead>\n",
       "  <tbody>\n",
       "    <tr>\n",
       "      <th>0</th>\n",
       "      <td>EETU</td>\n",
       "      <td>MULTIPOLYGON (((326796.833 7376111.000, 326801...</td>\n",
       "      <td>138087</td>\n",
       "    </tr>\n",
       "    <tr>\n",
       "      <th>1</th>\n",
       "      <td>EETU</td>\n",
       "      <td>MULTIPOLYGON (((326796.833 7376111.000, 326801...</td>\n",
       "      <td>114070</td>\n",
       "    </tr>\n",
       "    <tr>\n",
       "      <th>2</th>\n",
       "      <td>EETU</td>\n",
       "      <td>MULTIPOLYGON (((326796.833 7376111.000, 326801...</td>\n",
       "      <td>144005</td>\n",
       "    </tr>\n",
       "    <tr>\n",
       "      <th>3</th>\n",
       "      <td>EETU</td>\n",
       "      <td>MULTIPOLYGON (((326796.833 7376111.000, 326801...</td>\n",
       "      <td>114071</td>\n",
       "    </tr>\n",
       "    <tr>\n",
       "      <th>4</th>\n",
       "      <td>EETU</td>\n",
       "      <td>MULTIPOLYGON (((326796.833 7376111.000, 326801...</td>\n",
       "      <td>114377</td>\n",
       "    </tr>\n",
       "    <tr>\n",
       "      <th>...</th>\n",
       "      <td>...</td>\n",
       "      <td>...</td>\n",
       "      <td>...</td>\n",
       "    </tr>\n",
       "    <tr>\n",
       "      <th>4132</th>\n",
       "      <td>EETU</td>\n",
       "      <td>MULTIPOLYGON (((326796.833 7376111.000, 326801...</td>\n",
       "      <td>076316</td>\n",
       "    </tr>\n",
       "    <tr>\n",
       "      <th>4133</th>\n",
       "      <td>EETU</td>\n",
       "      <td>MULTIPOLYGON (((326796.833 7376111.000, 326801...</td>\n",
       "      <td>076319</td>\n",
       "    </tr>\n",
       "    <tr>\n",
       "      <th>4134</th>\n",
       "      <td>EETU</td>\n",
       "      <td>MULTIPOLYGON (((326796.833 7376111.000, 326801...</td>\n",
       "      <td>076778</td>\n",
       "    </tr>\n",
       "    <tr>\n",
       "      <th>4135</th>\n",
       "      <td>EETU</td>\n",
       "      <td>MULTIPOLYGON (((326796.833 7376111.000, 326801...</td>\n",
       "      <td>076317</td>\n",
       "    </tr>\n",
       "    <tr>\n",
       "      <th>4136</th>\n",
       "      <td>EETU</td>\n",
       "      <td>MULTIPOLYGON (((326796.833 7376111.000, 326801...</td>\n",
       "      <td>076237</td>\n",
       "    </tr>\n",
       "  </tbody>\n",
       "</table>\n",
       "<p>4137 rows × 3 columns</p>\n",
       "</div>"
      ],
      "text/plain": [
       "     agregacao                                           geometry      sq\n",
       "0         EETU  MULTIPOLYGON (((326796.833 7376111.000, 326801...  138087\n",
       "1         EETU  MULTIPOLYGON (((326796.833 7376111.000, 326801...  114070\n",
       "2         EETU  MULTIPOLYGON (((326796.833 7376111.000, 326801...  144005\n",
       "3         EETU  MULTIPOLYGON (((326796.833 7376111.000, 326801...  114071\n",
       "4         EETU  MULTIPOLYGON (((326796.833 7376111.000, 326801...  114377\n",
       "...        ...                                                ...     ...\n",
       "4132      EETU  MULTIPOLYGON (((326796.833 7376111.000, 326801...  076316\n",
       "4133      EETU  MULTIPOLYGON (((326796.833 7376111.000, 326801...  076319\n",
       "4134      EETU  MULTIPOLYGON (((326796.833 7376111.000, 326801...  076778\n",
       "4135      EETU  MULTIPOLYGON (((326796.833 7376111.000, 326801...  076317\n",
       "4136      EETU  MULTIPOLYGON (((326796.833 7376111.000, 326801...  076237\n",
       "\n",
       "[4137 rows x 3 columns]"
      ]
     },
     "execution_count": 26,
     "metadata": {},
     "output_type": "execute_result"
    }
   ],
   "source": [
    "gdf_eixos_estruturacao_quadras"
   ]
  },
  {
   "cell_type": "markdown",
   "metadata": {},
   "source": [
    "## Carregando dados de IPTU agregado"
   ]
  },
  {
   "cell_type": "code",
   "execution_count": 27,
   "metadata": {},
   "outputs": [
    {
     "data": {
      "text/html": [
       "<pre>✔️ 7.05 s (2021-03-17T15:25:54/2021-03-17T15:26:01)</pre>"
      ],
      "text/plain": [
       "<IPython.core.display.HTML object>"
      ]
     },
     "metadata": {},
     "output_type": "display_data"
    }
   ],
   "source": [
    "gdf_iptu_agg = gpd.read_file('resultados/IPTU_2020-agregado-sq-uso-geo.gpkg')"
   ]
  },
  {
   "cell_type": "code",
   "execution_count": 28,
   "metadata": {},
   "outputs": [
    {
     "data": {
      "text/html": [
       "<pre>✔️ 128 ms (2021-03-17T15:26:01/2021-03-17T15:26:01)</pre>"
      ],
      "text/plain": [
       "<IPython.core.display.HTML object>"
      ]
     },
     "metadata": {},
     "output_type": "display_data"
    }
   ],
   "source": [
    "# Calcular CA, TO, gabarito máximo, testada média\n",
    "agg_ocup = {\n",
    "    'area_construida':'sum',\n",
    "    'area_terreno':'sum',\n",
    "    'area_ocupada':'sum',\n",
    "    'maximo_de_pavimentos':'max',\n",
    "    'media_testada':'median'\n",
    "}\n",
    "\n",
    "df_iptu_agg = \\\n",
    "gdf_iptu_agg.groupby('sq').agg(agg_ocup).\\\n",
    "reset_index()"
   ]
  },
  {
   "cell_type": "markdown",
   "metadata": {},
   "source": [
    "## Relacionando IPTU Agregado com MacroÁreas"
   ]
  },
  {
   "cell_type": "code",
   "execution_count": 29,
   "metadata": {},
   "outputs": [
    {
     "data": {
      "text/html": [
       "<pre>✔️ 50.6 ms (2021-03-17T15:26:01/2021-03-17T15:26:01)</pre>"
      ],
      "text/plain": [
       "<IPython.core.display.HTML object>"
      ]
     },
     "metadata": {},
     "output_type": "display_data"
    }
   ],
   "source": [
    "df_iptu_agg_macroarea = \\\n",
    "df_iptu_agg.\\\n",
    "merge(gdf_macroarea_quadras, how='left', on='sq')"
   ]
  },
  {
   "cell_type": "code",
   "execution_count": 30,
   "metadata": {},
   "outputs": [
    {
     "data": {
      "text/html": [
       "<pre>✔️ 6.12 ms (2021-03-17T15:26:02/2021-03-17T15:26:02)</pre>"
      ],
      "text/plain": [
       "<IPython.core.display.HTML object>"
      ]
     },
     "metadata": {},
     "output_type": "display_data"
    }
   ],
   "source": [
    "df_iptu_agg_macroarea.loc[df_iptu_agg_macroarea.agregacao.isna(), 'agregacao'] = 'Fora de MacroÁreas'"
   ]
  },
  {
   "cell_type": "code",
   "execution_count": 31,
   "metadata": {},
   "outputs": [
    {
     "data": {
      "text/html": [
       "<pre>✔️ 10.9 ms (2021-03-17T15:26:02/2021-03-17T15:26:02)</pre>"
      ],
      "text/plain": [
       "<IPython.core.display.HTML object>"
      ]
     },
     "metadata": {},
     "output_type": "display_data"
    }
   ],
   "source": [
    "df_iptu_agg_macroarea = df_iptu_agg_macroarea.groupby('agregacao').agg(agg_ocup)"
   ]
  },
  {
   "cell_type": "code",
   "execution_count": 32,
   "metadata": {},
   "outputs": [
    {
     "data": {
      "text/html": [
       "<pre>✔️ 3.24 ms (2021-03-17T15:26:02/2021-03-17T15:26:02)</pre>"
      ],
      "text/plain": [
       "<IPython.core.display.HTML object>"
      ]
     },
     "metadata": {},
     "output_type": "display_data"
    }
   ],
   "source": [
    "df_iptu_agg_macroarea['CA'] = df_iptu_agg_macroarea['area_construida'] / df_iptu_agg_macroarea['area_terreno']\n",
    "df_iptu_agg_macroarea['TO'] = df_iptu_agg_macroarea['area_ocupada'] / df_iptu_agg_macroarea['area_terreno']"
   ]
  },
  {
   "cell_type": "markdown",
   "metadata": {},
   "source": [
    "## Relacionando IPTU Agregado com Setores de Estruturação"
   ]
  },
  {
   "cell_type": "code",
   "execution_count": 33,
   "metadata": {},
   "outputs": [
    {
     "data": {
      "text/html": [
       "<pre>✔️ 29.5 ms (2021-03-17T15:26:02/2021-03-17T15:26:02)</pre>"
      ],
      "text/plain": [
       "<IPython.core.display.HTML object>"
      ]
     },
     "metadata": {},
     "output_type": "display_data"
    }
   ],
   "source": [
    "df_iptu_agg_setores = \\\n",
    "df_iptu_agg.\\\n",
    "merge(gdf_setores_estruturacao_quadras, how='left', on='sq')"
   ]
  },
  {
   "cell_type": "code",
   "execution_count": 34,
   "metadata": {},
   "outputs": [
    {
     "data": {
      "text/html": [
       "<pre>✔️ 5.96 ms (2021-03-17T15:26:02/2021-03-17T15:26:02)</pre>"
      ],
      "text/plain": [
       "<IPython.core.display.HTML object>"
      ]
     },
     "metadata": {},
     "output_type": "display_data"
    }
   ],
   "source": [
    "df_iptu_agg_setores.loc[df_iptu_agg_setores.agregacao.isna(), 'agregacao'] = 'Fora dos Setores'"
   ]
  },
  {
   "cell_type": "code",
   "execution_count": 35,
   "metadata": {},
   "outputs": [
    {
     "data": {
      "text/html": [
       "<pre>✔️ 9.36 ms (2021-03-17T15:26:02/2021-03-17T15:26:02)</pre>"
      ],
      "text/plain": [
       "<IPython.core.display.HTML object>"
      ]
     },
     "metadata": {},
     "output_type": "display_data"
    }
   ],
   "source": [
    "df_iptu_agg_setores = df_iptu_agg_setores.groupby('agregacao').agg(agg_ocup)"
   ]
  },
  {
   "cell_type": "code",
   "execution_count": 36,
   "metadata": {},
   "outputs": [
    {
     "data": {
      "text/html": [
       "<pre>✔️ 2.76 ms (2021-03-17T15:26:02/2021-03-17T15:26:02)</pre>"
      ],
      "text/plain": [
       "<IPython.core.display.HTML object>"
      ]
     },
     "metadata": {},
     "output_type": "display_data"
    }
   ],
   "source": [
    "df_iptu_agg_setores['CA'] = df_iptu_agg_setores['area_construida'] / df_iptu_agg_setores['area_terreno']\n",
    "df_iptu_agg_setores['TO'] = df_iptu_agg_setores['area_ocupada'] / df_iptu_agg_setores['area_terreno']"
   ]
  },
  {
   "cell_type": "markdown",
   "metadata": {},
   "source": [
    "## Relacionando IPTU Agregado com EETU"
   ]
  },
  {
   "cell_type": "code",
   "execution_count": 37,
   "metadata": {},
   "outputs": [
    {
     "data": {
      "text/html": [
       "<pre>✔️ 29.8 ms (2021-03-17T15:26:02/2021-03-17T15:26:02)</pre>"
      ],
      "text/plain": [
       "<IPython.core.display.HTML object>"
      ]
     },
     "metadata": {},
     "output_type": "display_data"
    }
   ],
   "source": [
    "df_iptu_agg_eetu = \\\n",
    "df_iptu_agg.\\\n",
    "merge(gdf_eixos_estruturacao_quadras, how='left', on='sq')"
   ]
  },
  {
   "cell_type": "code",
   "execution_count": 38,
   "metadata": {},
   "outputs": [
    {
     "data": {
      "text/html": [
       "<pre>✔️ 4.59 ms (2021-03-17T15:26:03/2021-03-17T15:26:03)</pre>"
      ],
      "text/plain": [
       "<IPython.core.display.HTML object>"
      ]
     },
     "metadata": {},
     "output_type": "display_data"
    }
   ],
   "source": [
    "df_iptu_agg_eetu.loc[df_iptu_agg_eetu.agregacao.isna(), 'agregacao'] = 'Cidade Excluindo EETU'"
   ]
  },
  {
   "cell_type": "code",
   "execution_count": 39,
   "metadata": {},
   "outputs": [
    {
     "data": {
      "text/html": [
       "<pre>✔️ 14.8 ms (2021-03-17T15:26:03/2021-03-17T15:26:03)</pre>"
      ],
      "text/plain": [
       "<IPython.core.display.HTML object>"
      ]
     },
     "metadata": {},
     "output_type": "display_data"
    }
   ],
   "source": [
    "df_iptu_agg_eetu = df_iptu_agg_eetu.groupby('agregacao').agg(agg_ocup)"
   ]
  },
  {
   "cell_type": "code",
   "execution_count": 40,
   "metadata": {},
   "outputs": [
    {
     "data": {
      "text/html": [
       "<pre>✔️ 2.54 ms (2021-03-17T15:26:03/2021-03-17T15:26:03)</pre>"
      ],
      "text/plain": [
       "<IPython.core.display.HTML object>"
      ]
     },
     "metadata": {},
     "output_type": "display_data"
    }
   ],
   "source": [
    "df_iptu_agg_eetu['CA'] = df_iptu_agg_eetu['area_construida'] / df_iptu_agg_eetu['area_terreno']\n",
    "df_iptu_agg_eetu['TO'] = df_iptu_agg_eetu['area_ocupada'] / df_iptu_agg_eetu['area_terreno']"
   ]
  },
  {
   "cell_type": "code",
   "execution_count": 41,
   "metadata": {},
   "outputs": [
    {
     "data": {
      "text/html": [
       "<pre>✔️ 8.85 ms (2021-03-17T15:26:03/2021-03-17T15:26:03)</pre>"
      ],
      "text/plain": [
       "<IPython.core.display.HTML object>"
      ]
     },
     "metadata": {},
     "output_type": "display_data"
    },
    {
     "data": {
      "text/html": [
       "<div>\n",
       "<style scoped>\n",
       "    .dataframe tbody tr th:only-of-type {\n",
       "        vertical-align: middle;\n",
       "    }\n",
       "\n",
       "    .dataframe tbody tr th {\n",
       "        vertical-align: top;\n",
       "    }\n",
       "\n",
       "    .dataframe thead th {\n",
       "        text-align: right;\n",
       "    }\n",
       "</style>\n",
       "<table border=\"1\" class=\"dataframe\">\n",
       "  <thead>\n",
       "    <tr style=\"text-align: right;\">\n",
       "      <th></th>\n",
       "      <th>area_construida</th>\n",
       "      <th>area_terreno</th>\n",
       "      <th>area_ocupada</th>\n",
       "      <th>maximo_de_pavimentos</th>\n",
       "      <th>media_testada</th>\n",
       "      <th>CA</th>\n",
       "      <th>TO</th>\n",
       "    </tr>\n",
       "    <tr>\n",
       "      <th>agregacao</th>\n",
       "      <th></th>\n",
       "      <th></th>\n",
       "      <th></th>\n",
       "      <th></th>\n",
       "      <th></th>\n",
       "      <th></th>\n",
       "      <th></th>\n",
       "    </tr>\n",
       "  </thead>\n",
       "  <tbody>\n",
       "    <tr>\n",
       "      <th>Cidade Excluindo EETU</th>\n",
       "      <td>461882284</td>\n",
       "      <td>5.813575e+08</td>\n",
       "      <td>2.061550e+08</td>\n",
       "      <td>50</td>\n",
       "      <td>10.0</td>\n",
       "      <td>0.794489</td>\n",
       "      <td>0.354610</td>\n",
       "    </tr>\n",
       "    <tr>\n",
       "      <th>EETU</th>\n",
       "      <td>74721808</td>\n",
       "      <td>4.755346e+07</td>\n",
       "      <td>2.260113e+07</td>\n",
       "      <td>40</td>\n",
       "      <td>10.0</td>\n",
       "      <td>1.571322</td>\n",
       "      <td>0.475278</td>\n",
       "    </tr>\n",
       "  </tbody>\n",
       "</table>\n",
       "</div>"
      ],
      "text/plain": [
       "                       area_construida  area_terreno  area_ocupada  \\\n",
       "agregacao                                                            \n",
       "Cidade Excluindo EETU        461882284  5.813575e+08  2.061550e+08   \n",
       "EETU                          74721808  4.755346e+07  2.260113e+07   \n",
       "\n",
       "                       maximo_de_pavimentos  media_testada        CA        TO  \n",
       "agregacao                                                                       \n",
       "Cidade Excluindo EETU                    50           10.0  0.794489  0.354610  \n",
       "EETU                                     40           10.0  1.571322  0.475278  "
      ]
     },
     "execution_count": 41,
     "metadata": {},
     "output_type": "execute_result"
    }
   ],
   "source": [
    "df_iptu_agg_eetu"
   ]
  },
  {
   "cell_type": "markdown",
   "metadata": {},
   "source": [
    "# Gerando resultados para todos os exercícios"
   ]
  },
  {
   "cell_type": "code",
   "execution_count": 52,
   "metadata": {},
   "outputs": [
    {
     "data": {
      "text/html": [
       "<pre>✔️ 2 min 55 s (2021-03-17T15:49:01/2021-03-17T15:51:57)</pre>"
      ],
      "text/plain": [
       "<IPython.core.display.HTML object>"
      ]
     },
     "metadata": {},
     "output_type": "display_data"
    },
    {
     "name": "stdout",
     "output_type": "stream",
     "text": [
      "Processando 2019 ...\n",
      " ... MacroÁrea\n",
      " ... Setor\n",
      " ... Eixo\n",
      "Processando 2006 ...\n",
      " ... MacroÁrea\n",
      " ... Setor\n",
      " ... Eixo\n",
      "Processando 1999 ...\n",
      " ... MacroÁrea\n",
      " ... Setor\n",
      " ... Eixo\n",
      "Processando 2010 ...\n",
      " ... MacroÁrea\n",
      " ... Setor\n",
      " ... Eixo\n",
      "Processando 2005 ...\n",
      " ... MacroÁrea\n",
      " ... Setor\n",
      " ... Eixo\n",
      "Processando 2016 ...\n",
      " ... MacroÁrea\n",
      " ... Setor\n",
      " ... Eixo\n",
      "Processando 2013 ...\n",
      " ... MacroÁrea\n",
      " ... Setor\n",
      " ... Eixo\n",
      "Processando 2017 ...\n",
      " ... MacroÁrea\n",
      " ... Setor\n",
      " ... Eixo\n",
      "Processando 2003 ...\n",
      " ... MacroÁrea\n",
      " ... Setor\n",
      " ... Eixo\n",
      "Processando 2000 ...\n",
      " ... MacroÁrea\n",
      " ... Setor\n",
      " ... Eixo\n",
      "Processando 2012 ...\n",
      " ... MacroÁrea\n",
      " ... Setor\n",
      " ... Eixo\n",
      "Processando 1996 ...\n",
      " ... MacroÁrea\n",
      " ... Setor\n",
      " ... Eixo\n",
      "Processando 2001 ...\n",
      " ... MacroÁrea\n",
      " ... Setor\n",
      " ... Eixo\n",
      "Processando 2011 ...\n",
      " ... MacroÁrea\n",
      " ... Setor\n",
      " ... Eixo\n",
      "Processando 2007 ...\n",
      " ... MacroÁrea\n",
      " ... Setor\n",
      " ... Eixo\n",
      "Processando 1998 ...\n",
      " ... MacroÁrea\n",
      " ... Setor\n",
      " ... Eixo\n",
      "Processando 2018 ...\n",
      " ... MacroÁrea\n",
      " ... Setor\n",
      " ... Eixo\n",
      "Processando 1995 ...\n",
      " ... MacroÁrea\n",
      " ... Setor\n",
      " ... Eixo\n",
      "Processando 1997 ...\n",
      " ... MacroÁrea\n",
      " ... Setor\n",
      " ... Eixo\n",
      "Processando 2008 ...\n",
      " ... MacroÁrea\n",
      " ... Setor\n",
      " ... Eixo\n",
      "Processando 2002 ...\n",
      " ... MacroÁrea\n",
      " ... Setor\n",
      " ... Eixo\n",
      "Processando 2014 ...\n",
      " ... MacroÁrea\n",
      " ... Setor\n",
      " ... Eixo\n",
      "Processando 2020 ...\n",
      " ... MacroÁrea\n",
      " ... Setor\n",
      " ... Eixo\n",
      "Processando 2009 ...\n",
      " ... MacroÁrea\n",
      " ... Setor\n",
      " ... Eixo\n",
      "Processando 2004 ...\n",
      " ... MacroÁrea\n",
      " ... Setor\n",
      " ... Eixo\n",
      "Processando 2015 ...\n",
      " ... MacroÁrea\n",
      " ... Setor\n",
      " ... Eixo\n"
     ]
    }
   ],
   "source": [
    "agg_ocup = {\n",
    "    'area_construida':'sum',\n",
    "    'area_terreno':'sum',\n",
    "    'area_ocupada':'sum',\n",
    "    'maximo_de_pavimentos':'max',\n",
    "    'media_testada':'median'\n",
    "}\n",
    "\n",
    "df_aggs = {\n",
    "    'MacroÁrea':[],\n",
    "    'Setor':[],\n",
    "    'Eixo':[]\n",
    "}\n",
    "\n",
    "for path in Path('resultados').rglob('IPTU_*-agregado-sq-uso-geo.gpkg'):\n",
    "    \n",
    "    # Definindo o exercício\n",
    "    exercicio = path.name[5:9]\n",
    "    print(f'Processando {exercicio} ...')\n",
    "    \n",
    "    \n",
    "    gdf_iptu_agg = gpd.read_file(f'resultados/IPTU_{exercicio}-agregado-sq-uso-geo.gpkg')\n",
    "    \n",
    "    df_iptu_agg = \\\n",
    "    gdf_iptu_agg.groupby('sq').agg(agg_ocup).\\\n",
    "    reset_index()\n",
    "    \n",
    "    aggs = {\n",
    "        'MacroÁrea':gdf_macroarea_quadras,\n",
    "        'Setor':gdf_setores_estruturacao_quadras,\n",
    "        'Eixo':gdf_eixos_estruturacao_quadras\n",
    "    }\n",
    "    \n",
    "    # Agregando por áreas\n",
    "    for k in aggs:\n",
    "        \n",
    "        print(f' ... {k}')\n",
    "        \n",
    "        df_iptu_agg_k = \\\n",
    "        df_iptu_agg.\\\n",
    "        merge(aggs[k], how='left', on='sq')\n",
    "        \n",
    "        df_iptu_agg_k.loc[df_iptu_agg_k.agregacao.isna(), \\\n",
    "                          'agregacao'] = f'Fora de {k}'\n",
    "        \n",
    "        df_iptu_agg_k = df_iptu_agg_k.groupby('agregacao').agg(agg_ocup)\n",
    "        \n",
    "        df_iptu_agg_k['CA'] = \\\n",
    "        df_iptu_agg_k['area_construida'] / df_iptu_agg_k['area_terreno']\n",
    "\n",
    "        df_iptu_agg_k['TO'] = \\\n",
    "        df_iptu_agg_k['area_ocupada'] / df_iptu_agg_k['area_terreno']\n",
    "        \n",
    "        df_iptu_agg_k = df_iptu_agg_k.reset_index()\n",
    "        df_iptu_agg_k['exercicio'] = exercicio\n",
    "        \n",
    "        df_aggs[k].append(df_iptu_agg_k)\n",
    "\n",
    "    "
   ]
  },
  {
   "cell_type": "code",
   "execution_count": 54,
   "metadata": {},
   "outputs": [
    {
     "data": {
      "text/html": [
       "<pre>✔️ 56.6 ms (2021-03-17T15:54:23/2021-03-17T15:54:23)</pre>"
      ],
      "text/plain": [
       "<IPython.core.display.HTML object>"
      ]
     },
     "metadata": {},
     "output_type": "display_data"
    }
   ],
   "source": [
    "for k in df_aggs:\n",
    "    pd.concat(df_aggs[k]).to_csv(f'resultados/IPTU-uso-do-solo-agg-{k}.csv')"
   ]
  },
  {
   "cell_type": "code",
   "execution_count": null,
   "metadata": {},
   "outputs": [],
   "source": []
  },
  {
   "cell_type": "code",
   "execution_count": null,
   "metadata": {},
   "outputs": [],
   "source": []
  },
  {
   "cell_type": "code",
   "execution_count": null,
   "metadata": {},
   "outputs": [],
   "source": []
  }
 ],
 "metadata": {
  "kernelspec": {
   "display_name": "Python 3",
   "language": "python",
   "name": "python3"
  },
  "language_info": {
   "codemirror_mode": {
    "name": "ipython",
    "version": 3
   },
   "file_extension": ".py",
   "mimetype": "text/x-python",
   "name": "python",
   "nbconvert_exporter": "python",
   "pygments_lexer": "ipython3",
   "version": "3.8.2"
  }
 },
 "nbformat": 4,
 "nbformat_minor": 4
}
