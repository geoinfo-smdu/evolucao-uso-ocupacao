{
 "cells": [
  {
   "cell_type": "markdown",
   "id": "elegant-module",
   "metadata": {},
   "source": [
    "# Polígonos de quadras com tipos de uso"
   ]
  },
  {
   "cell_type": "code",
   "execution_count": 1,
   "id": "worst-transaction",
   "metadata": {},
   "outputs": [],
   "source": [
    "import geopandas as gpd\n",
    "import pandas as pd\n",
    "import rasterio\n",
    "import numpy as np"
   ]
  },
  {
   "cell_type": "markdown",
   "id": "differential-quantity",
   "metadata": {},
   "source": [
    "## Carregando e pre-processando os dados de IPTU"
   ]
  },
  {
   "cell_type": "code",
   "execution_count": 2,
   "id": "invisible-conjunction",
   "metadata": {},
   "outputs": [],
   "source": [
    "# Padrões de nomenclatura de usos\n",
    "\n",
    "usos = {\n",
    "    \"apartamento em condomínio\":\"apartamento\",\n",
    "    \"cortiço (habitação coletiva subnormal)\":\"cortiço\",\n",
    "    \"escritório/consultório em condomínio (unidade autônoma)\":\"escritório ou consultório\",\n",
    "    \"loja em edifício em condomínio (unidade autônoma)\":\"loja em edifício em condomínio\",\n",
    "    \"residência coletiva, exclusive cortiço (mais de uma residência no lote)\":\"residência coletiva (mais de uma residência no lote), exclusive cortiço\",\n",
    "    \"posto de serviço (combustíveis)\":\"posto de serviço\",\n",
    "    \"estacionamento e garagem, não em condomínio\":\"garagem (exclusive em prédio em condomínio)\",\n",
    "    \"garagem (unidade autônoma) de prédio de garagens\":\"garagem, em prédio de garagens\",\n",
    "    \"garagem (unidade autônoma) em edifício em condomínio de escritórios, consultórios ou misto\":\"garagem em edifício de escritórios, consultórios ou misto\",\n",
    "    \"garagem (unidade autônoma) em edifício em condomínio de uso exclusivamente residencial\":\"garagem em edifício de uso exclusivamente residencial\",\n",
    "    \"outras edificações de uso coletivo, com utilização múltipla\":\"outras edificações do tipo (uso coletivo), com utilização múltipla\",\n",
    "    \"outras edificações de uso comercial, com utilização múltipla\":\"outras edificações do tipo (uso comércio), com utilização múltipla\",\n",
    "    \"outras edificações de uso de serviço, com utilização múltipla\":\"outras edificações do tipo (uso serviço), com utilização múltipla\",\n",
    "    \"outras edificações de uso especial, com utilização múltipla\":\"outras edificações do tipo (uso especial), com utilização múltipla\",\n",
    "    \"prédio com uso exclusivamente residencial, não em condomínio\":\"prédio de apartamento, não em condomínio, de uso exclusivamente residencial\",\n",
    "    \"prédio com uso misto, predominância de uso não residencial, não em condomínio\":\"prédio de escritório, não em condomínio, de uso misto (apartamentos e escritórios e/ou consultórios) com ou sem loja (predominância comercial)\",\n",
    "    \"prédio com uso misto, predominância de uso residencial, não em condomínio\":\"prédio de apartamento, não em condomínio, de uso misto (apartamentos e escritórios e/ou consultórios), com ou sem loja (predominância residencial)\",\n",
    "    \"prédio de escritório ou consultório, com ou sem lojas, não em condomínio\":\"prédio de escritório ou consultório, não em condomínio, com ou sem lojas\",\n",
    "    \"flat de uso comercial (semelhante a hotel)\":\"flat, não residencial\",\n",
    "    \"flat residencial em condomínio\":\"flat, residencial\"\n",
    "}"
   ]
  },
  {
   "cell_type": "code",
   "execution_count": 10,
   "id": "fifty-ireland",
   "metadata": {},
   "outputs": [],
   "source": [
    "df_iptu = pd.read_csv('IPTU/IPTU_2020.zip',\\\n",
    "             compression='zip',\\\n",
    "             encoding='iso-8859-9',\\\n",
    "             sep=';',\\\n",
    "             decimal=',',\\\n",
    "             error_bad_lines=False)"
   ]
  },
  {
   "cell_type": "code",
   "execution_count": 12,
   "id": "mathematical-genre",
   "metadata": {},
   "outputs": [],
   "source": [
    "# Obter o SQ (Setor e Quadra)\n",
    "df_iptu['setor'] = df_iptu['NUMERO DO CONTRIBUINTE'].str[0:3]\n",
    "df_iptu['quadra'] = df_iptu['NUMERO DO CONTRIBUINTE'].str[3:6]\n",
    "\n",
    "# Calculando chave 'SQ'\n",
    "df_iptu['sq'] = \\\n",
    "df_iptu['setor'] + df_iptu['quadra']\n",
    "\n",
    "# Normalizando o lote condominial\n",
    "df_iptu.loc[df_iptu['NUMERO DO CONDOMINIO'].str[0:2] != '00', 'lote'] = '0000'\n",
    "df_iptu.loc[df_iptu['NUMERO DO CONDOMINIO'].str[0:2] == '00', 'lote'] = \\\n",
    "df_iptu.loc[df_iptu['NUMERO DO CONDOMINIO'].str[0:2] == '00', 'NUMERO DO CONTRIBUINTE'].str[6:10]\n",
    "\n",
    "# Individualizando a testada e pavimentos por lote (SQLC)\n",
    "df_iptu['sqlc'] = df_iptu['setor'] + \\\n",
    "df_iptu['quadra'] + df_iptu['lote'] + \\\n",
    "df_iptu['NUMERO DO CONDOMINIO'].str[0:2]\n",
    "\n",
    "df_iptu['AREA CONSTRUIDA'] = pd.to_numeric(df_iptu['AREA CONSTRUIDA'], errors ='coerce')\n",
    "df_iptu['AREA OCUPADA'] = pd.to_numeric(df_iptu['AREA OCUPADA'], errors ='coerce')\n",
    "df_iptu['AREA DO TERRENO'] = pd.to_numeric(df_iptu['AREA DO TERRENO'], errors ='coerce')\n",
    "df_iptu['FRACAO IDEAL'] = pd.to_numeric(df_iptu['FRACAO IDEAL'], errors ='coerce')\n",
    "df_iptu['QUANTIDADE DE PAVIMENTOS'] = pd.to_numeric(df_iptu['QUANTIDADE DE PAVIMENTOS'], errors ='coerce')\n",
    "df_iptu['TESTADA PARA CALCULO'] = pd.to_numeric(df_iptu['TESTADA PARA CALCULO'], errors ='coerce')\n",
    "\n",
    "# Adequando variáveis à fração ideal\n",
    "df_iptu['area_terreno'] = df_iptu['FRACAO IDEAL'] * df_iptu['AREA DO TERRENO']\n",
    "df_iptu['area_ocupada'] = df_iptu['FRACAO IDEAL'] * df_iptu['AREA OCUPADA']\n",
    "\n",
    "# Adequar os usos ao padrão estabelecido\n",
    "df_iptu.loc[df_iptu['TIPO DE USO DO IMOVEL']\\\n",
    "            .isin(usos),\\\n",
    "            'TIPO DE USO DO IMOVEL'] = \\\n",
    "df_iptu[df_iptu['TIPO DE USO DO IMOVEL']\\\n",
    "             .isin(usos)]['TIPO DE USO DO IMOVEL']\\\n",
    ".apply(lambda x: usos[x])"
   ]
  },
  {
   "cell_type": "code",
   "execution_count": 13,
   "id": "wired-bride",
   "metadata": {},
   "outputs": [
    {
     "data": {
      "text/plain": [
       "105031"
      ]
     },
     "execution_count": 13,
     "metadata": {},
     "output_type": "execute_result"
    }
   ],
   "source": [
    "df_iptu[df_iptu['AREA CONSTRUIDA'] == 0].sqlc.nunique()"
   ]
  },
  {
   "cell_type": "code",
   "execution_count": 14,
   "id": "bright-rebound",
   "metadata": {},
   "outputs": [
    {
     "data": {
      "text/plain": [
       "26704"
      ]
     },
     "execution_count": 14,
     "metadata": {},
     "output_type": "execute_result"
    }
   ],
   "source": [
    "df_iptu[(df_iptu['QUANTIDADE DE PAVIMENTOS'] > 2) & (df_iptu['NUMERO DO CONDOMINIO'].str[0:2] != '00')].sqlc.nunique()"
   ]
  },
  {
   "cell_type": "code",
   "execution_count": 15,
   "id": "antique-effect",
   "metadata": {},
   "outputs": [
    {
     "data": {
      "text/plain": [
       "1856258"
      ]
     },
     "execution_count": 15,
     "metadata": {},
     "output_type": "execute_result"
    }
   ],
   "source": [
    "df_iptu[df_iptu['QUANTIDADE DE PAVIMENTOS'] > 2]['NUMERO DO CONTRIBUINTE'].nunique()"
   ]
  },
  {
   "cell_type": "code",
   "execution_count": 16,
   "id": "convinced-modem",
   "metadata": {},
   "outputs": [
    {
     "data": {
      "text/plain": [
       "281495187"
      ]
     },
     "execution_count": 16,
     "metadata": {},
     "output_type": "execute_result"
    }
   ],
   "source": [
    "df_iptu[df_iptu['QUANTIDADE DE PAVIMENTOS'] > 2]['AREA CONSTRUIDA'].sum()"
   ]
  },
  {
   "cell_type": "code",
   "execution_count": 17,
   "id": "pacific-blogger",
   "metadata": {},
   "outputs": [
    {
     "data": {
      "text/plain": [
       "46610321.76059998"
      ]
     },
     "execution_count": 17,
     "metadata": {},
     "output_type": "execute_result"
    }
   ],
   "source": [
    "df_iptu[df_iptu['QUANTIDADE DE PAVIMENTOS'] > 2]['area_ocupada'].sum()"
   ]
  },
  {
   "cell_type": "code",
   "execution_count": 21,
   "id": "initial-jonathan",
   "metadata": {},
   "outputs": [
    {
     "data": {
      "text/plain": [
       "229194352.45139995"
      ]
     },
     "execution_count": 21,
     "metadata": {},
     "output_type": "execute_result"
    }
   ],
   "source": [
    "df_iptu['area_ocupada'].sum()"
   ]
  },
  {
   "cell_type": "code",
   "execution_count": 23,
   "id": "scenic-tucson",
   "metadata": {},
   "outputs": [
    {
     "data": {
      "text/plain": [
       "1247.6198"
      ]
     },
     "execution_count": 23,
     "metadata": {},
     "output_type": "execute_result"
    }
   ],
   "source": [
    "df_iptu[df_iptu.sqlc == '037033000010']['area_ocupada'].sum()"
   ]
  },
  {
   "cell_type": "code",
   "execution_count": 24,
   "id": "nervous-killing",
   "metadata": {},
   "outputs": [
    {
     "data": {
      "text/plain": [
       "9950"
      ]
     },
     "execution_count": 24,
     "metadata": {},
     "output_type": "execute_result"
    }
   ],
   "source": [
    "df_iptu[df_iptu.sqlc == '037033000010']['AREA CONSTRUIDA'].sum()"
   ]
  },
  {
   "cell_type": "code",
   "execution_count": 28,
   "id": "intended-affair",
   "metadata": {},
   "outputs": [
    {
     "data": {
      "text/plain": [
       "9917.5"
      ]
     },
     "execution_count": 28,
     "metadata": {},
     "output_type": "execute_result"
    }
   ],
   "source": [
    "27769/2.8\n"
   ]
  },
  {
   "cell_type": "code",
   "execution_count": null,
   "id": "guilty-tunisia",
   "metadata": {},
   "outputs": [],
   "source": [
    "# setores_mae10 = ['037', '039']"
   ]
  },
  {
   "cell_type": "code",
   "execution_count": 29,
   "id": "eleven-removal",
   "metadata": {},
   "outputs": [
    {
     "data": {
      "text/plain": [
       "814376.4892000001"
      ]
     },
     "execution_count": 29,
     "metadata": {},
     "output_type": "execute_result"
    }
   ],
   "source": [
    "df_iptu[df_iptu.setor == '037']['area_ocupada'].sum()"
   ]
  },
  {
   "cell_type": "code",
   "execution_count": 33,
   "id": "occupational-measurement",
   "metadata": {},
   "outputs": [
    {
     "data": {
      "text/plain": [
       "12794070.799999999"
      ]
     },
     "execution_count": 33,
     "metadata": {},
     "output_type": "execute_result"
    }
   ],
   "source": [
    "df_iptu[df_iptu.setor == '037']['AREA CONSTRUIDA'].sum()*3.4"
   ]
  },
  {
   "cell_type": "code",
   "execution_count": 37,
   "id": "protective-month",
   "metadata": {},
   "outputs": [],
   "source": [
    "df_iptu[['setor', 'AREA CONSTRUIDA', 'area_ocupada']].groupby('setor').sum().to_csv('resultados/areas_por_setor.csv')"
   ]
  },
  {
   "cell_type": "code",
   "execution_count": 18,
   "id": "sustained-speech",
   "metadata": {},
   "outputs": [
    {
     "data": {
      "text/plain": [
       "110653065.32809995"
      ]
     },
     "execution_count": 18,
     "metadata": {},
     "output_type": "execute_result"
    }
   ],
   "source": [
    "df_iptu[df_iptu['QUANTIDADE DE PAVIMENTOS'] > 2]['area_terreno'].sum()"
   ]
  },
  {
   "cell_type": "code",
   "execution_count": 19,
   "id": "occupied-right",
   "metadata": {},
   "outputs": [
    {
     "data": {
      "text/plain": [
       "2.5439438753910704"
      ]
     },
     "execution_count": 19,
     "metadata": {},
     "output_type": "execute_result"
    }
   ],
   "source": [
    "281495187/110653065"
   ]
  },
  {
   "cell_type": "code",
   "execution_count": 20,
   "id": "therapeutic-popularity",
   "metadata": {},
   "outputs": [
    {
     "data": {
      "text/plain": [
       "1583147"
      ]
     },
     "execution_count": 20,
     "metadata": {},
     "output_type": "execute_result"
    }
   ],
   "source": [
    "df_iptu[df_iptu['QUANTIDADE DE PAVIMENTOS'] <= 2].sqlc.nunique()"
   ]
  },
  {
   "cell_type": "code",
   "execution_count": 20,
   "id": "literary-freeware",
   "metadata": {},
   "outputs": [
    {
     "data": {
      "text/plain": [
       "1642386"
      ]
     },
     "execution_count": 20,
     "metadata": {},
     "output_type": "execute_result"
    }
   ],
   "source": [
    "df_iptu[df_iptu['QUANTIDADE DE PAVIMENTOS'] <= 2]['NUMERO DO CONTRIBUINTE'].nunique()"
   ]
  },
  {
   "cell_type": "code",
   "execution_count": 32,
   "id": "reasonable-planning",
   "metadata": {},
   "outputs": [
    {
     "data": {
      "text/html": [
       "<div>\n",
       "<style scoped>\n",
       "    .dataframe tbody tr th:only-of-type {\n",
       "        vertical-align: middle;\n",
       "    }\n",
       "\n",
       "    .dataframe tbody tr th {\n",
       "        vertical-align: top;\n",
       "    }\n",
       "\n",
       "    .dataframe thead th {\n",
       "        text-align: right;\n",
       "    }\n",
       "</style>\n",
       "<table border=\"1\" class=\"dataframe\">\n",
       "  <thead>\n",
       "    <tr style=\"text-align: right;\">\n",
       "      <th></th>\n",
       "      <th>AREA CONSTRUIDA</th>\n",
       "    </tr>\n",
       "    <tr>\n",
       "      <th>sqlc</th>\n",
       "      <th></th>\n",
       "    </tr>\n",
       "  </thead>\n",
       "  <tbody>\n",
       "    <tr>\n",
       "      <th>157219000002</th>\n",
       "      <td>14</td>\n",
       "    </tr>\n",
       "    <tr>\n",
       "      <th>060184003000</th>\n",
       "      <td>14</td>\n",
       "    </tr>\n",
       "    <tr>\n",
       "      <th>172151005500</th>\n",
       "      <td>20</td>\n",
       "    </tr>\n",
       "    <tr>\n",
       "      <th>163247008800</th>\n",
       "      <td>23</td>\n",
       "    </tr>\n",
       "    <tr>\n",
       "      <th>246032010200</th>\n",
       "      <td>24</td>\n",
       "    </tr>\n",
       "    <tr>\n",
       "      <th>...</th>\n",
       "      <td>...</td>\n",
       "    </tr>\n",
       "    <tr>\n",
       "      <th>141002000200</th>\n",
       "      <td>400000</td>\n",
       "    </tr>\n",
       "    <tr>\n",
       "      <th>141057001400</th>\n",
       "      <td>400000</td>\n",
       "    </tr>\n",
       "    <tr>\n",
       "      <th>147001000100</th>\n",
       "      <td>419167</td>\n",
       "    </tr>\n",
       "    <tr>\n",
       "      <th>299148000100</th>\n",
       "      <td>436802</td>\n",
       "    </tr>\n",
       "    <tr>\n",
       "      <th>082517001400</th>\n",
       "      <td>950328</td>\n",
       "    </tr>\n",
       "  </tbody>\n",
       "</table>\n",
       "<p>78457 rows × 1 columns</p>\n",
       "</div>"
      ],
      "text/plain": [
       "              AREA CONSTRUIDA\n",
       "sqlc                         \n",
       "157219000002               14\n",
       "060184003000               14\n",
       "172151005500               20\n",
       "163247008800               23\n",
       "246032010200               24\n",
       "...                       ...\n",
       "141002000200           400000\n",
       "141057001400           400000\n",
       "147001000100           419167\n",
       "299148000100           436802\n",
       "082517001400           950328\n",
       "\n",
       "[78457 rows x 1 columns]"
      ]
     },
     "execution_count": 32,
     "metadata": {},
     "output_type": "execute_result"
    }
   ],
   "source": [
    "df_iptu[df_iptu['QUANTIDADE DE PAVIMENTOS'] > 2][['sqlc', 'AREA CONSTRUIDA']].groupby('sqlc').sum().sort_values(['AREA CONSTRUIDA'], ascending=True)"
   ]
  },
  {
   "cell_type": "code",
   "execution_count": 34,
   "id": "consolidated-thanksgiving",
   "metadata": {},
   "outputs": [
    {
     "data": {
      "text/html": [
       "<div>\n",
       "<style scoped>\n",
       "    .dataframe tbody tr th:only-of-type {\n",
       "        vertical-align: middle;\n",
       "    }\n",
       "\n",
       "    .dataframe tbody tr th {\n",
       "        vertical-align: top;\n",
       "    }\n",
       "\n",
       "    .dataframe thead th {\n",
       "        text-align: right;\n",
       "    }\n",
       "</style>\n",
       "<table border=\"1\" class=\"dataframe\">\n",
       "  <thead>\n",
       "    <tr style=\"text-align: right;\">\n",
       "      <th></th>\n",
       "      <th>NUMERO DO CONTRIBUINTE</th>\n",
       "      <th>ANO DO EXERCICIO</th>\n",
       "      <th>NUMERO DA NL</th>\n",
       "      <th>DATA DO CADASTRAMENTO</th>\n",
       "      <th>TIPO DE CONTRIBUINTE 1</th>\n",
       "      <th>CPF/CNPJ DO CONTRIBUINTE 1</th>\n",
       "      <th>NOME DO CONTRIBUINTE 1</th>\n",
       "      <th>TIPO DE CONTRIBUINTE 2</th>\n",
       "      <th>CPF/CNPJ DO CONTRIBUINTE 2</th>\n",
       "      <th>NOME DO CONTRIBUINTE 2</th>\n",
       "      <th>...</th>\n",
       "      <th>ANO DE INICIO DA VIDA DO CONTRIBUINTE</th>\n",
       "      <th>MES DE INICIO DA VIDA DO CONTRIBUINTE</th>\n",
       "      <th>FASE DO CONTRIBUINTE</th>\n",
       "      <th>setor</th>\n",
       "      <th>quadra</th>\n",
       "      <th>sq</th>\n",
       "      <th>lote</th>\n",
       "      <th>sqlc</th>\n",
       "      <th>area_terreno</th>\n",
       "      <th>area_ocupada</th>\n",
       "    </tr>\n",
       "  </thead>\n",
       "  <tbody>\n",
       "    <tr>\n",
       "      <th>1670808</th>\n",
       "      <td>0825170014-0</td>\n",
       "      <td>2020</td>\n",
       "      <td>1</td>\n",
       "      <td>11/01/20</td>\n",
       "      <td>PESSOA JURIDICA (CNPJ)</td>\n",
       "      <td>XXXXXX3000XXXX</td>\n",
       "      <td>UNIVERSIDADE DE SAO PAULO USP</td>\n",
       "      <td>NaN</td>\n",
       "      <td></td>\n",
       "      <td>NaN</td>\n",
       "      <td>...</td>\n",
       "      <td>1963</td>\n",
       "      <td>1</td>\n",
       "      <td>0</td>\n",
       "      <td>082</td>\n",
       "      <td>517</td>\n",
       "      <td>082517</td>\n",
       "      <td>0014</td>\n",
       "      <td>082517001400</td>\n",
       "      <td>4307493.0</td>\n",
       "      <td>320000.0</td>\n",
       "    </tr>\n",
       "  </tbody>\n",
       "</table>\n",
       "<p>1 rows × 42 columns</p>\n",
       "</div>"
      ],
      "text/plain": [
       "        NUMERO DO CONTRIBUINTE  ANO DO EXERCICIO  NUMERO DA NL  \\\n",
       "1670808           0825170014-0              2020             1   \n",
       "\n",
       "        DATA DO CADASTRAMENTO  TIPO DE CONTRIBUINTE 1  \\\n",
       "1670808              11/01/20  PESSOA JURIDICA (CNPJ)   \n",
       "\n",
       "        CPF/CNPJ DO CONTRIBUINTE 1         NOME DO CONTRIBUINTE 1  \\\n",
       "1670808             XXXXXX3000XXXX  UNIVERSIDADE DE SAO PAULO USP   \n",
       "\n",
       "        TIPO DE CONTRIBUINTE 2 CPF/CNPJ DO CONTRIBUINTE 2  \\\n",
       "1670808                    NaN                              \n",
       "\n",
       "        NOME DO CONTRIBUINTE 2  ... ANO DE INICIO DA VIDA DO CONTRIBUINTE  \\\n",
       "1670808                    NaN  ...                                  1963   \n",
       "\n",
       "        MES DE INICIO DA VIDA DO CONTRIBUINTE FASE DO CONTRIBUINTE  setor  \\\n",
       "1670808                                     1                    0    082   \n",
       "\n",
       "        quadra      sq  lote          sqlc  area_terreno  area_ocupada  \n",
       "1670808    517  082517  0014  082517001400     4307493.0      320000.0  \n",
       "\n",
       "[1 rows x 42 columns]"
      ]
     },
     "execution_count": 34,
     "metadata": {},
     "output_type": "execute_result"
    }
   ],
   "source": [
    "df_iptu.loc[df_iptu.sqlc == '082517001400']"
   ]
  },
  {
   "cell_type": "code",
   "execution_count": 38,
   "id": "meaningful-convert",
   "metadata": {},
   "outputs": [
    {
     "data": {
      "text/html": [
       "<div>\n",
       "<style scoped>\n",
       "    .dataframe tbody tr th:only-of-type {\n",
       "        vertical-align: middle;\n",
       "    }\n",
       "\n",
       "    .dataframe tbody tr th {\n",
       "        vertical-align: top;\n",
       "    }\n",
       "\n",
       "    .dataframe thead th {\n",
       "        text-align: right;\n",
       "    }\n",
       "</style>\n",
       "<table border=\"1\" class=\"dataframe\">\n",
       "  <thead>\n",
       "    <tr style=\"text-align: right;\">\n",
       "      <th></th>\n",
       "      <th>NUMERO DO CONTRIBUINTE</th>\n",
       "      <th>ANO DO EXERCICIO</th>\n",
       "      <th>NUMERO DA NL</th>\n",
       "      <th>DATA DO CADASTRAMENTO</th>\n",
       "      <th>TIPO DE CONTRIBUINTE 1</th>\n",
       "      <th>CPF/CNPJ DO CONTRIBUINTE 1</th>\n",
       "      <th>NOME DO CONTRIBUINTE 1</th>\n",
       "      <th>TIPO DE CONTRIBUINTE 2</th>\n",
       "      <th>CPF/CNPJ DO CONTRIBUINTE 2</th>\n",
       "      <th>NOME DO CONTRIBUINTE 2</th>\n",
       "      <th>...</th>\n",
       "      <th>ANO DE INICIO DA VIDA DO CONTRIBUINTE</th>\n",
       "      <th>MES DE INICIO DA VIDA DO CONTRIBUINTE</th>\n",
       "      <th>FASE DO CONTRIBUINTE</th>\n",
       "      <th>setor</th>\n",
       "      <th>quadra</th>\n",
       "      <th>sq</th>\n",
       "      <th>lote</th>\n",
       "      <th>sqlc</th>\n",
       "      <th>area_terreno</th>\n",
       "      <th>area_ocupada</th>\n",
       "    </tr>\n",
       "  </thead>\n",
       "  <tbody>\n",
       "    <tr>\n",
       "      <th>3401830</th>\n",
       "      <td>2991480001-5</td>\n",
       "      <td>2020</td>\n",
       "      <td>1</td>\n",
       "      <td>11/01/20</td>\n",
       "      <td>PESSOA JURIDICA (CNPJ)</td>\n",
       "      <td>XXXXXX1500XXXX</td>\n",
       "      <td>WTORRE SAO PAULO EMPREEND. IMOBILIARIOS S/A</td>\n",
       "      <td>NaN</td>\n",
       "      <td></td>\n",
       "      <td>NaN</td>\n",
       "      <td>...</td>\n",
       "      <td>2008</td>\n",
       "      <td>1</td>\n",
       "      <td>0</td>\n",
       "      <td>299</td>\n",
       "      <td>148</td>\n",
       "      <td>299148</td>\n",
       "      <td>0001</td>\n",
       "      <td>299148000100</td>\n",
       "      <td>54082.0</td>\n",
       "      <td>45769.0</td>\n",
       "    </tr>\n",
       "  </tbody>\n",
       "</table>\n",
       "<p>1 rows × 42 columns</p>\n",
       "</div>"
      ],
      "text/plain": [
       "        NUMERO DO CONTRIBUINTE  ANO DO EXERCICIO  NUMERO DA NL  \\\n",
       "3401830           2991480001-5              2020             1   \n",
       "\n",
       "        DATA DO CADASTRAMENTO  TIPO DE CONTRIBUINTE 1  \\\n",
       "3401830              11/01/20  PESSOA JURIDICA (CNPJ)   \n",
       "\n",
       "        CPF/CNPJ DO CONTRIBUINTE 1  \\\n",
       "3401830             XXXXXX1500XXXX   \n",
       "\n",
       "                              NOME DO CONTRIBUINTE 1 TIPO DE CONTRIBUINTE 2  \\\n",
       "3401830  WTORRE SAO PAULO EMPREEND. IMOBILIARIOS S/A                    NaN   \n",
       "\n",
       "        CPF/CNPJ DO CONTRIBUINTE 2 NOME DO CONTRIBUINTE 2  ...  \\\n",
       "3401830                                               NaN  ...   \n",
       "\n",
       "        ANO DE INICIO DA VIDA DO CONTRIBUINTE  \\\n",
       "3401830                                  2008   \n",
       "\n",
       "        MES DE INICIO DA VIDA DO CONTRIBUINTE FASE DO CONTRIBUINTE  setor  \\\n",
       "3401830                                     1                    0    299   \n",
       "\n",
       "        quadra      sq  lote          sqlc  area_terreno  area_ocupada  \n",
       "3401830    148  299148  0001  299148000100       54082.0       45769.0  \n",
       "\n",
       "[1 rows x 42 columns]"
      ]
     },
     "execution_count": 38,
     "metadata": {},
     "output_type": "execute_result"
    }
   ],
   "source": [
    "df_iptu.loc[df_iptu.sqlc == '299148000100']"
   ]
  },
  {
   "cell_type": "code",
   "execution_count": 39,
   "id": "raised-minute",
   "metadata": {},
   "outputs": [
    {
     "data": {
      "text/plain": [
       "Index(['NUMERO DO CONTRIBUINTE', 'ANO DO EXERCICIO', 'NUMERO DA NL',\n",
       "       'DATA DO CADASTRAMENTO', 'TIPO DE CONTRIBUINTE 1',\n",
       "       'CPF/CNPJ DO CONTRIBUINTE 1', 'NOME DO CONTRIBUINTE 1',\n",
       "       'TIPO DE CONTRIBUINTE 2', 'CPF/CNPJ DO CONTRIBUINTE 2',\n",
       "       'NOME DO CONTRIBUINTE 2', 'NUMERO DO CONDOMINIO', 'CODLOG DO IMOVEL',\n",
       "       'NOME DE LOGRADOURO DO IMOVEL', 'NUMERO DO IMOVEL',\n",
       "       'COMPLEMENTO DO IMOVEL', 'BAIRRO DO IMOVEL', 'REFERENCIA DO IMOVEL',\n",
       "       'CEP DO IMOVEL', 'QUANTIDADE DE ESQUINAS/FRENTES', 'FRACAO IDEAL',\n",
       "       'AREA DO TERRENO', 'AREA CONSTRUIDA', 'AREA OCUPADA',\n",
       "       'VALOR DO M2 DO TERRENO', 'VALOR DO M2 DE CONSTRUCAO',\n",
       "       'ANO DA CONSTRUCAO CORRIGIDO', 'QUANTIDADE DE PAVIMENTOS',\n",
       "       'TESTADA PARA CALCULO', 'TIPO DE USO DO IMOVEL',\n",
       "       'TIPO DE PADRAO DA CONSTRUCAO', 'TIPO DE TERRENO',\n",
       "       'FATOR DE OBSOLESCENCIA', 'ANO DE INICIO DA VIDA DO CONTRIBUINTE',\n",
       "       'MES DE INICIO DA VIDA DO CONTRIBUINTE', 'FASE DO CONTRIBUINTE',\n",
       "       'setor', 'quadra', 'sq', 'lote', 'sqlc', 'area_terreno',\n",
       "       'area_ocupada'],\n",
       "      dtype='object')"
      ]
     },
     "execution_count": 39,
     "metadata": {},
     "output_type": "execute_result"
    }
   ],
   "source": [
    "df_iptu.columns"
   ]
  },
  {
   "cell_type": "markdown",
   "id": "binding-dylan",
   "metadata": {},
   "source": [
    "## Carregando e pré-processando as quadras"
   ]
  },
  {
   "cell_type": "code",
   "execution_count": 5,
   "id": "alleged-chassis",
   "metadata": {},
   "outputs": [],
   "source": [
    "# Carregando geometria das quadras fiscais\n",
    "gdf_quadras = gpd.GeoDataFrame.from_file(f'zip://GIS/SIRGAS_SHP_quadraMDSF.zip!SIRGAS_SHP_quadraMDSF')\n",
    "\n",
    "gdf_quadras['sq'] = gdf_quadras.qd_setor + gdf_quadras.qd_fiscal\n",
    "\n",
    "gdf_quadras = gdf_quadras.loc[gdf_quadras.qd_tipo == 'F'][['sq', 'geometry']].dissolve(by='sq')\n",
    "\n",
    "# gdf_quadras.geometry = gdf_quadras.representative_point()"
   ]
  },
  {
   "cell_type": "markdown",
   "id": "complete-fellow",
   "metadata": {},
   "source": [
    "## Agrupando os tipos de uso"
   ]
  },
  {
   "cell_type": "code",
   "execution_count": 6,
   "id": "whole-bicycle",
   "metadata": {},
   "outputs": [
    {
     "data": {
      "text/plain": [
       "Index(['NUMERO DO CONTRIBUINTE', 'ANO DO EXERCICIO', 'NUMERO DA NL',\n",
       "       'DATA DO CADASTRAMENTO', 'TIPO DE CONTRIBUINTE 1',\n",
       "       'CPF/CNPJ DO CONTRIBUINTE 1', 'NOME DO CONTRIBUINTE 1',\n",
       "       'TIPO DE CONTRIBUINTE 2', 'CPF/CNPJ DO CONTRIBUINTE 2',\n",
       "       'NOME DO CONTRIBUINTE 2', 'NUMERO DO CONDOMINIO', 'CODLOG DO IMOVEL',\n",
       "       'NOME DE LOGRADOURO DO IMOVEL', 'NUMERO DO IMOVEL',\n",
       "       'COMPLEMENTO DO IMOVEL', 'BAIRRO DO IMOVEL', 'REFERENCIA DO IMOVEL',\n",
       "       'CEP DO IMOVEL', 'QUANTIDADE DE ESQUINAS/FRENTES', 'FRACAO IDEAL',\n",
       "       'AREA DO TERRENO', 'AREA CONSTRUIDA', 'AREA OCUPADA',\n",
       "       'VALOR DO M2 DO TERRENO', 'VALOR DO M2 DE CONSTRUCAO',\n",
       "       'ANO DA CONSTRUCAO CORRIGIDO', 'QUANTIDADE DE PAVIMENTOS',\n",
       "       'TESTADA PARA CALCULO', 'TIPO DE USO DO IMOVEL',\n",
       "       'TIPO DE PADRAO DA CONSTRUCAO', 'TIPO DE TERRENO',\n",
       "       'FATOR DE OBSOLESCENCIA', 'ANO DE INICIO DA VIDA DO CONTRIBUINTE',\n",
       "       'MES DE INICIO DA VIDA DO CONTRIBUINTE', 'FASE DO CONTRIBUINTE',\n",
       "       'setor', 'quadra', 'sq', 'lote', 'sqlc', 'area_terreno',\n",
       "       'area_ocupada'],\n",
       "      dtype='object')"
      ]
     },
     "execution_count": 6,
     "metadata": {},
     "output_type": "execute_result"
    }
   ],
   "source": [
    "df_iptu.columns"
   ]
  },
  {
   "cell_type": "code",
   "execution_count": 7,
   "id": "handy-compound",
   "metadata": {},
   "outputs": [
    {
     "data": {
      "text/plain": [
       "3498644"
      ]
     },
     "execution_count": 7,
     "metadata": {},
     "output_type": "execute_result"
    }
   ],
   "source": [
    "len(df_iptu)"
   ]
  },
  {
   "cell_type": "code",
   "execution_count": 8,
   "id": "congressional-governor",
   "metadata": {},
   "outputs": [],
   "source": [
    "df_iptu.loc[:, 'TIPO DE USO DO IMOVEL'] = df_iptu.loc[:, 'TIPO DE USO DO IMOVEL'].str.capitalize()"
   ]
  },
  {
   "cell_type": "code",
   "execution_count": 9,
   "id": "handled-pearl",
   "metadata": {},
   "outputs": [
    {
     "data": {
      "text/plain": [
       "Apartamento em condomínio                                                                                                                             1363685\n",
       "Residência                                                                                                                                            1081450\n",
       "Residência coletiva, exclusive cortiço (mais de uma residência no lote)                                                                                203816\n",
       "Garagem (unidade autônoma) em edifício em condomínio de uso exclusivamente residencial                                                                 196802\n",
       "Escritório/consultório em condomínio (unidade autônoma)                                                                                                138156\n",
       "Terreno                                                                                                                                                109885\n",
       "Residência e outro uso (predominância residencial)                                                                                                      85255\n",
       "Loja                                                                                                                                                    54407\n",
       "Loja e residência (predominância comercial)                                                                                                             45021\n",
       "Garagem (unidade autônoma) em edifício em condomínio de escritórios, consultórios ou misto                                                              38221\n",
       "Prédio de escritório ou consultório, não em condomínio, com ou sem lojas                                                                                24979\n",
       "Flat de uso comercial (semelhante a hotel)                                                                                                              24239\n",
       "Loja em edifício em condomínio (unidade autônoma)                                                                                                       23589\n",
       "Outras edificações de uso comercial, com utilização múltipla                                                                                            21168\n",
       "Indústria                                                                                                                                               13334\n",
       "Oficina                                                                                                                                                  9983\n",
       "Garagem (unidade autônoma) de prédio de garagens                                                                                                         9571\n",
       "Armazéns gerais e depósitos                                                                                                                              8612\n",
       "Escola                                                                                                                                                   6941\n",
       "Templo                                                                                                                                                   5800\n",
       "Flat residencial em condomínio                                                                                                                           4976\n",
       "Outras edificações de uso de serviço, com utilização múltipla                                                                                            4959\n",
       "Hotel, pensão ou hospedaria                                                                                                                              3939\n",
       "Outras edificações de uso coletivo, com utilização múltipla                                                                                              2935\n",
       "Garagem (exclusive em prédio em condomínio)                                                                                                              2714\n",
       "Prédio de apartamento, não em condomínio, de uso misto (apartamentos e escritórios e/ou consultórios), com ou sem loja (predominância residencial)       2704\n",
       "Posto de serviço                                                                                                                                         2294\n",
       "Prédio de apartamento, não em condomínio, de uso exclusivamente residencial                                                                              2037\n",
       "Cortiço                                                                                                                                                  1768\n",
       "Hospital, ambulatório, casa de saúde e assemelhados                                                                                                      1291\n",
       "Outras edificações de uso especial, com utilização múltipla                                                                                              1267\n",
       "Asilo, orfanato, creche, seminário ou convento                                                                                                            927\n",
       "Cinema, teatro, casa de diversão, clube ou congênere                                                                                                      569\n",
       "Clube esportivo                                                                                                                                           563\n",
       "Estação radioemissora, de televisão ou empresa jornalística                                                                                               496\n",
       "Prédio de escritório, não em condomínio, de uso misto (apartamentos e escritórios e/ou consultórios) com ou sem loja (predominância comercial)            291\n",
       "Name: TIPO DE USO DO IMOVEL, dtype: int64"
      ]
     },
     "execution_count": 9,
     "metadata": {},
     "output_type": "execute_result"
    }
   ],
   "source": [
    "df_iptu.loc[:, 'TIPO DE USO DO IMOVEL'].value_counts()"
   ]
  },
  {
   "cell_type": "code",
   "execution_count": 10,
   "id": "endless-decade",
   "metadata": {},
   "outputs": [],
   "source": [
    "usos_agregados = {\n",
    "    'Residencial':[\n",
    "        'Apartamento em condomínio',\n",
    "        'Apartamento',\n",
    "        'Residência',\n",
    "        'Garagem (unidade autônoma) em edifício em condomínio de uso exclusivamente residencial',\n",
    "        'Garagem em edifício de uso exclusivamente residencial',\n",
    "        'Residência e outro uso (predominância residencial)',\n",
    "        'Flat residencial em condomínio',\n",
    "        'Flat, residencial',\n",
    "        'Prédio de apartamento, não em condomínio, de uso misto (apartamentos e escritórios e/ou consultórios), com ou sem loja (predominância residencial)',\n",
    "        'Prédio de apartamento, não em condomínio, de uso exclusivamente residencial',\n",
    "        'Prédio com uso exclusivamente residencial, não em condomínio',\n",
    "        'Prédio com uso misto, predominância de uso residencial, não em condomínio',\n",
    "        'Cortiço',\n",
    "        'Cortiço (habitação coletiva subnormal)',\n",
    "        'Asilo, orfanato, creche, seminário ou convento',\n",
    "        'Residência coletiva, exclusive cortiço (mais de uma residência no lote)',\n",
    "        'Residência coletiva (mais de uma residência no lote), exclusive cortiço',\n",
    "        'Hotel, pensão ou hospedaria'\n",
    "    ],\n",
    "    'Comercial e Serviços': [\n",
    "        'Escritório/consultório em condomínio (unidade autônoma)',\n",
    "        'Loja',\n",
    "        'Loja e residência (predominância comercial)',\n",
    "        'Loja em edifício em condomínio',\n",
    "        'Escritório ou consultório',\n",
    "        'Garagem (unidade autônoma) em edifício em condomínio de escritórios, consultórios ou misto',\n",
    "        'Garagem em edifício de escritórios, consultórios ou misto',\n",
    "        'Prédio de escritório ou consultório, com ou sem lojas, não em condomínio',\n",
    "        'Prédio de escritório ou consultório, não em condomínio, com ou sem lojas',\n",
    "        'Outras edificações do tipo (uso comércio), com utilização múltipla',\n",
    "        'Outras edificações do tipo (uso serviço), com utilização múltipla',\n",
    "        'Outras edificações do tipo (uso coletivo), com utilização múltipla',\n",
    "        'Outras edificações do tipo (uso especial), com utilização múltipla',\n",
    "        'Flat de uso comercial (semelhante a hotel)',\n",
    "        'Flat, não residencial',\n",
    "        'Loja em edifício em condomínio (unidade autônoma)',\n",
    "        'Outras edificações de uso comercial, com utilização múltipla',\n",
    "        'Garagem (unidade autônoma) de prédio de garagens',\n",
    "        'Garagem, em prédio de garagens',\n",
    "        'Estacionamento e garagem, não em condomínio',\n",
    "        'Escola',\n",
    "        'Templo',\n",
    "        'Outras edificações de uso de serviço, com utilização múltipla',\n",
    "        'Garagem (exclusive em prédio em condomínio)',\n",
    "        'Posto de serviço',\n",
    "        'Posto de serviço (combustíveis)',\n",
    "        'Hospital, ambulatório, casa de saúde e assemelhados',\n",
    "        'Outras edificações de uso especial, com utilização múltipla',\n",
    "        'Cinema, teatro, casa de diversão, clube ou congênere',\n",
    "        'Clube esportivo',\n",
    "        'Estação radioemissora, de televisão ou empresa jornalística',\n",
    "        'Prédio de escritório, não em condomínio, de uso misto (apartamentos e escritórios e/ou consultórios) com ou sem loja (predominância comercial)',\n",
    "        'Prédio com uso misto, predominância de uso não residencial, não em condomínio',\n",
    "        'Outras edificações de uso coletivo, com utilização múltipla'\n",
    "    ],\n",
    "    'Terrenos, indústria, galpões e outros':[\n",
    "        'Terreno',\n",
    "        'Indústria',\n",
    "        'Oficina',\n",
    "        'Armazéns gerais e depósitos'\n",
    "    ]\n",
    "}"
   ]
  },
  {
   "cell_type": "code",
   "execution_count": 11,
   "id": "filled-humidity",
   "metadata": {},
   "outputs": [
    {
     "data": {
      "text/plain": [
       "['Apartamento em condomínio',\n",
       " 'Apartamento',\n",
       " 'Residência',\n",
       " 'Garagem (unidade autônoma) em edifício em condomínio de uso exclusivamente residencial',\n",
       " 'Garagem em edifício de uso exclusivamente residencial',\n",
       " 'Residência e outro uso (predominância residencial)',\n",
       " 'Flat residencial em condomínio',\n",
       " 'Flat, residencial',\n",
       " 'Prédio de apartamento, não em condomínio, de uso misto (apartamentos e escritórios e/ou consultórios), com ou sem loja (predominância residencial)',\n",
       " 'Prédio de apartamento, não em condomínio, de uso exclusivamente residencial',\n",
       " 'Prédio com uso exclusivamente residencial, não em condomínio',\n",
       " 'Prédio com uso misto, predominância de uso residencial, não em condomínio',\n",
       " 'Cortiço',\n",
       " 'Cortiço (habitação coletiva subnormal)',\n",
       " 'Asilo, orfanato, creche, seminário ou convento',\n",
       " 'Residência coletiva, exclusive cortiço (mais de uma residência no lote)',\n",
       " 'Residência coletiva (mais de uma residência no lote), exclusive cortiço',\n",
       " 'Hotel, pensão ou hospedaria']"
      ]
     },
     "execution_count": 11,
     "metadata": {},
     "output_type": "execute_result"
    }
   ],
   "source": [
    "usos_agregados['Residencial']"
   ]
  },
  {
   "cell_type": "markdown",
   "id": "golden-netherlands",
   "metadata": {},
   "source": [
    "## Agregando por uso agregado e espacializando"
   ]
  },
  {
   "cell_type": "code",
   "execution_count": 12,
   "id": "arabic-hearing",
   "metadata": {},
   "outputs": [
    {
     "data": {
      "text/plain": [
       "dict_keys(['Residencial', 'Comercial e Serviços', 'Terrenos, indústria, galpões e outros'])"
      ]
     },
     "execution_count": 12,
     "metadata": {},
     "output_type": "execute_result"
    }
   ],
   "source": [
    "usos_agregados.keys()"
   ]
  },
  {
   "cell_type": "code",
   "execution_count": 13,
   "id": "sealed-disaster",
   "metadata": {},
   "outputs": [],
   "source": [
    "for k in usos_agregados.keys():\n",
    "    df_iptu\\\n",
    "    .loc[df_iptu['TIPO DE USO DO IMOVEL'].isin(usos_agregados[k]), \\\n",
    "        'uso_agregado'] = k"
   ]
  },
  {
   "cell_type": "code",
   "execution_count": 14,
   "id": "serial-cooking",
   "metadata": {},
   "outputs": [
    {
     "data": {
      "text/plain": [
       "Residencial                              2947359\n",
       "Comercial e Serviços                      409471\n",
       "Terrenos, indústria, galpões e outros     141814\n",
       "Name: uso_agregado, dtype: int64"
      ]
     },
     "execution_count": 14,
     "metadata": {},
     "output_type": "execute_result"
    }
   ],
   "source": [
    "df_iptu.uso_agregado.value_counts()"
   ]
  },
  {
   "cell_type": "code",
   "execution_count": 15,
   "id": "resistant-clear",
   "metadata": {},
   "outputs": [
    {
     "data": {
      "text/plain": [
       "Series([], Name: TIPO DE USO DO IMOVEL, dtype: int64)"
      ]
     },
     "execution_count": 15,
     "metadata": {},
     "output_type": "execute_result"
    }
   ],
   "source": [
    "df_iptu.loc[df_iptu.uso_agregado.isna(), 'TIPO DE USO DO IMOVEL'].value_counts()"
   ]
  },
  {
   "cell_type": "code",
   "execution_count": 16,
   "id": "reflected-victory",
   "metadata": {},
   "outputs": [],
   "source": [
    "sq_area = df_iptu[['sq', \\\n",
    "                    'AREA CONSTRUIDA']]\\\n",
    ".groupby(['sq'])\\\n",
    ".agg({'AREA CONSTRUIDA': 'sum'})\\\n",
    ".rename(columns = {'AREA CONSTRUIDA': 'area_construida'})"
   ]
  },
  {
   "cell_type": "code",
   "execution_count": 17,
   "id": "centered-marketplace",
   "metadata": {},
   "outputs": [],
   "source": [
    "iptu_agg = df_iptu[['sq', \\\n",
    "                    'AREA CONSTRUIDA',\n",
    "                    'uso_agregado']]\\\n",
    ".groupby(['sq', 'uso_agregado'])\\\n",
    ".agg({'AREA CONSTRUIDA': 'sum'})\\\n",
    ".rename(columns = {'AREA CONSTRUIDA': 'area_construida'})"
   ]
  },
  {
   "cell_type": "code",
   "execution_count": 18,
   "id": "matched-calendar",
   "metadata": {},
   "outputs": [],
   "source": [
    "iptu_agg_qd = iptu_agg.reset_index().merge(sq_area, on='sq', how='left')"
   ]
  },
  {
   "cell_type": "code",
   "execution_count": 19,
   "id": "grave-organic",
   "metadata": {},
   "outputs": [],
   "source": [
    "iptu_agg_qd = \\\n",
    "iptu_agg_qd.loc[(iptu_agg_qd.area_construida_y != 0) | \\\n",
    "               (iptu_agg_qd.area_construida_x != 0)]"
   ]
  },
  {
   "cell_type": "code",
   "execution_count": 20,
   "id": "wired-camcorder",
   "metadata": {},
   "outputs": [
    {
     "data": {
      "text/html": [
       "<div>\n",
       "<style scoped>\n",
       "    .dataframe tbody tr th:only-of-type {\n",
       "        vertical-align: middle;\n",
       "    }\n",
       "\n",
       "    .dataframe tbody tr th {\n",
       "        vertical-align: top;\n",
       "    }\n",
       "\n",
       "    .dataframe thead th {\n",
       "        text-align: right;\n",
       "    }\n",
       "</style>\n",
       "<table border=\"1\" class=\"dataframe\">\n",
       "  <thead>\n",
       "    <tr style=\"text-align: right;\">\n",
       "      <th></th>\n",
       "      <th>sq</th>\n",
       "      <th>uso_agregado</th>\n",
       "      <th>area_construida_x</th>\n",
       "      <th>area_construida_y</th>\n",
       "    </tr>\n",
       "  </thead>\n",
       "  <tbody>\n",
       "    <tr>\n",
       "      <th>0</th>\n",
       "      <td>001003</td>\n",
       "      <td>Comercial e Serviços</td>\n",
       "      <td>22140</td>\n",
       "      <td>29926</td>\n",
       "    </tr>\n",
       "    <tr>\n",
       "      <th>1</th>\n",
       "      <td>001003</td>\n",
       "      <td>Residencial</td>\n",
       "      <td>7786</td>\n",
       "      <td>29926</td>\n",
       "    </tr>\n",
       "    <tr>\n",
       "      <th>2</th>\n",
       "      <td>001003</td>\n",
       "      <td>Terrenos, indústria, galpões e outros</td>\n",
       "      <td>0</td>\n",
       "      <td>29926</td>\n",
       "    </tr>\n",
       "    <tr>\n",
       "      <th>3</th>\n",
       "      <td>001004</td>\n",
       "      <td>Comercial e Serviços</td>\n",
       "      <td>13305</td>\n",
       "      <td>20715</td>\n",
       "    </tr>\n",
       "    <tr>\n",
       "      <th>4</th>\n",
       "      <td>001004</td>\n",
       "      <td>Residencial</td>\n",
       "      <td>5994</td>\n",
       "      <td>20715</td>\n",
       "    </tr>\n",
       "    <tr>\n",
       "      <th>...</th>\n",
       "      <td>...</td>\n",
       "      <td>...</td>\n",
       "      <td>...</td>\n",
       "      <td>...</td>\n",
       "    </tr>\n",
       "    <tr>\n",
       "      <th>103915</th>\n",
       "      <td>310116</td>\n",
       "      <td>Comercial e Serviços</td>\n",
       "      <td>180</td>\n",
       "      <td>1313</td>\n",
       "    </tr>\n",
       "    <tr>\n",
       "      <th>103916</th>\n",
       "      <td>310116</td>\n",
       "      <td>Residencial</td>\n",
       "      <td>1133</td>\n",
       "      <td>1313</td>\n",
       "    </tr>\n",
       "    <tr>\n",
       "      <th>103917</th>\n",
       "      <td>310117</td>\n",
       "      <td>Comercial e Serviços</td>\n",
       "      <td>728</td>\n",
       "      <td>22601</td>\n",
       "    </tr>\n",
       "    <tr>\n",
       "      <th>103918</th>\n",
       "      <td>310117</td>\n",
       "      <td>Residencial</td>\n",
       "      <td>21873</td>\n",
       "      <td>22601</td>\n",
       "    </tr>\n",
       "    <tr>\n",
       "      <th>103919</th>\n",
       "      <td>310118</td>\n",
       "      <td>Residencial</td>\n",
       "      <td>25215</td>\n",
       "      <td>25215</td>\n",
       "    </tr>\n",
       "  </tbody>\n",
       "</table>\n",
       "<p>103032 rows × 4 columns</p>\n",
       "</div>"
      ],
      "text/plain": [
       "            sq                           uso_agregado  area_construida_x  \\\n",
       "0       001003                   Comercial e Serviços              22140   \n",
       "1       001003                            Residencial               7786   \n",
       "2       001003  Terrenos, indústria, galpões e outros                  0   \n",
       "3       001004                   Comercial e Serviços              13305   \n",
       "4       001004                            Residencial               5994   \n",
       "...        ...                                    ...                ...   \n",
       "103915  310116                   Comercial e Serviços                180   \n",
       "103916  310116                            Residencial               1133   \n",
       "103917  310117                   Comercial e Serviços                728   \n",
       "103918  310117                            Residencial              21873   \n",
       "103919  310118                            Residencial              25215   \n",
       "\n",
       "        area_construida_y  \n",
       "0                   29926  \n",
       "1                   29926  \n",
       "2                   29926  \n",
       "3                   20715  \n",
       "4                   20715  \n",
       "...                   ...  \n",
       "103915               1313  \n",
       "103916               1313  \n",
       "103917              22601  \n",
       "103918              22601  \n",
       "103919              25215  \n",
       "\n",
       "[103032 rows x 4 columns]"
      ]
     },
     "execution_count": 20,
     "metadata": {},
     "output_type": "execute_result"
    }
   ],
   "source": [
    "iptu_agg_qd"
   ]
  },
  {
   "cell_type": "code",
   "execution_count": 21,
   "id": "imperial-genesis",
   "metadata": {},
   "outputs": [],
   "source": [
    "# Gerando GeoDataFrame\n",
    "gdf_iptu_agg = gdf_quadras.merge(iptu_agg_qd, on='sq', how='right')"
   ]
  },
  {
   "cell_type": "code",
   "execution_count": 22,
   "id": "based-immune",
   "metadata": {
    "scrolled": false
   },
   "outputs": [
    {
     "data": {
      "text/html": [
       "<div>\n",
       "<style scoped>\n",
       "    .dataframe tbody tr th:only-of-type {\n",
       "        vertical-align: middle;\n",
       "    }\n",
       "\n",
       "    .dataframe tbody tr th {\n",
       "        vertical-align: top;\n",
       "    }\n",
       "\n",
       "    .dataframe thead th {\n",
       "        text-align: right;\n",
       "    }\n",
       "</style>\n",
       "<table border=\"1\" class=\"dataframe\">\n",
       "  <thead>\n",
       "    <tr style=\"text-align: right;\">\n",
       "      <th></th>\n",
       "      <th>sq</th>\n",
       "      <th>geometry</th>\n",
       "      <th>uso_agregado</th>\n",
       "      <th>area_construida_x</th>\n",
       "      <th>area_construida_y</th>\n",
       "    </tr>\n",
       "  </thead>\n",
       "  <tbody>\n",
       "    <tr>\n",
       "      <th>0</th>\n",
       "      <td>001003</td>\n",
       "      <td>POLYGON ((333415.056 7396354.502, 333412.306 7...</td>\n",
       "      <td>Comercial e Serviços</td>\n",
       "      <td>22140</td>\n",
       "      <td>29926</td>\n",
       "    </tr>\n",
       "    <tr>\n",
       "      <th>1</th>\n",
       "      <td>001003</td>\n",
       "      <td>POLYGON ((333415.056 7396354.502, 333412.306 7...</td>\n",
       "      <td>Residencial</td>\n",
       "      <td>7786</td>\n",
       "      <td>29926</td>\n",
       "    </tr>\n",
       "    <tr>\n",
       "      <th>2</th>\n",
       "      <td>001003</td>\n",
       "      <td>POLYGON ((333415.056 7396354.502, 333412.306 7...</td>\n",
       "      <td>Terrenos, indústria, galpões e outros</td>\n",
       "      <td>0</td>\n",
       "      <td>29926</td>\n",
       "    </tr>\n",
       "    <tr>\n",
       "      <th>3</th>\n",
       "      <td>001004</td>\n",
       "      <td>POLYGON ((333547.169 7396521.849, 333542.688 7...</td>\n",
       "      <td>Comercial e Serviços</td>\n",
       "      <td>13305</td>\n",
       "      <td>20715</td>\n",
       "    </tr>\n",
       "    <tr>\n",
       "      <th>4</th>\n",
       "      <td>001004</td>\n",
       "      <td>POLYGON ((333547.169 7396521.849, 333542.688 7...</td>\n",
       "      <td>Residencial</td>\n",
       "      <td>5994</td>\n",
       "      <td>20715</td>\n",
       "    </tr>\n",
       "    <tr>\n",
       "      <th>...</th>\n",
       "      <td>...</td>\n",
       "      <td>...</td>\n",
       "      <td>...</td>\n",
       "      <td>...</td>\n",
       "      <td>...</td>\n",
       "    </tr>\n",
       "    <tr>\n",
       "      <th>103027</th>\n",
       "      <td>310116</td>\n",
       "      <td>MULTIPOLYGON (((332734.442 7383503.772, 332721...</td>\n",
       "      <td>Comercial e Serviços</td>\n",
       "      <td>180</td>\n",
       "      <td>1313</td>\n",
       "    </tr>\n",
       "    <tr>\n",
       "      <th>103028</th>\n",
       "      <td>310116</td>\n",
       "      <td>MULTIPOLYGON (((332734.442 7383503.772, 332721...</td>\n",
       "      <td>Residencial</td>\n",
       "      <td>1133</td>\n",
       "      <td>1313</td>\n",
       "    </tr>\n",
       "    <tr>\n",
       "      <th>103029</th>\n",
       "      <td>310117</td>\n",
       "      <td>MULTIPOLYGON (((333231.482 7383452.112, 333232...</td>\n",
       "      <td>Comercial e Serviços</td>\n",
       "      <td>728</td>\n",
       "      <td>22601</td>\n",
       "    </tr>\n",
       "    <tr>\n",
       "      <th>103030</th>\n",
       "      <td>310117</td>\n",
       "      <td>MULTIPOLYGON (((333231.482 7383452.112, 333232...</td>\n",
       "      <td>Residencial</td>\n",
       "      <td>21873</td>\n",
       "      <td>22601</td>\n",
       "    </tr>\n",
       "    <tr>\n",
       "      <th>103031</th>\n",
       "      <td>310118</td>\n",
       "      <td>POLYGON ((332710.926 7384374.222, 332722.074 7...</td>\n",
       "      <td>Residencial</td>\n",
       "      <td>25215</td>\n",
       "      <td>25215</td>\n",
       "    </tr>\n",
       "  </tbody>\n",
       "</table>\n",
       "<p>103032 rows × 5 columns</p>\n",
       "</div>"
      ],
      "text/plain": [
       "            sq                                           geometry  \\\n",
       "0       001003  POLYGON ((333415.056 7396354.502, 333412.306 7...   \n",
       "1       001003  POLYGON ((333415.056 7396354.502, 333412.306 7...   \n",
       "2       001003  POLYGON ((333415.056 7396354.502, 333412.306 7...   \n",
       "3       001004  POLYGON ((333547.169 7396521.849, 333542.688 7...   \n",
       "4       001004  POLYGON ((333547.169 7396521.849, 333542.688 7...   \n",
       "...        ...                                                ...   \n",
       "103027  310116  MULTIPOLYGON (((332734.442 7383503.772, 332721...   \n",
       "103028  310116  MULTIPOLYGON (((332734.442 7383503.772, 332721...   \n",
       "103029  310117  MULTIPOLYGON (((333231.482 7383452.112, 333232...   \n",
       "103030  310117  MULTIPOLYGON (((333231.482 7383452.112, 333232...   \n",
       "103031  310118  POLYGON ((332710.926 7384374.222, 332722.074 7...   \n",
       "\n",
       "                                 uso_agregado  area_construida_x  \\\n",
       "0                        Comercial e Serviços              22140   \n",
       "1                                 Residencial               7786   \n",
       "2       Terrenos, indústria, galpões e outros                  0   \n",
       "3                        Comercial e Serviços              13305   \n",
       "4                                 Residencial               5994   \n",
       "...                                       ...                ...   \n",
       "103027                   Comercial e Serviços                180   \n",
       "103028                            Residencial               1133   \n",
       "103029                   Comercial e Serviços                728   \n",
       "103030                            Residencial              21873   \n",
       "103031                            Residencial              25215   \n",
       "\n",
       "        area_construida_y  \n",
       "0                   29926  \n",
       "1                   29926  \n",
       "2                   29926  \n",
       "3                   20715  \n",
       "4                   20715  \n",
       "...                   ...  \n",
       "103027               1313  \n",
       "103028               1313  \n",
       "103029              22601  \n",
       "103030              22601  \n",
       "103031              25215  \n",
       "\n",
       "[103032 rows x 5 columns]"
      ]
     },
     "execution_count": 22,
     "metadata": {},
     "output_type": "execute_result"
    }
   ],
   "source": [
    "gdf_iptu_agg"
   ]
  },
  {
   "cell_type": "code",
   "execution_count": 23,
   "id": "ethical-fleet",
   "metadata": {},
   "outputs": [
    {
     "data": {
      "text/html": [
       "<div>\n",
       "<style scoped>\n",
       "    .dataframe tbody tr th:only-of-type {\n",
       "        vertical-align: middle;\n",
       "    }\n",
       "\n",
       "    .dataframe tbody tr th {\n",
       "        vertical-align: top;\n",
       "    }\n",
       "\n",
       "    .dataframe thead th {\n",
       "        text-align: right;\n",
       "    }\n",
       "</style>\n",
       "<table border=\"1\" class=\"dataframe\">\n",
       "  <thead>\n",
       "    <tr style=\"text-align: right;\">\n",
       "      <th>uso_agregado</th>\n",
       "      <th>Comercial e Serviços</th>\n",
       "      <th>Residencial</th>\n",
       "      <th>Terrenos, indústria, galpões e outros</th>\n",
       "    </tr>\n",
       "    <tr>\n",
       "      <th>sq</th>\n",
       "      <th></th>\n",
       "      <th></th>\n",
       "      <th></th>\n",
       "    </tr>\n",
       "  </thead>\n",
       "  <tbody>\n",
       "    <tr>\n",
       "      <th>001003</th>\n",
       "      <td>22140.0</td>\n",
       "      <td>7786.0</td>\n",
       "      <td>0.0</td>\n",
       "    </tr>\n",
       "    <tr>\n",
       "      <th>001004</th>\n",
       "      <td>13305.0</td>\n",
       "      <td>5994.0</td>\n",
       "      <td>1416.0</td>\n",
       "    </tr>\n",
       "    <tr>\n",
       "      <th>001005</th>\n",
       "      <td>10246.0</td>\n",
       "      <td>5431.0</td>\n",
       "      <td>1586.0</td>\n",
       "    </tr>\n",
       "    <tr>\n",
       "      <th>001006</th>\n",
       "      <td>4279.0</td>\n",
       "      <td>3137.0</td>\n",
       "      <td>270.0</td>\n",
       "    </tr>\n",
       "    <tr>\n",
       "      <th>001007</th>\n",
       "      <td>12521.0</td>\n",
       "      <td>13246.0</td>\n",
       "      <td>300.0</td>\n",
       "    </tr>\n",
       "    <tr>\n",
       "      <th>...</th>\n",
       "      <td>...</td>\n",
       "      <td>...</td>\n",
       "      <td>...</td>\n",
       "    </tr>\n",
       "    <tr>\n",
       "      <th>310114</th>\n",
       "      <td>NaN</td>\n",
       "      <td>5025.0</td>\n",
       "      <td>NaN</td>\n",
       "    </tr>\n",
       "    <tr>\n",
       "      <th>310115</th>\n",
       "      <td>211.0</td>\n",
       "      <td>10549.0</td>\n",
       "      <td>244.0</td>\n",
       "    </tr>\n",
       "    <tr>\n",
       "      <th>310116</th>\n",
       "      <td>180.0</td>\n",
       "      <td>1133.0</td>\n",
       "      <td>NaN</td>\n",
       "    </tr>\n",
       "    <tr>\n",
       "      <th>310117</th>\n",
       "      <td>728.0</td>\n",
       "      <td>21873.0</td>\n",
       "      <td>NaN</td>\n",
       "    </tr>\n",
       "    <tr>\n",
       "      <th>310118</th>\n",
       "      <td>NaN</td>\n",
       "      <td>25215.0</td>\n",
       "      <td>NaN</td>\n",
       "    </tr>\n",
       "  </tbody>\n",
       "</table>\n",
       "<p>44604 rows × 3 columns</p>\n",
       "</div>"
      ],
      "text/plain": [
       "uso_agregado  Comercial e Serviços  Residencial  \\\n",
       "sq                                                \n",
       "001003                     22140.0       7786.0   \n",
       "001004                     13305.0       5994.0   \n",
       "001005                     10246.0       5431.0   \n",
       "001006                      4279.0       3137.0   \n",
       "001007                     12521.0      13246.0   \n",
       "...                            ...          ...   \n",
       "310114                         NaN       5025.0   \n",
       "310115                       211.0      10549.0   \n",
       "310116                       180.0       1133.0   \n",
       "310117                       728.0      21873.0   \n",
       "310118                         NaN      25215.0   \n",
       "\n",
       "uso_agregado  Terrenos, indústria, galpões e outros  \n",
       "sq                                                   \n",
       "001003                                          0.0  \n",
       "001004                                       1416.0  \n",
       "001005                                       1586.0  \n",
       "001006                                        270.0  \n",
       "001007                                        300.0  \n",
       "...                                             ...  \n",
       "310114                                          NaN  \n",
       "310115                                        244.0  \n",
       "310116                                          NaN  \n",
       "310117                                          NaN  \n",
       "310118                                          NaN  \n",
       "\n",
       "[44604 rows x 3 columns]"
      ]
     },
     "execution_count": 23,
     "metadata": {},
     "output_type": "execute_result"
    }
   ],
   "source": [
    "pd.pivot_table(gdf_iptu_agg, values='area_construida_x', index=['sq'], columns=['uso_agregado'], aggfunc=np.sum)"
   ]
  },
  {
   "cell_type": "code",
   "execution_count": 24,
   "id": "indian-implementation",
   "metadata": {},
   "outputs": [],
   "source": [
    "gdf_iptu_pivot = \\\n",
    "gdf_quadras.merge(\\\n",
    "pd.pivot_table(gdf_iptu_agg, values='area_construida_x', index=['sq'], columns=['uso_agregado'], aggfunc=np.sum),\\\n",
    "                 on='sq', how='left')"
   ]
  },
  {
   "cell_type": "code",
   "execution_count": 25,
   "id": "outdoor-lucas",
   "metadata": {},
   "outputs": [],
   "source": [
    "gdf_iptu_pivot.replace(np.nan, 0, inplace=True)"
   ]
  },
  {
   "cell_type": "code",
   "execution_count": 26,
   "id": "younger-gasoline",
   "metadata": {},
   "outputs": [
    {
     "data": {
      "text/html": [
       "<div>\n",
       "<style scoped>\n",
       "    .dataframe tbody tr th:only-of-type {\n",
       "        vertical-align: middle;\n",
       "    }\n",
       "\n",
       "    .dataframe tbody tr th {\n",
       "        vertical-align: top;\n",
       "    }\n",
       "\n",
       "    .dataframe thead th {\n",
       "        text-align: right;\n",
       "    }\n",
       "</style>\n",
       "<table border=\"1\" class=\"dataframe\">\n",
       "  <thead>\n",
       "    <tr style=\"text-align: right;\">\n",
       "      <th></th>\n",
       "      <th>geometry</th>\n",
       "      <th>Comercial e Serviços</th>\n",
       "      <th>Residencial</th>\n",
       "      <th>Terrenos, indústria, galpões e outros</th>\n",
       "    </tr>\n",
       "    <tr>\n",
       "      <th>sq</th>\n",
       "      <th></th>\n",
       "      <th></th>\n",
       "      <th></th>\n",
       "      <th></th>\n",
       "    </tr>\n",
       "  </thead>\n",
       "  <tbody>\n",
       "    <tr>\n",
       "      <th>001003</th>\n",
       "      <td>POLYGON ((333415.056 7396354.502, 333412.306 7...</td>\n",
       "      <td>22140.0</td>\n",
       "      <td>7786.0</td>\n",
       "      <td>0.0</td>\n",
       "    </tr>\n",
       "    <tr>\n",
       "      <th>001004</th>\n",
       "      <td>POLYGON ((333547.169 7396521.849, 333542.688 7...</td>\n",
       "      <td>13305.0</td>\n",
       "      <td>5994.0</td>\n",
       "      <td>1416.0</td>\n",
       "    </tr>\n",
       "    <tr>\n",
       "      <th>001005</th>\n",
       "      <td>POLYGON ((333559.635 7396520.416, 333574.733 7...</td>\n",
       "      <td>10246.0</td>\n",
       "      <td>5431.0</td>\n",
       "      <td>1586.0</td>\n",
       "    </tr>\n",
       "    <tr>\n",
       "      <th>001006</th>\n",
       "      <td>POLYGON ((333599.160 7396343.566, 333593.816 7...</td>\n",
       "      <td>4279.0</td>\n",
       "      <td>3137.0</td>\n",
       "      <td>270.0</td>\n",
       "    </tr>\n",
       "    <tr>\n",
       "      <th>001007</th>\n",
       "      <td>POLYGON ((333689.258 7396305.230, 333688.459 7...</td>\n",
       "      <td>12521.0</td>\n",
       "      <td>13246.0</td>\n",
       "      <td>300.0</td>\n",
       "    </tr>\n",
       "    <tr>\n",
       "      <th>...</th>\n",
       "      <td>...</td>\n",
       "      <td>...</td>\n",
       "      <td>...</td>\n",
       "      <td>...</td>\n",
       "    </tr>\n",
       "    <tr>\n",
       "      <th>310116</th>\n",
       "      <td>MULTIPOLYGON (((332734.442 7383503.772, 332721...</td>\n",
       "      <td>180.0</td>\n",
       "      <td>1133.0</td>\n",
       "      <td>0.0</td>\n",
       "    </tr>\n",
       "    <tr>\n",
       "      <th>310117</th>\n",
       "      <td>MULTIPOLYGON (((333231.482 7383452.112, 333232...</td>\n",
       "      <td>728.0</td>\n",
       "      <td>21873.0</td>\n",
       "      <td>0.0</td>\n",
       "    </tr>\n",
       "    <tr>\n",
       "      <th>310118</th>\n",
       "      <td>POLYGON ((332710.926 7384374.222, 332722.074 7...</td>\n",
       "      <td>0.0</td>\n",
       "      <td>25215.0</td>\n",
       "      <td>0.0</td>\n",
       "    </tr>\n",
       "    <tr>\n",
       "      <th>310119</th>\n",
       "      <td>POLYGON ((333650.450 7384445.066, 333649.333 7...</td>\n",
       "      <td>0.0</td>\n",
       "      <td>0.0</td>\n",
       "      <td>0.0</td>\n",
       "    </tr>\n",
       "    <tr>\n",
       "      <th>310120</th>\n",
       "      <td>MULTIPOLYGON (((333312.322 7383219.342, 333311...</td>\n",
       "      <td>0.0</td>\n",
       "      <td>0.0</td>\n",
       "      <td>0.0</td>\n",
       "    </tr>\n",
       "  </tbody>\n",
       "</table>\n",
       "<p>45611 rows × 4 columns</p>\n",
       "</div>"
      ],
      "text/plain": [
       "                                                 geometry  \\\n",
       "sq                                                          \n",
       "001003  POLYGON ((333415.056 7396354.502, 333412.306 7...   \n",
       "001004  POLYGON ((333547.169 7396521.849, 333542.688 7...   \n",
       "001005  POLYGON ((333559.635 7396520.416, 333574.733 7...   \n",
       "001006  POLYGON ((333599.160 7396343.566, 333593.816 7...   \n",
       "001007  POLYGON ((333689.258 7396305.230, 333688.459 7...   \n",
       "...                                                   ...   \n",
       "310116  MULTIPOLYGON (((332734.442 7383503.772, 332721...   \n",
       "310117  MULTIPOLYGON (((333231.482 7383452.112, 333232...   \n",
       "310118  POLYGON ((332710.926 7384374.222, 332722.074 7...   \n",
       "310119  POLYGON ((333650.450 7384445.066, 333649.333 7...   \n",
       "310120  MULTIPOLYGON (((333312.322 7383219.342, 333311...   \n",
       "\n",
       "        Comercial e Serviços  Residencial  \\\n",
       "sq                                          \n",
       "001003               22140.0       7786.0   \n",
       "001004               13305.0       5994.0   \n",
       "001005               10246.0       5431.0   \n",
       "001006                4279.0       3137.0   \n",
       "001007               12521.0      13246.0   \n",
       "...                      ...          ...   \n",
       "310116                 180.0       1133.0   \n",
       "310117                 728.0      21873.0   \n",
       "310118                   0.0      25215.0   \n",
       "310119                   0.0          0.0   \n",
       "310120                   0.0          0.0   \n",
       "\n",
       "        Terrenos, indústria, galpões e outros  \n",
       "sq                                             \n",
       "001003                                    0.0  \n",
       "001004                                 1416.0  \n",
       "001005                                 1586.0  \n",
       "001006                                  270.0  \n",
       "001007                                  300.0  \n",
       "...                                       ...  \n",
       "310116                                    0.0  \n",
       "310117                                    0.0  \n",
       "310118                                    0.0  \n",
       "310119                                    0.0  \n",
       "310120                                    0.0  \n",
       "\n",
       "[45611 rows x 4 columns]"
      ]
     },
     "execution_count": 26,
     "metadata": {},
     "output_type": "execute_result"
    }
   ],
   "source": [
    "gdf_iptu_pivot"
   ]
  },
  {
   "cell_type": "code",
   "execution_count": 27,
   "id": "bearing-diana",
   "metadata": {},
   "outputs": [],
   "source": [
    "import colorsys"
   ]
  },
  {
   "cell_type": "code",
   "execution_count": 28,
   "id": "transsexual-aspect",
   "metadata": {},
   "outputs": [],
   "source": [
    "# colorsys.rgb_to_hsv(22140/100000, 25000/100000, 0.5)[0]"
   ]
  },
  {
   "cell_type": "code",
   "execution_count": 29,
   "id": "realistic-journey",
   "metadata": {},
   "outputs": [],
   "source": [
    "def calc_hue(x):\n",
    "    at = x['Comercial e Serviços'] + x['Residencial'] + x['Terrenos, indústria, galpões e outros']\n",
    "    if at == 0:\n",
    "        rgb = (0, 0, 0)\n",
    "    else:\n",
    "        rgb = (x['Residencial']/at,\\\n",
    "               x['Comercial e Serviços']/at,\\\n",
    "               x['Terrenos, indústria, galpões e outros']/at)\n",
    "    hue = colorsys.rgb_to_hsv(*rgb)[0]\n",
    "    return hue"
   ]
  },
  {
   "cell_type": "code",
   "execution_count": 30,
   "id": "worst-warner",
   "metadata": {},
   "outputs": [],
   "source": [
    "# totais_areas = gdf_iptu_pivot['Comercial e Serviços'] + gdf_iptu_pivot['Residencial'] + gdf_iptu_pivot['Terrenos, indústria, galpões e outros']"
   ]
  },
  {
   "cell_type": "code",
   "execution_count": 31,
   "id": "quarterly-engineer",
   "metadata": {},
   "outputs": [],
   "source": [
    "gdf_iptu_pivot['hue'] = gdf_iptu_pivot.apply(calc_hue, axis=1)"
   ]
  },
  {
   "cell_type": "code",
   "execution_count": 32,
   "id": "fewer-prompt",
   "metadata": {},
   "outputs": [],
   "source": [
    "gdf_iptu_pivot.to_file('resultados/tipos_de_uso/seila.gpkg', driver='GPKG')"
   ]
  },
  {
   "cell_type": "markdown",
   "id": "cardiac-planning",
   "metadata": {},
   "source": [
    "## Gera raster dos tipos de uso para cada ano"
   ]
  },
  {
   "cell_type": "code",
   "execution_count": 33,
   "id": "driving-proceeding",
   "metadata": {},
   "outputs": [],
   "source": [
    "from pathlib import Path\n",
    "import os"
   ]
  },
  {
   "cell_type": "code",
   "execution_count": 34,
   "id": "healthy-tournament",
   "metadata": {},
   "outputs": [],
   "source": [
    "usos_df = []"
   ]
  },
  {
   "cell_type": "code",
   "execution_count": 35,
   "id": "attractive-taste",
   "metadata": {},
   "outputs": [
    {
     "name": "stdout",
     "output_type": "stream",
     "text": [
      "IPTU_2010.zip\n"
     ]
    },
    {
     "name": "stderr",
     "output_type": "stream",
     "text": [
      "b'Skipping line 2445507: expected 35 fields, saw 43\\n'\n",
      "/home/fernando/miniconda3/envs/geoplot/lib/python3.9/site-packages/IPython/core/interactiveshell.py:3165: DtypeWarning: Columns (18,19,20,21,22) have mixed types.Specify dtype option on import or set low_memory=False.\n",
      "  has_raised = await self.run_ast_nodes(code_ast.body, cell_name,\n"
     ]
    },
    {
     "name": "stdout",
     "output_type": "stream",
     "text": [
      "Series([], Name: TIPO DE USO DO IMOVEL, dtype: int64)\n",
      "IPTU_1996.zip\n"
     ]
    },
    {
     "name": "stderr",
     "output_type": "stream",
     "text": [
      "/home/fernando/miniconda3/envs/geoplot/lib/python3.9/site-packages/IPython/core/interactiveshell.py:3165: DtypeWarning: Columns (27) have mixed types.Specify dtype option on import or set low_memory=False.\n",
      "  has_raised = await self.run_ast_nodes(code_ast.body, cell_name,\n"
     ]
    },
    {
     "name": "stdout",
     "output_type": "stream",
     "text": [
      "Residência vertical - padrão c    1\n",
      "Name: TIPO DE USO DO IMOVEL, dtype: int64\n",
      "IPTU_2007.zip\n"
     ]
    },
    {
     "name": "stderr",
     "output_type": "stream",
     "text": [
      "b'Skipping line 2417712: expected 35 fields, saw 43\\n'\n"
     ]
    },
    {
     "name": "stdout",
     "output_type": "stream",
     "text": [
      "Series([], Name: TIPO DE USO DO IMOVEL, dtype: int64)\n",
      "IPTU_2013.zip\n"
     ]
    },
    {
     "name": "stderr",
     "output_type": "stream",
     "text": [
      "b'Skipping line 2560170: expected 35 fields, saw 43\\n'\n",
      "/home/fernando/miniconda3/envs/geoplot/lib/python3.9/site-packages/IPython/core/interactiveshell.py:3165: DtypeWarning: Columns (18,19,20,21,22,27) have mixed types.Specify dtype option on import or set low_memory=False.\n",
      "  has_raised = await self.run_ast_nodes(code_ast.body, cell_name,\n"
     ]
    },
    {
     "name": "stdout",
     "output_type": "stream",
     "text": [
      "Residência horizontal - padrão b    5\n",
      "Name: TIPO DE USO DO IMOVEL, dtype: int64\n",
      "IPTU_2004.zip\n"
     ]
    },
    {
     "name": "stderr",
     "output_type": "stream",
     "text": [
      "b'Skipping line 2325266: expected 35 fields, saw 43\\n'\n"
     ]
    },
    {
     "name": "stdout",
     "output_type": "stream",
     "text": [
      "Series([], Name: TIPO DE USO DO IMOVEL, dtype: int64)\n",
      "IPTU_2005.zip\n"
     ]
    },
    {
     "name": "stderr",
     "output_type": "stream",
     "text": [
      "b'Skipping line 2355090: expected 35 fields, saw 43\\n'\n"
     ]
    },
    {
     "name": "stdout",
     "output_type": "stream",
     "text": [
      "Series([], Name: TIPO DE USO DO IMOVEL, dtype: int64)\n",
      "IPTU_1995.zip\n"
     ]
    },
    {
     "name": "stderr",
     "output_type": "stream",
     "text": [
      "/home/fernando/miniconda3/envs/geoplot/lib/python3.9/site-packages/IPython/core/interactiveshell.py:3165: DtypeWarning: Columns (27) have mixed types.Specify dtype option on import or set low_memory=False.\n",
      "  has_raised = await self.run_ast_nodes(code_ast.body, cell_name,\n"
     ]
    },
    {
     "name": "stdout",
     "output_type": "stream",
     "text": [
      "Residência vertical - padrão c    1\n",
      "Name: TIPO DE USO DO IMOVEL, dtype: int64\n",
      "IPTU_1998.zip\n"
     ]
    },
    {
     "name": "stderr",
     "output_type": "stream",
     "text": [
      "b'Skipping line 2096075: expected 35 fields, saw 43\\n'\n"
     ]
    },
    {
     "name": "stdout",
     "output_type": "stream",
     "text": [
      "Series([], Name: TIPO DE USO DO IMOVEL, dtype: int64)\n",
      "IPTU_2018.zip\n",
      "Series([], Name: TIPO DE USO DO IMOVEL, dtype: int64)\n",
      "IPTU_2001.zip\n"
     ]
    },
    {
     "name": "stderr",
     "output_type": "stream",
     "text": [
      "b'Skipping line 2211865: expected 35 fields, saw 43\\n'\n"
     ]
    },
    {
     "name": "stdout",
     "output_type": "stream",
     "text": [
      "Series([], Name: TIPO DE USO DO IMOVEL, dtype: int64)\n",
      "IPTU_2017.zip\n",
      "Series([], Name: TIPO DE USO DO IMOVEL, dtype: int64)\n",
      "IPTU_2015.zip\n"
     ]
    },
    {
     "name": "stderr",
     "output_type": "stream",
     "text": [
      "b'Skipping line 2651001: expected 35 fields, saw 43\\n'\n",
      "/home/fernando/miniconda3/envs/geoplot/lib/python3.9/site-packages/IPython/core/interactiveshell.py:3165: DtypeWarning: Columns (18,19,20,21,22,27) have mixed types.Specify dtype option on import or set low_memory=False.\n",
      "  has_raised = await self.run_ast_nodes(code_ast.body, cell_name,\n"
     ]
    },
    {
     "name": "stdout",
     "output_type": "stream",
     "text": [
      "Residência horizontal - padrão b    5\n",
      "Name: TIPO DE USO DO IMOVEL, dtype: int64\n",
      "IPTU_2006.zip\n"
     ]
    },
    {
     "name": "stderr",
     "output_type": "stream",
     "text": [
      "b'Skipping line 2381472: expected 35 fields, saw 43\\n'\n"
     ]
    },
    {
     "name": "stdout",
     "output_type": "stream",
     "text": [
      "Series([], Name: TIPO DE USO DO IMOVEL, dtype: int64)\n",
      "IPTU_2009.zip\n"
     ]
    },
    {
     "name": "stderr",
     "output_type": "stream",
     "text": [
      "b'Skipping line 2471701: expected 35 fields, saw 43\\n'\n"
     ]
    },
    {
     "name": "stdout",
     "output_type": "stream",
     "text": [
      "Series([], Name: TIPO DE USO DO IMOVEL, dtype: int64)\n",
      "IPTU_2014.zip\n"
     ]
    },
    {
     "name": "stderr",
     "output_type": "stream",
     "text": [
      "b'Skipping line 2606431: expected 35 fields, saw 43\\n'\n",
      "/home/fernando/miniconda3/envs/geoplot/lib/python3.9/site-packages/IPython/core/interactiveshell.py:3165: DtypeWarning: Columns (18,19,20,21,22,27) have mixed types.Specify dtype option on import or set low_memory=False.\n",
      "  has_raised = await self.run_ast_nodes(code_ast.body, cell_name,\n"
     ]
    },
    {
     "name": "stdout",
     "output_type": "stream",
     "text": [
      "Residência horizontal - padrão b    5\n",
      "Name: TIPO DE USO DO IMOVEL, dtype: int64\n",
      "IPTU_2011.zip\n"
     ]
    },
    {
     "name": "stderr",
     "output_type": "stream",
     "text": [
      "b'Skipping line 2484471: expected 35 fields, saw 43\\n'\n",
      "/home/fernando/miniconda3/envs/geoplot/lib/python3.9/site-packages/IPython/core/interactiveshell.py:3165: DtypeWarning: Columns (18,19,20,21,22) have mixed types.Specify dtype option on import or set low_memory=False.\n",
      "  has_raised = await self.run_ast_nodes(code_ast.body, cell_name,\n"
     ]
    },
    {
     "name": "stdout",
     "output_type": "stream",
     "text": [
      "Series([], Name: TIPO DE USO DO IMOVEL, dtype: int64)\n",
      "IPTU_2000.zip\n"
     ]
    },
    {
     "name": "stderr",
     "output_type": "stream",
     "text": [
      "b'Skipping line 2156584: expected 35 fields, saw 43\\n'\n"
     ]
    },
    {
     "name": "stdout",
     "output_type": "stream",
     "text": [
      "Series([], Name: TIPO DE USO DO IMOVEL, dtype: int64)\n",
      "IPTU_2019.zip\n",
      "Series([], Name: TIPO DE USO DO IMOVEL, dtype: int64)\n",
      "IPTU_1997.zip\n"
     ]
    },
    {
     "name": "stderr",
     "output_type": "stream",
     "text": [
      "/home/fernando/miniconda3/envs/geoplot/lib/python3.9/site-packages/IPython/core/interactiveshell.py:3165: DtypeWarning: Columns (27) have mixed types.Specify dtype option on import or set low_memory=False.\n",
      "  has_raised = await self.run_ast_nodes(code_ast.body, cell_name,\n"
     ]
    },
    {
     "name": "stdout",
     "output_type": "stream",
     "text": [
      "Residência vertical - padrão c    1\n",
      "Name: TIPO DE USO DO IMOVEL, dtype: int64\n",
      "IPTU_2016.zip\n",
      "Series([], Name: TIPO DE USO DO IMOVEL, dtype: int64)\n",
      "IPTU_2002.zip\n"
     ]
    },
    {
     "name": "stderr",
     "output_type": "stream",
     "text": [
      "b'Skipping line 2247445: expected 35 fields, saw 43\\n'\n"
     ]
    },
    {
     "name": "stdout",
     "output_type": "stream",
     "text": [
      "Series([], Name: TIPO DE USO DO IMOVEL, dtype: int64)\n",
      "IPTU_1999.zip\n"
     ]
    },
    {
     "name": "stderr",
     "output_type": "stream",
     "text": [
      "b'Skipping line 2121196: expected 35 fields, saw 43\\n'\n"
     ]
    },
    {
     "name": "stdout",
     "output_type": "stream",
     "text": [
      "Series([], Name: TIPO DE USO DO IMOVEL, dtype: int64)\n",
      "IPTU_2020.zip\n",
      "Series([], Name: TIPO DE USO DO IMOVEL, dtype: int64)\n",
      "IPTU_2008.zip\n"
     ]
    },
    {
     "name": "stderr",
     "output_type": "stream",
     "text": [
      "b'Skipping line 2440049: expected 35 fields, saw 43\\n'\n"
     ]
    },
    {
     "name": "stdout",
     "output_type": "stream",
     "text": [
      "Series([], Name: TIPO DE USO DO IMOVEL, dtype: int64)\n",
      "IPTU_2003.zip\n"
     ]
    },
    {
     "name": "stderr",
     "output_type": "stream",
     "text": [
      "b'Skipping line 2288886: expected 35 fields, saw 43\\n'\n"
     ]
    },
    {
     "name": "stdout",
     "output_type": "stream",
     "text": [
      "Series([], Name: TIPO DE USO DO IMOVEL, dtype: int64)\n",
      "IPTU_2012.zip\n"
     ]
    },
    {
     "name": "stderr",
     "output_type": "stream",
     "text": [
      "b'Skipping line 2526350: expected 35 fields, saw 43\\n'\n",
      "/home/fernando/miniconda3/envs/geoplot/lib/python3.9/site-packages/IPython/core/interactiveshell.py:3165: DtypeWarning: Columns (18,19,20,21,22) have mixed types.Specify dtype option on import or set low_memory=False.\n",
      "  has_raised = await self.run_ast_nodes(code_ast.body, cell_name,\n"
     ]
    },
    {
     "name": "stdout",
     "output_type": "stream",
     "text": [
      "Series([], Name: TIPO DE USO DO IMOVEL, dtype: int64)\n"
     ]
    }
   ],
   "source": [
    "for path in Path('IPTU').rglob('*.zip'):\n",
    "    print(path.name)\n",
    "    \n",
    "    # 1. Carregar dados do arquivo\n",
    "    # OBS.: O IPTU de 2016 está separado por ',' e não por ';'\n",
    "    if path.name == \"IPTU_2016.zip\":\n",
    "        df_iptu = pd.read_csv(f'{path}',\\\n",
    "                     compression='zip',\\\n",
    "                     encoding='iso-8859-9',\\\n",
    "                     sep=',',\\\n",
    "                     decimal=',',\\\n",
    "                     error_bad_lines=False)\n",
    "    else:\n",
    "        df_iptu = pd.read_csv(f'{path}',\\\n",
    "                     compression='zip',\\\n",
    "                     encoding='iso-8859-9',\\\n",
    "                     sep=';',\\\n",
    "                     decimal=',',\\\n",
    "                     error_bad_lines=False)\n",
    "    \n",
    "    # Obter o SQ (Setor e Quadra)\n",
    "    df_iptu['setor'] = df_iptu['NUMERO DO CONTRIBUINTE'].str[0:3]\n",
    "    df_iptu['quadra'] = df_iptu['NUMERO DO CONTRIBUINTE'].str[3:6]\n",
    "\n",
    "    # Calculando chave 'SQ'\n",
    "    df_iptu['sq'] = \\\n",
    "    df_iptu['setor'] + df_iptu['quadra']\n",
    "\n",
    "    # Normalizando o lote condominial\n",
    "    df_iptu.loc[df_iptu['NUMERO DO CONDOMINIO'].str[0:2] != '00', 'lote'] = '0000'\n",
    "    df_iptu.loc[df_iptu['NUMERO DO CONDOMINIO'].str[0:2] == '00', 'lote'] = \\\n",
    "    df_iptu.loc[df_iptu['NUMERO DO CONDOMINIO'].str[0:2] == '00', 'NUMERO DO CONTRIBUINTE'].str[6:10]\n",
    "\n",
    "    # Individualizando a testada e pavimentos por lote (SQLC)\n",
    "    df_iptu['sqlc'] = df_iptu['setor'] + \\\n",
    "    df_iptu['quadra'] + df_iptu['lote'] + \\\n",
    "    df_iptu['NUMERO DO CONDOMINIO'].str[0:2]\n",
    "\n",
    "    df_iptu['AREA CONSTRUIDA'] = pd.to_numeric(df_iptu['AREA CONSTRUIDA'], errors ='coerce')\n",
    "    df_iptu['AREA OCUPADA'] = pd.to_numeric(df_iptu['AREA OCUPADA'], errors ='coerce')\n",
    "    df_iptu['AREA DO TERRENO'] = pd.to_numeric(df_iptu['AREA DO TERRENO'], errors ='coerce')\n",
    "    df_iptu['FRACAO IDEAL'] = pd.to_numeric(df_iptu['FRACAO IDEAL'], errors ='coerce')\n",
    "    df_iptu['QUANTIDADE DE PAVIMENTOS'] = pd.to_numeric(df_iptu['QUANTIDADE DE PAVIMENTOS'], errors ='coerce')\n",
    "    df_iptu['TESTADA PARA CALCULO'] = pd.to_numeric(df_iptu['TESTADA PARA CALCULO'], errors ='coerce')\n",
    "\n",
    "    # Adequando variáveis à fração ideal\n",
    "    df_iptu['area_terreno'] = df_iptu['FRACAO IDEAL'] * df_iptu['AREA DO TERRENO']\n",
    "    df_iptu['area_ocupada'] = df_iptu['FRACAO IDEAL'] * df_iptu['AREA OCUPADA']\n",
    "    \n",
    "    # Paadronizando tipo de uso com a primeira letra em maíusculo\n",
    "    df_iptu.loc[:, 'TIPO DE USO DO IMOVEL'] = df_iptu.loc[:, 'TIPO DE USO DO IMOVEL'].str.capitalize()\n",
    "\n",
    "    # Adequar os usos ao padrão estabelecido\n",
    "    df_iptu.loc[df_iptu['TIPO DE USO DO IMOVEL']\\\n",
    "                .isin(usos),\\\n",
    "                'TIPO DE USO DO IMOVEL'] = \\\n",
    "    df_iptu[df_iptu['TIPO DE USO DO IMOVEL']\\\n",
    "                 .isin(usos)]['TIPO DE USO DO IMOVEL']\\\n",
    "    .apply(lambda x: usos[x])\n",
    "    \n",
    "    for k in usos_agregados.keys():\n",
    "        df_iptu\\\n",
    "        .loc[df_iptu['TIPO DE USO DO IMOVEL'].isin(usos_agregados[k]), \\\n",
    "            'uso_agregado'] = k\n",
    "    \n",
    "    # Auditando os tipos de uso\n",
    "    print(df_iptu.loc[df_iptu.uso_agregado.isna(), 'TIPO DE USO DO IMOVEL'].value_counts())\n",
    "    \n",
    "    sq_area = df_iptu[['sq', \\\n",
    "                       'AREA CONSTRUIDA']]\\\n",
    "        .groupby(['sq'])\\\n",
    "        .agg({'AREA CONSTRUIDA': 'sum'})\\\n",
    "        .rename(columns = {'AREA CONSTRUIDA': 'area_construida'})\n",
    "    \n",
    "    iptu_agg = df_iptu[['sq', \\\n",
    "                        'AREA CONSTRUIDA',\n",
    "                        'uso_agregado']]\\\n",
    "    .groupby(['sq', 'uso_agregado'])\\\n",
    "    .agg({'AREA CONSTRUIDA': 'sum'})\\\n",
    "    .rename(columns = {'AREA CONSTRUIDA': 'area_construida'})\n",
    "    \n",
    "    iptu_agg_qd = iptu_agg.reset_index().merge(sq_area, on='sq', how='left')\n",
    "    \n",
    "    iptu_agg_qd = \\\n",
    "    iptu_agg_qd.loc[(iptu_agg_qd.area_construida_y != 0) | \\\n",
    "                   (iptu_agg_qd.area_construida_x != 0)]\n",
    "    \n",
    "    df_iptu_pivot = \\\n",
    "    pd.pivot_table(iptu_agg_qd, values='area_construida_x', index=['sq'], columns=['uso_agregado'], aggfunc=np.sum)\n",
    "\n",
    "    df_iptu_pivot.replace(np.nan, 0, inplace=True)\n",
    "    \n",
    "    df_iptu_pivot['hue'] = df_iptu_pivot.apply(calc_hue, axis=1)\n",
    "    \n",
    "    df_iptu_pivot.rename(columns={'Comercial e Serviços':f'{path.name[-8:-4]}_com',\\\n",
    "                                  'Residencial':f'{path.name[-8:-4]}_res',\\\n",
    "                                  'Terrenos, indústria, galpões e outros':f'{path.name[-8:-4]}_outros',\\\n",
    "                                  'hue':f'{path.name[-8:-4]}_hue'},\\\n",
    "                        inplace=True)\n",
    "    \n",
    "    usos_df.append(df_iptu_pivot)"
   ]
  },
  {
   "cell_type": "code",
   "execution_count": 36,
   "id": "downtown-israel",
   "metadata": {},
   "outputs": [
    {
     "data": {
      "text/plain": [
       "[uso_agregado  2010_com  2010_res  2010_outros  2010_hue\n",
       " sq                                                     \n",
       " 001003         31919.0    7786.0          0.0  0.292678\n",
       " 001004         12648.0    6274.0       1416.0  0.261248\n",
       " 001005         10086.0    5431.0       1586.0  0.257941\n",
       " 001006          4216.0    3277.0        270.0  0.206327\n",
       " 001007         12926.0   11108.0        300.0  0.190665\n",
       " ...                ...       ...          ...       ...\n",
       " 310114           180.0    4586.0          0.0  0.006542\n",
       " 310115           167.0   10549.0        244.0  0.998764\n",
       " 310116           180.0    1133.0          0.0  0.026478\n",
       " 310117           728.0   21283.0          0.0  0.005701\n",
       " 310118             0.0   25215.0          0.0  0.000000\n",
       " \n",
       " [41624 rows x 4 columns],\n",
       " uso_agregado  1996_com  1996_res  1996_outros  1996_hue\n",
       " sq                                                     \n",
       " 001003         32538.0    6616.0          0.0  0.299445\n",
       " 001004         13292.0    6984.0        594.0  0.249462\n",
       " 001005          5956.0    7581.0        951.0  0.125817\n",
       " 001006          1618.0    4021.0        270.0  0.059895\n",
       " 001007         11617.0   11273.0          0.0  0.171602\n",
       " ...                ...       ...          ...       ...\n",
       " 310114             0.0    3859.0          0.0  0.000000\n",
       " 310115             0.0   10550.0        244.0  0.996145\n",
       " 310116           268.0    1015.0          0.0  0.044007\n",
       " 310117           728.0   13325.0          0.0  0.009106\n",
       " 310118             0.0   25215.0          0.0  0.000000\n",
       " \n",
       " [40585 rows x 4 columns],\n",
       " uso_agregado  2007_com  2007_res  2007_outros  2007_hue\n",
       " sq                                                     \n",
       " 001003         31363.0    7786.0          0.0  0.291958\n",
       " 001004         12591.0    6274.0       1416.0  0.260880\n",
       " 001005          9286.0    6260.0       1351.0  0.230225\n",
       " 001006          4211.0    3277.0        270.0  0.206166\n",
       " 001007         12427.0   11163.0        300.0  0.184038\n",
       " ...                ...       ...          ...       ...\n",
       " 310114           180.0    4586.0          0.0  0.006542\n",
       " 310115           338.0   10295.0        244.0  0.001559\n",
       " 310116           180.0    1133.0          0.0  0.026478\n",
       " 310117           728.0   21283.0          0.0  0.005701\n",
       " 310118             0.0   25215.0          0.0  0.000000\n",
       " \n",
       " [42387 rows x 4 columns],\n",
       " uso_agregado  2013_com  2013_res  2013_outros  2013_hue\n",
       " sq                                                     \n",
       " 001003         32249.0    7786.0          0.0  0.293094\n",
       " 001004         12681.0    6292.0       1416.0  0.261192\n",
       " 001005         10086.0    5431.0       1586.0  0.257941\n",
       " 001006          4402.0    3137.0        270.0  0.217691\n",
       " 001007         12518.0   11108.0        300.0  0.185901\n",
       " ...                ...       ...          ...       ...\n",
       " 310114           180.0    4628.0          0.0  0.006482\n",
       " 310115           167.0   10549.0        244.0  0.998764\n",
       " 310116           180.0    1133.0          0.0  0.026478\n",
       " 310117           728.0   21283.0          0.0  0.005701\n",
       " 310118             0.0   25215.0          0.0  0.000000\n",
       " \n",
       " [42265 rows x 4 columns],\n",
       " uso_agregado  2004_com  2004_res  2004_outros  2004_hue\n",
       " sq                                                     \n",
       " 001003         32531.0    6608.0          0.0  0.299478\n",
       " 001004         14207.0    6274.0       1416.0  0.270034\n",
       " 001005          8822.0    6260.0       1351.0  0.223821\n",
       " 001006          4211.0    3277.0        270.0  0.206166\n",
       " 001007         12659.0   11213.0        300.0  0.186167\n",
       " ...                ...       ...          ...       ...\n",
       " 310114             0.0    4606.0          0.0  0.000000\n",
       " 310115             0.0   10641.0        244.0  0.996178\n",
       " 310116           180.0    1133.0          0.0  0.026478\n",
       " 310117           728.0   21283.0          0.0  0.005701\n",
       " 310118             0.0   25215.0          0.0  0.000000\n",
       " \n",
       " [41867 rows x 4 columns],\n",
       " uso_agregado  2005_com  2005_res  2005_outros  2005_hue\n",
       " sq                                                     \n",
       " 001003         32541.0    6608.0          0.0  0.299489\n",
       " 001004         14207.0    6274.0       1416.0  0.270034\n",
       " 001005          8822.0    6260.0       1351.0  0.223821\n",
       " 001006          4211.0    3277.0        270.0  0.206166\n",
       " 001007         12659.0   11213.0        300.0  0.186167\n",
       " ...                ...       ...          ...       ...\n",
       " 310114             0.0    4606.0          0.0  0.000000\n",
       " 310115             0.0   10633.0        244.0  0.996175\n",
       " 310116           180.0    1133.0          0.0  0.026478\n",
       " 310117           728.0   21283.0          0.0  0.005701\n",
       " 310118             0.0   25215.0          0.0  0.000000\n",
       " \n",
       " [41968 rows x 4 columns],\n",
       " uso_agregado  1995_com  1995_res  1995_outros  1995_hue\n",
       " sq                                                     \n",
       " 001003         21802.0    5553.0      10109.0  0.380064\n",
       " 001004         11915.0    6931.0       1770.0  0.248546\n",
       " 001005          5956.0    7581.0        951.0  0.125817\n",
       " 001006          2161.0    3947.0        270.0  0.085713\n",
       " 001007         11617.0   11312.0          0.0  0.171042\n",
       " ...                ...       ...          ...       ...\n",
       " 310114             0.0    3859.0          0.0  0.000000\n",
       " 310115             0.0   10550.0        244.0  0.996145\n",
       " 310116           268.0    1015.0          0.0  0.044007\n",
       " 310117           728.0   13257.0          0.0  0.009152\n",
       " 310118             0.0   25215.0          0.0  0.000000\n",
       " \n",
       " [40330 rows x 4 columns],\n",
       " uso_agregado  1998_com  1998_res  1998_outros  1998_hue\n",
       " sq                                                     \n",
       " 001003         32504.0    6616.0          0.0  0.299409\n",
       " 001004         13945.0    6524.0       1176.0  0.263529\n",
       " 001005          8757.0    6260.0       1351.0  0.222860\n",
       " 001006          4181.0    3277.0        270.0  0.205190\n",
       " 001007         12409.0   11213.0        300.0  0.183128\n",
       " ...                ...       ...          ...       ...\n",
       " 310114             0.0    3859.0          0.0  0.000000\n",
       " 310115             0.0   10520.0        244.0  0.996134\n",
       " 310116           268.0    1015.0          0.0  0.044007\n",
       " 310117           728.0   13325.0          0.0  0.009106\n",
       " 310118             0.0   25215.0          0.0  0.000000\n",
       " \n",
       " [41179 rows x 4 columns],\n",
       " uso_agregado  2018_com  2018_res  2018_outros  2018_hue\n",
       " sq                                                     \n",
       " 001003         32249.0    7786.0          0.0  0.293094\n",
       " 001004         13305.0    5994.0       1416.0  0.269156\n",
       " 001005         10246.0    5431.0       1586.0  0.259334\n",
       " 001006          4279.0    3137.0        270.0  0.214143\n",
       " 001007         12521.0   13246.0        300.0  0.157333\n",
       " ...                ...       ...          ...       ...\n",
       " 310114           180.0    4628.0          0.0  0.006482\n",
       " 310115           211.0   10549.0        244.0  0.999468\n",
       " 310116           180.0    1133.0          0.0  0.026478\n",
       " 310117           728.0   21203.0          0.0  0.005722\n",
       " 310118             0.0   25215.0          0.0  0.000000\n",
       " \n",
       " [44393 rows x 4 columns],\n",
       " uso_agregado  2001_com  2001_res  2001_outros  2001_hue\n",
       " sq                                                     \n",
       " 001003         32504.0    6608.0          0.0  0.299450\n",
       " 001004         14195.0    6274.0       1176.0  0.268070\n",
       " 001005          8822.0    6260.0       1351.0  0.223821\n",
       " 001006          4181.0    3277.0        270.0  0.205190\n",
       " 001007         12409.0   11213.0        300.0  0.183128\n",
       " ...                ...       ...          ...       ...\n",
       " 310114             0.0    4392.0          0.0  0.000000\n",
       " 310115             0.0   10641.0        244.0  0.996178\n",
       " 310116           180.0    1133.0          0.0  0.026478\n",
       " 310117           728.0   20867.0          0.0  0.005815\n",
       " 310118             0.0   25215.0          0.0  0.000000\n",
       " \n",
       " [41609 rows x 4 columns],\n",
       " uso_agregado  2017_com  2017_res  2017_outros  2017_hue\n",
       " sq                                                     \n",
       " 001003         32249.0    7786.0          0.0  0.293094\n",
       " 001004         13291.0    5994.0       1416.0  0.269081\n",
       " 001005         10086.0    5431.0       1586.0  0.257941\n",
       " 001006          4279.0    3137.0        270.0  0.214143\n",
       " 001007         12521.0   13246.0        300.0  0.157333\n",
       " ...                ...       ...          ...       ...\n",
       " 310114           180.0    4628.0          0.0  0.006482\n",
       " 310115           211.0   10549.0        244.0  0.999468\n",
       " 310116           180.0    1133.0          0.0  0.026478\n",
       " 310117           728.0   21203.0          0.0  0.005722\n",
       " 310118             0.0   25215.0          0.0  0.000000\n",
       " \n",
       " [44324 rows x 4 columns],\n",
       " uso_agregado  2015_com  2015_res  2015_outros  2015_hue\n",
       " sq                                                     \n",
       " 001003         32249.0    7786.0          0.0  0.293094\n",
       " 001004         13291.0    5994.0       1416.0  0.269081\n",
       " 001005         10086.0    5431.0       1586.0  0.257941\n",
       " 001006          4402.0    3137.0        270.0  0.217691\n",
       " 001007         12518.0   13221.0        300.0  0.157599\n",
       " ...                ...       ...          ...       ...\n",
       " 310114           180.0    4628.0          0.0  0.006482\n",
       " 310115           167.0   10549.0        244.0  0.998764\n",
       " 310116           180.0    1133.0          0.0  0.026478\n",
       " 310117           728.0   21283.0          0.0  0.005701\n",
       " 310118             0.0   25215.0          0.0  0.000000\n",
       " \n",
       " [42475 rows x 4 columns],\n",
       " uso_agregado  2006_com  2006_res  2006_outros  2006_hue\n",
       " sq                                                     \n",
       " 001003         31363.0    7786.0          0.0  0.291958\n",
       " 001004         12961.0    6274.0       1416.0  0.263202\n",
       " 001005          9136.0    6260.0       1351.0  0.228238\n",
       " 001006          4211.0    3277.0        270.0  0.206166\n",
       " 001007         12829.0   11230.0        300.0  0.187937\n",
       " ...                ...       ...          ...       ...\n",
       " 310114             0.0    4766.0          0.0  0.000000\n",
       " 310115             0.0   10633.0        244.0  0.996175\n",
       " 310116           180.0    1133.0          0.0  0.026478\n",
       " 310117           728.0   21283.0          0.0  0.005701\n",
       " 310118             0.0   25215.0          0.0  0.000000\n",
       " \n",
       " [42098 rows x 4 columns],\n",
       " uso_agregado  2009_com  2009_res  2009_outros  2009_hue\n",
       " sq                                                     \n",
       " 001003         31645.0    7786.0          0.0  0.292326\n",
       " 001004         12623.0    6274.0       1416.0  0.261087\n",
       " 001005         10086.0    5611.0       1191.0  0.250515\n",
       " 001006          4211.0    3277.0        270.0  0.206166\n",
       " 001007         12456.0   11232.0        300.0  0.183449\n",
       " ...                ...       ...          ...       ...\n",
       " 310114           180.0    4586.0          0.0  0.006542\n",
       " 310115           167.0   10526.0        244.0  0.998761\n",
       " 310116           180.0    1133.0          0.0  0.026478\n",
       " 310117           728.0   21283.0          0.0  0.005701\n",
       " 310118             0.0   25215.0          0.0  0.000000\n",
       " \n",
       " [42622 rows x 4 columns],\n",
       " uso_agregado  2014_com  2014_res  2014_outros  2014_hue\n",
       " sq                                                     \n",
       " 001003         32249.0    7786.0          0.0  0.293094\n",
       " 001004         13086.0    6192.0       1416.0  0.265124\n",
       " 001005         10086.0    5431.0       1586.0  0.257941\n",
       " 001006          4402.0    3137.0        270.0  0.217691\n",
       " 001007         12518.0   13221.0        300.0  0.157599\n",
       " ...                ...       ...          ...       ...\n",
       " 310114           180.0    4628.0          0.0  0.006482\n",
       " 310115           167.0   10549.0        244.0  0.998764\n",
       " 310116           180.0    1133.0          0.0  0.026478\n",
       " 310117           728.0   21283.0          0.0  0.005701\n",
       " 310118             0.0   25215.0          0.0  0.000000\n",
       " \n",
       " [42312 rows x 4 columns],\n",
       " uso_agregado  2011_com  2011_res  2011_outros  2011_hue\n",
       " sq                                                     \n",
       " 001003         32249.0    7786.0          0.0  0.293094\n",
       " 001004         12648.0    6274.0       1416.0  0.261248\n",
       " 001005         10086.0    5431.0       1586.0  0.257941\n",
       " 001006          4262.0    3277.0        270.0  0.207791\n",
       " 001007         12926.0   11108.0        300.0  0.190665\n",
       " ...                ...       ...          ...       ...\n",
       " 310114           180.0    4586.0          0.0  0.006542\n",
       " 310115           167.0   10549.0        244.0  0.998764\n",
       " 310116           180.0    1133.0          0.0  0.026478\n",
       " 310117           728.0   21283.0          0.0  0.005701\n",
       " 310118             0.0   25215.0          0.0  0.000000\n",
       " \n",
       " [42068 rows x 4 columns],\n",
       " uso_agregado  2000_com  2000_res  2000_outros  2000_hue\n",
       " sq                                                     \n",
       " 001003         32504.0    6608.0          0.0  0.299450\n",
       " 001004         14195.0    6274.0       1176.0  0.268070\n",
       " 001005          8822.0    6260.0       1351.0  0.223821\n",
       " 001006          4181.0    3277.0        270.0  0.205190\n",
       " 001007         12409.0   11213.0        300.0  0.183128\n",
       " ...                ...       ...          ...       ...\n",
       " 310114             0.0    3970.0          0.0  0.000000\n",
       " 310115             0.0   10550.0        244.0  0.996145\n",
       " 310116           180.0    1133.0          0.0  0.026478\n",
       " 310117           728.0   20140.0          0.0  0.006024\n",
       " 310118             0.0   25215.0          0.0  0.000000\n",
       " \n",
       " [41302 rows x 4 columns],\n",
       " uso_agregado  2019_com  2019_res  2019_outros  2019_hue\n",
       " sq                                                     \n",
       " 001003         23316.0    7786.0          0.0  0.277678\n",
       " 001004         13305.0    5994.0       1416.0  0.269156\n",
       " 001005         10246.0    5431.0       1586.0  0.259334\n",
       " 001006          4279.0    3137.0        270.0  0.214143\n",
       " 001007         12521.0   13246.0        300.0  0.157333\n",
       " ...                ...       ...          ...       ...\n",
       " 310114           270.0    4708.0          0.0  0.009558\n",
       " 310115           211.0   10549.0        244.0  0.999468\n",
       " 310116           180.0    1133.0          0.0  0.026478\n",
       " 310117           728.0   21203.0          0.0  0.005722\n",
       " 310118             0.0   25215.0          0.0  0.000000\n",
       " \n",
       " [44514 rows x 4 columns],\n",
       " uso_agregado  1997_com  1997_res  1997_outros  1997_hue\n",
       " sq                                                     \n",
       " 001003         32504.0    6616.0          0.0  0.299409\n",
       " 001004         15097.0    6524.0          0.0  0.261310\n",
       " 001005          8657.0    6260.0       1351.0  0.221348\n",
       " 001006          4181.0    3277.0        270.0  0.205190\n",
       " 001007         12669.0   10953.0        300.0  0.189789\n",
       " ...                ...       ...          ...       ...\n",
       " 310114             0.0    3859.0          0.0  0.000000\n",
       " 310115             0.0   10520.0        244.0  0.996134\n",
       " 310116           268.0    1015.0          0.0  0.044007\n",
       " 310117           728.0   13325.0          0.0  0.009106\n",
       " 310118             0.0   25215.0          0.0  0.000000\n",
       " \n",
       " [40981 rows x 4 columns],\n",
       " uso_agregado  2016_com  2016_res  2016_outros  2016_hue\n",
       " sq                                                     \n",
       " 001003         32249.0    7786.0          0.0  0.293094\n",
       " 001004         13291.0    5994.0       1416.0  0.269081\n",
       " 001005         10086.0    5431.0       1586.0  0.257941\n",
       " 001006          4279.0    3137.0        270.0  0.214143\n",
       " 001007         12521.0   13221.0        300.0  0.157637\n",
       " ...                ...       ...          ...       ...\n",
       " 310114           180.0    4628.0          0.0  0.006482\n",
       " 310115           211.0   10549.0        244.0  0.999468\n",
       " 310116           180.0    1133.0          0.0  0.026478\n",
       " 310117           728.0   21203.0          0.0  0.005722\n",
       " 310118             0.0   25215.0          0.0  0.000000\n",
       " \n",
       " [44203 rows x 4 columns],\n",
       " uso_agregado  2002_com  2002_res  2002_outros  2002_hue\n",
       " sq                                                     \n",
       " 001003         32531.0    6608.0          0.0  0.299478\n",
       " 001004         14171.0    6274.0       1176.0  0.267949\n",
       " 001005          8822.0    6260.0       1351.0  0.223821\n",
       " 001006          4211.0    3277.0        270.0  0.206166\n",
       " 001007         12409.0   11213.0        300.0  0.183128\n",
       " ...                ...       ...          ...       ...\n",
       " 310114             0.0    4472.0          0.0  0.000000\n",
       " 310115             0.0   10641.0        244.0  0.996178\n",
       " 310116           180.0    1133.0          0.0  0.026478\n",
       " 310117           728.0   21283.0          0.0  0.005701\n",
       " 310118             0.0   25215.0          0.0  0.000000\n",
       " \n",
       " [41653 rows x 4 columns],\n",
       " uso_agregado  1999_com  1999_res  1999_outros  1999_hue\n",
       " sq                                                     \n",
       " 001003         32504.0    6616.0          0.0  0.299409\n",
       " 001004         14195.0    6274.0       1176.0  0.268070\n",
       " 001005          8757.0    6260.0       1351.0  0.222860\n",
       " 001006          4181.0    3277.0        270.0  0.205190\n",
       " 001007         12409.0   11213.0        300.0  0.183128\n",
       " ...                ...       ...          ...       ...\n",
       " 310114             0.0    3969.0          0.0  0.000000\n",
       " 310115             0.0   10520.0        244.0  0.996134\n",
       " 310116           180.0    1133.0          0.0  0.026478\n",
       " 310117           728.0   13443.0          0.0  0.009026\n",
       " 310118             0.0   25215.0          0.0  0.000000\n",
       " \n",
       " [41240 rows x 4 columns],\n",
       " uso_agregado  2020_com  2020_res  2020_outros  2020_hue\n",
       " sq                                                     \n",
       " 001003         22140.0    7786.0          0.0  0.274721\n",
       " 001004         13305.0    5994.0       1416.0  0.269156\n",
       " 001005         10246.0    5431.0       1586.0  0.259334\n",
       " 001006          4279.0    3137.0        270.0  0.214143\n",
       " 001007         12521.0   13246.0        300.0  0.157333\n",
       " ...                ...       ...          ...       ...\n",
       " 310114             0.0    5025.0          0.0  0.000000\n",
       " 310115           211.0   10549.0        244.0  0.999468\n",
       " 310116           180.0    1133.0          0.0  0.026478\n",
       " 310117           728.0   21873.0          0.0  0.005547\n",
       " 310118             0.0   25215.0          0.0  0.000000\n",
       " \n",
       " [44604 rows x 4 columns],\n",
       " uso_agregado  2008_com  2008_res  2008_outros  2008_hue\n",
       " sq                                                     \n",
       " 001003         31363.0    7786.0          0.0  0.291958\n",
       " 001004         12591.0    6274.0       1416.0  0.260880\n",
       " 001005         10086.0    5620.0       1191.0  0.250347\n",
       " 001006          4211.0    3277.0        270.0  0.206166\n",
       " 001007         12456.0   11230.0        300.0  0.183476\n",
       " ...                ...       ...          ...       ...\n",
       " 310114           180.0    4586.0          0.0  0.006542\n",
       " 310115           167.0   10526.0        244.0  0.998761\n",
       " 310116           180.0    1133.0          0.0  0.026478\n",
       " 310117           728.0   21283.0          0.0  0.005701\n",
       " 310118             0.0   25215.0          0.0  0.000000\n",
       " \n",
       " [42480 rows x 4 columns],\n",
       " uso_agregado  2003_com  2003_res  2003_outros  2003_hue\n",
       " sq                                                     \n",
       " 001003         32531.0    6608.0          0.0  0.299478\n",
       " 001004         14207.0    6274.0       1416.0  0.270034\n",
       " 001005          8822.0    6260.0       1351.0  0.223821\n",
       " 001006          4211.0    3277.0        270.0  0.206166\n",
       " 001007         12659.0   11213.0        300.0  0.186167\n",
       " ...                ...       ...          ...       ...\n",
       " 310114             0.0    4472.0          0.0  0.000000\n",
       " 310115             0.0   10641.0        244.0  0.996178\n",
       " 310116           180.0    1133.0          0.0  0.026478\n",
       " 310117           728.0   21283.0          0.0  0.005701\n",
       " 310118             0.0   25215.0          0.0  0.000000\n",
       " \n",
       " [41712 rows x 4 columns],\n",
       " uso_agregado  2012_com  2012_res  2012_outros  2012_hue\n",
       " sq                                                     \n",
       " 001003         32249.0    7786.0          0.0  0.293094\n",
       " 001004         12681.0    6292.0       1416.0  0.261192\n",
       " 001005         10086.0    5431.0       1586.0  0.257941\n",
       " 001006          4262.0    3277.0        270.0  0.207791\n",
       " 001007         12926.0   11108.0        300.0  0.190665\n",
       " ...                ...       ...          ...       ...\n",
       " 310114           180.0    4586.0          0.0  0.006542\n",
       " 310115           167.0   10549.0        244.0  0.998764\n",
       " 310116           180.0    1133.0          0.0  0.026478\n",
       " 310117           728.0   21283.0          0.0  0.005701\n",
       " 310118             0.0   25215.0          0.0  0.000000\n",
       " \n",
       " [42172 rows x 4 columns]]"
      ]
     },
     "execution_count": 36,
     "metadata": {},
     "output_type": "execute_result"
    }
   ],
   "source": [
    "usos_df"
   ]
  },
  {
   "cell_type": "code",
   "execution_count": 37,
   "id": "impaired-russell",
   "metadata": {},
   "outputs": [],
   "source": [
    "# usos_df\n",
    "df_usos = \\\n",
    "pd.concat(usos_df, axis=1).reindex(columns=sorted(pd.concat(usos_df, axis=1).columns))"
   ]
  },
  {
   "cell_type": "code",
   "execution_count": 38,
   "id": "decimal-timber",
   "metadata": {},
   "outputs": [
    {
     "data": {
      "text/plain": [
       "uso_agregado\n",
       "1995_com        5708.000000\n",
       "1995_hue           0.013042\n",
       "1995_outros        0.000000\n",
       "1995_res       72942.000000\n",
       "1996_com        6591.000000\n",
       "                   ...     \n",
       "2019_res       68482.000000\n",
       "2020_com       34656.000000\n",
       "2020_hue           0.084343\n",
       "2020_outros        0.000000\n",
       "2020_res       68482.000000\n",
       "Name: 036008, Length: 104, dtype: float64"
      ]
     },
     "execution_count": 38,
     "metadata": {},
     "output_type": "execute_result"
    }
   ],
   "source": [
    "df_usos.loc['036008']"
   ]
  },
  {
   "cell_type": "code",
   "execution_count": 39,
   "id": "packed-premium",
   "metadata": {},
   "outputs": [],
   "source": [
    "# Gerando GeoDataFrame\n",
    "gdf_iptu_usos = gdf_quadras.merge(df_usos, on='sq', how='left')"
   ]
  },
  {
   "cell_type": "code",
   "execution_count": 40,
   "id": "acting-checkout",
   "metadata": {},
   "outputs": [],
   "source": [
    "gdf_iptu_usos.to_file('resultados/tipos_de_uso/IPTU_quadras_usos.gpkg', driver='GPKG')"
   ]
  },
  {
   "cell_type": "code",
   "execution_count": 41,
   "id": "certified-advocacy",
   "metadata": {},
   "outputs": [],
   "source": [
    "# gdf_iptu_usos"
   ]
  },
  {
   "cell_type": "code",
   "execution_count": null,
   "id": "sonic-amazon",
   "metadata": {},
   "outputs": [],
   "source": []
  }
 ],
 "metadata": {
  "kernelspec": {
   "display_name": "Python 3",
   "language": "python",
   "name": "python3"
  },
  "language_info": {
   "codemirror_mode": {
    "name": "ipython",
    "version": 3
   },
   "file_extension": ".py",
   "mimetype": "text/x-python",
   "name": "python",
   "nbconvert_exporter": "python",
   "pygments_lexer": "ipython3",
   "version": "3.9.2"
  }
 },
 "nbformat": 4,
 "nbformat_minor": 5
}
