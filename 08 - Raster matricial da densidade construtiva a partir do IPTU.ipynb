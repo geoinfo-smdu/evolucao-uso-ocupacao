{
 "cells": [
  {
   "cell_type": "markdown",
   "id": "fewer-utilization",
   "metadata": {},
   "source": [
    "# Determinação de um Raster matricial da densidade construtiva a partir do IPTU"
   ]
  },
  {
   "cell_type": "code",
   "execution_count": 1,
   "id": "front-money",
   "metadata": {},
   "outputs": [],
   "source": [
    "import geopandas as gpd\n",
    "import pandas as pd\n",
    "import rasterio"
   ]
  },
  {
   "cell_type": "markdown",
   "id": "through-maria",
   "metadata": {},
   "source": [
    "## Carregando e pré-processando dados do IPTU"
   ]
  },
  {
   "cell_type": "code",
   "execution_count": 2,
   "id": "gentle-vinyl",
   "metadata": {},
   "outputs": [],
   "source": [
    "# Padrões de nomenclatura de usos\n",
    "\n",
    "usos = {\n",
    "    \"apartamento em condomínio\":\"apartamento\",\n",
    "    \"cortiço (habitação coletiva subnormal)\":\"cortiço\",\n",
    "    \"escritório/consultório em condomínio (unidade autônoma)\":\"escritório ou consultório\",\n",
    "    \"loja em edifício em condomínio (unidade autônoma)\":\"loja em edifício em condomínio\",\n",
    "    \"residência coletiva, exclusive cortiço (mais de uma residência no lote)\":\"residência coletiva (mais de uma residência no lote), exclusive cortiço\",\n",
    "    \"posto de serviço (combustíveis)\":\"posto de serviço\",\n",
    "    \"estacionamento e garagem, não em condomínio\":\"garagem (exclusive em prédio em condomínio)\",\n",
    "    \"garagem (unidade autônoma) de prédio de garagens\":\"garagem, em prédio de garagens\",\n",
    "    \"garagem (unidade autônoma) em edifício em condomínio de escritórios, consultórios ou misto\":\"garagem em edifício de escritórios, consultórios ou misto\",\n",
    "    \"garagem (unidade autônoma) em edifício em condomínio de uso exclusivamente residencial\":\"garagem em edifício de uso exclusivamente residencial\",\n",
    "    \"outras edificações de uso coletivo, com utilização múltipla\":\"outras edificações do tipo (uso coletivo), com utilização múltipla\",\n",
    "    \"outras edificações de uso comercial, com utilização múltipla\":\"outras edificações do tipo (uso comércio), com utilização múltipla\",\n",
    "    \"outras edificações de uso de serviço, com utilização múltipla\":\"outras edificações do tipo (uso serviço), com utilização múltipla\",\n",
    "    \"outras edificações de uso especial, com utilização múltipla\":\"outras edificações do tipo (uso especial), com utilização múltipla\",\n",
    "    \"prédio com uso exclusivamente residencial, não em condomínio\":\"prédio de apartamento, não em condomínio, de uso exclusivamente residencial\",\n",
    "    \"prédio com uso misto, predominância de uso não residencial, não em condomínio\":\"prédio de escritório, não em condomínio, de uso misto (apartamentos e escritórios e/ou consultórios) com ou sem loja (predominância comercial)\",\n",
    "    \"prédio com uso misto, predominância de uso residencial, não em condomínio\":\"prédio de apartamento, não em condomínio, de uso misto (apartamentos e escritórios e/ou consultórios), com ou sem loja (predominância residencial)\",\n",
    "    \"prédio de escritório ou consultório, com ou sem lojas, não em condomínio\":\"prédio de escritório ou consultório, não em condomínio, com ou sem lojas\",\n",
    "    \"flat de uso comercial (semelhante a hotel)\":\"flat, não residencial\",\n",
    "    \"flat residencial em condomínio\":\"flat, residencial\"\n",
    "}"
   ]
  },
  {
   "cell_type": "code",
   "execution_count": 3,
   "id": "identical-timer",
   "metadata": {},
   "outputs": [],
   "source": [
    "df_iptu = pd.read_csv('IPTU/IPTU_2020.zip',\\\n",
    "             compression='zip',\\\n",
    "             encoding='iso-8859-9',\\\n",
    "             sep=';',\\\n",
    "             decimal=',',\\\n",
    "             error_bad_lines=False)"
   ]
  },
  {
   "cell_type": "code",
   "execution_count": 4,
   "id": "pleasant-toronto",
   "metadata": {},
   "outputs": [],
   "source": [
    "# Obter o SQ (Setor e Quadra)\n",
    "df_iptu['setor'] = df_iptu['NUMERO DO CONTRIBUINTE'].str[0:3]\n",
    "df_iptu['quadra'] = df_iptu['NUMERO DO CONTRIBUINTE'].str[3:6]\n",
    "\n",
    "# Calculando chave 'SQ'\n",
    "df_iptu['sq'] = \\\n",
    "df_iptu['setor'] + df_iptu['quadra']\n",
    "\n",
    "# Normalizando o lote condominial\n",
    "df_iptu.loc[df_iptu['NUMERO DO CONDOMINIO'].str[0:2] != '00', 'lote'] = '0000'\n",
    "df_iptu.loc[df_iptu['NUMERO DO CONDOMINIO'].str[0:2] == '00', 'lote'] = \\\n",
    "df_iptu.loc[df_iptu['NUMERO DO CONDOMINIO'].str[0:2] == '00', 'NUMERO DO CONTRIBUINTE'].str[6:10]\n",
    "\n",
    "# Individualizando a testada e pavimentos por lote (SQLC)\n",
    "df_iptu['sqlc'] = df_iptu['setor'] + \\\n",
    "df_iptu['quadra'] + df_iptu['lote'] + \\\n",
    "df_iptu['NUMERO DO CONDOMINIO'].str[0:2]\n",
    "\n",
    "df_iptu['AREA CONSTRUIDA'] = pd.to_numeric(df_iptu['AREA CONSTRUIDA'], errors ='coerce')\n",
    "df_iptu['AREA OCUPADA'] = pd.to_numeric(df_iptu['AREA OCUPADA'], errors ='coerce')\n",
    "df_iptu['AREA DO TERRENO'] = pd.to_numeric(df_iptu['AREA DO TERRENO'], errors ='coerce')\n",
    "df_iptu['FRACAO IDEAL'] = pd.to_numeric(df_iptu['FRACAO IDEAL'], errors ='coerce')\n",
    "df_iptu['QUANTIDADE DE PAVIMENTOS'] = pd.to_numeric(df_iptu['QUANTIDADE DE PAVIMENTOS'], errors ='coerce')\n",
    "df_iptu['TESTADA PARA CALCULO'] = pd.to_numeric(df_iptu['TESTADA PARA CALCULO'], errors ='coerce')\n",
    "\n",
    "# Adequando variáveis à fração ideal\n",
    "df_iptu['area_terreno'] = df_iptu['FRACAO IDEAL'] * df_iptu['AREA DO TERRENO']\n",
    "df_iptu['area_ocupada'] = df_iptu['FRACAO IDEAL'] * df_iptu['AREA OCUPADA']\n",
    "\n",
    "# Adequar os usos ao padrão estabelecido\n",
    "df_iptu.loc[df_iptu['TIPO DE USO DO IMOVEL']\\\n",
    "            .isin(usos),\\\n",
    "            'TIPO DE USO DO IMOVEL'] = \\\n",
    "df_iptu[df_iptu['TIPO DE USO DO IMOVEL']\\\n",
    "             .isin(usos)]['TIPO DE USO DO IMOVEL']\\\n",
    ".apply(lambda x: usos[x])"
   ]
  },
  {
   "cell_type": "markdown",
   "id": "equivalent-secret",
   "metadata": {},
   "source": [
    "## Carregando e pré-processando quadras"
   ]
  },
  {
   "cell_type": "code",
   "execution_count": 5,
   "id": "coordinate-venture",
   "metadata": {},
   "outputs": [],
   "source": [
    "# Carregando geometria das quadras fiscais\n",
    "gdf_quadras = gpd.GeoDataFrame.from_file(f'zip://GIS/SIRGAS_SHP_quadraMDSF.zip!SIRGAS_SHP_quadraMDSF')"
   ]
  },
  {
   "cell_type": "code",
   "execution_count": 6,
   "id": "rocky-muscle",
   "metadata": {},
   "outputs": [],
   "source": [
    "gdf_quadras['sq'] = gdf_quadras.qd_setor + gdf_quadras.qd_fiscal"
   ]
  },
  {
   "cell_type": "code",
   "execution_count": 7,
   "id": "induced-boulder",
   "metadata": {},
   "outputs": [],
   "source": [
    "gdf_quadras = gdf_quadras.loc[gdf_quadras.qd_tipo == 'F'][['sq', 'geometry']].dissolve(by='sq')"
   ]
  },
  {
   "cell_type": "code",
   "execution_count": 8,
   "id": "precious-coast",
   "metadata": {},
   "outputs": [],
   "source": [
    "gdf_quadras.geometry = gdf_quadras.representative_point()"
   ]
  },
  {
   "cell_type": "markdown",
   "id": "norman-bicycle",
   "metadata": {},
   "source": [
    "## Um pouco sobre testada"
   ]
  },
  {
   "cell_type": "code",
   "execution_count": 19,
   "id": "continent-reader",
   "metadata": {},
   "outputs": [
    {
     "data": {
      "text/plain": [
       "<AxesSubplot:>"
      ]
     },
     "execution_count": 19,
     "metadata": {},
     "output_type": "execute_result"
    },
    {
     "data": {
      "image/png": "[encoded data removed]",
      "text/plain": [
       "<Figure size 432x288 with 1 Axes>"
      ]
     },
     "metadata": {
      "needs_background": "light"
     },
     "output_type": "display_data"
    }
   ],
   "source": [
    "df_iptu.loc[df_iptu['TESTADA PARA CALCULO'] < 100, 'TESTADA PARA CALCULO'].hist()"
   ]
  },
  {
   "cell_type": "code",
   "execution_count": 24,
   "id": "heavy-republican",
   "metadata": {},
   "outputs": [
    {
     "data": {
      "text/plain": [
       "<AxesSubplot:>"
      ]
     },
     "execution_count": 24,
     "metadata": {},
     "output_type": "execute_result"
    },
    {
     "data": {
      "image/png": "[encoded data removed]",
      "text/plain": [
       "<Figure size 432x288 with 1 Axes>"
      ]
     },
     "metadata": {
      "needs_background": "light"
     },
     "output_type": "display_data"
    }
   ],
   "source": [
    "df_iptu.loc[df_iptu['TESTADA PARA CALCULO'] < 100, ['sqlc','TESTADA PARA CALCULO']].\\\n",
    "groupby('sqlc')['TESTADA PARA CALCULO'].max().hist()"
   ]
  },
  {
   "cell_type": "code",
   "execution_count": 33,
   "id": "together-baking",
   "metadata": {},
   "outputs": [
    {
     "data": {
      "text/plain": [
       "1304817"
      ]
     },
     "execution_count": 33,
     "metadata": {},
     "output_type": "execute_result"
    }
   ],
   "source": [
    "len(df_iptu.loc[df_iptu['TESTADA PARA CALCULO'] <= 10, ['sqlc', 'TESTADA PARA CALCULO']].\\\n",
    "groupby('sqlc')['TESTADA PARA CALCULO'].max())"
   ]
  },
  {
   "cell_type": "markdown",
   "id": "fresh-pizza",
   "metadata": {},
   "source": [
    "## Agregando e espacializando dado de densidade contruída"
   ]
  },
  {
   "cell_type": "code",
   "execution_count": 42,
   "id": "sophisticated-luxembourg",
   "metadata": {},
   "outputs": [],
   "source": [
    "# Agregar por SQ e ANO DO EXERCICIO\n",
    "iptu_agg = df_iptu[['sq', \\\n",
    "                    'AREA CONSTRUIDA',\n",
    "                    'area_terreno',\n",
    "                    'area_ocupada',\n",
    "                    'QUANTIDADE DE PAVIMENTOS',\n",
    "                    'TESTADA PARA CALCULO']]\\\n",
    ".groupby('sq')\\\n",
    ".agg({'AREA CONSTRUIDA': 'sum',\n",
    "     'area_terreno': 'sum',\n",
    "     'area_ocupada': 'sum',\n",
    "     'QUANTIDADE DE PAVIMENTOS': 'median',\n",
    "     'TESTADA PARA CALCULO': 'median'})\\\n",
    ".rename(columns = {'AREA CONSTRUIDA': 'area_construida',\n",
    "                  'QUANTIDADE DE PAVIMENTOS': 'mediana_pavimentos',\n",
    "                  'TESTADA PARA CALCULO':'mediana_testada'})"
   ]
  },
  {
   "cell_type": "code",
   "execution_count": 46,
   "id": "diagnostic-enough",
   "metadata": {},
   "outputs": [],
   "source": [
    "# Gerando GeoDataFrame\n",
    "gdf_iptu_agg = gdf_quadras.merge(iptu_agg, on='sq', how='right')"
   ]
  },
  {
   "cell_type": "markdown",
   "id": "sophisticated-compression",
   "metadata": {},
   "source": [
    "## Construindo raster matricial de densidade construtiva"
   ]
  },
  {
   "cell_type": "code",
   "execution_count": 50,
   "id": "meaningful-billion",
   "metadata": {},
   "outputs": [],
   "source": [
    "import numpy as np\n",
    "from scipy.interpolate import griddata\n",
    "import matplotlib.pyplot as plt\n",
    "import rasterio"
   ]
  },
  {
   "cell_type": "code",
   "execution_count": 194,
   "id": "deluxe-punishment",
   "metadata": {},
   "outputs": [],
   "source": [
    "resolucao_espacial = 30"
   ]
  },
  {
   "cell_type": "code",
   "execution_count": 195,
   "id": "confident-female",
   "metadata": {},
   "outputs": [
    {
     "name": "stderr",
     "output_type": "stream",
     "text": [
      "/home/fernando/miniconda3/envs/geoplot/lib/python3.9/site-packages/geopandas/geodataframe.py:577: RuntimeWarning: Sequential read of iterator was interrupted. Resetting iterator. This can negatively impact the performance.\n",
      "  for feature in features_lst:\n"
     ]
    }
   ],
   "source": [
    "limite_municipio = gpd.read_file('GIS/municipio-de-São-Paulo.gpkg')"
   ]
  },
  {
   "cell_type": "code",
   "execution_count": 196,
   "id": "charitable-mixer",
   "metadata": {},
   "outputs": [
    {
     "data": {
      "text/html": [
       "<div>\n",
       "<style scoped>\n",
       "    .dataframe tbody tr th:only-of-type {\n",
       "        vertical-align: middle;\n",
       "    }\n",
       "\n",
       "    .dataframe tbody tr th {\n",
       "        vertical-align: top;\n",
       "    }\n",
       "\n",
       "    .dataframe thead th {\n",
       "        text-align: right;\n",
       "    }\n",
       "</style>\n",
       "<table border=\"1\" class=\"dataframe\">\n",
       "  <thead>\n",
       "    <tr style=\"text-align: right;\">\n",
       "      <th></th>\n",
       "      <th>minx</th>\n",
       "      <th>miny</th>\n",
       "      <th>maxx</th>\n",
       "      <th>maxy</th>\n",
       "    </tr>\n",
       "  </thead>\n",
       "  <tbody>\n",
       "    <tr>\n",
       "      <th>0</th>\n",
       "      <td>313389.670936</td>\n",
       "      <td>7.343743e+06</td>\n",
       "      <td>360618.197706</td>\n",
       "      <td>7.416156e+06</td>\n",
       "    </tr>\n",
       "  </tbody>\n",
       "</table>\n",
       "</div>"
      ],
      "text/plain": [
       "            minx          miny           maxx          maxy\n",
       "0  313389.670936  7.343743e+06  360618.197706  7.416156e+06"
      ]
     },
     "execution_count": 196,
     "metadata": {},
     "output_type": "execute_result"
    }
   ],
   "source": [
    "limite_municipio.bounds"
   ]
  },
  {
   "cell_type": "code",
   "execution_count": 197,
   "id": "surrounded-mapping",
   "metadata": {},
   "outputs": [],
   "source": [
    "x_range = np.arange(limite_municipio.bounds.minx[0],\n",
    "                    limite_municipio.bounds.maxx[0] + resolucao_espacial,\n",
    "                    resolucao_espacial)\n",
    "\n",
    "y_range = np.arange(limite_municipio.bounds.miny[0],\n",
    "                    limite_municipio.bounds.maxy[0] + resolucao_espacial,\n",
    "                    resolucao_espacial)"
   ]
  },
  {
   "cell_type": "code",
   "execution_count": 198,
   "id": "adopted-novel",
   "metadata": {},
   "outputs": [],
   "source": [
    "grid_x, grid_y = np.meshgrid(x_range, y_range)"
   ]
  },
  {
   "cell_type": "code",
   "execution_count": 199,
   "id": "divided-quest",
   "metadata": {},
   "outputs": [],
   "source": [
    "gdf_iptu_agg = gdf_iptu_agg[gdf_iptu_agg.is_valid]"
   ]
  },
  {
   "cell_type": "code",
   "execution_count": 200,
   "id": "embedded-transformation",
   "metadata": {},
   "outputs": [],
   "source": [
    "points = list(gdf_iptu_agg.geometry.apply(lambda p: (p.x, p.y)))"
   ]
  },
  {
   "cell_type": "code",
   "execution_count": 201,
   "id": "distant-howard",
   "metadata": {},
   "outputs": [],
   "source": [
    "values = gdf_iptu_agg['area_construida'] / gdf_iptu_agg['area_terreno']"
   ]
  },
  {
   "cell_type": "code",
   "execution_count": 202,
   "id": "cordless-supervisor",
   "metadata": {},
   "outputs": [
    {
     "name": "stdout",
     "output_type": "stream",
     "text": [
      "45381 45381\n"
     ]
    }
   ],
   "source": [
    "print(len(points), len(values))"
   ]
  },
  {
   "cell_type": "code",
   "execution_count": 203,
   "id": "banned-pizza",
   "metadata": {},
   "outputs": [],
   "source": [
    "# Interpolando no grid\n",
    "\n",
    "grid_ca = griddata(points, values, (grid_x, grid_y), method='nearest')"
   ]
  },
  {
   "cell_type": "code",
   "execution_count": 204,
   "id": "southwest-massachusetts",
   "metadata": {},
   "outputs": [
    {
     "data": {
      "text/plain": [
       "<matplotlib.image.AxesImage at 0x7f0625fdd7f0>"
      ]
     },
     "execution_count": 204,
     "metadata": {},
     "output_type": "execute_result"
    },
    {
     "data": {
      "image/png": "[encoded data removed]",
      "text/plain": [
       "<Figure size 432x288 with 1 Axes>"
      ]
     },
     "metadata": {
      "needs_background": "light"
     },
     "output_type": "display_data"
    }
   ],
   "source": [
    "plt.imshow(grid_ca)"
   ]
  },
  {
   "cell_type": "markdown",
   "id": "infinite-eating",
   "metadata": {},
   "source": [
    "### Salvando em um arquivo raster"
   ]
  },
  {
   "cell_type": "code",
   "execution_count": 215,
   "id": "manufactured-cause",
   "metadata": {},
   "outputs": [],
   "source": [
    "from rasterio.transform import Affine\n",
    "from rasterio import mask\n",
    "from rasterio.crs import CRS"
   ]
  },
  {
   "cell_type": "code",
   "execution_count": 206,
   "id": "valid-romantic",
   "metadata": {},
   "outputs": [
    {
     "data": {
      "text/plain": [
       "Affine(30.0, 0.0, 313374.67093572277,\n",
       "       0.0, 30.0, 7343727.818227606)"
      ]
     },
     "execution_count": 206,
     "metadata": {},
     "output_type": "execute_result"
    }
   ],
   "source": [
    "transform = Affine.translation(grid_x[0][0] - resolucao_espacial / 2, \n",
    "                               grid_y[0][0] - resolucao_espacial / 2 ) \\\n",
    "                               * Affine.scale(resolucao_espacial, resolucao_espacial)\n",
    "transform"
   ]
  },
  {
   "cell_type": "code",
   "execution_count": 207,
   "id": "subsequent-generation",
   "metadata": {},
   "outputs": [],
   "source": [
    "raster_crs = CRS.from_epsg(31983)"
   ]
  },
  {
   "cell_type": "code",
   "execution_count": 243,
   "id": "three-inquiry",
   "metadata": {},
   "outputs": [],
   "source": [
    "grid_ca = grid_ca.astype('float32')"
   ]
  },
  {
   "cell_type": "code",
   "execution_count": 244,
   "id": "respective-junior",
   "metadata": {},
   "outputs": [
    {
     "data": {
      "text/plain": [
       "{'init': 'epsg:31983'}"
      ]
     },
     "execution_count": 244,
     "metadata": {},
     "output_type": "execute_result"
    }
   ],
   "source": [
    "raster_crs.data"
   ]
  },
  {
   "cell_type": "code",
   "execution_count": 271,
   "id": "false-department",
   "metadata": {},
   "outputs": [],
   "source": [
    "meta = {\n",
    "    'driver':'GTiff',\n",
    "    'height':grid_ca.shape[0],\n",
    "    'width':grid_ca.shape[1],\n",
    "    'count':1,\n",
    "    'nodata':0.,\n",
    "    'dtype':grid_ca.dtype,\n",
    "    'crs':raster_crs,\n",
    "    'transform':transform,\n",
    "}"
   ]
  },
  {
   "cell_type": "code",
   "execution_count": 272,
   "id": "extreme-airfare",
   "metadata": {},
   "outputs": [
    {
     "data": {
      "text/plain": [
       "{'driver': 'GTiff',\n",
       " 'height': 2415,\n",
       " 'width': 1576,\n",
       " 'count': 1,\n",
       " 'nodata': 0.0,\n",
       " 'dtype': dtype('float32'),\n",
       " 'crs': CRS.from_epsg(31983),\n",
       " 'transform': Affine(30.0, 0.0, 313374.67093572277,\n",
       "        0.0, 30.0, 7343727.818227606)}"
      ]
     },
     "execution_count": 272,
     "metadata": {},
     "output_type": "execute_result"
    }
   ],
   "source": [
    "meta"
   ]
  },
  {
   "cell_type": "code",
   "execution_count": 273,
   "id": "medieval-watson",
   "metadata": {},
   "outputs": [],
   "source": [
    "with rasterio.open(f'resultados/IPTU-raster-CA-2020.TIF', \"w\", **meta) as dest:\n",
    "    dest.write(grid_ca, 1)"
   ]
  },
  {
   "cell_type": "code",
   "execution_count": 274,
   "id": "major-islam",
   "metadata": {},
   "outputs": [],
   "source": [
    "result_dataset = rasterio.open(f'resultados/IPTU-raster-CA-2020.TIF')\n",
    "\n",
    "out_image_crop, out_transform_crop = \\\n",
    "mask.mask(result_dataset, limite_municipio.geometry, crop=True, invert=False)"
   ]
  },
  {
   "cell_type": "code",
   "execution_count": 275,
   "id": "front-genius",
   "metadata": {},
   "outputs": [],
   "source": [
    "meta.update(transform = out_transform_crop)"
   ]
  },
  {
   "cell_type": "code",
   "execution_count": 276,
   "id": "maritime-projector",
   "metadata": {},
   "outputs": [],
   "source": [
    "with rasterio.open(f'resultados/IPTU-raster-CA-2020.TIF', \"w\", **meta) as dest:\n",
    "    dest.write(out_image_crop)"
   ]
  },
  {
   "cell_type": "markdown",
   "id": "unknown-measurement",
   "metadata": {},
   "source": [
    "## Gera raster densidade construtiva para cada ano"
   ]
  },
  {
   "cell_type": "code",
   "execution_count": 229,
   "id": "later-joseph",
   "metadata": {},
   "outputs": [],
   "source": [
    "from pathlib import Path\n",
    "import os"
   ]
  },
  {
   "cell_type": "code",
   "execution_count": 279,
   "id": "broad-launch",
   "metadata": {},
   "outputs": [
    {
     "name": "stdout",
     "output_type": "stream",
     "text": [
      "IPTU_2010.zip\n"
     ]
    },
    {
     "name": "stderr",
     "output_type": "stream",
     "text": [
      "b'Skipping line 2445507: expected 35 fields, saw 43\\n'\n",
      "/home/fernando/miniconda3/envs/geoplot/lib/python3.9/site-packages/IPython/core/interactiveshell.py:3165: DtypeWarning: Columns (18,19,20,21,22) have mixed types.Specify dtype option on import or set low_memory=False.\n",
      "  has_raised = await self.run_ast_nodes(code_ast.body, cell_name,\n"
     ]
    },
    {
     "name": "stdout",
     "output_type": "stream",
     "text": [
      "IPTU_1996.zip\n"
     ]
    },
    {
     "name": "stderr",
     "output_type": "stream",
     "text": [
      "/home/fernando/miniconda3/envs/geoplot/lib/python3.9/site-packages/IPython/core/interactiveshell.py:3165: DtypeWarning: Columns (27) have mixed types.Specify dtype option on import or set low_memory=False.\n",
      "  has_raised = await self.run_ast_nodes(code_ast.body, cell_name,\n"
     ]
    },
    {
     "name": "stdout",
     "output_type": "stream",
     "text": [
      "IPTU_2007.zip\n"
     ]
    },
    {
     "name": "stderr",
     "output_type": "stream",
     "text": [
      "b'Skipping line 2417712: expected 35 fields, saw 43\\n'\n"
     ]
    },
    {
     "name": "stdout",
     "output_type": "stream",
     "text": [
      "IPTU_2013.zip\n"
     ]
    },
    {
     "name": "stderr",
     "output_type": "stream",
     "text": [
      "b'Skipping line 2560170: expected 35 fields, saw 43\\n'\n",
      "/home/fernando/miniconda3/envs/geoplot/lib/python3.9/site-packages/IPython/core/interactiveshell.py:3165: DtypeWarning: Columns (18,19,20,21,22,27) have mixed types.Specify dtype option on import or set low_memory=False.\n",
      "  has_raised = await self.run_ast_nodes(code_ast.body, cell_name,\n"
     ]
    },
    {
     "name": "stdout",
     "output_type": "stream",
     "text": [
      "IPTU_2004.zip\n"
     ]
    },
    {
     "name": "stderr",
     "output_type": "stream",
     "text": [
      "b'Skipping line 2325266: expected 35 fields, saw 43\\n'\n"
     ]
    },
    {
     "name": "stdout",
     "output_type": "stream",
     "text": [
      "IPTU_2005.zip\n"
     ]
    },
    {
     "name": "stderr",
     "output_type": "stream",
     "text": [
      "b'Skipping line 2355090: expected 35 fields, saw 43\\n'\n"
     ]
    },
    {
     "name": "stdout",
     "output_type": "stream",
     "text": [
      "IPTU_1995.zip\n"
     ]
    },
    {
     "name": "stderr",
     "output_type": "stream",
     "text": [
      "/home/fernando/miniconda3/envs/geoplot/lib/python3.9/site-packages/IPython/core/interactiveshell.py:3165: DtypeWarning: Columns (27) have mixed types.Specify dtype option on import or set low_memory=False.\n",
      "  has_raised = await self.run_ast_nodes(code_ast.body, cell_name,\n"
     ]
    },
    {
     "name": "stdout",
     "output_type": "stream",
     "text": [
      "IPTU_1998.zip\n"
     ]
    },
    {
     "name": "stderr",
     "output_type": "stream",
     "text": [
      "b'Skipping line 2096075: expected 35 fields, saw 43\\n'\n"
     ]
    },
    {
     "name": "stdout",
     "output_type": "stream",
     "text": [
      "IPTU_2018.zip\n",
      "IPTU_2001.zip\n"
     ]
    },
    {
     "name": "stderr",
     "output_type": "stream",
     "text": [
      "b'Skipping line 2211865: expected 35 fields, saw 43\\n'\n"
     ]
    },
    {
     "name": "stdout",
     "output_type": "stream",
     "text": [
      "IPTU_2017.zip\n",
      "IPTU_2015.zip\n"
     ]
    },
    {
     "name": "stderr",
     "output_type": "stream",
     "text": [
      "b'Skipping line 2651001: expected 35 fields, saw 43\\n'\n",
      "/home/fernando/miniconda3/envs/geoplot/lib/python3.9/site-packages/IPython/core/interactiveshell.py:3165: DtypeWarning: Columns (18,19,20,21,22,27) have mixed types.Specify dtype option on import or set low_memory=False.\n",
      "  has_raised = await self.run_ast_nodes(code_ast.body, cell_name,\n"
     ]
    },
    {
     "name": "stdout",
     "output_type": "stream",
     "text": [
      "IPTU_2006.zip\n"
     ]
    },
    {
     "name": "stderr",
     "output_type": "stream",
     "text": [
      "b'Skipping line 2381472: expected 35 fields, saw 43\\n'\n"
     ]
    },
    {
     "name": "stdout",
     "output_type": "stream",
     "text": [
      "IPTU_2009.zip\n"
     ]
    },
    {
     "name": "stderr",
     "output_type": "stream",
     "text": [
      "b'Skipping line 2471701: expected 35 fields, saw 43\\n'\n"
     ]
    },
    {
     "name": "stdout",
     "output_type": "stream",
     "text": [
      "IPTU_2014.zip\n"
     ]
    },
    {
     "name": "stderr",
     "output_type": "stream",
     "text": [
      "b'Skipping line 2606431: expected 35 fields, saw 43\\n'\n",
      "/home/fernando/miniconda3/envs/geoplot/lib/python3.9/site-packages/IPython/core/interactiveshell.py:3165: DtypeWarning: Columns (18,19,20,21,22,27) have mixed types.Specify dtype option on import or set low_memory=False.\n",
      "  has_raised = await self.run_ast_nodes(code_ast.body, cell_name,\n"
     ]
    },
    {
     "name": "stdout",
     "output_type": "stream",
     "text": [
      "IPTU_2011.zip\n"
     ]
    },
    {
     "name": "stderr",
     "output_type": "stream",
     "text": [
      "b'Skipping line 2484471: expected 35 fields, saw 43\\n'\n",
      "/home/fernando/miniconda3/envs/geoplot/lib/python3.9/site-packages/IPython/core/interactiveshell.py:3165: DtypeWarning: Columns (18,19,20,21,22) have mixed types.Specify dtype option on import or set low_memory=False.\n",
      "  has_raised = await self.run_ast_nodes(code_ast.body, cell_name,\n"
     ]
    },
    {
     "name": "stdout",
     "output_type": "stream",
     "text": [
      "IPTU_2000.zip\n"
     ]
    },
    {
     "name": "stderr",
     "output_type": "stream",
     "text": [
      "b'Skipping line 2156584: expected 35 fields, saw 43\\n'\n"
     ]
    },
    {
     "name": "stdout",
     "output_type": "stream",
     "text": [
      "IPTU_2019.zip\n",
      "IPTU_1997.zip\n"
     ]
    },
    {
     "name": "stderr",
     "output_type": "stream",
     "text": [
      "/home/fernando/miniconda3/envs/geoplot/lib/python3.9/site-packages/IPython/core/interactiveshell.py:3165: DtypeWarning: Columns (27) have mixed types.Specify dtype option on import or set low_memory=False.\n",
      "  has_raised = await self.run_ast_nodes(code_ast.body, cell_name,\n"
     ]
    },
    {
     "name": "stdout",
     "output_type": "stream",
     "text": [
      "IPTU_2016.zip\n",
      "IPTU_2002.zip\n"
     ]
    },
    {
     "name": "stderr",
     "output_type": "stream",
     "text": [
      "b'Skipping line 2247445: expected 35 fields, saw 43\\n'\n"
     ]
    },
    {
     "name": "stdout",
     "output_type": "stream",
     "text": [
      "IPTU_1999.zip\n"
     ]
    },
    {
     "name": "stderr",
     "output_type": "stream",
     "text": [
      "b'Skipping line 2121196: expected 35 fields, saw 43\\n'\n"
     ]
    },
    {
     "name": "stdout",
     "output_type": "stream",
     "text": [
      "IPTU_2020.zip\n",
      "IPTU_2008.zip\n"
     ]
    },
    {
     "name": "stderr",
     "output_type": "stream",
     "text": [
      "b'Skipping line 2440049: expected 35 fields, saw 43\\n'\n"
     ]
    },
    {
     "name": "stdout",
     "output_type": "stream",
     "text": [
      "IPTU_2003.zip\n"
     ]
    },
    {
     "name": "stderr",
     "output_type": "stream",
     "text": [
      "b'Skipping line 2288886: expected 35 fields, saw 43\\n'\n"
     ]
    },
    {
     "name": "stdout",
     "output_type": "stream",
     "text": [
      "IPTU_2012.zip\n"
     ]
    },
    {
     "name": "stderr",
     "output_type": "stream",
     "text": [
      "b'Skipping line 2526350: expected 35 fields, saw 43\\n'\n",
      "/home/fernando/miniconda3/envs/geoplot/lib/python3.9/site-packages/IPython/core/interactiveshell.py:3165: DtypeWarning: Columns (18,19,20,21,22) have mixed types.Specify dtype option on import or set low_memory=False.\n",
      "  has_raised = await self.run_ast_nodes(code_ast.body, cell_name,\n"
     ]
    }
   ],
   "source": [
    "for path in Path('IPTU').rglob('*.zip'):\n",
    "    print(path.name)\n",
    "    \n",
    "    # 1. Carregar dados do arquivo\n",
    "    # OBS.: O IPTU de 2016 está separado por ',' e não por ';'\n",
    "    if path.name == \"IPTU_2016.zip\":\n",
    "        df_iptu = pd.read_csv(f'{path}',\\\n",
    "                     compression='zip',\\\n",
    "                     encoding='iso-8859-9',\\\n",
    "                     sep=',',\\\n",
    "                     decimal=',',\\\n",
    "                     error_bad_lines=False)\n",
    "    else:\n",
    "        df_iptu = pd.read_csv(f'{path}',\\\n",
    "                     compression='zip',\\\n",
    "                     encoding='iso-8859-9',\\\n",
    "                     sep=';',\\\n",
    "                     decimal=',',\\\n",
    "                     error_bad_lines=False)\n",
    "        \n",
    "    # Obter o SQ (Setor e Quadra)\n",
    "    df_iptu['setor'] = df_iptu['NUMERO DO CONTRIBUINTE'].str[0:3]\n",
    "    df_iptu['quadra'] = df_iptu['NUMERO DO CONTRIBUINTE'].str[3:6]\n",
    "\n",
    "    # Calculando chave 'SQ'\n",
    "    df_iptu['sq'] = \\\n",
    "    df_iptu['setor'] + df_iptu['quadra']\n",
    "\n",
    "    # Normalizando o lote condominial\n",
    "    df_iptu.loc[df_iptu['NUMERO DO CONDOMINIO'].str[0:2] != '00', 'lote'] = '0000'\n",
    "    df_iptu.loc[df_iptu['NUMERO DO CONDOMINIO'].str[0:2] == '00', 'lote'] = \\\n",
    "    df_iptu.loc[df_iptu['NUMERO DO CONDOMINIO'].str[0:2] == '00', 'NUMERO DO CONTRIBUINTE'].str[6:10]\n",
    "\n",
    "    # Individualizando a testada e pavimentos por lote (SQLC)\n",
    "    df_iptu['sqlc'] = df_iptu['setor'] + \\\n",
    "    df_iptu['quadra'] + df_iptu['lote'] + \\\n",
    "    df_iptu['NUMERO DO CONDOMINIO'].str[0:2]\n",
    "\n",
    "    df_iptu['AREA CONSTRUIDA'] = pd.to_numeric(df_iptu['AREA CONSTRUIDA'], errors ='coerce')\n",
    "    df_iptu['AREA OCUPADA'] = pd.to_numeric(df_iptu['AREA OCUPADA'], errors ='coerce')\n",
    "    df_iptu['AREA DO TERRENO'] = pd.to_numeric(df_iptu['AREA DO TERRENO'], errors ='coerce')\n",
    "    df_iptu['FRACAO IDEAL'] = pd.to_numeric(df_iptu['FRACAO IDEAL'], errors ='coerce')\n",
    "    df_iptu['QUANTIDADE DE PAVIMENTOS'] = pd.to_numeric(df_iptu['QUANTIDADE DE PAVIMENTOS'], errors ='coerce')\n",
    "    df_iptu['TESTADA PARA CALCULO'] = pd.to_numeric(df_iptu['TESTADA PARA CALCULO'], errors ='coerce')\n",
    "\n",
    "    # Adequando variáveis à fração ideal\n",
    "    df_iptu['area_terreno'] = df_iptu['FRACAO IDEAL'] * df_iptu['AREA DO TERRENO']\n",
    "    df_iptu['area_ocupada'] = df_iptu['FRACAO IDEAL'] * df_iptu['AREA OCUPADA']\n",
    "\n",
    "    # Adequar os usos ao padrão estabelecido\n",
    "    df_iptu.loc[df_iptu['TIPO DE USO DO IMOVEL']\\\n",
    "                .isin(usos),\\\n",
    "                'TIPO DE USO DO IMOVEL'] = \\\n",
    "    df_iptu[df_iptu['TIPO DE USO DO IMOVEL']\\\n",
    "                 .isin(usos)]['TIPO DE USO DO IMOVEL']\\\n",
    "    .apply(lambda x: usos[x])\n",
    "\n",
    "    # Agregar por SQ e ANO DO EXERCICIO\n",
    "    iptu_agg = df_iptu[['sq', \\\n",
    "                        'AREA CONSTRUIDA',\n",
    "                        'area_terreno',\n",
    "                        'area_ocupada',\n",
    "                        'QUANTIDADE DE PAVIMENTOS',\n",
    "                        'TESTADA PARA CALCULO']]\\\n",
    "    .groupby('sq')\\\n",
    "    .agg({'AREA CONSTRUIDA': 'sum',\n",
    "         'area_terreno': 'sum',\n",
    "         'area_ocupada': 'sum',\n",
    "         'QUANTIDADE DE PAVIMENTOS': 'median',\n",
    "         'TESTADA PARA CALCULO': 'median'})\\\n",
    "    .rename(columns = {'AREA CONSTRUIDA': 'area_construida',\n",
    "                      'QUANTIDADE DE PAVIMENTOS': 'mediana_pavimentos',\n",
    "                      'TESTADA PARA CALCULO':'mediana_testada'})\n",
    "    \n",
    "    # Gerando GeoDataFrame\n",
    "    gdf_iptu_agg = gdf_quadras.merge(iptu_agg, on='sq', how='right')\n",
    "    \n",
    "    gdf_iptu_agg = gdf_iptu_agg[gdf_iptu_agg.is_valid]\n",
    "    \n",
    "    points = list(gdf_iptu_agg.geometry.apply(lambda p: (p.x, p.y)))\n",
    "    \n",
    "    values = gdf_iptu_agg['area_construida'] / gdf_iptu_agg['area_terreno']\n",
    "    \n",
    "    grid_ca = griddata(points, values, (grid_x, grid_y), method='nearest')\n",
    "    grid_ca = grid_ca.astype('float32')\n",
    "    \n",
    "    with rasterio.open(f'resultados/densidade_construtiva/{path.name[:-4]}-raster-densidade-construtiva.TIF', \"w\", **meta) as dest:\n",
    "        dest.write(grid_ca, 1)\n",
    "        \n",
    "    result_dataset = rasterio.open(f'resultados/densidade_construtiva/{path.name[:-4]}-raster-densidade-construtiva.TIF')\n",
    "\n",
    "    out_image_crop, out_transform_crop = \\\n",
    "    mask.mask(result_dataset, limite_municipio.geometry, crop=True, invert=False)\n",
    "\n",
    "    with rasterio.open(f'resultados/densidade_construtiva/{path.name[:-4]}-raster-densidade-construtiva.TIF', \"w\", **meta) as dest:\n",
    "        dest.write(out_image_crop)"
   ]
  },
  {
   "cell_type": "code",
   "execution_count": null,
   "id": "designing-sauce",
   "metadata": {},
   "outputs": [],
   "source": []
  }
 ],
 "metadata": {
  "kernelspec": {
   "display_name": "Python 3",
   "language": "python",
   "name": "python3"
  },
  "language_info": {
   "codemirror_mode": {
    "name": "ipython",
    "version": 3
   },
   "file_extension": ".py",
   "mimetype": "text/x-python",
   "name": "python",
   "nbconvert_exporter": "python",
   "pygments_lexer": "ipython3",
   "version": "3.9.2"
  }
 },
 "nbformat": 4,
 "nbformat_minor": 5
}
